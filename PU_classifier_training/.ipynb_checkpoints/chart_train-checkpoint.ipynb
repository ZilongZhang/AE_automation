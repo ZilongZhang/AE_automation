{
 "cells": [
  {
   "cell_type": "code",
   "execution_count": 1,
   "metadata": {},
   "outputs": [],
   "source": [
    "import pandas as pd\n",
    "import numpy as np\n",
    "import json\n",
    "import datetime\n",
    "from collections import defaultdict\n",
    "from tqdm import tqdm\n",
    "import random\n",
    "import spacy\n",
    "from sklearn.feature_extraction.text import CountVectorizer,TfidfVectorizer\n",
    "from sklearn.naive_bayes import ComplementNB, MultinomialNB\n",
    "from sklearn.model_selection import train_test_split\n",
    "from sklearn.metrics import classification_report, confusion_matrix,roc_auc_score,accuracy_score, log_loss\n",
    "from sklearn.linear_model import LogisticRegression\n",
    "from sklearn.svm import SVC, LinearSVC, NuSVC\n",
    "from sklearn.tree import DecisionTreeClassifier\n",
    "from sklearn.ensemble import RandomForestClassifier, AdaBoostClassifier, GradientBoostingClassifier"
   ]
  },
  {
   "cell_type": "raw",
   "metadata": {},
   "source": [
    "pu_adm_nurse_note = json.load(open('../preprocessing/pu_adm_nurse_note.json','r'))\n",
    "neg_dict = json.load(open('../preprocessing/neg_adm_nurse_note_periodmatch.json','r'))\n",
    "print(len(pu_adm_nurse_note))\n",
    "print(len(neg_dict))\n",
    "\n",
    "pu_adm_allnurse_note = {}\n",
    "for k,v in pu_adm_nurse_note.items():\n",
    "    pu_adm_allnurse_note[k] = ' '.join(v)\n",
    "    \n",
    "neg_adm_allnurse_note = {}\n",
    "for k,v in neg_dict.items():\n",
    "    neg_adm_allnurse_note[k] = ' '.join(v)\n",
    "    \n",
    "pos_text = list(pu_adm_allnurse_note.values())\n",
    "pos_label = [1] * len(pos_text)\n",
    "neg_text = list(neg_adm_allnurse_note.values())\n",
    "neg_label = [0] * len(neg_text)\n",
    "\n",
    "pos_text.extend(neg_text) \n",
    "pos_label.extend(neg_label) \n",
    "total_text = pos_text\n",
    "total_label = pos_label"
   ]
  },
  {
   "cell_type": "code",
   "execution_count": 2,
   "metadata": {},
   "outputs": [],
   "source": [
    "all_df = pd.read_csv('../preprocessing/result/pu_chart/pu_chart_nursing_3day.csv')\n",
    "train_df = all_df[all_df.split == 'train']\n",
    "test_df = all_df[all_df.split == 'test']\n",
    "text_train = train_df.clean_text\n",
    "Y_train = label_train = train_df.pu_label\n",
    "text_test = test_df.clean_text\n",
    "Y_test = label_test = test_df.pu_label"
   ]
  },
  {
   "cell_type": "code",
   "execution_count": null,
   "metadata": {},
   "outputs": [],
   "source": [
    "%%time\n",
    "nlp = spacy.load(\"en_core_web_sm\")\n",
    "lemmatized_text = []\n",
    "for doc in nlp.pipe(total_text, batch_size=10,n_process=20, disable=[\"parser\", \"ner\"]):\n",
    "    tmp_doc = [tok.lemma_ for tok in doc]\n",
    "    tmp_doc = ' '.join(tmp_doc)\n",
    "    lemmatized_text.append(tmp_doc)"
   ]
  },
  {
   "cell_type": "code",
   "execution_count": null,
   "metadata": {},
   "outputs": [],
   "source": [
    "text_train,text_test,Y_train,Y_test = train_test_split(lemmatized_text,total_label,test_size = 0.2,stratify = total_label,random_state=221)"
   ]
  },
  {
   "cell_type": "code",
   "execution_count": null,
   "metadata": {},
   "outputs": [],
   "source": [
    "import pickle\n",
    "import os\n",
    "des_dir = '../preprocessing/result/pu_chart/'\n",
    "pickle.dump(text_train,open(os.path.join(des_dir,'train_text_lemma.pkl'),'wb'))\n",
    "pickle.dump(text_test,open(os.path.join(des_dir,'text_test_lemma.pkl'),'wb'))"
   ]
  },
  {
   "cell_type": "markdown",
   "metadata": {},
   "source": [
    "## 重点观察lemma的 gridient boost"
   ]
  },
  {
   "cell_type": "code",
   "execution_count": null,
   "metadata": {},
   "outputs": [],
   "source": [
    "Tfidf_vectorizer = TfidfVectorizer(ngram_range = (1,2),min_df =5,stop_words='english',max_df = 0.8)\n",
    "Tfidf_vectorizer = Tfidf_vectorizer.fit(text_train)\n",
    "X_train = Tfidf_vectorizer.transform(text_train)\n",
    "X_test = Tfidf_vectorizer.transform(text_test)\n",
    "print(np.shape(X_train))"
   ]
  },
  {
   "cell_type": "code",
   "execution_count": 6,
   "metadata": {},
   "outputs": [
    {
     "name": "stdout",
     "output_type": "stream",
     "text": [
      "Accuracy: 90.3226%\n",
      "roc_auc_score: 0.9468037954556296\n",
      "CPU times: user 3min 6s, sys: 1.62 s, total: 3min 8s\n",
      "Wall time: 3min 8s\n"
     ]
    }
   ],
   "source": [
    "%%time\n",
    "clf = GradientBoostingClassifier(n_estimators=150)\n",
    "clf.fit(X_train, Y_train)\n",
    "train_predictions = clf.predict(X_test)\n",
    "acc = accuracy_score(Y_test, train_predictions)\n",
    "print(\"Accuracy: {:.4%}\".format(acc))\n",
    "train_predictions = clf.predict_proba(X_test)\n",
    "ll = roc_auc_score(Y_test, train_predictions[:,1])\n",
    "print(\"roc_auc_score: {}\".format(ll))"
   ]
  },
  {
   "cell_type": "code",
   "execution_count": 10,
   "metadata": {},
   "outputs": [
    {
     "data": {
      "text/plain": [
       "150"
      ]
     },
     "execution_count": 10,
     "metadata": {},
     "output_type": "execute_result"
    }
   ],
   "source": [
    "clf.n_estimators"
   ]
  },
  {
   "cell_type": "code",
   "execution_count": null,
   "metadata": {},
   "outputs": [],
   "source": [
    "from joblib import dump, load\n",
    "dump(clf, 'filename.joblib') "
   ]
  },
  {
   "cell_type": "code",
   "execution_count": 3,
   "metadata": {},
   "outputs": [
    {
     "name": "stdout",
     "output_type": "stream",
     "text": [
      "ERROR! Session/line number was not unique in database. History logging moved to new session 348\n",
      "(6075, 14517)\n"
     ]
    }
   ],
   "source": [
    "Tfidf_vectorizer = TfidfVectorizer(min_df =5,stop_words='english',max_df = 0.8)\n",
    "Tfidf_vectorizer = Tfidf_vectorizer.fit(text_train)\n",
    "X_train = Tfidf_vectorizer.transform(text_train)\n",
    "X_test = Tfidf_vectorizer.transform(text_test)\n",
    "print(np.shape(X_train))"
   ]
  },
  {
   "cell_type": "code",
   "execution_count": 4,
   "metadata": {},
   "outputs": [
    {
     "name": "stdout",
     "output_type": "stream",
     "text": [
      "Accuracy: 90.2567%\n",
      "roc_auc_score: 0.946154855225708\n",
      "CPU times: user 1min 2s, sys: 45.5 ms, total: 1min 2s\n",
      "Wall time: 1min 2s\n"
     ]
    }
   ],
   "source": [
    "%%time\n",
    "clf = GradientBoostingClassifier()\n",
    "clf.fit(X_train, Y_train)\n",
    "train_predictions = clf.predict(X_test)\n",
    "acc = accuracy_score(Y_test, train_predictions)\n",
    "print(\"Accuracy: {:.4%}\".format(acc))\n",
    "train_predictions = clf.predict_proba(X_test)\n",
    "ll = roc_auc_score(Y_test, train_predictions[:,1])\n",
    "print(\"roc_auc_score: {}\".format(ll))"
   ]
  },
  {
   "cell_type": "code",
   "execution_count": 5,
   "metadata": {},
   "outputs": [],
   "source": [
    "from sklearn.inspection import permutation_importance"
   ]
  },
  {
   "cell_type": "code",
   "execution_count": 15,
   "metadata": {},
   "outputs": [
    {
     "name": "stdout",
     "output_type": "stream",
     "text": [
      "Accuracy: 90.3922%\n",
      "roc_auc_score: 0.9534145794657185\n"
     ]
    }
   ],
   "source": [
    "clf = load('./chart_model/gboost_1gram_lemma.joblib')\n",
    "train_predictions = clf.predict(X_test)\n",
    "acc = accuracy_score(Y_test, train_predictions)\n",
    "print(\"Accuracy: {:.4%}\".format(acc))\n",
    "train_predictions = clf.predict_proba(X_test)\n",
    "ll = roc_auc_score(Y_test, train_predictions[:,1])\n",
    "print(\"roc_auc_score: {}\".format(ll))"
   ]
  },
  {
   "cell_type": "code",
   "execution_count": 6,
   "metadata": {},
   "outputs": [
    {
     "ename": "TypeError",
     "evalue": "A sparse matrix was passed, but dense data is required. Use X.toarray() to convert to a dense numpy array.",
     "output_type": "error",
     "traceback": [
      "\u001b[0;31m---------------------------------------------------------------------------\u001b[0m",
      "\u001b[0;31mTypeError\u001b[0m                                 Traceback (most recent call last)",
      "\u001b[0;32m<ipython-input-6-43b1b11232d7>\u001b[0m in \u001b[0;36m<module>\u001b[0;34m\u001b[0m\n\u001b[1;32m      1\u001b[0m result = permutation_importance(clf, X_test, Y_test, n_repeats=10,\n\u001b[0;32m----> 2\u001b[0;31m                                 random_state=42, n_jobs=-1)\n\u001b[0m",
      "\u001b[0;32m~/miniconda3/envs/py37/lib/python3.7/site-packages/sklearn/utils/validation.py\u001b[0m in \u001b[0;36minner_f\u001b[0;34m(*args, **kwargs)\u001b[0m\n\u001b[1;32m     71\u001b[0m                           FutureWarning)\n\u001b[1;32m     72\u001b[0m         \u001b[0mkwargs\u001b[0m\u001b[0;34m.\u001b[0m\u001b[0mupdate\u001b[0m\u001b[0;34m(\u001b[0m\u001b[0;34m{\u001b[0m\u001b[0mk\u001b[0m\u001b[0;34m:\u001b[0m \u001b[0marg\u001b[0m \u001b[0;32mfor\u001b[0m \u001b[0mk\u001b[0m\u001b[0;34m,\u001b[0m \u001b[0marg\u001b[0m \u001b[0;32min\u001b[0m \u001b[0mzip\u001b[0m\u001b[0;34m(\u001b[0m\u001b[0msig\u001b[0m\u001b[0;34m.\u001b[0m\u001b[0mparameters\u001b[0m\u001b[0;34m,\u001b[0m \u001b[0margs\u001b[0m\u001b[0;34m)\u001b[0m\u001b[0;34m}\u001b[0m\u001b[0;34m)\u001b[0m\u001b[0;34m\u001b[0m\u001b[0;34m\u001b[0m\u001b[0m\n\u001b[0;32m---> 73\u001b[0;31m         \u001b[0;32mreturn\u001b[0m \u001b[0mf\u001b[0m\u001b[0;34m(\u001b[0m\u001b[0;34m**\u001b[0m\u001b[0mkwargs\u001b[0m\u001b[0;34m)\u001b[0m\u001b[0;34m\u001b[0m\u001b[0;34m\u001b[0m\u001b[0m\n\u001b[0m\u001b[1;32m     74\u001b[0m     \u001b[0;32mreturn\u001b[0m \u001b[0minner_f\u001b[0m\u001b[0;34m\u001b[0m\u001b[0;34m\u001b[0m\u001b[0m\n\u001b[1;32m     75\u001b[0m \u001b[0;34m\u001b[0m\u001b[0m\n",
      "\u001b[0;32m~/miniconda3/envs/py37/lib/python3.7/site-packages/sklearn/inspection/_permutation_importance.py\u001b[0m in \u001b[0;36mpermutation_importance\u001b[0;34m(estimator, X, y, scoring, n_repeats, n_jobs, random_state)\u001b[0m\n\u001b[1;32m    120\u001b[0m     \"\"\"\n\u001b[1;32m    121\u001b[0m     \u001b[0;32mif\u001b[0m \u001b[0;32mnot\u001b[0m \u001b[0mhasattr\u001b[0m\u001b[0;34m(\u001b[0m\u001b[0mX\u001b[0m\u001b[0;34m,\u001b[0m \u001b[0;34m\"iloc\"\u001b[0m\u001b[0;34m)\u001b[0m\u001b[0;34m:\u001b[0m\u001b[0;34m\u001b[0m\u001b[0;34m\u001b[0m\u001b[0m\n\u001b[0;32m--> 122\u001b[0;31m         \u001b[0mX\u001b[0m \u001b[0;34m=\u001b[0m \u001b[0mcheck_array\u001b[0m\u001b[0;34m(\u001b[0m\u001b[0mX\u001b[0m\u001b[0;34m,\u001b[0m \u001b[0mforce_all_finite\u001b[0m\u001b[0;34m=\u001b[0m\u001b[0;34m'allow-nan'\u001b[0m\u001b[0;34m,\u001b[0m \u001b[0mdtype\u001b[0m\u001b[0;34m=\u001b[0m\u001b[0;32mNone\u001b[0m\u001b[0;34m)\u001b[0m\u001b[0;34m\u001b[0m\u001b[0;34m\u001b[0m\u001b[0m\n\u001b[0m\u001b[1;32m    123\u001b[0m \u001b[0;34m\u001b[0m\u001b[0m\n\u001b[1;32m    124\u001b[0m     \u001b[0;31m# Precompute random seed from the random state to be used\u001b[0m\u001b[0;34m\u001b[0m\u001b[0;34m\u001b[0m\u001b[0;34m\u001b[0m\u001b[0m\n",
      "\u001b[0;32m~/miniconda3/envs/py37/lib/python3.7/site-packages/sklearn/utils/validation.py\u001b[0m in \u001b[0;36minner_f\u001b[0;34m(*args, **kwargs)\u001b[0m\n\u001b[1;32m     71\u001b[0m                           FutureWarning)\n\u001b[1;32m     72\u001b[0m         \u001b[0mkwargs\u001b[0m\u001b[0;34m.\u001b[0m\u001b[0mupdate\u001b[0m\u001b[0;34m(\u001b[0m\u001b[0;34m{\u001b[0m\u001b[0mk\u001b[0m\u001b[0;34m:\u001b[0m \u001b[0marg\u001b[0m \u001b[0;32mfor\u001b[0m \u001b[0mk\u001b[0m\u001b[0;34m,\u001b[0m \u001b[0marg\u001b[0m \u001b[0;32min\u001b[0m \u001b[0mzip\u001b[0m\u001b[0;34m(\u001b[0m\u001b[0msig\u001b[0m\u001b[0;34m.\u001b[0m\u001b[0mparameters\u001b[0m\u001b[0;34m,\u001b[0m \u001b[0margs\u001b[0m\u001b[0;34m)\u001b[0m\u001b[0;34m}\u001b[0m\u001b[0;34m)\u001b[0m\u001b[0;34m\u001b[0m\u001b[0;34m\u001b[0m\u001b[0m\n\u001b[0;32m---> 73\u001b[0;31m         \u001b[0;32mreturn\u001b[0m \u001b[0mf\u001b[0m\u001b[0;34m(\u001b[0m\u001b[0;34m**\u001b[0m\u001b[0mkwargs\u001b[0m\u001b[0;34m)\u001b[0m\u001b[0;34m\u001b[0m\u001b[0;34m\u001b[0m\u001b[0m\n\u001b[0m\u001b[1;32m     74\u001b[0m     \u001b[0;32mreturn\u001b[0m \u001b[0minner_f\u001b[0m\u001b[0;34m\u001b[0m\u001b[0;34m\u001b[0m\u001b[0m\n\u001b[1;32m     75\u001b[0m \u001b[0;34m\u001b[0m\u001b[0m\n",
      "\u001b[0;32m~/miniconda3/envs/py37/lib/python3.7/site-packages/sklearn/utils/validation.py\u001b[0m in \u001b[0;36mcheck_array\u001b[0;34m(array, accept_sparse, accept_large_sparse, dtype, order, copy, force_all_finite, ensure_2d, allow_nd, ensure_min_samples, ensure_min_features, estimator)\u001b[0m\n\u001b[1;32m    577\u001b[0m                                       \u001b[0mdtype\u001b[0m\u001b[0;34m=\u001b[0m\u001b[0mdtype\u001b[0m\u001b[0;34m,\u001b[0m \u001b[0mcopy\u001b[0m\u001b[0;34m=\u001b[0m\u001b[0mcopy\u001b[0m\u001b[0;34m,\u001b[0m\u001b[0;34m\u001b[0m\u001b[0;34m\u001b[0m\u001b[0m\n\u001b[1;32m    578\u001b[0m                                       \u001b[0mforce_all_finite\u001b[0m\u001b[0;34m=\u001b[0m\u001b[0mforce_all_finite\u001b[0m\u001b[0;34m,\u001b[0m\u001b[0;34m\u001b[0m\u001b[0;34m\u001b[0m\u001b[0m\n\u001b[0;32m--> 579\u001b[0;31m                                       accept_large_sparse=accept_large_sparse)\n\u001b[0m\u001b[1;32m    580\u001b[0m     \u001b[0;32melse\u001b[0m\u001b[0;34m:\u001b[0m\u001b[0;34m\u001b[0m\u001b[0;34m\u001b[0m\u001b[0m\n\u001b[1;32m    581\u001b[0m         \u001b[0;31m# If np.array(..) gives ComplexWarning, then we convert the warning\u001b[0m\u001b[0;34m\u001b[0m\u001b[0;34m\u001b[0m\u001b[0;34m\u001b[0m\u001b[0m\n",
      "\u001b[0;32m~/miniconda3/envs/py37/lib/python3.7/site-packages/sklearn/utils/validation.py\u001b[0m in \u001b[0;36m_ensure_sparse_format\u001b[0;34m(spmatrix, accept_sparse, dtype, copy, force_all_finite, accept_large_sparse)\u001b[0m\n\u001b[1;32m    352\u001b[0m \u001b[0;34m\u001b[0m\u001b[0m\n\u001b[1;32m    353\u001b[0m     \u001b[0;32mif\u001b[0m \u001b[0maccept_sparse\u001b[0m \u001b[0;32mis\u001b[0m \u001b[0;32mFalse\u001b[0m\u001b[0;34m:\u001b[0m\u001b[0;34m\u001b[0m\u001b[0;34m\u001b[0m\u001b[0m\n\u001b[0;32m--> 354\u001b[0;31m         raise TypeError('A sparse matrix was passed, but dense '\n\u001b[0m\u001b[1;32m    355\u001b[0m                         \u001b[0;34m'data is required. Use X.toarray() to '\u001b[0m\u001b[0;34m\u001b[0m\u001b[0;34m\u001b[0m\u001b[0m\n\u001b[1;32m    356\u001b[0m                         'convert to a dense numpy array.')\n",
      "\u001b[0;31mTypeError\u001b[0m: A sparse matrix was passed, but dense data is required. Use X.toarray() to convert to a dense numpy array."
     ]
    }
   ],
   "source": [
    "result = permutation_importance(clf, X_test.todense(), Y_test, n_repeats=10,\n",
    "                                random_state=42, n_jobs=-1)"
   ]
  },
  {
   "cell_type": "code",
   "execution_count": 16,
   "metadata": {},
   "outputs": [],
   "source": [
    "pickle.dump(Tfidf_vectorizer,open('./chart_model/tdidf_1gram','wb'))"
   ]
  },
  {
   "cell_type": "code",
   "execution_count": 17,
   "metadata": {},
   "outputs": [],
   "source": [
    "Tfidf_vectorizer2 = pickle.load(open('./chart_model/tdidf_1gram','rb'))"
   ]
  },
  {
   "cell_type": "code",
   "execution_count": 19,
   "metadata": {},
   "outputs": [
    {
     "data": {
      "text/plain": [
       "array([3.19722458, 5.67626611, 5.00978717, ..., 5.28850058, 7.23441073,\n",
       "       7.63987583])"
      ]
     },
     "execution_count": 19,
     "metadata": {},
     "output_type": "execute_result"
    }
   ],
   "source": [
    "Tfidf_vectorizer2.idf_"
   ]
  },
  {
   "cell_type": "code",
   "execution_count": 18,
   "metadata": {},
   "outputs": [
    {
     "name": "stdout",
     "output_type": "stream",
     "text": [
      "Accuracy: 90.3922%\n",
      "roc_auc_score: 0.9534145794657185\n"
     ]
    }
   ],
   "source": [
    "X_test = Tfidf_vectorizer2.transform(text_test)\n",
    "clf = load('./chart_model/gboost_1gram_lemma.joblib')\n",
    "train_predictions = clf.predict(X_test)\n",
    "acc = accuracy_score(Y_test, train_predictions)\n",
    "print(\"Accuracy: {:.4%}\".format(acc))\n",
    "train_predictions = clf.predict_proba(X_test)\n",
    "ll = roc_auc_score(Y_test, train_predictions[:,1])\n",
    "print(\"roc_auc_score: {}\".format(ll))"
   ]
  },
  {
   "cell_type": "code",
   "execution_count": null,
   "metadata": {},
   "outputs": [],
   "source": [
    "from sklearn.model_selection import GridSearchCV\n",
    "import random\n",
    "\n",
    "clf = GradientBoostingClassifier()\n",
    "distributions = dict(max_depth=[3,4,5],\n",
    "                      min_samples_leaf=[1,2,3])\n",
    "clf = GridSearchCV(clf, distributions)\n",
    "search = clf.fit(X_train, Y_train)\n",
    "search.best_params_"
   ]
  },
  {
   "cell_type": "markdown",
   "metadata": {},
   "source": [
    "## lemma一般实验"
   ]
  },
  {
   "cell_type": "code",
   "execution_count": 36,
   "metadata": {},
   "outputs": [
    {
     "name": "stdout",
     "output_type": "stream",
     "text": [
      "(6119, 14555)\n"
     ]
    }
   ],
   "source": [
    "Count_vectorizer = CountVectorizer(min_df =5,stop_words='english',max_df = 0.8)\n",
    "Count_vectorizer = Count_vectorizer.fit(text_train)\n",
    "X_train = Count_vectorizer.transform(text_train)\n",
    "X_test = Count_vectorizer.transform(text_test)\n",
    "print(np.shape(X_train))"
   ]
  },
  {
   "cell_type": "code",
   "execution_count": 37,
   "metadata": {},
   "outputs": [
    {
     "name": "stdout",
     "output_type": "stream",
     "text": [
      "(7649, 16264)\n"
     ]
    }
   ],
   "source": [
    "Count_vectorizer_upperbound = CountVectorizer(min_df =5,stop_words='english',max_df = 0.8)\n",
    "Count_vectorizer_upperbound = Count_vectorizer.fit(lemmatized_text)\n",
    "X_upperbound = Count_vectorizer.transform(lemmatized_text)\n",
    "print(np.shape(X_upperbound))"
   ]
  },
  {
   "cell_type": "code",
   "execution_count": 39,
   "metadata": {
    "scrolled": true
   },
   "outputs": [
    {
     "name": "stdout",
     "output_type": "stream",
     "text": [
      "==============================\n",
      "DecisionTreeClassifier\n",
      "****Results****\n",
      "Accuracy: 86.2092%\n",
      "roc_auc_score: 0.8431885403228343\n",
      "==============================\n",
      "RandomForestClassifier\n",
      "****Results****\n",
      "Accuracy: 88.3007%\n",
      "roc_auc_score: 0.9444892388534031\n",
      "==============================\n",
      "AdaBoostClassifier\n",
      "****Results****\n",
      "Accuracy: 89.4771%\n",
      "roc_auc_score: 0.9421077058619931\n",
      "==============================\n",
      "GradientBoostingClassifier\n",
      "****Results****\n",
      "Accuracy: 90.7190%\n",
      "roc_auc_score: 0.9547046584437242\n",
      "==============================\n",
      "ComplementNB\n",
      "****Results****\n",
      "Accuracy: 83.9216%\n",
      "roc_auc_score: 0.8257528082816777\n",
      "==============================\n",
      "MultinomialNB\n",
      "****Results****\n",
      "Accuracy: 84.0523%\n",
      "roc_auc_score: 0.8257528082816777\n",
      "==============================\n",
      "LogisticRegression\n",
      "****Results****\n",
      "Accuracy: 88.4967%\n",
      "roc_auc_score: 0.9213002658821309\n",
      "==============================\n",
      "==============================\n",
      "DecisionTreeClassifier\n",
      "****Upper bound****\n",
      "Accuracy: 100.0000%\n",
      "roc_auc_score: 1.0\n",
      "==============================\n",
      "RandomForestClassifier\n",
      "****Upper bound****\n",
      "Accuracy: 100.0000%\n",
      "roc_auc_score: 1.0\n",
      "==============================\n",
      "AdaBoostClassifier\n",
      "****Upper bound****\n",
      "Accuracy: 90.7308%\n",
      "roc_auc_score: 0.962077995229691\n",
      "==============================\n",
      "GradientBoostingClassifier\n",
      "****Upper bound****\n",
      "Accuracy: 92.7572%\n",
      "roc_auc_score: 0.9770213401353764\n",
      "==============================\n",
      "ComplementNB\n",
      "****Upper bound****\n",
      "Accuracy: 84.5470%\n",
      "roc_auc_score: 0.8391997571238604\n",
      "==============================\n",
      "MultinomialNB\n",
      "****Upper bound****\n",
      "Accuracy: 84.5339%\n",
      "roc_auc_score: 0.8391877534256194\n",
      "==============================\n",
      "LogisticRegression\n",
      "****Upper bound****\n",
      "Accuracy: 100.0000%\n",
      "roc_auc_score: 1.0\n",
      "==============================\n"
     ]
    }
   ],
   "source": [
    "classifiers = [\n",
    "    DecisionTreeClassifier(),\n",
    "    RandomForestClassifier(),\n",
    "    AdaBoostClassifier(),\n",
    "    GradientBoostingClassifier(),\n",
    "    ComplementNB(), MultinomialNB(),\n",
    "    LogisticRegression(max_iter = 1000)]\n",
    "\n",
    "classifiers_upperbound = [\n",
    "    DecisionTreeClassifier(),\n",
    "    RandomForestClassifier(),\n",
    "    AdaBoostClassifier(),\n",
    "    GradientBoostingClassifier(),\n",
    "    ComplementNB(), MultinomialNB(),\n",
    "    LogisticRegression(max_iter = 1000)]\n",
    "\n",
    "# Logging for Visual Comparison\n",
    "log_cols=[\"Classifier\", \"Accuracy\", \"roc_auc_score\"]\n",
    "log = pd.DataFrame(columns=log_cols)\n",
    "\n",
    "for clf in classifiers:\n",
    "    clf.fit(X_train, Y_train)\n",
    "    name = clf.__class__.__name__\n",
    "    print(\"=\"*30)\n",
    "    print(name)\n",
    "    print('****Results****')\n",
    "    train_predictions = clf.predict(X_test)\n",
    "    acc = accuracy_score(Y_test, train_predictions)\n",
    "    print(\"Accuracy: {:.4%}\".format(acc))\n",
    "    train_predictions = clf.predict_proba(X_test)\n",
    "    ll = roc_auc_score(Y_test, train_predictions[:,1])\n",
    "    print(\"roc_auc_score: {}\".format(ll))\n",
    "    log_entry = pd.DataFrame([[name, acc*100, ll]], columns=log_cols)\n",
    "    log = log.append(log_entry)\n",
    "print(\"=\"*30)\n",
    "\n",
    "for clf in classifiers_upperbound:\n",
    "    clf.fit(X_upperbound, total_label)\n",
    "    name = clf.__class__.__name__\n",
    "    print(\"=\"*30)\n",
    "    print(name)\n",
    "    print('****Upper bound****')\n",
    "    train_predictions = clf.predict(X_upperbound)\n",
    "    acc = accuracy_score(total_label, train_predictions)\n",
    "    print(\"Accuracy: {:.4%}\".format(acc))\n",
    "    train_predictions = clf.predict_proba(X_upperbound)\n",
    "    ll = roc_auc_score(total_label, train_predictions[:,1])\n",
    "    print(\"roc_auc_score: {}\".format(ll))\n",
    "    log_entry = pd.DataFrame([[name, acc*100, ll]], columns=log_cols)\n",
    "    log = log.append(log_entry)\n",
    "print(\"=\"*30)"
   ]
  },
  {
   "cell_type": "code",
   "execution_count": 29,
   "metadata": {},
   "outputs": [
    {
     "name": "stdout",
     "output_type": "stream",
     "text": [
      "(6119, 125394)\n"
     ]
    }
   ],
   "source": [
    "Count_vectorizer = CountVectorizer(ngram_range = (1,2),min_df =5,stop_words='english',max_df = 0.8)\n",
    "Count_vectorizer = Count_vectorizer.fit(text_train)\n",
    "X_train = Count_vectorizer.transform(text_train)\n",
    "X_test = Count_vectorizer.transform(text_test)\n",
    "print(np.shape(X_train))"
   ]
  },
  {
   "cell_type": "code",
   "execution_count": 40,
   "metadata": {},
   "outputs": [
    {
     "name": "stdout",
     "output_type": "stream",
     "text": [
      "==============================\n",
      "DecisionTreeClassifier\n",
      "****Results****\n",
      "Accuracy: 86.6013%\n",
      "roc_auc_score: 0.8466123627324502\n",
      "==============================\n",
      "RandomForestClassifier\n",
      "****Results****\n",
      "Accuracy: 88.1699%\n",
      "roc_auc_score: 0.9408097605487555\n",
      "==============================\n",
      "AdaBoostClassifier\n",
      "****Results****\n",
      "Accuracy: 89.4771%\n",
      "roc_auc_score: 0.9421077058619931\n",
      "==============================\n",
      "GradientBoostingClassifier\n",
      "****Results****\n",
      "Accuracy: 90.6536%\n",
      "roc_auc_score: 0.9547380903684591\n",
      "==============================\n",
      "ComplementNB\n",
      "****Results****\n",
      "Accuracy: 83.9216%\n",
      "roc_auc_score: 0.8257528082816777\n",
      "==============================\n",
      "MultinomialNB\n",
      "****Results****\n",
      "Accuracy: 84.0523%\n",
      "roc_auc_score: 0.8257528082816777\n",
      "==============================\n",
      "LogisticRegression\n",
      "****Results****\n",
      "Accuracy: 88.4967%\n",
      "roc_auc_score: 0.9213002658821309\n",
      "==============================\n"
     ]
    }
   ],
   "source": [
    "classifiers = [\n",
    "    DecisionTreeClassifier(),\n",
    "    RandomForestClassifier(),\n",
    "    AdaBoostClassifier(),\n",
    "    GradientBoostingClassifier(),\n",
    "    ComplementNB(), MultinomialNB(),\n",
    "    LogisticRegression(max_iter = 1000)]\n",
    "\n",
    "# Logging for Visual Comparison\n",
    "log_cols=[\"Classifier\", \"Accuracy\", \"roc_auc_score\"]\n",
    "log = pd.DataFrame(columns=log_cols)\n",
    "\n",
    "for clf in classifiers:\n",
    "    clf.fit(X_train, Y_train)\n",
    "    name = clf.__class__.__name__\n",
    "    print(\"=\"*30)\n",
    "    print(name)\n",
    "    print('****Results****')\n",
    "    train_predictions = clf.predict(X_test)\n",
    "    acc = accuracy_score(Y_test, train_predictions)\n",
    "    print(\"Accuracy: {:.4%}\".format(acc))\n",
    "    train_predictions = clf.predict_proba(X_test)\n",
    "    ll = roc_auc_score(Y_test, train_predictions[:,1])\n",
    "    print(\"roc_auc_score: {}\".format(ll))\n",
    "    log_entry = pd.DataFrame([[name, acc*100, ll]], columns=log_cols)\n",
    "    log = log.append(log_entry)\n",
    "print(\"=\"*30)"
   ]
  },
  {
   "cell_type": "code",
   "execution_count": 46,
   "metadata": {},
   "outputs": [
    {
     "name": "stdout",
     "output_type": "stream",
     "text": [
      "(6119, 125394)\n"
     ]
    }
   ],
   "source": [
    "Tfidf_vectorizer = TfidfVectorizer(ngram_range = (1,2),min_df =5,stop_words='english',max_df = 0.8)\n",
    "Tfidf_vectorizer = Tfidf_vectorizer.fit(text_train)\n",
    "X_train = Tfidf_vectorizer.transform(text_train)\n",
    "X_test = Tfidf_vectorizer.transform(text_test)\n",
    "print(np.shape(X_train))"
   ]
  },
  {
   "cell_type": "code",
   "execution_count": 47,
   "metadata": {
    "scrolled": true
   },
   "outputs": [
    {
     "name": "stdout",
     "output_type": "stream",
     "text": [
      "==============================\n",
      "DecisionTreeClassifier\n",
      "****Results****\n",
      "Accuracy: 85.1634%\n",
      "roc_auc_score: 0.8371452282810485\n",
      "==============================\n",
      "RandomForestClassifier\n",
      "****Results****\n",
      "Accuracy: 86.7974%\n",
      "roc_auc_score: 0.9475944746861333\n",
      "==============================\n",
      "AdaBoostClassifier\n",
      "****Results****\n",
      "Accuracy: 89.3464%\n",
      "roc_auc_score: 0.9426475331172712\n",
      "==============================\n",
      "GradientBoostingClassifier\n",
      "****Results****\n",
      "Accuracy: 90.9150%\n",
      "roc_auc_score: 0.9556702510934206\n",
      "==============================\n",
      "ComplementNB\n",
      "****Results****\n",
      "Accuracy: 81.4379%\n",
      "roc_auc_score: 0.8970395047355337\n",
      "==============================\n",
      "MultinomialNB\n",
      "****Results****\n",
      "Accuracy: 79.7386%\n",
      "roc_auc_score: 0.8970395047355337\n",
      "==============================\n",
      "LogisticRegression\n",
      "****Results****\n",
      "Accuracy: 87.9739%\n",
      "roc_auc_score: 0.9520605865139549\n",
      "==============================\n"
     ]
    }
   ],
   "source": [
    "classifiers = [\n",
    "    DecisionTreeClassifier(),\n",
    "    RandomForestClassifier(),\n",
    "    AdaBoostClassifier(),\n",
    "    GradientBoostingClassifier(),\n",
    "    ComplementNB(), MultinomialNB(),\n",
    "    LogisticRegression(max_iter = 1000)]\n",
    "\n",
    "# Logging for Visual Comparison\n",
    "log_cols=[\"Classifier\", \"Accuracy\", \"roc_auc_score\"]\n",
    "log = pd.DataFrame(columns=log_cols)\n",
    "\n",
    "for clf in classifiers:\n",
    "    clf.fit(X_train, Y_train)\n",
    "    name = clf.__class__.__name__\n",
    "    print(\"=\"*30)\n",
    "    print(name)\n",
    "    print('****Results****')\n",
    "    train_predictions = clf.predict(X_test)\n",
    "    acc = accuracy_score(Y_test, train_predictions)\n",
    "    print(\"Accuracy: {:.4%}\".format(acc))\n",
    "    train_predictions = clf.predict_proba(X_test)\n",
    "    ll = roc_auc_score(Y_test, train_predictions[:,1])\n",
    "    print(\"roc_auc_score: {}\".format(ll))\n",
    "    log_entry = pd.DataFrame([[name, acc*100, ll]], columns=log_cols)\n",
    "    log = log.append(log_entry)\n",
    "print(\"=\"*30)"
   ]
  },
  {
   "cell_type": "code",
   "execution_count": 44,
   "metadata": {},
   "outputs": [
    {
     "name": "stdout",
     "output_type": "stream",
     "text": [
      "(6119, 14555)\n"
     ]
    }
   ],
   "source": [
    "Tfidf_vectorizer = TfidfVectorizer(min_df =5,stop_words='english',max_df = 0.8)\n",
    "Tfidf_vectorizer = Tfidf_vectorizer.fit(text_train)\n",
    "X_train = Tfidf_vectorizer.transform(text_train)\n",
    "X_test = Tfidf_vectorizer.transform(text_test)\n",
    "print(np.shape(X_train))"
   ]
  },
  {
   "cell_type": "code",
   "execution_count": 45,
   "metadata": {},
   "outputs": [
    {
     "name": "stdout",
     "output_type": "stream",
     "text": [
      "==============================\n",
      "DecisionTreeClassifier\n",
      "****Results****\n",
      "Accuracy: 84.1830%\n",
      "roc_auc_score: 0.8195974009628395\n",
      "==============================\n",
      "RandomForestClassifier\n",
      "****Results****\n",
      "Accuracy: 87.7124%\n",
      "roc_auc_score: 0.9461962335986911\n",
      "==============================\n",
      "AdaBoostClassifier\n",
      "****Results****\n",
      "Accuracy: 89.2157%\n",
      "roc_auc_score: 0.9460084248450333\n",
      "==============================\n",
      "GradientBoostingClassifier\n",
      "****Results****\n",
      "Accuracy: 90.4575%\n",
      "roc_auc_score: 0.9538786932443913\n",
      "==============================\n",
      "ComplementNB\n",
      "****Results****\n",
      "Accuracy: 85.4248%\n",
      "roc_auc_score: 0.9173759478933954\n",
      "==============================\n",
      "MultinomialNB\n",
      "****Results****\n",
      "Accuracy: 84.0523%\n",
      "roc_auc_score: 0.9173759478933954\n",
      "==============================\n",
      "LogisticRegression\n",
      "****Results****\n",
      "Accuracy: 88.3007%\n",
      "roc_auc_score: 0.954377222239703\n",
      "==============================\n"
     ]
    }
   ],
   "source": [
    "classifiers = [\n",
    "    DecisionTreeClassifier(),\n",
    "    RandomForestClassifier(),\n",
    "    AdaBoostClassifier(),\n",
    "    GradientBoostingClassifier(),\n",
    "    ComplementNB(), MultinomialNB(),\n",
    "    LogisticRegression(max_iter = 1000)]\n",
    "\n",
    "# Logging for Visual Comparison\n",
    "log_cols=[\"Classifier\", \"Accuracy\", \"roc_auc_score\"]\n",
    "log = pd.DataFrame(columns=log_cols)\n",
    "\n",
    "for clf in classifiers:\n",
    "    clf.fit(X_train, Y_train)\n",
    "    name = clf.__class__.__name__\n",
    "    print(\"=\"*30)\n",
    "    print(name)\n",
    "    print('****Results****')\n",
    "    train_predictions = clf.predict(X_test)\n",
    "    acc = accuracy_score(Y_test, train_predictions)\n",
    "    print(\"Accuracy: {:.4%}\".format(acc))\n",
    "    train_predictions = clf.predict_proba(X_test)\n",
    "    ll = roc_auc_score(Y_test, train_predictions[:,1])\n",
    "    print(\"roc_auc_score: {}\".format(ll))\n",
    "    log_entry = pd.DataFrame([[name, acc*100, ll]], columns=log_cols)\n",
    "    log = log.append(log_entry)\n",
    "print(\"=\"*30)"
   ]
  },
  {
   "cell_type": "markdown",
   "metadata": {},
   "source": [
    "# 没有lemmatized:"
   ]
  },
  {
   "cell_type": "code",
   "execution_count": 9,
   "metadata": {},
   "outputs": [],
   "source": [
    "text_train,text_test,Y_train,Y_test = train_test_split(total_text,total_label,test_size = 0.2,stratify = total_label,random_state=221)"
   ]
  },
  {
   "cell_type": "code",
   "execution_count": 10,
   "metadata": {},
   "outputs": [
    {
     "name": "stdout",
     "output_type": "stream",
     "text": [
      "(6119, 15456)\n"
     ]
    }
   ],
   "source": [
    "Count_vectorizer = CountVectorizer(min_df =5,stop_words='english',max_df = 0.8)\n",
    "Count_vectorizer = Count_vectorizer.fit(text_train)\n",
    "X_train = Count_vectorizer.transform(text_train)\n",
    "X_test = Count_vectorizer.transform(text_test)\n",
    "print(np.shape(X_train))"
   ]
  },
  {
   "cell_type": "code",
   "execution_count": 15,
   "metadata": {},
   "outputs": [
    {
     "name": "stdout",
     "output_type": "stream",
     "text": [
      "==============================\n",
      "SVC\n",
      "****Results****\n",
      "Accuracy: 87.1242%\n",
      "roc_auc_score: 0.9043502800415343\n",
      "==============================\n",
      "NuSVC\n",
      "****Results****\n",
      "Accuracy: 80.7843%\n",
      "roc_auc_score: 0.9069973018470154\n",
      "==============================\n",
      "DecisionTreeClassifier\n",
      "****Results****\n",
      "Accuracy: 85.6209%\n",
      "roc_auc_score: 0.8323329977030302\n",
      "==============================\n",
      "RandomForestClassifier\n",
      "****Results****\n",
      "Accuracy: 88.4967%\n",
      "roc_auc_score: 0.9451116626286147\n",
      "==============================\n",
      "AdaBoostClassifier\n",
      "****Results****\n",
      "Accuracy: 89.6078%\n",
      "roc_auc_score: 0.9451627938076208\n",
      "==============================\n",
      "GradientBoostingClassifier\n",
      "****Results****\n",
      "Accuracy: 90.7843%\n",
      "roc_auc_score: 0.9536653189012303\n",
      "==============================\n",
      "ComplementNB\n",
      "****Results****\n",
      "Accuracy: 84.2484%\n",
      "roc_auc_score: 0.8348049935496051\n",
      "==============================\n",
      "MultinomialNB\n",
      "****Results****\n",
      "Accuracy: 84.1830%\n",
      "roc_auc_score: 0.8350409836065574\n",
      "==============================\n",
      "LogisticRegression\n",
      "****Results****\n",
      "Accuracy: 87.7124%\n",
      "roc_auc_score: 0.9143061105692081\n",
      "==============================\n"
     ]
    },
    {
     "name": "stderr",
     "output_type": "stream",
     "text": [
      "/home/zilong.zhang1/miniconda3/envs/py37/lib/python3.7/site-packages/sklearn/linear_model/_logistic.py:764: ConvergenceWarning: lbfgs failed to converge (status=1):\n",
      "STOP: TOTAL NO. of ITERATIONS REACHED LIMIT.\n",
      "\n",
      "Increase the number of iterations (max_iter) or scale the data as shown in:\n",
      "    https://scikit-learn.org/stable/modules/preprocessing.html\n",
      "Please also refer to the documentation for alternative solver options:\n",
      "    https://scikit-learn.org/stable/modules/linear_model.html#logistic-regression\n",
      "  extra_warning_msg=_LOGISTIC_SOLVER_CONVERGENCE_MSG)\n"
     ]
    }
   ],
   "source": [
    "classifiers = [\n",
    "    SVC(kernel=\"linear\", probability=True),\n",
    "    NuSVC(probability=True),\n",
    "    DecisionTreeClassifier(),\n",
    "    RandomForestClassifier(),\n",
    "    AdaBoostClassifier(),\n",
    "    GradientBoostingClassifier(),\n",
    "    ComplementNB(), MultinomialNB(),\n",
    "    LogisticRegression()]\n",
    "\n",
    "# Logging for Visual Comparison\n",
    "log_cols=[\"Classifier\", \"Accuracy\", \"roc_auc_score\"]\n",
    "log = pd.DataFrame(columns=log_cols)\n",
    "\n",
    "for clf in classifiers:\n",
    "    clf.fit(X_train, Y_train)\n",
    "    name = clf.__class__.__name__\n",
    "    \n",
    "    print(\"=\"*30)\n",
    "    print(name)\n",
    "    \n",
    "    print('****Results****')\n",
    "    train_predictions = clf.predict(X_test)\n",
    "    acc = accuracy_score(Y_test, train_predictions)\n",
    "    print(\"Accuracy: {:.4%}\".format(acc))\n",
    "    \n",
    "    train_predictions = clf.predict_proba(X_test)\n",
    "    ll = roc_auc_score(Y_test, train_predictions[:,1])\n",
    "    print(\"roc_auc_score: {}\".format(ll))\n",
    "    \n",
    "    log_entry = pd.DataFrame([[name, acc*100, ll]], columns=log_cols)\n",
    "    log = log.append(log_entry)\n",
    "    \n",
    "print(\"=\"*30)"
   ]
  },
  {
   "cell_type": "code",
   "execution_count": 16,
   "metadata": {},
   "outputs": [
    {
     "name": "stdout",
     "output_type": "stream",
     "text": [
      "Accuracy: 90.7190%\n",
      "roc_auc_score: 0.9536987508259651\n"
     ]
    }
   ],
   "source": [
    "clf = GradientBoostingClassifier()\n",
    "clf.fit(X_train, Y_train)\n",
    "train_predictions = clf.predict(X_test)\n",
    "acc = accuracy_score(Y_test, train_predictions)\n",
    "print(\"Accuracy: {:.4%}\".format(acc))\n",
    "\n",
    "train_predictions = clf.predict_proba(X_test)\n",
    "ll = roc_auc_score(Y_test, train_predictions[:,1])\n",
    "print(\"roc_auc_score: {}\".format(ll))"
   ]
  },
  {
   "cell_type": "code",
   "execution_count": 17,
   "metadata": {},
   "outputs": [
    {
     "data": {
      "text/plain": [
       "GradientBoostingClassifier()"
      ]
     },
     "execution_count": 17,
     "metadata": {},
     "output_type": "execute_result"
    }
   ],
   "source": [
    "clf"
   ]
  },
  {
   "cell_type": "code",
   "execution_count": 18,
   "metadata": {},
   "outputs": [
    {
     "data": {
      "text/plain": [
       "100"
      ]
     },
     "execution_count": 18,
     "metadata": {},
     "output_type": "execute_result"
    }
   ],
   "source": [
    "clf.n_estimators"
   ]
  },
  {
   "cell_type": "code",
   "execution_count": 19,
   "metadata": {},
   "outputs": [
    {
     "name": "stdout",
     "output_type": "stream",
     "text": [
      "(6119, 125230)\n"
     ]
    }
   ],
   "source": [
    "Count_vectorizer = CountVectorizer(ngram_range = (1,2),min_df =5,stop_words='english',max_df = 0.8)\n",
    "Count_vectorizer = Count_vectorizer.fit(text_train)\n",
    "X_train = Count_vectorizer.transform(text_train)\n",
    "X_test = Count_vectorizer.transform(text_test)\n",
    "print(np.shape(X_train))"
   ]
  },
  {
   "cell_type": "code",
   "execution_count": 20,
   "metadata": {
    "scrolled": true
   },
   "outputs": [
    {
     "name": "stdout",
     "output_type": "stream",
     "text": [
      "==============================\n",
      "DecisionTreeClassifier\n",
      "****Results****\n",
      "Accuracy: 86.3399%\n",
      "roc_auc_score: 0.8457824643655014\n",
      "==============================\n",
      "RandomForestClassifier\n",
      "****Results****\n",
      "Accuracy: 87.7778%\n",
      "roc_auc_score: 0.9404203769547842\n",
      "==============================\n",
      "AdaBoostClassifier\n",
      "****Results****\n",
      "Accuracy: 90.4575%\n",
      "roc_auc_score: 0.947416498851515\n",
      "==============================\n",
      "GradientBoostingClassifier\n",
      "****Results****\n",
      "Accuracy: 91.3072%\n",
      "roc_auc_score: 0.9547685724174821\n",
      "==============================\n",
      "ComplementNB\n",
      "****Results****\n",
      "Accuracy: 84.1830%\n",
      "roc_auc_score: 0.8362337166860703\n",
      "==============================\n",
      "MultinomialNB\n",
      "****Results****\n",
      "Accuracy: 84.1176%\n",
      "roc_auc_score: 0.8362337166860703\n",
      "==============================\n",
      "LogisticRegression\n",
      "****Results****\n",
      "Accuracy: 88.6275%\n",
      "roc_auc_score: 0.936772363991064\n",
      "==============================\n"
     ]
    },
    {
     "name": "stderr",
     "output_type": "stream",
     "text": [
      "/home/zilong.zhang1/miniconda3/envs/py37/lib/python3.7/site-packages/sklearn/linear_model/_logistic.py:764: ConvergenceWarning: lbfgs failed to converge (status=1):\n",
      "STOP: TOTAL NO. of ITERATIONS REACHED LIMIT.\n",
      "\n",
      "Increase the number of iterations (max_iter) or scale the data as shown in:\n",
      "    https://scikit-learn.org/stable/modules/preprocessing.html\n",
      "Please also refer to the documentation for alternative solver options:\n",
      "    https://scikit-learn.org/stable/modules/linear_model.html#logistic-regression\n",
      "  extra_warning_msg=_LOGISTIC_SOLVER_CONVERGENCE_MSG)\n"
     ]
    }
   ],
   "source": [
    "classifiers = [\n",
    "    DecisionTreeClassifier(),\n",
    "    RandomForestClassifier(),\n",
    "    AdaBoostClassifier(),\n",
    "    GradientBoostingClassifier(),\n",
    "    ComplementNB(), MultinomialNB(),\n",
    "    LogisticRegression()]\n",
    "\n",
    "# Logging for Visual Comparison\n",
    "log_cols=[\"Classifier\", \"Accuracy\", \"roc_auc_score\"]\n",
    "log = pd.DataFrame(columns=log_cols)\n",
    "\n",
    "for clf in classifiers:\n",
    "    clf.fit(X_train, Y_train)\n",
    "    name = clf.__class__.__name__\n",
    "    print(\"=\"*30)\n",
    "    print(name)\n",
    "    print('****Results****')\n",
    "    train_predictions = clf.predict(X_test)\n",
    "    acc = accuracy_score(Y_test, train_predictions)\n",
    "    print(\"Accuracy: {:.4%}\".format(acc))\n",
    "    train_predictions = clf.predict_proba(X_test)\n",
    "    ll = roc_auc_score(Y_test, train_predictions[:,1])\n",
    "    print(\"roc_auc_score: {}\".format(ll))\n",
    "    log_entry = pd.DataFrame([[name, acc*100, ll]], columns=log_cols)\n",
    "    log = log.append(log_entry)\n",
    "print(\"=\"*30)"
   ]
  },
  {
   "cell_type": "code",
   "execution_count": 23,
   "metadata": {},
   "outputs": [
    {
     "name": "stdout",
     "output_type": "stream",
     "text": [
      "(6119, 125230)\n"
     ]
    }
   ],
   "source": [
    "Tfidf_vectorizer = TfidfVectorizer(ngram_range = (1,2),min_df =5,stop_words='english',max_df = 0.8)\n",
    "Tfidf_vectorizer = Tfidf_vectorizer.fit(text_train)\n",
    "X_train = Tfidf_vectorizer.transform(text_train)\n",
    "X_test = Tfidf_vectorizer.transform(text_test)\n",
    "print(np.shape(X_train))"
   ]
  },
  {
   "cell_type": "code",
   "execution_count": 24,
   "metadata": {},
   "outputs": [
    {
     "name": "stdout",
     "output_type": "stream",
     "text": [
      "==============================\n",
      "DecisionTreeClassifier\n",
      "****Results****\n",
      "Accuracy: 85.4902%\n",
      "roc_auc_score: 0.8346417670935464\n",
      "==============================\n",
      "RandomForestClassifier\n",
      "****Results****\n",
      "Accuracy: 87.3203%\n",
      "roc_auc_score: 0.9464784383751298\n",
      "==============================\n",
      "AdaBoostClassifier\n",
      "****Results****\n",
      "Accuracy: 89.2810%\n",
      "roc_auc_score: 0.9418363172964979\n",
      "==============================\n",
      "GradientBoostingClassifier\n",
      "****Results****\n",
      "Accuracy: 90.3922%\n",
      "roc_auc_score: 0.9541618813127339\n",
      "==============================\n",
      "ComplementNB\n",
      "****Results****\n",
      "Accuracy: 81.5033%\n",
      "roc_auc_score: 0.8991535823290646\n",
      "==============================\n",
      "MultinomialNB\n",
      "****Results****\n",
      "Accuracy: 79.6732%\n",
      "roc_auc_score: 0.8991535823290646\n",
      "==============================\n",
      "LogisticRegression\n",
      "****Results****\n",
      "Accuracy: 88.1046%\n",
      "roc_auc_score: 0.9521707152071993\n",
      "==============================\n"
     ]
    }
   ],
   "source": [
    "classifiers = [\n",
    "    DecisionTreeClassifier(),\n",
    "    RandomForestClassifier(),\n",
    "    AdaBoostClassifier(),\n",
    "    GradientBoostingClassifier(),\n",
    "    ComplementNB(), MultinomialNB(),\n",
    "    LogisticRegression()]\n",
    "\n",
    "# Logging for Visual Comparison\n",
    "log_cols=[\"Classifier\", \"Accuracy\", \"roc_auc_score\"]\n",
    "log = pd.DataFrame(columns=log_cols)\n",
    "\n",
    "for clf in classifiers:\n",
    "    clf.fit(X_train, Y_train)\n",
    "    name = clf.__class__.__name__\n",
    "    print(\"=\"*30)\n",
    "    print(name)\n",
    "    print('****Results****')\n",
    "    train_predictions = clf.predict(X_test)\n",
    "    acc = accuracy_score(Y_test, train_predictions)\n",
    "    print(\"Accuracy: {:.4%}\".format(acc))\n",
    "    train_predictions = clf.predict_proba(X_test)\n",
    "    ll = roc_auc_score(Y_test, train_predictions[:,1])\n",
    "    print(\"roc_auc_score: {}\".format(ll))\n",
    "    log_entry = pd.DataFrame([[name, acc*100, ll]], columns=log_cols)\n",
    "    log = log.append(log_entry)\n",
    "print(\"=\"*30)"
   ]
  },
  {
   "cell_type": "code",
   "execution_count": 25,
   "metadata": {},
   "outputs": [
    {
     "name": "stdout",
     "output_type": "stream",
     "text": [
      "(6119, 15456)\n"
     ]
    }
   ],
   "source": [
    "Tfidf_vectorizer = TfidfVectorizer(min_df =5,stop_words='english',max_df = 0.8)\n",
    "Tfidf_vectorizer = Tfidf_vectorizer.fit(text_train)\n",
    "X_train = Tfidf_vectorizer.transform(text_train)\n",
    "X_test = Tfidf_vectorizer.transform(text_test)\n",
    "print(np.shape(X_train))"
   ]
  },
  {
   "cell_type": "code",
   "execution_count": 26,
   "metadata": {},
   "outputs": [
    {
     "name": "stdout",
     "output_type": "stream",
     "text": [
      "==============================\n",
      "DecisionTreeClassifier\n",
      "****Results****\n",
      "Accuracy: 85.0980%\n",
      "roc_auc_score: 0.8306732009691324\n",
      "==============================\n",
      "RandomForestClassifier\n",
      "****Results****\n",
      "Accuracy: 87.0588%\n",
      "roc_auc_score: 0.9477370520122086\n",
      "==============================\n",
      "AdaBoostClassifier\n",
      "****Results****\n",
      "Accuracy: 89.2157%\n",
      "roc_auc_score: 0.9402129023630471\n",
      "==============================\n",
      "GradientBoostingClassifier\n",
      "****Results****\n",
      "Accuracy: 90.2614%\n",
      "roc_auc_score: 0.9521146675686731\n",
      "==============================\n",
      "ComplementNB\n",
      "****Results****\n",
      "Accuracy: 85.6209%\n",
      "roc_auc_score: 0.9181016173185236\n",
      "==============================\n",
      "MultinomialNB\n",
      "****Results****\n",
      "Accuracy: 83.5948%\n",
      "roc_auc_score: 0.9181016173185236\n",
      "==============================\n",
      "LogisticRegression\n",
      "****Results****\n",
      "Accuracy: 88.3660%\n",
      "roc_auc_score: 0.9543241244768886\n",
      "==============================\n"
     ]
    }
   ],
   "source": [
    "classifiers = [\n",
    "    DecisionTreeClassifier(),\n",
    "    RandomForestClassifier(),\n",
    "    AdaBoostClassifier(),\n",
    "    GradientBoostingClassifier(),\n",
    "    ComplementNB(), MultinomialNB(),\n",
    "    LogisticRegression()]\n",
    "\n",
    "# Logging for Visual Comparison\n",
    "log_cols=[\"Classifier\", \"Accuracy\", \"roc_auc_score\"]\n",
    "log = pd.DataFrame(columns=log_cols)\n",
    "\n",
    "for clf in classifiers:\n",
    "    clf.fit(X_train, Y_train)\n",
    "    name = clf.__class__.__name__\n",
    "    print(\"=\"*30)\n",
    "    print(name)\n",
    "    print('****Results****')\n",
    "    train_predictions = clf.predict(X_test)\n",
    "    acc = accuracy_score(Y_test, train_predictions)\n",
    "    print(\"Accuracy: {:.4%}\".format(acc))\n",
    "    train_predictions = clf.predict_proba(X_test)\n",
    "    ll = roc_auc_score(Y_test, train_predictions[:,1])\n",
    "    print(\"roc_auc_score: {}\".format(ll))\n",
    "    log_entry = pd.DataFrame([[name, acc*100, ll]], columns=log_cols)\n",
    "    log = log.append(log_entry)\n",
    "print(\"=\"*30)"
   ]
  },
  {
   "cell_type": "code",
   "execution_count": null,
   "metadata": {},
   "outputs": [],
   "source": [
    "import spacy\n",
    "import spacy\n",
    "nlp = spacy.load(\"en_core_web_sm\")\n",
    "lemmatized_text = []\n",
    "count = 0\n",
    "for doc in nlp.pipe(total_text, batch_size=120, n_process=20, disable=[\"parser\", \"ner\"]):\n",
    "    count+=1\n",
    "    print(count)\n",
    "    tmp_doc = [tok.lemma_ for tok in doc]\n",
    "    tmp_doc = ' '.join(tmp_doc)\n",
    "    lemmatized_text.append(tmp_doc)\n",
    "print(len(lemmatized_text))\n",
    "print(len(full_text))"
   ]
  },
  {
   "cell_type": "code",
   "execution_count": null,
   "metadata": {},
   "outputs": [],
   "source": []
  }
 ],
 "metadata": {
  "kernelspec": {
   "display_name": "Python 3",
   "language": "python",
   "name": "python3"
  },
  "language_info": {
   "codemirror_mode": {
    "name": "ipython",
    "version": 3
   },
   "file_extension": ".py",
   "mimetype": "text/x-python",
   "name": "python",
   "nbconvert_exporter": "python",
   "pygments_lexer": "ipython3",
   "version": "3.7.7"
  }
 },
 "nbformat": 4,
 "nbformat_minor": 4
}
