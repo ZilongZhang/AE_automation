{
 "cells": [
  {
   "cell_type": "code",
   "execution_count": 2,
   "metadata": {},
   "outputs": [],
   "source": [
    "import pickle\n",
    "text_train = pickle.load(open('/home/zilong.zhang1/AE_automation/preprocessing/result/ratio2/text_train.pkl','rb'))\n",
    "text_test = pickle.load(open('/home/zilong.zhang1/AE_automation/preprocessing/result/ratio2/text_test.pkl','rb'))"
   ]
  },
  {
   "cell_type": "code",
   "execution_count": 3,
   "metadata": {},
   "outputs": [],
   "source": [
    "import pickle\n",
    "nopoint_abb_list = pickle.load(open('../preprocessing/abb_list_rep.pkl','rb'))\n",
    "abb_list = pickle.load(open('../preprocessing/abb_list.pkl','rb'))"
   ]
  },
  {
   "cell_type": "code",
   "execution_count": 4,
   "metadata": {},
   "outputs": [
    {
     "data": {
      "text/plain": [
       "list"
      ]
     },
     "execution_count": 4,
     "metadata": {},
     "output_type": "execute_result"
    }
   ],
   "source": [
    "type(text_train[0])"
   ]
  },
  {
   "cell_type": "code",
   "execution_count": 5,
   "metadata": {},
   "outputs": [],
   "source": [
    "from tqdm import tqdm\n",
    "import re\n",
    "clean_text_train = []\n",
    "clean_text_test = []\n",
    "merge_to = 20"
   ]
  },
  {
   "cell_type": "code",
   "execution_count": 6,
   "metadata": {},
   "outputs": [
    {
     "name": "stderr",
     "output_type": "stream",
     "text": [
      "100%|██████████| 2887/2887 [00:07<00:00, 389.51it/s]\n"
     ]
    }
   ],
   "source": [
    "for text in tqdm(text_train):\n",
    "    tmp_doc = []\n",
    "    buffer = ''\n",
    "    cur_len = 0\n",
    "    for line in text:\n",
    "        line = re.sub(r'\\n',' ',line)\n",
    "        buffer = buffer + line+' ' \n",
    "        cur_len = cur_len + len(line.split())\n",
    "        if cur_len>=merge_to:            \n",
    "            if re.search(r'[a-zA-Z]\\.[a-zA-Z]',buffer):\n",
    "                for i in range(len(abb_list)):\n",
    "                    buffer = re.sub(abb_list[i],nopoint_abb_list[i],buffer)\n",
    "            tmp_doc.append(buffer)\n",
    "            buffer = ''\n",
    "            cur_len = 0\n",
    "    if cur_len>0:\n",
    "        tmp_doc.append(buffer)\n",
    "    clean_text_train.append(tmp_doc)"
   ]
  },
  {
   "cell_type": "code",
   "execution_count": 7,
   "metadata": {},
   "outputs": [
    {
     "data": {
      "text/plain": [
       "['Admission Date: Discharge Date: Date of Birth: Sex: F Service: MEDICINE Allergies: Penicillins Attending: Chief Complaint: Shortness of breath Major Surgical or Invasive Procedure: Bedside fiberoptic laryngoscopy History of Present Illness: 52 y/o F with h/o Asthma, tobacco abuse, HTN, Depression, Anxiety, Chronic pain, insomnia, diverticulitis s/p partial colectomy, and gerd was found unresponsive at home by her roommate early this morning. ',\n",
       " 'Every evening the patien takes Zyprexa, Ativan, and Percocet to help with her insomnia and after being found unresponsive was immediately brought to the ED where she was found to be moderately responsive but very groggy. ',\n",
       " 'Pt reports coughing alot over night. No change in regular meds, and no new meds. No fevers/no chills. Patient felt well last night and at KFC for dinner. ',\n",
       " \"She does note an increase in urination and feeling more thirsty yesterday, drinking water and soda. ED Course: Based on the patient's history she was given a dose of Narcan which improved her mental status somewhat. \",\n",
       " 'However, she still remained lethargic after this and was given another dose several hours later. She was also found to be diffusely wheezy on exam, and recieved continuous neb treatments as well as a dose of Solumedrol 125mg ',\n",
       " 'IV x Past Medical History: PMH: Asthma 2. HTN Depression/Anxiety Chronic pain s/p MVA (followed by Dr. at Pain Clinic) ',\n",
       " 'Hypercholesterolemia 6. GERD Calf cramps Diverticulitis s/p partial colon resection 9. s/p hysterectomy and BSO Insomnia . Psych: MMHC followed by Dr. Chronic pain: ',\n",
       " 'Pain Clinic followed by Dr. PCP: Social History: Social History: Lives at home with a roomate in an apartment locally. ',\n",
       " 'Smokes 1/2ppd x 23 years. Denies EtOH or other illicit drugs. Not currently employed chronic pain, but formerly worked in a textile factory. ',\n",
       " 'Has 4 children who live locally. Family History: Father with HTN, asthma (nonsmoker), and \"heart problems\", but is unable to clarify. ',\n",
       " 'Mother with DM2 and asthma (also nonsmoker). Breast CA in 2 male 1st cousins (brothers) ages 39 and Denies any women relatives with ovarian or breast cancer. ',\n",
       " 'Physical Exam: V/S 97.9, 117/92, 13, 96, 100% 4L Gen: Lethargic but easily arousable. NAD HEENT: PERRL, EOMI, sclerae anicteric, MM dry, OP clear without erythema Pulm: ',\n",
       " 'Diffuse expiratory wheezes on exam. No audible crackles. CV: Regular, nl s1/s2, soft II/VI systolic murmur, JVD not appreciated Abd: Soft, obese, NT, ND, + ',\n",
       " 'BS Ext: Warm, well perfused, no lower extremity edema. Neuro: Lethargic, but opens eyes to command. Answers questions with prompting. ',\n",
       " 'Oriented x3. Pertinent Results: 09:18AM GLUCOSE-331 * UREA N-42* CREAT-1.5* SODIUM-129* POTASSIUM-4.6 CHLORIDE-94* TOTAL CO2-22 ANION GAP-18 09:18AM ALT(SGPT)-22 AST(SGOT)-15 ',\n",
       " 'LD(LDH)-290 * ALK PHOS-85 TOT BILI-0.2 09:18AM OSMOLAL-290 09:18AM URINE HOURS-RANDOM UREA N-502 CREAT-54 SODIUM-20 09:18AM URINE OSMOLAL-326 09:18AM PLT COUNT-348 09:18AM ',\n",
       " 'PT-11.7 PTT-23.5 INR(PT)-1.0 . CT HEAD: FINDINGS: There is no acute intracranial hemorrhage, shift of normally midline structures, hydrocephalus, major or minor vascular territorial infarction. ',\n",
       " 'The density values of the brain parenchyma are maintained. The visualized soft tissues and osseous structures appear normal. The visualized paranasal sinuses and mastoid air cells appear well aerated. ',\n",
       " 'The appearance of the ventricles and sulci is unchanged since . IMPRESSION: No acute intracranial hemorrhage. . CXR: Portable AP chest radiograph was compared to . ',\n",
       " 'The cardiomediastinal silhouette was stable. The lungs are essentially clear except for minimal atelectasis at the right base. There is no pleural effusion or pneumothorax. . ',\n",
       " 'EKG - Sinus rhythm. Non-specific T wave change in lead III. Early transition. Compared to the previous tracing of the atrial premature beats are absent. ',\n",
       " 'T wave inversion in lead III is new. Brief Hospital Course: 52 y/o F with h/o Asthma, tobacco abuse, HTN, Depression, Anxiety, Chronic pain, insomnia, diverticulitis s/p partial colectomy, and gerd was found unresponsive at home by her roommate early , concern for toxic ingestion. . ',\n",
       " 'Altered Mental status: DDx includes metabolic causes: hyponatremia, toxic ingestion of prescription meds, infection, hypercarbia in the setting of asthma, or seizure or other neurologic event. ',\n",
       " 'However, the patient improved significantly on initial overnight admission, there was no infectious etiology identified, and hyponatremia resolved. The most likely explanation for AMS change is excessive sedation/accidental overdose of her home meds. ',\n",
       " 'Head CT was negative on admission. UTox + for amphetamines. Toxicology consult was called who reccomended Intial supportive care. While in the ICU, all the sedating medications were held including Benzos, Seroquel Etc. ',\n",
       " \"On transfer to the floor, patient extremely anxious about lack of psychiatric medications. Patient stated that she couldn't sleep without them. \",\n",
       " \"Given trazodone 75 mg PO one evening prior to discharge. Spoke with patient's psychiatrist prior to discharge who recommended discharing patient on low dose seroquel. \",\n",
       " 'Patient to follow up with psychiatrist this week. . Wheezing Pt has history of asthma in chart, but last PFTs showed mild restrictive lung disease. ',\n",
       " 'Increased concern for upper airway obstruction. Pt continues to feel short of breath despite O2 sats in high 90s. Asthma exacerbation most likely explanation of wheezing, although diffuse exp wheezes on exam that seem to resolve with sleep. ',\n",
       " 'Albuterol and ipratropium nebs were given in house. Continued Singulair. Also given solumedrol 20 IV TID while in the ICU. ',\n",
       " 'While in the MICU patient was given supplemental O2 to keep sats > 92%. Patient did not require any oxygen while on teh floor. ',\n",
       " 'ENT was consulted for furthur investigation. As per ENT note - no evidence of airway obstruction above vocal folds. No evidence of vocal fold dysfunction. ',\n",
       " 'Patient has normal voice and at this point no audible breathing noise (stridor/stertor). History of tracheomalacia seen on airway CT , she has been followed by pulmonology for this and asthma. ',\n",
       " \"Upper airway noise heard by team earlier today could be tracheomalacia. Hypotension Pt with labile BP's from 80/60-120/70, likely related to metabolic/toxic ingestion. \",\n",
       " \"BP's improved after initial presentation. In the ICU patient was placed on telemetry and IVFs were given as needed for hypotension. \",\n",
       " 'Once stable on the floor, telemetry was discontinued. . ARF Pt with baseline Cr of ~1, Cr of 1.9 on admission, which trended back down to 0. ',\n",
       " 'Electrolytes were monitored carefully throughout stay and repleted as needed. . Hyponatremia Pt appears volume down on initial exam, and clinically has been having increased urination at home. ',\n",
       " 'Hyponatremia likely from hypovolemic hyponatremia. Last Na 136 on . be related to toxic ingestion or to hyperglycemia. Na has increased to 137 on . . ',\n",
       " 'Anxiety/Depression held all sedating meds in the unit, discussed case with psychiatrist. . Chronic Pain -Tylenol PRN -Vicodin PRN - ',\n",
       " 'No narcotics for now given altered mental status . HTN -Well controlled without any anti-hypertensives at home. . Hyperlipidemia -Continue Lipitor . ',\n",
       " 'Prophylaxis - subQ heparin . Full code Medications on Admission: Fluticasone-Salmeterol 500/50 mcg Singulair 10 mg po daily Fluticasone 50 mcg daily ?? ',\n",
       " 'Ipratropium Bromide 17 mcg 2 puffs QID Clonazepam 1 mg PO BID Lovastatin 20 mg po daily Baclofen 20 mg po BID Trazodone ',\n",
       " '300 mg po QHS Sertraline 100 mg po daily Seroquel SR 300 mg po daily Loratadine 10 mg po daily ',\n",
       " 'Zyrtec 10 mg PO daily Oxycodone 15 mg PO Q6H PRN Vidocin 5/500 mg q12 PRN Omeprazole 20 mg po daily ',\n",
       " 'Orlistat 60 mg po daily Senna 8.6 mg po BID Chantix 1 mg PO daily Tylenol 325 mg PO bid Discharge Medications: ',\n",
       " 'Montelukast 10 mg Tablet Sig: One ( Tablet PO DAILY (Daily). Lovastatin 20 mg Tablet Sig: One ( Tablet PO once a day. ',\n",
       " 'HyodoneAetaminpen 5-500 mg Tablet Sig: One ( Tablet PO Q6H (every 6 hor) as ned for pain. Omepaole 20 mg Capsule, Delayed Release(EC) Sig: One ',\n",
       " '( Capsule, Delayed Release(EC) PODL (Daily). Actminpen 500 mg Tablet Sig: Two ( Tablet PO Q6H (every 6 hor). ',\n",
       " 'Disp:*240 Tablet(s) Refills:*2 Advair Diskus 500-50 mcg/Dose Disk with Device Sig: One (1) puff Inhalation twice a day. Ipratropium Bromide 17 mcg/Actuation Aerosol Sig: Two ',\n",
       " '(2) puffs Inhalation four times a day. Senna 8.6 mg Capsule Sig: One ( Capsule PO twice a day. Seroquel 100 mg Tablet Sig: One ',\n",
       " '( Tablet PO twice a day. Disp:*60 Tablet(s) Refills:*2 * Discharge Disposition: Home Discharge Diagnosis: Altered mental status Polypharmacy Traceomalacia 4) acute renal failure Hyponatremia Anxiety Depression ',\n",
       " 'Secondary - Hypertension - Hyperlipidemia - GERD Discharge Condition: afebrile, displaying normal vital signs, tolerating po Discharge Instructions: You were admitted to the hospital for sedation and confusion which was felt to be due to taking too many pain medications and sedating medications at the same time. ',\n",
       " 'You were treated with a medication called Narcan which helps reverse this effect. Many of your medications (psychiatric medications, sleep medications, and pain medications) were stopped while you were in the hospital. ',\n",
       " 'It is very important that you see your psychiatrist and your primary care doctor to come up with a safe medication regimen for you. ',\n",
       " 'Please follow your new medication list carefully. You were also evaluated by the ENT (ears, nose & throat) doctors were in the hospital and felt that your vocal cords were normal. . ',\n",
       " 'If you experience confusion, severe fatigue, lightheadedness, chest pain, shortness of breath, difficulty breathing, or if you feel worse in any way, seek immediate medical attention. ',\n",
       " 'Followup Instructions: Call Dr. office at upon discharge and schedule follow-up appointment in the next week . You have a follow-up appointment with Dr. - Tuesday pm. . ',\n",
       " 'You may follow-up with the ENT (ear, nose, throat) doctor weeks after discharge at Completed by: ']"
      ]
     },
     "execution_count": 7,
     "metadata": {},
     "output_type": "execute_result"
    }
   ],
   "source": [
    "clean_text_train[0]"
   ]
  },
  {
   "cell_type": "code",
   "execution_count": 8,
   "metadata": {},
   "outputs": [
    {
     "name": "stderr",
     "output_type": "stream",
     "text": [
      "100%|██████████| 722/722 [00:01<00:00, 378.31it/s]\n"
     ]
    }
   ],
   "source": [
    "for text in tqdm(text_test):\n",
    "    tmp_doc = []\n",
    "    buffer = ''\n",
    "    cur_len = 0\n",
    "    for line in text:\n",
    "        line = re.sub(r'\\n',' ',line)\n",
    "        buffer = buffer + line+' ' \n",
    "        cur_len = cur_len + len(line.split())\n",
    "        if cur_len>=merge_to:            \n",
    "            if re.search(r'[a-zA-Z]\\.[a-zA-Z]',buffer):\n",
    "                for i in range(len(abb_list)):\n",
    "                    buffer = re.sub(abb_list[i],nopoint_abb_list[i],buffer)\n",
    "            tmp_doc.append(buffer)\n",
    "            buffer = ''\n",
    "            cur_len = 0\n",
    "    if cur_len>0:\n",
    "        tmp_doc.append(buffer)\n",
    "    clean_text_test.append(tmp_doc)"
   ]
  },
  {
   "cell_type": "code",
   "execution_count": 9,
   "metadata": {},
   "outputs": [],
   "source": [
    "pickle.dump(clean_text_train,open('/home/zilong.zhang1/AE_automation/preprocessing/result/ratio2/merged_text_train.pkl','wb'))\n",
    "pickle.dump(clean_text_test,open('/home/zilong.zhang1/AE_automation/preprocessing/result/ratio2/merged_text_test.pkl','wb'))"
   ]
  },
  {
   "cell_type": "code",
   "execution_count": 42,
   "metadata": {},
   "outputs": [
    {
     "data": {
      "text/plain": [
       "'Admission Date: Discharge Date: Service: Cardiothoracic Surgery HISTORY OF PRESENT ILLNESS: Ms. is an 85-year-old female who has a history of hypertension, coronary artery disease, hypercholesterolemia, and is status post a myocardial infarction in . '"
      ]
     },
     "execution_count": 42,
     "metadata": {},
     "output_type": "execute_result"
    }
   ],
   "source": [
    "clean_text_test[0][0]"
   ]
  },
  {
   "cell_type": "code",
   "execution_count": 43,
   "metadata": {},
   "outputs": [],
   "source": [
    "len_stats = []\n",
    "for doc in clean_text_train:\n",
    "    for line in doc:\n",
    "        len_stats.append(len(line.split()))"
   ]
  },
  {
   "cell_type": "code",
   "execution_count": 31,
   "metadata": {},
   "outputs": [],
   "source": [
    "import numpy as np"
   ]
  },
  {
   "cell_type": "code",
   "execution_count": 37,
   "metadata": {},
   "outputs": [
    {
     "data": {
      "text/plain": [
       "26.773096606613212"
      ]
     },
     "execution_count": 37,
     "metadata": {},
     "output_type": "execute_result"
    }
   ],
   "source": [
    "np.mean(len_stats)"
   ]
  },
  {
   "cell_type": "code",
   "execution_count": 45,
   "metadata": {},
   "outputs": [
    {
     "data": {
      "text/plain": [
       "2213"
      ]
     },
     "execution_count": 45,
     "metadata": {},
     "output_type": "execute_result"
    }
   ],
   "source": [
    "np.sum(np.array(len_stats)<20)"
   ]
  },
  {
   "cell_type": "code",
   "execution_count": 47,
   "metadata": {},
   "outputs": [
    {
     "data": {
      "text/plain": [
       "168239"
      ]
     },
     "execution_count": 47,
     "metadata": {},
     "output_type": "execute_result"
    }
   ],
   "source": [
    "len(len_stats)"
   ]
  },
  {
   "cell_type": "code",
   "execution_count": 39,
   "metadata": {},
   "outputs": [
    {
     "data": {
      "text/plain": [
       "157"
      ]
     },
     "execution_count": 39,
     "metadata": {},
     "output_type": "execute_result"
    }
   ],
   "source": [
    "np.max(len_stats)"
   ]
  },
  {
   "cell_type": "code",
   "execution_count": 18,
   "metadata": {},
   "outputs": [
    {
     "data": {
      "text/plain": [
       "2887"
      ]
     },
     "execution_count": 18,
     "metadata": {},
     "output_type": "execute_result"
    }
   ],
   "source": [
    "len(clean_text_train)"
   ]
  },
  {
   "cell_type": "code",
   "execution_count": 25,
   "metadata": {},
   "outputs": [
    {
     "data": {
      "text/plain": [
       "['Admission Date: Discharge Date: Service: MEDICINE Allergies: Erythromycin Base / Metoprolol Tartrate / Keflex Attending: Chief Complaint: Shortness of breath Major Surgical or Invasive Procedure: none. ',\n",
       " 'History of Present Illness: 89 year old female with history CHF(EF 40%), MI( - medically managed), chronic hyponatremia who presents from nursing home with hypotension, hypoxia, and progressive cough x 2 weeks. ',\n",
       " 'No clear history of aspiration, but pt eats pureed food. No fever/chills, 88% on RA at nursing home, 89% on RA on arrival to ED, 99% on 3L NC. ',\n",
       " 'In ED afebrile, BP initially 99/60, dropped to 79/50, improved to 106/70 with 2L NS bolus. Patient CXR was consitent with pulmonary edema. ',\n",
       " 'She was given dose of levofloxacin, cefepime, and clinda for possible aspiration PNA. She uderwent CTA chest in the ED which showed multiple segmental and subsegmental pulmonary emboli in the bilateral lower lobes and patient was started on IV heparin and admitted to the ICU. ',\n",
       " 'Also in the ED patient was noted to be hyponatremic with Na of 122, her Na on previous admission has been ranged from 122- Cortisol was sent in the ED. . ',\n",
       " 'ROS: Denies any HA, chest pain, currently no SOB, denies any abdominal pain. Patient states she feels weak. Admits to recent weight loss. ',\n",
       " 'States her heels hurt her. Past Medical History: Hypertension S/P hysterectomy Iron deficiency anemia Basal cell carcinomas (largest on scalp; patient refuses to have treated per PCP) ',\n",
       " 'Recent MI medically managed CHF most recent echo with LVEF 40% Critical AS: Peak velocity 4.0 and valve area of 0.5 Rectal mass (no workup) ',\n",
       " 'Social History: Pt previously lived alone but most recently from rehab. Nephew is HCP. She does not smoke or drink alcohol. ',\n",
       " 'She previously . The patient does not have any family; her nephew does not see her often. She has no children. ',\n",
       " 'Family History: Noncontributory Physical Exam: Docusate Sodium 100 mg PO BID Aspirin 325 mg PO DAILY Lisinopril 5 mg PO DAILY Senna 8.6 mg ',\n",
       " 'PO BID Bisacodyl 5 mg PO DAILY prn Furosemide 40 mg PO DAILY Atenolol 25 mg PO DAILY Omeprazole 20mg daily MVI Zinc sulfate ',\n",
       " 'Vit C KCL 20meq daily Pertinent Results: 04:15PM WBC-10.9 # RBC-4.03 * HGB-11.4 * HCT-35.0* MCV-87 MCH-28.2 MCHC-32.5 RDW-14.3 04:15PM ',\n",
       " 'NEUTS-94.3 * BANDS-0 LYMPHS-3.3 * MONOS-1.9 * EOS-0.2 BASOS-0.3 04:15PM PLT SMR-NORMAL PLT COUNT-355 # 10:27PM CK-MB-3 cTropnT-0.03* 04:15PM GLUCOSE-134 ',\n",
       " '* UREA N-24* CREAT-0.9 SODIUM-122 * POTASSIUM-6.6 CHLORIDE-91* TOTAL CO2-27 ANION GAP-11 . CHEST CT: Multiple segmental and subsegmental pulmonary emboli in the lower lobes bilaterally. ',\n",
       " 'Diffuse small pulmonary nodules, most conspicuous in the lower lobes. Some are relatively ill defined, but others are well circumscribed. ',\n",
       " 'Differential considerations include neoplastic, infectious, and inflammatory etiologies. Followup with chest CT in months time after acute symptoms resolve would be standard. ',\n",
       " 'Index of suspicion for underlying malignancy should guide the decision on the time interval to rescan. More organized areas of consolidation, particularly in the right lower lobe could represent focal areas of infection, but peripheral consolidations in the left lower lobe could also represent infarction associated with pulmonary emboli. ',\n",
       " 'Small bilateral pleural effusions. Extensive vascular calcifications in the coronary arteries and mitral and aortic valves. Moderate hiatal hernia. Left kidney cysts, one of which appears hyperdense. ',\n",
       " 'These are incompletely imaged on this study. Furhter evaluation with ultrasound may be pursued if indicated. . ECG: Sinus rhythm ',\n",
       " 'Atrial premature complex Left anterior fascicular block Probable left ventricular hypertrophy Delayed R wave progression - may be left ventricular hypertrophy or possible prior anterior myocardial infarction ',\n",
       " 'ST-T wave abnormalities - could be left ventricular hypertrophy Clinical correlation is suggested Since previous tracing of , no significant change Brief Hospital Course: ',\n",
       " 'Hypoxia: The patient has multiple subsegmental PEs seen on CTA last night. However, as she improved so much in only 18 hours (did receive heparin drip), it is unlikely that PEs were causing symptoms. ',\n",
       " 'After discussion between ICU team and HCP, it was decided not to continue anticoagulation given risks (ie known rectal mass). ',\n",
       " 'Aspiration PNA was also likely contributing to her hypoxia as there was some evidence of consolidation on chest CT. She was initially on abx, then stopped, but restarted with levaquin upon review of this CT. ',\n",
       " 'Though CHF may have been a small part of her hypoxia, given that her hypoxia resolved without diuresis, this is less likely. . ',\n",
       " 'In addition, chest CT showed multiple pulmonary nodules which had a broad ddx. Although malignancy is possible, since pt does not want any further workup, this can be followed with serial imaging in months. . ',\n",
       " 'Hypotension: Patient noted to be hypotensive in nursing home and ED, she responded well to IVF. Hypotension likely from volume depletion as she responded well to IVF overnight. ',\n",
       " 'Other etiology of hypotension could be from PE but this is unlikely given patient does not appear to have large central PE on CT scan. ',\n",
       " 'Cortisol levels normal so unlikely to be adrenally insufficient. Her anti HTN will need to be slowly restarted. . Hyponatremia: Patient with chronic hyponatremia. ',\n",
       " 'On previous admission her Na was 122 and improved to 128 after diuresis, felt hyponatremia secondary to volume overload. On this admission, sodium improved with IVF so likely hypovolemic component. ',\n",
       " 'Stabilized around 127 to 128 which is her baseline. . Cardiac; Patient with recent STEMI in that was medically managed. ',\n",
       " 'Also patient with CHF and LVEF of 40%. Continued aspirin 325mg. Once hypotension resolved, restarted beta blocker at low dose atenolol 12.5 mg daily. ',\n",
       " 'As BP held stable, furosemide also restarted. She did not have any significant clinical volume overload though BNP was elevated. ',\n",
       " 'ACE- I held as was hyperkalemic but will need to be restarted in next several days if BP remains stable and hyperkalemia resovles. . ',\n",
       " 'Pressure Ulcers: Wound care for ulcer on RLE, waffle boots for heels sores. . FEN: Patient evaluated in past by speech and swallow, Pureed diet, pills whole with thin liquids. ',\n",
       " 'Fluid restrict given CHF. Hyperkalemic to 5.4--this will decrease as lasix is restarted. K should be checked every 1-2 days for next several days. . ',\n",
       " 'Code: DNI/DNR, has been confirmed by patient Medications on Admission: Docusate Sodium 100 mg PO BID Aspirin 325 mg PO DAILY ',\n",
       " 'Lisinopril 5 mg PO DAILY Senna 8.6 mg PO BID Bisacodyl 5 mg PO DAILY prn Furosemide 40 mg PO DAILY Atenolol 25 mg ',\n",
       " 'PO DAILY Omeprazole 20mg MVI Zinc sulfate Vit C KCL 20meq daily Discharge Medications: Docusate Sodium 50 mg/5 mL Liquid : ',\n",
       " 'One Hundred (100) mg PO BID (2 times a day). Senna 8.6 mg Tablet : One ( Tablet PO BID (2 times a day) as needed. ',\n",
       " 'Asr 325 mg Tablet : One ( Tablet PODL (Daily). Biscdyl 5 mg Tablet, Delayed Release (EC) : One ( Tablet, Delayed Release ',\n",
       " '(EC) PODL (Daily) as nedd. Atenolol 25 mg Tablet : 0.5 Tablet PODL (Daily). Lansorzole 30 mg Tablet,Rapid Dislve, ',\n",
       " 'DR : One ( Tablet,Rapid Dissolve, DR DAILY (Daily). Levofloxacin 500 mg Tablet : One ( Tablet PO Q24H (every 24 hours) for 3 days. ',\n",
       " 'Atorvastatin 10 mg Tablet : One ( Tablet PO DAILY (Daily). Furosemide 40 mg Tablet : One ( Tablet PO DAILY (Daily). ',\n",
       " 'Multi-Vitamin Tablet : One ( Tablet PO once a day. Zinc Sulfate Oral Discharge Disposition: Extended Care Facility: On - Discharge Diagnosis: ',\n",
       " 'PRIMARY: Chronic PEs Pneumonia 3) CHF SECONDARY: Aortic stenosis 2) CAD Chronic hyponatremia Discharge Condition: Good. Discharge Instructions: Take medications as prescribed. ',\n",
       " 'Follow up as below. Please call Dr. if you have fevers, chills, worsening breathing, or any other symptoms that concern you. ']"
      ]
     },
     "execution_count": 25,
     "metadata": {},
     "output_type": "execute_result"
    }
   ],
   "source": [
    "clean_text_test[500]"
   ]
  },
  {
   "cell_type": "code",
   "execution_count": 15,
   "metadata": {},
   "outputs": [
    {
     "data": {
      "text/plain": [
       "['Admission Date: Discharge Date: Date of Birth: Sex: M Service: PRESENT ILLNESS: The patient is a 48 year old male who presented , at which time the patient had a laparoscopic cholecystectomy, a laparoscopic intraoperative ultrasound, and attempted laparoscopic segment 5 resection converted to open segment 5 resection adjacent to the gallbladder. ',\n",
       " 'The operative note is dictated in detail by Dr. . At that point the patient was transferred to the intensive care unit and eventually transferred to the floor and discharged home. ',\n",
       " 'The patient re-presented to the emergency room on with lethargy and severe dehydration. His - drain which he was sent home with was putting out approximately 1800 cc per day. ',\n",
       " 'His admission creatinine was 4. His admission white blood cell count was 30. His AST was His ALT was His alkaline phosphatase was Bilirubin was 1. ',\n",
       " 'Blood cultures were sent upon admission and revealed 4 out of 4 positive vials of methicillin sensitive staph aureus. Fluids sent from the JP also revealed methicillin sensitivity staph aureus. ',\n",
       " 'PAST MEDICAL HISTORY: Morbid obesity, hypertension, NIDDM, sleep apnea. PAST SURGICAL HISTORY: Left knee surgery. MEDICATIONS: Admission medications of Metformin, Lisinopril, Hydrochlorothiazide, Nifedipine, Reglan and Glipizide. ',\n",
       " 'HOSPITAL COURSE: The patient was admitted to the transplant surgery service and hydrated. Over the course of the next 5 days his creatinine improved back to his baseline of 1. ',\n",
       " 'The - drain was removed on hospital day However, on hospital day 8 the patient had a bump in creatinine to 1.8 and a guaiac positive stool. ',\n",
       " 'An NG tube was placed which revealed a significant amount of blood. A significant drop in hematocrit was also seen. ',\n",
       " 'The patient was transferred to the intensive care unit and had an endoscopy performed. Three collapsed varices were banded by Dr. , gastrointestinal service. ',\n",
       " 'The patient became rapidly unstable, was intubated in the intensive care unit. His hemodynamics were completely off and they were requiring pressors. ',\n",
       " 'His LFTs significantly increased to an AST of 4567 and an ALT of 923, alkaline phosphatase of 653 and a bilirubin of 8. ',\n",
       " 'His INR at that time was also significantly elevated at 2. Mr. at that point was requiring a significant amount of support. ',\n",
       " 'He was paralyzed with a Swan Ganz catheter in place. He had maximum pressors with Levophed and Octreotide, as well as Vasopressin. ',\n",
       " 'He was on maximum ventilation support which was eventually switched to pressure control ventilation with continued maximal oxygenation. He was also started on CVH for significant acidosis and volume overload. ',\n",
       " \"He was placed on broad spectrum antibiotics, which included Vancomycin, Zosyn, Fluconazole and Flagyl. The patient's status continued to deteriorate despite the maximal support. \",\n",
       " 'On the patient had multiple coding episodes with V-tach, asystole, pulseless electrical activity in which ACLS protocol was initiated. This happened 4 times. ',\n",
       " 'After discussion with the family and the intensive care unit attending, as well as the surgical attending, it was decided the patient should be made DNR. ',\n",
       " 'The morning of at 7:20 am thetetepe. COTONO DISCHAG: Expe DISCHAG DIAGNOSS Statsp segmet5 lie rescn. ',\n",
       " 'Morbidot. Hypeso. Non-islin depedntdabets melliu. Slepape. Thetensfamily agrtpsom, which waspmd:  MD Dictatd']"
      ]
     },
     "execution_count": 15,
     "metadata": {},
     "output_type": "execute_result"
    }
   ],
   "source": [
    "from tqdm import tqdm\n",
    "import re\n",
    "clean_text_train = []\n",
    "clean_text_test = []\n",
    "merge_to = 20\n",
    "for text in tqdm(text_train):\n",
    "    tmp_doc = []\n",
    "    buffer = ''\n",
    "    cur_len = 0\n",
    "    for line in text:\n",
    "        buffer = buffer + line+' ' \n",
    "        cur_len = cur_len + len(line.split())\n",
    "        if cur_len>=merge_to:\n",
    "            buffer = re.sub(r'\\n',' ',buffer)\n",
    "            if re.search(r'[a-zA-Z]\\.[a-zA-Z]',buffer):\n",
    "                for i in range(len(abb_list)):\n",
    "                    buffer = re.sub(abb_list[i],nopoint_abb_list[i],buffer)\n",
    "            tmp_doc.append(buffer)\n",
    "            buffer = ''\n",
    "            cur_len = 0\n",
    "clean_text_train.append(tmp_doc)"
   ]
  },
  {
   "cell_type": "code",
   "execution_count": null,
   "metadata": {},
   "outputs": [],
   "source": [
    "des_filename = des_dir + 'clean_'+ str(start)\n",
    "    #des_file = open(des_filename, 'a')\n",
    "    start = int(start)\n",
    "    local_seg = note_text[start:min(len(note_text),start+num)]\n",
    "    local_clean_list = []\n",
    "    for text in tqdm(local_seg):\n",
    "        text = re.sub(r'\\s*\\[.*?\\]\\s*',' ',text)\n",
    "        if re.search(r'[a-zA-Z]\\.[a-zA-Z]',text):\n",
    "            for i in range(len(abb_list)):\n",
    "                text = re.sub(abb_list[i],nopoint_abb_list[i],text)\n",
    "        text = re.sub(r'\\n',' ',text)\n",
    "        text = re.sub(r' :',':',text)\n",
    "        #text = re.sub(r':\\w',': ',text)\n",
    "        text = re.sub(r'\\s+',' ',text)\n",
    "        local_clean_list.append(text)\n",
    "    with open(des_filename,'wb') as f:\n",
    "        pickle.dump(local_clean_list,f)"
   ]
  },
  {
   "cell_type": "code",
   "execution_count": 2,
   "metadata": {},
   "outputs": [],
   "source": [
    "import pickle\n",
    "merged_text_train = pickle.load(open('/home/zilong.zhang1/AE_automation/preprocessing/result/ratio2/merged_text_train.pkl','rb'))\n",
    "merged_text_test = pickle.load(open('/home/zilong.zhang1/AE_automation/preprocessing/result/ratio2/merged_text_test.pkl','rb'))"
   ]
  },
  {
   "cell_type": "code",
   "execution_count": 3,
   "metadata": {},
   "outputs": [],
   "source": [
    "text_train = pickle.load(open('/home/zilong.zhang1/AE_automation/preprocessing/result/ratio2/text_train.pkl','rb'))\n",
    "text_test = pickle.load(open('/home/zilong.zhang1/AE_automation/preprocessing/result/ratio2/merged_text_test.pkl','rb'))"
   ]
  },
  {
   "cell_type": "code",
   "execution_count": 4,
   "metadata": {},
   "outputs": [],
   "source": [
    "merged_len = []\n",
    "original_len = []\n",
    "for doc in merged_text_train:\n",
    "    merged_len.append(len(doc))\n",
    "for doc in merged_text_test:\n",
    "    merged_len.append(len(doc))\n",
    "\n",
    "for doc in text_train:\n",
    "    original_len.append(len(doc))\n",
    "for doc in text_test:\n",
    "    original_len.append(len(doc))"
   ]
  },
  {
   "cell_type": "code",
   "execution_count": 6,
   "metadata": {},
   "outputs": [
    {
     "name": "stdout",
     "output_type": "stream",
     "text": [
      "59.494042671100026\n",
      "170.65863119977834\n"
     ]
    }
   ],
   "source": [
    "import numpy as np\n",
    "print(np.mean(merged_len))\n",
    "print(np.mean(original_len))\n"
   ]
  },
  {
   "cell_type": "code",
   "execution_count": 9,
   "metadata": {
    "scrolled": true
   },
   "outputs": [
    {
     "data": {
      "image/png": "[encoded data removed]",
      "text/plain": [
       "<Figure size 432x288 with 1 Axes>"
      ]
     },
     "metadata": {
      "needs_background": "light"
     },
     "output_type": "display_data"
    }
   ],
   "source": [
    "from matplotlib import pyplot as plt\n",
    "data = [merged_len, original_len]\n",
    "plt.boxplot(data)\n",
    "plt.show()"
   ]
  },
  {
   "cell_type": "code",
   "execution_count": 10,
   "metadata": {},
   "outputs": [
    {
     "data": {
      "text/plain": [
       "262"
      ]
     },
     "execution_count": 10,
     "metadata": {},
     "output_type": "execute_result"
    }
   ],
   "source": [
    "np.max(merged_len)"
   ]
  },
  {
   "cell_type": "code",
   "execution_count": null,
   "metadata": {},
   "outputs": [],
   "source": []
  }
 ],
 "metadata": {
  "kernelspec": {
   "display_name": "Python 3",
   "language": "python",
   "name": "python3"
  },
  "language_info": {
   "codemirror_mode": {
    "name": "ipython",
    "version": 3
   },
   "file_extension": ".py",
   "mimetype": "text/x-python",
   "name": "python",
   "nbconvert_exporter": "python",
   "pygments_lexer": "ipython3",
   "version": "3.7.7"
  }
 },
 "nbformat": 4,
 "nbformat_minor": 2
}
