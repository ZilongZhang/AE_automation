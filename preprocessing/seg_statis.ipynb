{
 "cells": [
  {
   "cell_type": "code",
   "execution_count": 6,
   "metadata": {},
   "outputs": [],
   "source": [
    "import pandas as pd\n",
    "import matplotlib.pyplot as plt\n",
    "import numpy as np"
   ]
  },
  {
   "cell_type": "code",
   "execution_count": 7,
   "metadata": {},
   "outputs": [],
   "source": [
    "df = pd.read_csv('./result/pu_chart/day3_data.csv')"
   ]
  },
  {
   "cell_type": "code",
   "execution_count": 10,
   "metadata": {},
   "outputs": [],
   "source": [
    "from ast import literal_eval\n",
    "seg_text = list(df.seg_text)\n",
    "list_seg_text = []\n",
    "list_sent_len = []\n",
    "for ttt in seg_text:    \n",
    "    tmp_list = literal_eval(ttt)\n",
    "    list_seg_text.append(tmp_list)\n",
    "    for sent in tmp_list:\n",
    "        list_sent_len.append(len(sent.split(' ')))\n"
   ]
  },
  {
   "cell_type": "code",
   "execution_count": 11,
   "metadata": {},
   "outputs": [
    {
     "data": {
      "text/plain": [
       "{'whiskers': [<matplotlib.lines.Line2D at 0x7fb8187e6d90>,\n",
       "  <matplotlib.lines.Line2D at 0x7fb8187ee210>],\n",
       " 'caps': [<matplotlib.lines.Line2D at 0x7fb8187ee650>,\n",
       "  <matplotlib.lines.Line2D at 0x7fb8187eea90>],\n",
       " 'boxes': [<matplotlib.lines.Line2D at 0x7fb8187e6a50>],\n",
       " 'medians': [<matplotlib.lines.Line2D at 0x7fb8187eef10>],\n",
       " 'fliers': [<matplotlib.lines.Line2D at 0x7fb8187f5390>],\n",
       " 'means': []}"
      ]
     },
     "execution_count": 11,
     "metadata": {},
     "output_type": "execute_result"
    },
    {
     "data": {
      "image/png": "[encoded data removed]",
      "text/plain": [
       "<Figure size 432x288 with 1 Axes>"
      ]
     },
     "metadata": {
      "needs_background": "light"
     },
     "output_type": "display_data"
    }
   ],
   "source": [
    "plt.boxplot(list_sent_len)"
   ]
  },
  {
   "cell_type": "code",
   "execution_count": 14,
   "metadata": {},
   "outputs": [
    {
     "data": {
      "text/plain": [
       "78.0"
      ]
     },
     "execution_count": 14,
     "metadata": {},
     "output_type": "execute_result"
    }
   ],
   "source": [
    "np.quantile(list_sent_len,0.95)*2"
   ]
  },
  {
   "cell_type": "code",
   "execution_count": null,
   "metadata": {},
   "outputs": [],
   "source": []
  }
 ],
 "metadata": {
  "kernelspec": {
   "display_name": "Python 3",
   "language": "python",
   "name": "python3"
  },
  "language_info": {
   "codemirror_mode": {
    "name": "ipython",
    "version": 3
   },
   "file_extension": ".py",
   "mimetype": "text/x-python",
   "name": "python",
   "nbconvert_exporter": "python",
   "pygments_lexer": "ipython3",
   "version": "3.7.7"
  }
 },
 "nbformat": 4,
 "nbformat_minor": 4
}
