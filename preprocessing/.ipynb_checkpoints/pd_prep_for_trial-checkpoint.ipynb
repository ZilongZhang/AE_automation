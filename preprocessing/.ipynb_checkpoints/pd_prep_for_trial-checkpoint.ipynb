{
 "cells": [
  {
   "cell_type": "code",
   "execution_count": null,
   "metadata": {},
   "outputs": [],
   "source": [
    "import json\n",
    "import pickle\n",
    "import pandas as pd"
   ]
  },
  {
   "cell_type": "code",
   "execution_count": null,
   "metadata": {},
   "outputs": [],
   "source": [
    "src_dir = '/home/zilong.zhang1/AE_automation/preprocessing/result/pu_chart/'\n",
    "text_train = pickle.load(open(src_dir+'text_train_se_merged.pkl','rb'))\n",
    "text_test = pickle.load(open(src_dir+'text_test_se_merged.pkl','rb'))\n",
    "label_test = pickle.load(open(src_dir+'Y_test.pkl','rb'))\n",
    "label_train = pickle.load(open(src_dir+'Y_train.pkl','rb'))   \n",
    "text_train_lemma = pickle.load(open(src_dir+'train_text_lemma.pkl','rb'))\n",
    "text_test_lemma = pickle.load(open(src_dir+'text_test_lemma.pkl','rb'))"
   ]
  },
  {
   "cell_type": "code",
   "execution_count": null,
   "metadata": {},
   "outputs": [],
   "source": [
    " 'RECORD_ID', 'text', 'pu_label_no1', 'split_no1','pu_label_have1', 'split_have1', 'lemma_text'"
   ]
  }
 ],
 "metadata": {
  "kernelspec": {
   "display_name": "Python 3",
   "language": "python",
   "name": "python3"
  },
  "language_info": {
   "codemirror_mode": {
    "name": "ipython",
    "version": 3
   },
   "file_extension": ".py",
   "mimetype": "text/x-python",
   "name": "python",
   "nbconvert_exporter": "python",
   "pygments_lexer": "ipython3",
   "version": "3.7.7"
  }
 },
 "nbformat": 4,
 "nbformat_minor": 4
}
