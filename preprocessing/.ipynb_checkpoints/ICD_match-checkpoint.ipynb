{
 "cells": [
  {
   "cell_type": "code",
   "execution_count": 9,
   "metadata": {},
   "outputs": [],
   "source": [
    "import pickle\n",
    "import json"
   ]
  },
  {
   "cell_type": "code",
   "execution_count": 23,
   "metadata": {},
   "outputs": [],
   "source": [
    "seg_text = json.load(open('./result/AE_adm_seg_dict','r'))\n",
    "adm_icd_dict = json.load(open('./result/adm_icdlist_dict.json','r'))"
   ]
  },
  {
   "cell_type": "code",
   "execution_count": 33,
   "metadata": {},
   "outputs": [],
   "source": [
    "AE_icds = ['0030','0031','00843','00845','00849','0085','03819','03810','0383','03840','0389','1121','1122','1125','04111','04119','04110','0413','04149','0416','0417','04186','0796','3203','4820','4821','48240','48282','48283','4829','481','46611','5131','53084','5110','51909','56721','5990','99762']\n",
    "AE_icds_set =set(AE_icds)"
   ]
  },
  {
   "cell_type": "code",
   "execution_count": null,
   "metadata": {},
   "outputs": [],
   "source": [
    "sent0 = 'He has had an abnormal barium swallow,was found to have adenocarcinoma at the gastroesophageal junction, which is biopsy-proven positive.'\n",
    "sent1 = 'Sepsis in the setting of C. difficile colitis and pseudomonal and Enterobacter bacteremia.'\n",
    "sent2 = 'He was intubated for airway protection and transferred to for MRI and further evaluation of his mental status.'\n",
    "sent3 = 'Seen at OSH today where she was noted to have a large cellulitis.'\n",
    "sent4 = 'The patient is a 47-year-old male who dates the beginning of his symptoms to around , at which time he drank some \"bad booze\" and ate some macadamia nuts.'\n",
    "sent5 = 'Central venous access was obtained and aggressive sugar control was administered with an insulin drip.'\n",
    "sent6 = 'He has used to use Imodium 2 pills per day for the past one month or so.'\n",
    "sent7 = 'He denies easy bruising or bleeding and specifically denies dark tarry stools, gum bleeding, hematuria.'\n"
   ]
  },
  {
   "cell_type": "code",
   "execution_count": 49,
   "metadata": {},
   "outputs": [
    {
     "name": "stdout",
     "output_type": "stream",
     "text": [
      "{'5990'}\n",
      "['Admission Date:', 'Discharge Date: Date of Birth:', 'Sex: M Service: CARDIOTHORACIC Allergies: Ciprofloxacin / Nifedipine', '/ Percocet Attending: Chief Complaint: Chest and abdominal pain Major Surgical or Invasive Procedure: Cardiac Catheterization History of Present Illness:', 'This is a 79 year old gentleman with a notable past medical history of hypertension and a repair of an infrarenal abdominal aortic aneurysm in who presents with acute onset diffuse abdominal pain that several hours prior to admission.', 'He has mild epigastric pain as well.', 'He has no fevers/diarrhea/constipation/shortness of breath.', 'His last bowel movement was yesterday and he is passing gas.', 'He has a mild cough.', 'Past Medical History:', 'Hypertension Atrial Fibrilation Infrarenal abdominal aortic aneurysm', \"s/p repair '\", \"Throat Cancer Partial Small Bowel Obstruction Hodgkin's disease COPD Social History:\", 'The patient is married and lives with his wife.', 'is a prior world war 2 veteran.', 'He has a prior smoking history of 1 pack/day for 55 years.', 'He occasionally drinks alcohol.', 'Family History:', 'Non-contributory.', 'Physical Exam:', 'On admission: Afebrile, BP 150s/60s, pulse 70s sinus, 20, sat 98% on room air Gen: anxious, no acute distress, slightly underweight', 'HEENT:', 'MMM,', 'EOMI Neck: no masses/lymphadenopathy', 'CV:', 'RRR,', 'no murmur Pulm: CTAB Abd: soft, mild epigastric tenderness, palpable mid-abdominal pulse,', 'old surgical scars Extr: no edema Neuro: grossly intact Pertinent Results: SEROLOGIEs: 05:20AM', 'BLOOD WBC-4.7 RBC-3.28', '# Hgb-8.5', '*# Hct-26.6*# MCV-81* MCH-26.0', '*# MCHC-32.0', 'RDW-16.0', '* Plt Ct-281 01:14PM', 'BLOOD Hct-23.1* 09:19PM', 'BLOOD Hct-26.5', '* 02:56AM', 'BLOOD WBC-6.0', 'RBC-3.66', 'Hgb-10.6', '* Hct-29.9* MCV-82 MCH-29.0# MCHC-35.6', '*# RDW-15.7', '* Plt Ct-264', '02:11PM', 'BLOOD Hct-32.4*', 'Plt Ct-256 08:23PM BLOOD Hct-31.7* 03:16AM', 'BLOOD WBC-6.1', 'RBC-4.32', 'Hgb-11.6*', 'Hct-35.0* MCV-81* MCH-26.9', 'MCHC-33.2', 'RDW-16.1', '* Plt Ct-252 05:20AM', 'BLOOD PT-14.8* PTT-28.7', 'INR(PT)-1.3* 01:14PM BLOOD PT-15.1* PTT-32.7', 'INR(PT)-1.4* 02:56AM BLOOD PT-14.8* PTT-30.4', 'INR(PT)-1.3* 05:20AM', 'BLOOD Glucose-100', 'UreaN-24* Creat-2.3*# Na-137 K-3.8 Cl-102 HCO3-25', 'AnGap-14 01:14PM', 'BLOOD', 'Glucose-97', 'UreaN-22* Creat-1.9* Na-135 K-3.4 Cl-104', 'HCO3-22 AnGap-12 02:56AM', 'BLOOD Glucose-131', 'UreaN-20 Creat-1.7* Na-134 K-3.8', 'Cl-103 HCO3-22', 'AnGap-13 03:16AM', 'BLOOD Glucose-83 UreaN-21* Creat-1.9* Na-134 K-4.1 Cl-102', 'HCO3-24 AnGap-12 05:20AM', 'BLOOD ALT-11 AST-16', 'LD(LDH)-189', 'AlkPhos-125', '* TotBili-0.4', '01:14PM BLOOD ALT-8 AST-14 LD(LDH)-164 AlkPhos-106', 'Amylase-63', 'TotBili-0.3 05:20AM', 'BLOOD Calcium-8.8 Phos-3.6 Mg-1.5* 01:14PM BLOOD Albumin-3.0* Calcium-7.7* Mg-1.9 02:11PM', 'BLOOD Calcium-8.3* Mg-2.2 03:16AM', 'BLOOD Calcium-8.5 Phos-2.8 Mg-2.2', 'RADIOLOGY:', 'CT TORSO :', 'Within the ascending aorta is a 9 cm saccular aneurysm with contained rupture into the middle mediastinum.', 'There is no evidence of aortic dissection.', 'Additionally, within the descending thoracic aorta is an 8 cm saccular aneurysm versus pseudoaneurysm with mural thrombus.', 'On this contrast-enhanced study it does not appear that there is acute hemorrhage into the wall of the aorta within the descending thoracic aneurysm.', 'The caliber of the aorta at the arch and inferior to the thoracic aneurysm is normal.', 'Again, the lung fields show diffuse emphysematous changes bilaterally.', 'There is minimal atelectasis within the left lower lung lobe.', 'The airways are patent to the segmental level bilaterally.', 'There is no pleural effusion or pneumothorax.', 'There is no pathologically enlarged axillary, hilar, or mediastinal lymphadenopathy.', 'There is moderate calcified atherosclerotic disease within the visualized thoracic aorta.', 'CT ANGIOGRAM OF THE ABDOMEN WITH CONTRAST:', 'The abdominal aorta is normal in caliber.', 'A graft is seen within the infrarenal portion of the aorta extending to the right and left iliac arteries.', 'There is heavy atherosclerotic calcification within the iliac arteries and their branches, however, contrast is seen within the femoral arteries distal to the bypass bilaterally.', 'Metallic clips are seen in the region of the aortic graft.', 'The liver contains a rounded 1 cm low density focus in the posterior aspect of the right lobe of the liver, which likely represents a simple renal cyst.', 'A calcified focus in the anterior aspect of the right lobe of the liver may represent a hepatoartery pseudo aneurysm versus a granuloma.', 'The gallbladder, pancreas, spleen, and right adrenal gland are unremarkable.', 'Again, the left kidney is not seen, however, the right kidney contains multiple exophytic and intraparenchymal cysts, the largest measuring 10 cm and is located in the upper pole.', 'The stomach and intra-abdominal loops of small and large bowel are unremarkable.', 'There is no evidence for bowel dilatation.', 'There is no pathologically enlarged mesenteric or retroperitoneal lymphadenopathy.', 'There is no free fluid within the abdomen.', 'There is no free air.', 'CT OF THE PELVIS WITH CONTRAST:', 'The rectum, sigmoid colon, and intrapelvic loops of small and large bowel are normal in appearance and caliber.', 'There is an enhancing mass in the anterior aspect of the bladder measuring 2.5 x 3.4 cm.', 'There is no pathologically enlarged inguinal or pelvic lymphadenopathy.', 'The visualized aortic branches are heavily calcified.', 'BONE WINDOWS:', 'There are no suspicious lytic or sclerotic osseous lesions.', 'Degenerative changes are seen within the thoracolumbar spine.', 'CT REFORMATS:', 'Coronal, sagittal, volume rendered images were essential in delineating the anatomy and pathology of this case.', 'Value grade V.', 'IMPRESSION:', 'Ascending saccular aortic aneurysm measuring 9 cm and demonstrating a contained acute hemorrhagic rupture into the middle mediastinum.', 'Additional descending thoracic aortic saccular aneurysm versus pseudo- aneurysm without evidence for acute intramural hematoma.', 'Moderate atherosclerotic calcifications throughout the aorta with infrarenal aortoiliac bypass graft, demonstrating patency to the femoral arteries bilaterally.', 'Very atrophic left kidney with multiple intraparenchymal and exophytic cysts of the right kidney.', 'Enhancing small anterior bladder mass which could represent a polyp or mass', 'CARDIOLOGY:', 'TTE:', 'The left atrium is moderately dilated.', 'The right atrium is moderately dilated.', 'A left-to-right shunt across the interatrial septum is seen at rest consistent with the presence of a small secundum type atrial septal defect.', 'There is mild symmetric', 'left ventricular hypertrophy.', 'The left ventricular cavity size is normal.', 'Overall left ventricular systolic function is normal (LVEF>55%).', 'Right ventricular chamber size and free wall motion are normal.', 'The aortic root is moderately dilated.', 'The aortic valve leaflets (3) are mildly thickened.', 'There is no aortic valve stenosis.', 'Mild (1+) aortic regurgitation is seen.', 'The mitral valve leaflets are mildly thickened.', 'Mild (1+) mitral regurgitation is seen.', 'The tricuspid valve leaflets are mildly thickened.', 'The estimated pulmonary artery systolic pressure is normal.', 'There is no pericardial effusion.', 'Catheterization:', 'Three vessel coronary artery disease.', 'Severe systolic ventricular dysfunction.', 'COMMENTS:', 'Selective coronary angiography showed a right dominant system with LMCA that had a 50-60% lesion.', 'The LAD had sequential 70% proximal and 50% lesions with post-stenotic dilatations and was severely calcified.', 'LCX had a high OM1 with 50% stenosis and a mid-vessel 70% lesion.', 'Left ventriculography was deferred.', 'Hemodynamic assessment was limited and showed normal aortic systemic Brief Hospital Course: This is a 79 year old gentleman who presented to the emergency department with abdominal pain and was found to have a contained rupture of ascending and descending components of a large saccular thoracic aortic aneurysm.', 'He was admitted to the cardiac surgery service in the intensive care unit shortly after his presentation where central venous access was placed and the patient was started on Nipride and Esmolol for blood pressure control.', 'He was transfused with 2 units of blood with an appropriate rise in hematocrit and was hemodynamically stable throughout his hospital course.', 'On hospital day 2 he underwent cardiac catheterization in preparation for surgery and was found to have significant multi-vessel disease.', 'After discussing the complicated surgery and possible prolonged hospital course, as well as high comorbid state given his coronary disease, the patient opted for no operative intervention and asked to be DNR/DNI with comfort measures only on .', 'He was then transferred to the intensive care unit with lopressor for blood pressure control.', 'He was discharged to home with resumption of his home medications in addition to the lopressor.', 'All questions were answered to his satisfaction upon discharge.', 'Medications on Admission:', 'Diltiazem Protonix Terazosin Lopressor Flovent Sertraline Discharge Medications:', 'Hydromorphone 2 mg Tablet Sig: 1-2 Tablets PO every 4-6 hours as needed.', 'Disp:*20 Tablet(s)', 'Refills:*0', '* Metoprolol Tartrate 25 mg Tablet Sig: Two', '( Tablet PO BID (2 times a day).', 'Disp:*120 Tablet(s)', 'Refills:*2', '* Diltiazem Protonix Terazosin Flovent Sertraline Discharge Disposition:', 'Home Discharge Diagnosis:', 'Primary: contained rupture of thoracic ascending and descending Aortic Aneurysm Secondary: Multi-vessel coronary artery disease,', 'hypertension Discharge Condition: Stable.', 'Tolerating POs.', 'Good pain control Discharge Instructions:', 'You may resume your preadmission medications in addition to the medications we have given you-- please note that we have increased the dosage of Lopressor, your blood pressure medication.', 'You should meet with your primary care physician to discuss continuation of your blood pressure medications.', 'You should return to the ER with any worsening pain/shortness of breath/light-headedness.', 'Followup Instructions: Follow-up with your primary care physician 1 week to discuss maintenance of your blood pressure medications.', 'Completed by:']\n",
      "CPU times: user 101 ms, sys: 0 ns, total: 101 ms\n",
      "Wall time: 101 ms\n"
     ]
    }
   ],
   "source": [
    "%%time\n",
    "sent = 'Sterile vaginal examination was significant for cervical motion tenderness as well as uterine tenderness but no adnexal masses were appreciated although this was limited by the patient discomfort.'\n",
    "for k,v in seg_text.items():\n",
    "    if sent in v:\n",
    "        print(AE_icds_set.intersection(set(adm_icd_dict[k[:-2]])))\n",
    "        print(v)"
   ]
  },
  {
   "cell_type": "code",
   "execution_count": 40,
   "metadata": {},
   "outputs": [
    {
     "data": {
      "text/plain": [
       "False"
      ]
     },
     "execution_count": 40,
     "metadata": {},
     "output_type": "execute_result"
    }
   ],
   "source": [
    "sent in v"
   ]
  },
  {
   "cell_type": "code",
   "execution_count": 27,
   "metadata": {},
   "outputs": [
    {
     "data": {
      "text/plain": [
       "['V444',\n",
       " '5121',\n",
       " '2763',\n",
       " 'V1582',\n",
       " '5122',\n",
       " '42731',\n",
       " 'V153',\n",
       " '5110',\n",
       " '9971',\n",
       " 'E8788',\n",
       " '1510',\n",
       " '496']"
      ]
     },
     "execution_count": 27,
     "metadata": {},
     "output_type": "execute_result"
    }
   ],
   "source": [
    "adm_icd_dict['156733']"
   ]
  },
  {
   "cell_type": "code",
   "execution_count": null,
   "metadata": {},
   "outputs": [],
   "source": []
  }
 ],
 "metadata": {
  "kernelspec": {
   "display_name": "Python 3",
   "language": "python",
   "name": "python3"
  },
  "language_info": {
   "codemirror_mode": {
    "name": "ipython",
    "version": 3
   },
   "file_extension": ".py",
   "mimetype": "text/x-python",
   "name": "python",
   "nbconvert_exporter": "python",
   "pygments_lexer": "ipython3",
   "version": "3.5.6"
  }
 },
 "nbformat": 4,
 "nbformat_minor": 4
}
