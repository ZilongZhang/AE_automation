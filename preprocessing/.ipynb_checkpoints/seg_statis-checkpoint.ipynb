{
 "cells": [
  {
   "cell_type": "code",
   "execution_count": 6,
   "metadata": {},
   "outputs": [],
   "source": [
    "import pandas as pd\n",
    "import matplotlib.pyplot as plt\n",
    "import numpy as np"
   ]
  },
  {
   "cell_type": "code",
   "execution_count": 7,
   "metadata": {},
   "outputs": [],
   "source": [
    "df = pd.read_csv('./result/pu_chart/day3_data.csv')"
   ]
  },
  {
   "cell_type": "code",
   "execution_count": 8,
   "metadata": {},
   "outputs": [],
   "source": [
    "from ast import literal_eval\n",
    "seg_text = list(df.seg_text)\n",
    "list_seg_text = []\n",
    "list_sent_len = []\n",
    "for ttt in seg_text:    \n",
    "    tmp_list = literal_eval(ttt)\n",
    "    list_seg_text.append(tmp_list)\n",
    "    for sent in tmp_list:\n",
    "        list_sent_len.append(len(sent.split(' ')))\n"
   ]
  },
  {
   "cell_type": "code",
   "execution_count": 9,
   "metadata": {},
   "outputs": [
    {
     "data": {
      "text/plain": [
       "{'whiskers': [<matplotlib.lines.Line2D at 0x7fb818a16350>,\n",
       "  <matplotlib.lines.Line2D at 0x7fb818a16790>],\n",
       " 'caps': [<matplotlib.lines.Line2D at 0x7fb818a16bd0>,\n",
       "  <matplotlib.lines.Line2D at 0x7fb818a26050>],\n",
       " 'boxes': [<matplotlib.lines.Line2D at 0x7fb818a09f50>],\n",
       " 'medians': [<matplotlib.lines.Line2D at 0x7fb818a264d0>],\n",
       " 'fliers': [<matplotlib.lines.Line2D at 0x7fb818a16210>],\n",
       " 'means': []}"
      ]
     },
     "execution_count": 9,
     "metadata": {},
     "output_type": "execute_result"
    },
    {
     "data": {
      "image/png": "[encoded data removed]",
      "text/plain": [
       "<Figure size 432x288 with 1 Axes>"
      ]
     },
     "metadata": {
      "needs_background": "light"
     },
     "output_type": "display_data"
    }
   ],
   "source": [
    "plt.boxplot(list_sent_len)"
   ]
  },
  {
   "cell_type": "code",
   "execution_count": null,
   "metadata": {},
   "outputs": [],
   "source": []
  }
 ],
 "metadata": {
  "kernelspec": {
   "display_name": "Python 3",
   "language": "python",
   "name": "python3"
  },
  "language_info": {
   "codemirror_mode": {
    "name": "ipython",
    "version": 3
   },
   "file_extension": ".py",
   "mimetype": "text/x-python",
   "name": "python",
   "nbconvert_exporter": "python",
   "pygments_lexer": "ipython3",
   "version": "3.7.7"
  }
 },
 "nbformat": 4,
 "nbformat_minor": 4
}
