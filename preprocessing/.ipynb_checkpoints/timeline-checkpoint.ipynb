{
 "cells": [
  {
   "cell_type": "code",
   "execution_count": 1,
   "metadata": {},
   "outputs": [],
   "source": [
    "import pandas as pd\n",
    "import numpy as np\n",
    "import json\n",
    "import datetime\n",
    "from prep_tools import columns_count\n",
    "from collections import defaultdict\n",
    "from tqdm import tqdm\n",
    "import random\n",
    "import sys\n",
    "sys.path.insert(1,'../tools')\n",
    "import utils\n",
    "import imp\n"
   ]
  },
  {
   "cell_type": "code",
   "execution_count": 2,
   "metadata": {},
   "outputs": [],
   "source": [
    "pu_nursing = pd.read_csv('pu_nursing.csv')"
   ]
  },
  {
   "cell_type": "code",
   "execution_count": 3,
   "metadata": {
    "scrolled": true
   },
   "outputs": [
    {
     "data": {
      "text/html": [
       "<div>\n",
       "<style scoped>\n",
       "    .dataframe tbody tr th:only-of-type {\n",
       "        vertical-align: middle;\n",
       "    }\n",
       "\n",
       "    .dataframe tbody tr th {\n",
       "        vertical-align: top;\n",
       "    }\n",
       "\n",
       "    .dataframe thead th {\n",
       "        text-align: right;\n",
       "    }\n",
       "</style>\n",
       "<table border=\"1\" class=\"dataframe\">\n",
       "  <thead>\n",
       "    <tr style=\"text-align: right;\">\n",
       "      <th></th>\n",
       "      <th>ROW_ID</th>\n",
       "      <th>SUBJECT_ID</th>\n",
       "      <th>HADM_ID</th>\n",
       "      <th>CHARTDATE</th>\n",
       "      <th>CHARTTIME</th>\n",
       "      <th>STORETIME</th>\n",
       "      <th>CATEGORY</th>\n",
       "      <th>DESCRIPTION</th>\n",
       "      <th>CGID</th>\n",
       "      <th>ISERROR</th>\n",
       "      <th>TEXT</th>\n",
       "    </tr>\n",
       "  </thead>\n",
       "  <tbody>\n",
       "    <tr>\n",
       "      <th>0</th>\n",
       "      <td>316235</td>\n",
       "      <td>18082</td>\n",
       "      <td>181163</td>\n",
       "      <td>2156-03-12</td>\n",
       "      <td>2156-03-12 14:23:00</td>\n",
       "      <td>2156-03-12 14:23:59</td>\n",
       "      <td>Nursing</td>\n",
       "      <td>Nursing Transfer Note</td>\n",
       "      <td>15065.0</td>\n",
       "      <td>NaN</td>\n",
       "      <td>[**Age over 90 52**]F with COPD on home O2, CA...</td>\n",
       "    </tr>\n",
       "    <tr>\n",
       "      <th>1</th>\n",
       "      <td>316236</td>\n",
       "      <td>18082</td>\n",
       "      <td>181163</td>\n",
       "      <td>2156-03-12</td>\n",
       "      <td>2156-03-12 14:28:00</td>\n",
       "      <td>2156-03-12 14:28:37</td>\n",
       "      <td>Nursing</td>\n",
       "      <td>Nursing Progress Note</td>\n",
       "      <td>15065.0</td>\n",
       "      <td>NaN</td>\n",
       "      <td>[**Age over 90 52**]F with COPD on home O2, CA...</td>\n",
       "    </tr>\n",
       "    <tr>\n",
       "      <th>2</th>\n",
       "      <td>316247</td>\n",
       "      <td>18082</td>\n",
       "      <td>181163</td>\n",
       "      <td>2156-03-12</td>\n",
       "      <td>2156-03-12 14:28:00</td>\n",
       "      <td>2156-03-12 17:08:25</td>\n",
       "      <td>Nursing</td>\n",
       "      <td>Nursing Progress Note</td>\n",
       "      <td>15065.0</td>\n",
       "      <td>NaN</td>\n",
       "      <td>[**Age over 90 52**]F with COPD on home O2, CA...</td>\n",
       "    </tr>\n",
       "    <tr>\n",
       "      <th>3</th>\n",
       "      <td>316480</td>\n",
       "      <td>31916</td>\n",
       "      <td>146431</td>\n",
       "      <td>2112-02-23</td>\n",
       "      <td>2112-02-23 03:51:00</td>\n",
       "      <td>2112-02-23 04:03:01</td>\n",
       "      <td>Nursing</td>\n",
       "      <td>Nursing Progress Note</td>\n",
       "      <td>14419.0</td>\n",
       "      <td>NaN</td>\n",
       "      <td>Respiratory failure, acute (not ARDS/[**Doctor...</td>\n",
       "    </tr>\n",
       "    <tr>\n",
       "      <th>4</th>\n",
       "      <td>317998</td>\n",
       "      <td>711</td>\n",
       "      <td>158767</td>\n",
       "      <td>2185-03-31</td>\n",
       "      <td>2185-03-31 04:53:00</td>\n",
       "      <td>2185-03-31 04:53:52</td>\n",
       "      <td>Nursing</td>\n",
       "      <td>Nursing Progress Note</td>\n",
       "      <td>21336.0</td>\n",
       "      <td>NaN</td>\n",
       "      <td>Pt is FULL CODE. Plan to have PICC placed in I...</td>\n",
       "    </tr>\n",
       "    <tr>\n",
       "      <th>...</th>\n",
       "      <td>...</td>\n",
       "      <td>...</td>\n",
       "      <td>...</td>\n",
       "      <td>...</td>\n",
       "      <td>...</td>\n",
       "      <td>...</td>\n",
       "      <td>...</td>\n",
       "      <td>...</td>\n",
       "      <td>...</td>\n",
       "      <td>...</td>\n",
       "      <td>...</td>\n",
       "    </tr>\n",
       "    <tr>\n",
       "      <th>154927</th>\n",
       "      <td>606981</td>\n",
       "      <td>58609</td>\n",
       "      <td>137406</td>\n",
       "      <td>2194-01-09</td>\n",
       "      <td>2194-01-09 01:24:00</td>\n",
       "      <td>2194-01-09 04:47:39</td>\n",
       "      <td>Nursing</td>\n",
       "      <td>Nursing Progress Note</td>\n",
       "      <td>20063.0</td>\n",
       "      <td>NaN</td>\n",
       "      <td>The patient is a 49-year-old female with PMH o...</td>\n",
       "    </tr>\n",
       "    <tr>\n",
       "      <th>154928</th>\n",
       "      <td>630451</td>\n",
       "      <td>60798</td>\n",
       "      <td>109037</td>\n",
       "      <td>2188-03-14</td>\n",
       "      <td>2188-03-14 17:51:00</td>\n",
       "      <td>2188-03-14 19:06:44</td>\n",
       "      <td>Nursing</td>\n",
       "      <td>Nursing Progress Note</td>\n",
       "      <td>14357.0</td>\n",
       "      <td>NaN</td>\n",
       "      <td>[**Age over 90 **]M h/o a-fib p/t OSH with fat...</td>\n",
       "    </tr>\n",
       "    <tr>\n",
       "      <th>154929</th>\n",
       "      <td>630453</td>\n",
       "      <td>60798</td>\n",
       "      <td>109037</td>\n",
       "      <td>2188-03-14</td>\n",
       "      <td>2188-03-14 19:00:00</td>\n",
       "      <td>2188-03-14 19:07:45</td>\n",
       "      <td>Nursing</td>\n",
       "      <td>Nursing Progress Note</td>\n",
       "      <td>17790.0</td>\n",
       "      <td>NaN</td>\n",
       "      <td>[**Age over 90 **]M h/o a-fib p/t OSH with fat...</td>\n",
       "    </tr>\n",
       "    <tr>\n",
       "      <th>154930</th>\n",
       "      <td>374497</td>\n",
       "      <td>5525</td>\n",
       "      <td>132331</td>\n",
       "      <td>2116-05-14</td>\n",
       "      <td>2116-05-14 05:51:00</td>\n",
       "      <td>2116-05-14 05:52:05</td>\n",
       "      <td>Nursing</td>\n",
       "      <td>Nursing Progress Note</td>\n",
       "      <td>20622.0</td>\n",
       "      <td>NaN</td>\n",
       "      <td>HPI:\\n   Mr. [**Known lastname 8980**] is a 66...</td>\n",
       "    </tr>\n",
       "    <tr>\n",
       "      <th>154931</th>\n",
       "      <td>409913</td>\n",
       "      <td>52263</td>\n",
       "      <td>179771</td>\n",
       "      <td>2108-08-07</td>\n",
       "      <td>2108-08-07 06:14:00</td>\n",
       "      <td>2108-08-07 06:26:52</td>\n",
       "      <td>Nursing</td>\n",
       "      <td>Nursing Progress Note</td>\n",
       "      <td>16934.0</td>\n",
       "      <td>NaN</td>\n",
       "      <td>C/C: delta MS, fever, hypotension\\n   Pt  is a...</td>\n",
       "    </tr>\n",
       "  </tbody>\n",
       "</table>\n",
       "<p>154932 rows × 11 columns</p>\n",
       "</div>"
      ],
      "text/plain": [
       "        ROW_ID  SUBJECT_ID  HADM_ID   CHARTDATE            CHARTTIME  \\\n",
       "0       316235       18082   181163  2156-03-12  2156-03-12 14:23:00   \n",
       "1       316236       18082   181163  2156-03-12  2156-03-12 14:28:00   \n",
       "2       316247       18082   181163  2156-03-12  2156-03-12 14:28:00   \n",
       "3       316480       31916   146431  2112-02-23  2112-02-23 03:51:00   \n",
       "4       317998         711   158767  2185-03-31  2185-03-31 04:53:00   \n",
       "...        ...         ...      ...         ...                  ...   \n",
       "154927  606981       58609   137406  2194-01-09  2194-01-09 01:24:00   \n",
       "154928  630451       60798   109037  2188-03-14  2188-03-14 17:51:00   \n",
       "154929  630453       60798   109037  2188-03-14  2188-03-14 19:00:00   \n",
       "154930  374497        5525   132331  2116-05-14  2116-05-14 05:51:00   \n",
       "154931  409913       52263   179771  2108-08-07  2108-08-07 06:14:00   \n",
       "\n",
       "                  STORETIME CATEGORY            DESCRIPTION     CGID  ISERROR  \\\n",
       "0       2156-03-12 14:23:59  Nursing  Nursing Transfer Note  15065.0      NaN   \n",
       "1       2156-03-12 14:28:37  Nursing  Nursing Progress Note  15065.0      NaN   \n",
       "2       2156-03-12 17:08:25  Nursing  Nursing Progress Note  15065.0      NaN   \n",
       "3       2112-02-23 04:03:01  Nursing  Nursing Progress Note  14419.0      NaN   \n",
       "4       2185-03-31 04:53:52  Nursing  Nursing Progress Note  21336.0      NaN   \n",
       "...                     ...      ...                    ...      ...      ...   \n",
       "154927  2194-01-09 04:47:39  Nursing  Nursing Progress Note  20063.0      NaN   \n",
       "154928  2188-03-14 19:06:44  Nursing  Nursing Progress Note  14357.0      NaN   \n",
       "154929  2188-03-14 19:07:45  Nursing  Nursing Progress Note  17790.0      NaN   \n",
       "154930  2116-05-14 05:52:05  Nursing  Nursing Progress Note  20622.0      NaN   \n",
       "154931  2108-08-07 06:26:52  Nursing  Nursing Progress Note  16934.0      NaN   \n",
       "\n",
       "                                                     TEXT  \n",
       "0       [**Age over 90 52**]F with COPD on home O2, CA...  \n",
       "1       [**Age over 90 52**]F with COPD on home O2, CA...  \n",
       "2       [**Age over 90 52**]F with COPD on home O2, CA...  \n",
       "3       Respiratory failure, acute (not ARDS/[**Doctor...  \n",
       "4       Pt is FULL CODE. Plan to have PICC placed in I...  \n",
       "...                                                   ...  \n",
       "154927  The patient is a 49-year-old female with PMH o...  \n",
       "154928  [**Age over 90 **]M h/o a-fib p/t OSH with fat...  \n",
       "154929  [**Age over 90 **]M h/o a-fib p/t OSH with fat...  \n",
       "154930  HPI:\\n   Mr. [**Known lastname 8980**] is a 66...  \n",
       "154931  C/C: delta MS, fever, hypotension\\n   Pt  is a...  \n",
       "\n",
       "[154932 rows x 11 columns]"
      ]
     },
     "execution_count": 3,
     "metadata": {},
     "output_type": "execute_result"
    }
   ],
   "source": [
    "pu_nursing"
   ]
  },
  {
   "cell_type": "code",
   "execution_count": 5,
   "metadata": {},
   "outputs": [
    {
     "name": "stderr",
     "output_type": "stream",
     "text": [
      "100%|██████████| 2537/2537 [00:12<00:00, 202.94it/s]\n"
     ]
    }
   ],
   "source": [
    "hid_list = pu_nursing.HADM_ID.unique()\n",
    "date_df = pd.DataFrame(columns = ['HADM_ID','dates'])\n",
    "date_df['HADM_ID'] = hid_list\n",
    "date_df = date_df.set_index('HADM_ID')\n",
    "for hid in tqdm(hid_list):\n",
    "    tmp_df = pu_nursing[pu_nursing.HADM_ID == hid]\n",
    "    target_row = date_df.loc[hid]\n",
    "    target_row.dates = []\n",
    "    for _,row in tmp_df.iterrows():\n",
    "        target_row.dates.append(row['CHARTTIME'])\n",
    "        "
   ]
  },
  {
   "cell_type": "code",
   "execution_count": 6,
   "metadata": {
    "scrolled": true
   },
   "outputs": [
    {
     "data": {
      "text/plain": [
       "['2156-03-12 14:23:00',\n",
       " '2156-03-12 14:28:00',\n",
       " '2156-03-12 14:28:00',\n",
       " '2156-03-12 02:51:00',\n",
       " '2156-03-12 14:23:00',\n",
       " '2156-02-27 06:05:00',\n",
       " '2156-02-29 05:16:00',\n",
       " '2156-03-04 04:14:00',\n",
       " '2156-03-02 18:03:00',\n",
       " '2156-03-03 06:51:00',\n",
       " '2156-02-26 04:00:00',\n",
       " '2156-02-28 03:45:00',\n",
       " '2156-02-28 03:45:00',\n",
       " '2156-03-02 16:37:00',\n",
       " '2156-03-02 16:37:00',\n",
       " '2156-03-02 16:37:00',\n",
       " '2156-03-02 16:35:00',\n",
       " '2156-03-02 16:35:00',\n",
       " '2156-03-02 16:35:00',\n",
       " '2156-02-26 17:32:00',\n",
       " '2156-03-01 19:14:00',\n",
       " '2156-03-01 19:14:00',\n",
       " '2156-03-01 18:53:00',\n",
       " '2156-03-01 19:14:00',\n",
       " '2156-03-02 16:35:00',\n",
       " '2156-03-03 06:51:00',\n",
       " '2156-03-05 15:03:00',\n",
       " '2156-02-27 17:09:00',\n",
       " '2156-03-01 03:25:00',\n",
       " '2156-03-01 18:53:00',\n",
       " '2156-03-02 16:37:00',\n",
       " '2156-03-06 05:51:00',\n",
       " '2156-03-03 17:45:00',\n",
       " '2156-03-04 16:30:00',\n",
       " '2156-03-03 17:45:00',\n",
       " '2156-03-04 16:30:00',\n",
       " '2156-02-24 19:05:00',\n",
       " '2156-03-02 05:15:00',\n",
       " '2156-03-02 05:15:00',\n",
       " '2156-03-03 17:45:00',\n",
       " '2156-03-04 15:11:00',\n",
       " '2156-02-26 04:00:00',\n",
       " '2156-03-05 21:56:00',\n",
       " '2156-02-28 17:41:00',\n",
       " '2156-02-28 17:41:00',\n",
       " '2156-03-06 18:13:00',\n",
       " '2156-03-06 18:15:00',\n",
       " '2156-03-06 18:15:00',\n",
       " '2156-02-25 17:41:00',\n",
       " '2156-02-29 16:26:00',\n",
       " '2156-02-25 16:33:00',\n",
       " '2156-02-25 16:33:00',\n",
       " '2156-02-28 03:45:00',\n",
       " '2156-02-25 05:30:00',\n",
       " '2156-02-25 05:30:00',\n",
       " '2156-02-28 17:41:00',\n",
       " '2156-03-05 01:42:00']"
      ]
     },
     "execution_count": 6,
     "metadata": {},
     "output_type": "execute_result"
    }
   ],
   "source": [
    "date_df.iloc[0].dates"
   ]
  },
  {
   "cell_type": "code",
   "execution_count": 21,
   "metadata": {},
   "outputs": [
    {
     "ename": "NameError",
     "evalue": "name 'DateFormatter' is not defined",
     "output_type": "error",
     "traceback": [
      "\u001b[0;31m---------------------------------------------------------------------------\u001b[0m",
      "\u001b[0;31mNameError\u001b[0m                                 Traceback (most recent call last)",
      "\u001b[0;32m<ipython-input-21-a36e31e859d7>\u001b[0m in \u001b[0;36m<module>\u001b[0;34m\u001b[0m\n\u001b[1;32m      6\u001b[0m     ax.scatter(X, [1]*len(X), c='g',\n\u001b[1;32m      7\u001b[0m                marker='|', s=100)\n\u001b[0;32m----> 8\u001b[0;31m     \u001b[0max\u001b[0m\u001b[0;34m.\u001b[0m\u001b[0mfmt_xdata\u001b[0m \u001b[0;34m=\u001b[0m \u001b[0mDateFormatter\u001b[0m\u001b[0;34m(\u001b[0m\u001b[0;34m'% Y-% m-% d'\u001b[0m\u001b[0;34m)\u001b[0m\u001b[0;34m\u001b[0m\u001b[0;34m\u001b[0m\u001b[0m\n\u001b[0m\u001b[1;32m      9\u001b[0m     \u001b[0mfig\u001b[0m\u001b[0;34m.\u001b[0m\u001b[0mautofmt_xdate\u001b[0m\u001b[0;34m(\u001b[0m\u001b[0;34m)\u001b[0m\u001b[0;34m\u001b[0m\u001b[0;34m\u001b[0m\u001b[0m\n\u001b[1;32m     10\u001b[0m     \u001b[0mfig\u001b[0m\u001b[0;34m.\u001b[0m\u001b[0mautofmt_xdate\u001b[0m\u001b[0;34m(\u001b[0m\u001b[0;34m)\u001b[0m\u001b[0;34m\u001b[0m\u001b[0;34m\u001b[0m\u001b[0m\n",
      "\u001b[0;31mNameError\u001b[0m: name 'DateFormatter' is not defined"
     ]
    },
    {
     "data": {
      "image/png": "[encoded data removed]",
      "text/plain": [
       "<Figure size 864x288 with 1 Axes>"
      ]
     },
     "metadata": {
      "needs_background": "light"
     },
     "output_type": "display_data"
    }
   ],
   "source": [
    "import matplotlib.pyplot as plt\n",
    "from matplotlib.dates import DayLocator, HourLocator, DateFormatter, drange \n",
    "\n",
    "for i in range(100):\n",
    "    cur_id = hid_list[i]\n",
    "    fig, ax = plt.subplots(figsize=(12,4))\n",
    "    X = pd.to_datetime(date_df.loc[cur_id].dates)\n",
    "    ax.scatter(X, [1]*len(X), c='g',\n",
    "               marker='|', s=100)\n",
    "    ax.fmt_xdata = DateFormatter('% Y-% m-% d') \n",
    "    fig.autofmt_xdate() \n",
    "    fig.autofmt_xdate()\n",
    "    ax.yaxis.set_visible(False)\n",
    "    ax.spines['right'].set_visible(False)\n",
    "    ax.spines['left'].set_visible(False)\n",
    "    ax.spines['top'].set_visible(False)\n",
    "    ax.xaxis.set_ticks_position('bottom')\n",
    "    day = datetime.timedelta(days = 1)\n",
    "    plt.savefig('./result/pu_chart/timelines/'+ str(cur_id) + '.png') \n",
    "    plt.close()\n",
    "    #plt.show()\n"
   ]
  },
  {
   "cell_type": "code",
   "execution_count": 17,
   "metadata": {},
   "outputs": [
    {
     "data": {
      "text/plain": [
       "DatetimeIndex(['2198-10-02 16:20:00', '2198-10-05 05:31:00',\n",
       "               '2198-10-03 16:40:00', '2198-10-02 16:20:00',\n",
       "               '2198-10-02 16:20:00', '2198-10-02 16:20:00',\n",
       "               '2198-10-02 16:20:00', '2198-10-04 04:18:00',\n",
       "               '2198-10-04 04:18:00', '2198-10-04 19:56:00',\n",
       "               '2198-10-03 05:39:00', '2198-10-03 16:40:00',\n",
       "               '2198-10-02 05:42:00', '2198-10-05 15:49:00',\n",
       "               '2198-10-06 11:33:00', '2198-10-06 11:33:00',\n",
       "               '2198-10-06 11:33:00', '2198-10-06 01:19:00',\n",
       "               '2198-10-05 15:49:00'],\n",
       "              dtype='datetime64[ns]', freq=None)"
      ]
     },
     "execution_count": 17,
     "metadata": {},
     "output_type": "execute_result"
    }
   ],
   "source": [
    "X"
   ]
  },
  {
   "cell_type": "code",
   "execution_count": 18,
   "metadata": {},
   "outputs": [],
   "source": [
    "plt.show()"
   ]
  },
  {
   "cell_type": "code",
   "execution_count": 20,
   "metadata": {},
   "outputs": [
    {
     "data": {
      "image/png": "[encoded data removed]",
      "text/plain": [
       "<Figure size 1296x432 with 1 Axes>"
      ]
     },
     "metadata": {
      "needs_background": "light"
     },
     "output_type": "display_data"
    }
   ],
   "source": [
    "cur_id = hid_list[i]\n",
    "fig, ax = plt.subplots(figsize=(18,6))\n",
    "X = pd.to_datetime(date_df.loc[cur_id].dates)\n",
    "ax.scatter(X, [1]*len(X), c='g',\n",
    "           marker='|', s=100)\n",
    "fig.autofmt_xdate()\n",
    "ax.yaxis.set_visible(False)\n",
    "ax.spines['right'].set_visible(False)\n",
    "ax.spines['left'].set_visible(False)\n",
    "ax.spines['top'].set_visible(False)\n",
    "ax.xaxis.set_ticks_position('bottom')\n",
    "day = datetime.timedelta(days = 1)\n",
    "plt.show()"
   ]
  },
  {
   "cell_type": "code",
   "execution_count": null,
   "metadata": {},
   "outputs": [],
   "source": []
  }
 ],
 "metadata": {
  "kernelspec": {
   "display_name": "Python 3",
   "language": "python",
   "name": "python3"
  },
  "language_info": {
   "codemirror_mode": {
    "name": "ipython",
    "version": 3
   },
   "file_extension": ".py",
   "mimetype": "text/x-python",
   "name": "python",
   "nbconvert_exporter": "python",
   "pygments_lexer": "ipython3",
   "version": "3.7.7"
  }
 },
 "nbformat": 4,
 "nbformat_minor": 4
}
