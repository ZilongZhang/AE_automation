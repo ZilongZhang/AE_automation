{
 "cells": [
  {
   "cell_type": "code",
   "execution_count": 1,
   "metadata": {},
   "outputs": [],
   "source": [
    "import pandas as pd\n",
    "import os\n",
    "from collections import defaultdict\n",
    "import imp\n",
    "import sys\n",
    "import re\n",
    "import time\n",
    "import json\n",
    "import pickle\n",
    "from tqdm import tqdm\n",
    "import numpy as np\n",
    "import utils\n",
    "from multiprocessing import Pool\n",
    "import pdb\n",
    "from sklearn.model_selection import train_test_split"
   ]
  },
  {
   "cell_type": "code",
   "execution_count": 2,
   "metadata": {},
   "outputs": [
    {
     "name": "stdout",
     "output_type": "stream",
     "text": [
      "No section: 'ohdsi'\n",
      "Initializing models for term finder...\n",
      "section_tagger_init...\n",
      "Context init...\n",
      "Context init...\n",
      "Segmentation init...\n",
      "Done initializing models for term finder...\n",
      "Initializing models for value extractor...\n",
      "Done initializing models for value extractor...\n",
      "Initializing models for measurement finder...\n",
      "Done initializing models for measurement finder..\n"
     ]
    }
   ],
   "source": [
    "sys.path.append('/home/zilong.zhang1/AE_automation/ClarityNLP/nlp')\n",
    "sys.path.append('/home/zilong.zhang1/AE_automation/ClarityNLP/')\n",
    "import Sentence_tokenizer_from_Clarity as cla_token\n",
    "\n",
    "# Create a dictionary that map HADM_IDs to ICD codes\n",
    "icd_lines =  open('../data/DIAGNOSES_ICD.csv').readlines()\n",
    "adm_icd_dict = defaultdict(lambda:set())\n",
    "for i in range(len(icd_lines)):\n",
    "    split_line = icd_lines[i].split(',')\n",
    "    adm = split_line[2]\n",
    "    adm_icd_dict[adm].add(split_line[-1].strip()[1:-1])\n",
    "#json.dump(adm_icd_dict,open('./result/adm_icd_dict.json','w')) # Write this dictionary to file so we don't need to do it agian\n"
   ]
  },
  {
   "cell_type": "code",
   "execution_count": 3,
   "metadata": {},
   "outputs": [],
   "source": [
    "adm_icdlist_dict = {}\n",
    "for k,v in adm_icd_dict.items():\n",
    "    adm_icdlist_dict[k] = list(v)\n",
    "json.dump(adm_icdlist_dict,open('./result/adm_icdlist_dict.json','w'))"
   ]
  },
  {
   "cell_type": "code",
   "execution_count": 4,
   "metadata": {},
   "outputs": [
    {
     "name": "stderr",
     "output_type": "stream",
     "text": [
      "/home/zilong.zhang1/miniconda3/envs/py35/lib/python3.5/site-packages/IPython/core/interactiveshell.py:3058: DtypeWarning: Columns (4,5) have mixed types. Specify dtype option on import or set low_memory=False.\n",
      "  interactivity=interactivity, compiler=compiler, result=result)\n"
     ]
    }
   ],
   "source": [
    "\n",
    "# Find all HADM_IDs that have only one discharge summary described as a report.\n",
    "# And create a dictionary that map those HADM_IDs to their DSs\n",
    "note_df = pd.read_csv('../data/NOTEEVENTS.csv')\n",
    "adm_count_dict = {}\n",
    "ds_note = note_df.loc[note_df['CATEGORY'] == 'Discharge summary']\n",
    "valid_ds_note = ds_note.loc[ds_note['DESCRIPTION'] == 'Report']\n",
    "add_ds_note = ds_note.loc[ds_note['DESCRIPTION'] != 'Report']\n",
    "raw_hadm_list =  list(valid_ds_note['HADM_ID'])\n",
    "for hadm in raw_hadm_list: # Count how many valid DSs one HADM_ID has\n",
    "    key = hadm\n",
    "    value = raw_hadm_list.count(hadm)\n",
    "    adm_count_dict[key] = value\n",
    "    \n",
    "valid_hadm_id = [] # The list of \n",
    "for key,value in adm_count_dict.items():\n",
    "    if value == 1:\n",
    "        valid_hadm_id.append(key)\n",
    "pickle.dump(valid_hadm_id,open('./result/valid_hadm_id_list','wb')) #Save to disc\n"
   ]
  },
  {
   "cell_type": "code",
   "execution_count": 5,
   "metadata": {},
   "outputs": [],
   "source": [
    "adm_text_dict = {}\n",
    "for index,item in valid_ds_note.iterrows():\n",
    "    if item['HADM_ID'] in valid_hadm_id:\n",
    "        if item['HADM_ID'] in adm_text_dict:\n",
    "            pdb.set_trace()\n",
    "        adm_text_dict[item['HADM_ID']] = item['TEXT']\n",
    "        \n",
    "for index,item in add_ds_note.iterrows(): # merge addendum and report\n",
    "    if item['HADM_ID'] in valid_hadm_id:\n",
    "        adm_text_dict[item['HADM_ID']] = adm_text_dict[item['HADM_ID']] + str(item['TEXT'])\n",
    "\n",
    "json.dump(adm_text_dict,open('./result/adm_text_dict.json','w'))\n",
    "\n"
   ]
  },
  {
   "cell_type": "code",
   "execution_count": 6,
   "metadata": {},
   "outputs": [
    {
     "name": "stdout",
     "output_type": "stream",
     "text": [
      "50563\n"
     ]
    }
   ],
   "source": [
    "valid_num = len(valid_hadm_id)\n",
    "#from tqdm import tqdm\n",
    "print(valid_num)\n",
    "def _cla_seg(start):\n",
    "    begin_time = time.time()\n",
    "    tmp_adm_seg_dict = {}\n",
    "    #list_of_list_sent = []\n",
    "    for i in range(start, min(valid_num,start + num)):\n",
    "        text = adm_text_dict[valid_hadm_id[i]]\n",
    "        text = re.sub(r'\\s*\\[.*?\\]\\s*',' ',text)\n",
    "        list_sent = cla_token.parse_sentences_spacy(text)\n",
    "        tmp_adm_seg_dict[valid_hadm_id[i]] = list_sent\n",
    "        #list_of_list_sent.append(list_sent)\n",
    "    print(start)\n",
    "    print(time.time() - begin_time)\n",
    "    return tmp_adm_seg_dict\n"
   ]
  },
  {
   "cell_type": "code",
   "execution_count": 7,
   "metadata": {},
   "outputs": [
    {
     "data": {
      "text/plain": [
       "11511"
      ]
     },
     "execution_count": 7,
     "metadata": {},
     "output_type": "execute_result"
    }
   ],
   "source": [
    "1395 + 10116"
   ]
  },
  {
   "cell_type": "code",
   "execution_count": 10,
   "metadata": {},
   "outputs": [
    {
     "data": {
      "text/plain": [
       "'2.4.139'"
      ]
     },
     "execution_count": 10,
     "metadata": {},
     "output_type": "execute_result"
    }
   ],
   "source": [
    "import regex as re\n",
    "re.__version__"
   ]
  },
  {
   "cell_type": "code",
   "execution_count": 11,
   "metadata": {},
   "outputs": [
    {
     "data": {
      "text/plain": [
       "<module 'regex' from '/home/zilong.zhang1/miniconda3/envs/py35/lib/python3.5/site-packages/regex.py'>"
      ]
     },
     "execution_count": 11,
     "metadata": {},
     "output_type": "execute_result"
    }
   ],
   "source": [
    "re"
   ]
  },
  {
   "cell_type": "code",
   "execution_count": 12,
   "metadata": {},
   "outputs": [
    {
     "name": "stdout",
     "output_type": "stream",
     "text": [
      "Segmentation init...\n"
     ]
    }
   ],
   "source": [
    "i = 11511\n",
    "text = adm_text_dict[valid_hadm_id[i]]\n",
    "text = re.sub(r'\\s*\\[.*?\\]\\s*',' ',text)\n",
    "list_sent = cla_token.parse_sentences_spacy(text)"
   ]
  },
  {
   "cell_type": "code",
   "execution_count": 13,
   "metadata": {},
   "outputs": [
    {
     "data": {
      "text/plain": [
       "['Admission Date:',\n",
       " 'Discharge Date: Date of Birth:',\n",
       " 'Sex: F Service:',\n",
       " 'MEDICINE Allergies:',\n",
       " 'Amoxicillin / lisinopril',\n",
       " 'Attending:',\n",
       " 'Chief Complaint: Shortness of breath Major Surgical or Invasive Procedure:',\n",
       " 'Central venous line placement and removal History of Present Illness:',\n",
       " 'Pt is a 62 yo F with emphysema and DMII who presents with fevers and shortness of breath.',\n",
       " 'Pt reports runny nose for the past week, in addition to cough non-productive of sputum.',\n",
       " 'Two days before admission, she experienced chills and rigors.',\n",
       " 'She also report today a fever up to 105.1 at home, some muscle aches in her arms.',\n",
       " 'Denies CP but admits to some SOB and DOE.',\n",
       " 'Took some Tylenol efor the fever and took some vicodin for a headache on Saturday (which is currently not present).',\n",
       " 'Experienced some nausea on the way to the ED.',\n",
       " 'Denies neck stiffness or photophobia.',\n",
       " 'Her symptoms worsened to a point where her daughters urged her to come for evaluation today.',\n",
       " \"Reports some 'black' diarrhea in the ED, non-bloody.\",\n",
       " 'No recent antibiotic use.',\n",
       " 'She denies abdominal pain, new rashes, or dysuria. .',\n",
       " 'In the emergency department, VS were: 100.1 119 74/27 16 94%.',\n",
       " 'Pt received Tylenol 1 gram PO x1, Vancomycin, Levofloxacin, and Zofran.',\n",
       " 'Labs significant for WBC of 21.2, Cre of 1.8 (baseline of 1.0), lactate of 3.2->2.9 with 4 L IVFs.',\n",
       " 'R IJ was placed in the ED.',\n",
       " 'VS on transfer wre 96/52 14 and 96% on 4 L NC.',\n",
       " 'On the floor, patient had a 10 beat run x2 of polymorphic VT versus torsades.',\n",
       " 'She remained hemodynamically stable.',\n",
       " 'STAT repeat labs showed a Mg of 1.0 which was replated with 4 grams of magnesium sulfate IV x1.',\n",
       " '1 L NS bolus was given with increase of MAP to Given MVO2 was 68%, elevated lactate to 3.2 despite 5 L NS resuscitation, and Cre of 2.1, levophed gtt was initiated.',\n",
       " 'Past Medical History:',\n",
       " 'Diabetes mellitus: managed by oral hypoglycemics Hypertension Hyperlipidemia Breast CA- Lumpectomy in Emphysema/',\n",
       " 'COPD:',\n",
       " '- Multiple hospitalizations in the past but none recently',\n",
       " \"; never intubated, not on home O2 Hypothyroidism Anxiety Irritable Bowel Syndrome Peptic Ulcer Disease Allergic Rhinitis Tobacco Abuse Gout Osteoarthritis Morbid Obesity Benign Adrenal Adenoma Depression Social History: She is currently working as a school bus driver and a supervisor; she hasn't driven a bus since her hip surgery, but was recently cleared to return.\",\n",
       " \"She quit smoking as a New Year's resolution.\",\n",
       " 'She previously smoked three packages of cigarettes per day for 46 years and has quit two times previously for up to one year.',\n",
       " 'She drinks occasional alcohol.',\n",
       " 'No illegal drugs or IVDU.',\n",
       " 'Family History: Mother and father with CAD; father with emphysema Physical Exam: VS - Temp 98.5F, BP115/65 , HR103 , R16 ,',\n",
       " '96O2-sat % RA GENERAL - well-appearing woman in NAD HEENT - NC/AT, PERRL, EOMI, sclerae anicteric, MMM, OP clear.',\n",
       " 'Dentures in place.',\n",
       " 'No oral lesions noted.',\n",
       " 'NECK - supple, no thyromegaly, JVD cannot be appreciated.',\n",
       " 'RIJ in place.',\n",
       " 'LUNGS - Increased effort with inspiration.',\n",
       " 'Increased duration of expiratory phase.',\n",
       " 'Bronchial breath sounds b/l in upper lung fields.',\n",
       " 'Brief inspiratory crackles auscultated b/l in mid/lower lung fields.',\n",
       " 'Decreased BS at bases.',\n",
       " 'Faint expiratory wheezes auscultated b/l more so in lower fields R>L. HEART - Faint heart sounds.',\n",
       " 'Tachycardic.',\n",
       " 'No m/r/g nl S1-S2 ABDOMEN - hypoactive BS, soft/NT/ND, no masses or HSM, no rebound/guarding EXTREMITIES - 1+ peripheral pulses (DPs).',\n",
       " 'Trace pitting edema B/L. SKIN - no rashes or lesions',\n",
       " 'LYMPH - no cervical LAD NEURO - awake, A&Ox3, CNs II-XII grossly intact MAE .',\n",
       " 'Pertinent Results:',\n",
       " 'CBC WBC RBC',\n",
       " 'Hgb Hct',\n",
       " 'MCV MCH MCHC RDW',\n",
       " 'Plt',\n",
       " 'Ct 4.4 3.05 8.4 25.7 85 27.5 32.6 17.5 137 5.1 2.99 8.3',\n",
       " '25.2 84 27.6',\n",
       " '32.8 17.6 111 10.01 3.14 8.7 26.6 85 27.6 32.7 17.2 111 21.2 4.25 11.6',\n",
       " '35.6 84 27.4 32.7 16.8 152 .',\n",
       " 'CMP Glucose UreaN Creat',\n",
       " 'Na K Cl HCO3 AnGap 121 15 1.0 137',\n",
       " '3.9 104 28 9 .9',\n",
       " '141 4.2 108 25 12 . .',\n",
       " 'ALT AST AlkPhos TotBili 05:07 41 34 145 0.9 01:29 17 6',\n",
       " '134 0.9 . .',\n",
       " 'MICROBIOLOGY:',\n",
       " 'GRAM STAIN (Final ): PMNs and <10 epithelial cells/100X field.',\n",
       " '2+ (1-5 per 1000X FIELD): GRAM POSITIVE COCCI IN PAIRS.',\n",
       " '1',\n",
       " '+ (<1 per 1000X FIELD):',\n",
       " 'GRAM NEGATIVE DIPLOCOCCI. . .',\n",
       " 'CXR-',\n",
       " 'Single AP upright portable view of the chest was obtained.',\n",
       " 'There is moderate right middle lobe consolidation, worrisome for pneumonia.',\n",
       " 'The left lung is clear.',\n",
       " 'No pleural effusion or pneumothorax is seen.',\n",
       " 'The cardiac silhouette is not enlarged.',\n",
       " 'There is calcification at the aortic knob.',\n",
       " 'The mediastinum is not widened. .',\n",
       " 'IMPRESSION:',\n",
       " 'Moderate right base consolidation, most likely in the right middle lobe, worrisome for pneumonia. .',\n",
       " 'IMAGING:',\n",
       " 'CXR-',\n",
       " 'As compared to the previous radiograph, there is no relevant change.',\n",
       " 'Large right middle and lower lung pneumonia.',\n",
       " 'No newly appeared parenchymal opacities.',\n",
       " 'No pneumothorax, no reactive pleural effusions.',\n",
       " 'No pulmonary edema.',\n",
       " 'Unchanged size of the cardiac silhouette.',\n",
       " 'Unchanged right internal jugular vein catheter.',\n",
       " '04:35AM',\n",
       " 'BLOOD',\n",
       " 'Lactate-1.0 Brief Hospital Course:',\n",
       " 'Community acquired pneumonia complicated by septic shock: Presented with shortness of breath, fever, and leukocytosis as well as fevers to 105.1 Farenheit at home.',\n",
       " 'Presented with evidence of endo-organ ischemia with lactate of 3.2 and creatinine of 2.1.',\n",
       " 'CXR showed probable right middle/lower lobe PNA.',\n",
       " 'Empirically started on Vancomycin and Levofloxacin.',\n",
       " \"Had hypotension to the 70's systolic prompting transfer to the ICU.\",\n",
       " 'ICU course complicated by brief episode of polymorphic ventricular tachycardia at which time patient found to have Mg of 1.',\n",
       " 'Treated with magnesium which resolved episode.',\n",
       " 'Bolused several liters of fluid but remained hypotensive, prompting brief use of levophed drip.',\n",
       " 'Antibiotic coverage broadedned to include aztreonam.',\n",
       " 'Sputum cultures positive for gram positive cocci in pairs as well as gram negative diplococci.',\n",
       " 'Antibiotics changed to ceftraixone, levofloxacin, and vancomycin.',\n",
       " 'Continued to improve with oxygen requirements titrated down to room air.',\n",
       " 'Transferred to the general medical floors, where her antibiotic regimen was narrowed to ceftraixone and levofloxacin.',\n",
       " 'She continued to improve on this course.',\n",
       " 'Given her ICU admission for community acquired pneumonia, she was continued on cefpodoxime and levofloxacin for a total of a seven day course.',\n",
       " 'Should have follow up chest xray in six to eight weeks to assess for resolution of pulmonary disease.',\n",
       " 'Acute renal failure: Likely pre-renal in the setting of hypotension from sepsis.',\n",
       " 'Creatinine intiially 2.1, but was down to baseline of 1.0 by the morning of .',\n",
       " 'and HCTZ held in the setting of acute renal failure.',\n",
       " 'Restarted and HCTZ by time of discahrge.',\n",
       " 'Pancytopenia:',\n",
       " 'Thought to be dilutional in the setting of aggressive IVFs.',\n",
       " 'Hct baseline 33-35, platelets 150s.',\n",
       " 'Continued to have pancytoopenia on the general medical floors.',\n",
       " 'By time of discharge, WBC 4.4, HCT 25.7, PLT Should follow up CBC to check for resolution of pancytopenia.',\n",
       " 'If continues, should assess for drug induced cytopenia, or primary bone marrow disorder with peripheral smear and potential heme/onc follow up.',\n",
       " 'COPD/Asthma: Continued with albuterol/ipratropium, fluticasone/salmeterol, inhalers as well as montelukast.',\n",
       " 'Continued to have wheezes and cough while in house.',\n",
       " 'Diabetes Mellitus',\n",
       " 'II:',\n",
       " 'oral hypoglycemics held, pt started on ISS while in hospital.',\n",
       " 'Restarted on oral hypoglycemics at time of discharge.',\n",
       " 'Normal glycemic during hosptial stay.',\n",
       " 'Hypertension: anti-hypertensives (metoprolol, losartan, HCTZ) held in setting of sepsis.',\n",
       " 'Restarted prior to discharge.',\n",
       " 'Hyperlipidemia: continued statin.',\n",
       " 'Gout: held allopurinol in setting of renal failure.',\n",
       " 'Restarted by time of discharge.',\n",
       " 'Tobacco abuse: nicotine patch.',\n",
       " 'Counseled on the importance of smoking cessation.',\n",
       " 'Hypothyroidism: continue levothyroxine.',\n",
       " 'Pending Labs:',\n",
       " 'None Transitional Issues: None Medications on Admission:',\n",
       " 'ALBUTEROL SULFATE 90 mcg',\n",
       " 'HFA Aerosol Inhaler 2 puffs q4H:',\n",
       " 'PRN SOB',\n",
       " 'ALLOPURINOL 300',\n",
       " 'mg PO daily FLUTICASONE 50 mcg 1 - 2 sprays',\n",
       " 'each nostril once a day FLUTICASONE-SALMETEROL 500',\n",
       " 'mcg-50 mcg 1 PUFF',\n",
       " 'BIDIPRATROPIUM-ALBUTEROL - 0.5 mg-2.5',\n",
       " 'mg/3 mL Solution for Nebulization - use via(s) nebulizer four times a day as needed for acute asthma LEVOTHYROXINE',\n",
       " '50 mcg Tablet - 1 Tablet(s) by mouth',\n",
       " 'once a day before breakfast LIDOCAINE 5 % TP daily 12H on 12H off LOSARTAN-HYDROCHLOROTHIAZIDE 50',\n",
       " 'mg-12.5',\n",
       " 'mg PO daily METFORMIN 1000 mg',\n",
       " 'PO BID METOPROLOL SUCCINATE - 25 mg SR PO daily MONTELUKAST',\n",
       " '10 mg Tablet PO daily OMEPRAZOLE',\n",
       " '20 mg PO daily SIMVASTATIN',\n",
       " '20 mg PO daily Tylenol MVI Nicotine lozenge Discharge Medications: 1.',\n",
       " 'omeprazole',\n",
       " '20 mg Capsule, Delayed Release(E.C.)',\n",
       " 'Sig: One',\n",
       " '( Capsule, Delayed Release(E.C.) PO DAILY (Daily).',\n",
       " 'levofloxacin 750 mg',\n",
       " 'Tablet Sig: One',\n",
       " '( Tablet PO Q24H (every 24 hours) for 3 days.',\n",
       " 'Disp:*3 Tablet(s)',\n",
       " 'Refills:*0',\n",
       " '* 3.',\n",
       " 'cefpodoxime 100 mg',\n",
       " 'Tablet Sig: Two',\n",
       " '( Tablet PO Q12H (every 12 hours) for 3 days.',\n",
       " 'Disp:*12 Tablet(s)',\n",
       " 'Refills:*0',\n",
       " '* 4. albuterol sulfate 90 mcg/Actuation HFA Aerosol Inhaler Sig: Two',\n",
       " '( Inhalation every four (4) hours as needed for shortness of breath or wheezing.',\n",
       " 'montelukast 10 mg Tablet Sig: One',\n",
       " '( Tablet PO DAILY (Daily).',\n",
       " 'simvastatin',\n",
       " '10 mg',\n",
       " 'Tablet Sig: Two',\n",
       " '( Tablet PO DAILY (Daily).',\n",
       " 'allopurinol 300 mg',\n",
       " 'Tablet Sig: One',\n",
       " '( Tablet PO once a day.',\n",
       " 'fluticasone 50 mcg/Actuation Spray, Suspension Sig: spray Nasal',\n",
       " 'once a day: sprays per nostril once a day.',\n",
       " 'fluticasone-salmeterol 500-50 mcg/dose Disk with Device Sig: One',\n",
       " '(1) puff Inhalation twice a day:',\n",
       " 'Wash mouth out with water after use.',\n",
       " 'ipratropium-albuterol 0.5',\n",
       " 'mg-3',\n",
       " 'mg(2.5 mg base)/3 mL Solution for Nebulization',\n",
       " 'Sig: One',\n",
       " '(1) nebulization Inhalation qid prn:',\n",
       " 'Use as needed for acute asthma exacerbation.',\n",
       " 'levothyroxine',\n",
       " '50 mcg Tablet Sig: One',\n",
       " '( Tablet PO once a day.',\n",
       " 'losartan-hydrochlorothiazide 50-12.5 mg Tablet Sig: One ( Tablet PO once a day.',\n",
       " 'metformin 1,000 mg',\n",
       " 'Tablet Sig: One',\n",
       " '( Tablet PO twice a day:',\n",
       " 'Take after breakfast and supper for diabetes.',\n",
       " 'metoprolol succinate',\n",
       " '25 mg',\n",
       " 'Tablet Sustained Release 24 hr Sig: One',\n",
       " '( Tablet Sustained Release 24 hr PO once a day:',\n",
       " 'Hold for SBP<100/ HR< 60.',\n",
       " 'Acetaminophen Extra Strength 500 mg Tablet Sig: 1-2 Tablets PO once a day as needed for pain: Can take up to four times a day as needed for pain.',\n",
       " 'multivitamin Tablet Sig: One',\n",
       " '( Tablet PO once a day.',\n",
       " 'nicotine (polacrilex)',\n",
       " '4 mg Lozenge Sig: One ( Buccal PRN as needed for tobacco craving.',\n",
       " 'docusate sodium 100 mg',\n",
       " 'Capsule Sig: One',\n",
       " '( Capsule PO twice a day: STOOL SOFTENER.',\n",
       " 'One Touch Ultra Test Strip Sig: One',\n",
       " '( Miscellaneous once a day:',\n",
       " 'Use once a day 2 hours after main meal for diabetes management of blood sugar.',\n",
       " 'Discharge Disposition:',\n",
       " 'Home Discharge Diagnosis:',\n",
       " 'PRIMARY:',\n",
       " 'Community acquired pneumonia complicated by pneumosepsis .',\n",
       " 'SECONDARY:',\n",
       " 'Diabetes mellitus: managed by oral hypoglycemics Hypertension Hyperlipidemia Breast CA- Lumpectomy in Emphysema',\n",
       " 'COPD:',\n",
       " 'Hypothyroidism Peptic Ulcer Disease Tobacco Abuse Discharge Condition:',\n",
       " 'Mental Status: Clear and coherent.',\n",
       " 'Level of Consciousness: Alert and interactive.',\n",
       " 'Activity Status:',\n",
       " 'Ambulatory - Independent.',\n",
       " 'Discharge Instructions:',\n",
       " 'It was an absolute pleasure being involved in your care Ms .',\n",
       " 'You came to the hopsital with fevers and shortness of breath and were found to have a serious pneumonia (lung infection).',\n",
       " 'Because of the infection you also dropped your blood pressures and required a brief stay in the intensive care unit.',\n",
       " 'You were treated with antibiotics and improved.',\n",
       " 'Your medications have CHANGED as follows: .',\n",
       " 'We ADDED Cefpodoxime 200mg twice per day- take this for 3 more days',\n",
       " 'We ADDED levofloxacin',\n",
       " '750mg',\n",
       " 'daily- take this for 3 more days .',\n",
       " 'Please continue to take your other medications as you have been. .',\n",
       " 'Thank you for letting us participate in your care!',\n",
       " 'Followup Instructions: Please keep your follow up appointment with your primary care doctor : .',\n",
       " 'Department: - ADULT MED',\n",
       " 'When: FRIDAY at 9:00 AM',\n",
       " 'With: , MD Building: ( , MA) Campus:',\n",
       " 'OFF CAMPUS Best Parking:',\n",
       " 'Free Parking on Site']"
      ]
     },
     "execution_count": 13,
     "metadata": {},
     "output_type": "execute_result"
    }
   ],
   "source": [
    "list_sent"
   ]
  },
  {
   "cell_type": "code",
   "execution_count": 23,
   "metadata": {
    "scrolled": true
   },
   "outputs": [
    {
     "name": "stderr",
     "output_type": "stream",
     "text": [
      " 55%|█████▌    | 1395/2529 [36:33<29:43,  1.57s/it]\n"
     ]
    },
    {
     "ename": "KeyboardInterrupt",
     "evalue": "",
     "output_type": "error",
     "traceback": [
      "\u001b[0;31m---------------------------------------------------------------------------\u001b[0m",
      "\u001b[0;31mKeyboardInterrupt\u001b[0m                         Traceback (most recent call last)",
      "\u001b[0;32m<timed exec>\u001b[0m in \u001b[0;36m<module>\u001b[0;34m\u001b[0m\n",
      "\u001b[0;32m~/AE_automation/preprocessing/Sentence_tokenizer_from_Clarity.py\u001b[0m in \u001b[0;36mparse_sentences_spacy\u001b[0;34m(text)\u001b[0m\n\u001b[1;32m    121\u001b[0m     \u001b[0;31m# a single token that will not be split.\u001b[0m\u001b[0;34m\u001b[0m\u001b[0;34m\u001b[0m\u001b[0m\n\u001b[1;32m    122\u001b[0m     \u001b[0mtext\u001b[0m \u001b[0;34m=\u001b[0m \u001b[0mseg_helper\u001b[0m\u001b[0;34m.\u001b[0m\u001b[0mcleanup_report\u001b[0m\u001b[0;34m(\u001b[0m\u001b[0mtext\u001b[0m\u001b[0;34m)\u001b[0m\u001b[0;34m\u001b[0m\u001b[0m\n\u001b[0;32m--> 123\u001b[0;31m     \u001b[0mtext\u001b[0m \u001b[0;34m=\u001b[0m \u001b[0mseg_helper\u001b[0m\u001b[0;34m.\u001b[0m\u001b[0mdo_substitutions\u001b[0m\u001b[0;34m(\u001b[0m\u001b[0mtext\u001b[0m\u001b[0;34m)\u001b[0m\u001b[0;34m\u001b[0m\u001b[0m\n\u001b[0m\u001b[1;32m    124\u001b[0m \u001b[0;34m\u001b[0m\u001b[0m\n\u001b[1;32m    125\u001b[0m     \u001b[0;31m# now do the sentence tokenization with the substitutions in place\u001b[0m\u001b[0;34m\u001b[0m\u001b[0;34m\u001b[0m\u001b[0m\n",
      "\u001b[0;32m~/AE_automation/preprocessing/segmentation_helper.py\u001b[0m in \u001b[0;36mdo_substitutions\u001b[0;34m(report)\u001b[0m\n\u001b[1;32m    248\u001b[0m     \u001b[0mreport\u001b[0m \u001b[0;34m=\u001b[0m \u001b[0mfind_substitutions\u001b[0m\u001b[0;34m(\u001b[0m\u001b[0mreport\u001b[0m\u001b[0;34m,\u001b[0m \u001b[0mregex_contrast\u001b[0m\u001b[0;34m,\u001b[0m \u001b[0mcontrast_subs\u001b[0m\u001b[0;34m,\u001b[0m \u001b[0;34m'CONTRAST'\u001b[0m\u001b[0;34m)\u001b[0m\u001b[0;34m\u001b[0m\u001b[0m\n\u001b[1;32m    249\u001b[0m     \u001b[0mreport\u001b[0m \u001b[0;34m=\u001b[0m \u001b[0mfind_substitutions\u001b[0m\u001b[0;34m(\u001b[0m\u001b[0mreport\u001b[0m\u001b[0;34m,\u001b[0m \u001b[0mregex_fov\u001b[0m\u001b[0;34m,\u001b[0m \u001b[0mfov_subs\u001b[0m\u001b[0;34m,\u001b[0m \u001b[0;34m'FOV'\u001b[0m\u001b[0;34m)\u001b[0m\u001b[0;34m\u001b[0m\u001b[0m\n\u001b[0;32m--> 250\u001b[0;31m     \u001b[0mreport\u001b[0m \u001b[0;34m=\u001b[0m \u001b[0mfind_size_meas_subs\u001b[0m\u001b[0;34m(\u001b[0m\u001b[0mreport\u001b[0m\u001b[0;34m,\u001b[0m \u001b[0msize_meas_subs\u001b[0m\u001b[0;34m,\u001b[0m \u001b[0;34m'MEAS'\u001b[0m\u001b[0;34m)\u001b[0m\u001b[0;34m\u001b[0m\u001b[0m\n\u001b[0m\u001b[1;32m    251\u001b[0m     \u001b[0mreport\u001b[0m \u001b[0;34m=\u001b[0m \u001b[0mfind_substitutions\u001b[0m\u001b[0;34m(\u001b[0m\u001b[0mreport\u001b[0m\u001b[0;34m,\u001b[0m \u001b[0mregex_prescription\u001b[0m\u001b[0;34m,\u001b[0m \u001b[0mprescription_subs\u001b[0m\u001b[0;34m,\u001b[0m \u001b[0;34m'PRESCRIPTION'\u001b[0m\u001b[0;34m)\u001b[0m\u001b[0;34m\u001b[0m\u001b[0m\n\u001b[1;32m    252\u001b[0m     \u001b[0mreport\u001b[0m \u001b[0;34m=\u001b[0m \u001b[0mfind_substitutions\u001b[0m\u001b[0;34m(\u001b[0m\u001b[0mreport\u001b[0m\u001b[0;34m,\u001b[0m \u001b[0mregex_gender\u001b[0m\u001b[0;34m,\u001b[0m \u001b[0mgender_subs\u001b[0m\u001b[0;34m,\u001b[0m \u001b[0;34m'GENDER'\u001b[0m\u001b[0;34m)\u001b[0m\u001b[0;34m\u001b[0m\u001b[0m\n",
      "\u001b[0;32m~/AE_automation/preprocessing/segmentation_helper.py\u001b[0m in \u001b[0;36mfind_size_meas_subs\u001b[0;34m(report, sub_list, text)\u001b[0m\n\u001b[1;32m    164\u001b[0m     \"\"\"\n\u001b[1;32m    165\u001b[0m \u001b[0;34m\u001b[0m\u001b[0m\n\u001b[0;32m--> 166\u001b[0;31m     \u001b[0mjson_string\u001b[0m \u001b[0;34m=\u001b[0m \u001b[0mrun_size_measurement\u001b[0m\u001b[0;34m(\u001b[0m\u001b[0mreport\u001b[0m\u001b[0;34m)\u001b[0m\u001b[0;34m\u001b[0m\u001b[0m\n\u001b[0m\u001b[1;32m    167\u001b[0m     \u001b[0;32mif\u001b[0m \u001b[0;34m'[]'\u001b[0m \u001b[0;34m==\u001b[0m \u001b[0mjson_string\u001b[0m\u001b[0;34m:\u001b[0m\u001b[0;34m\u001b[0m\u001b[0m\n\u001b[1;32m    168\u001b[0m         \u001b[0;32mreturn\u001b[0m \u001b[0mreport\u001b[0m\u001b[0;34m\u001b[0m\u001b[0m\n",
      "\u001b[0;32m~/AE_automation/ClarityNLP/nlp/algorithms/finder/size_measurement_finder.py\u001b[0m in \u001b[0;36mrun\u001b[0;34m(sentence)\u001b[0m\n\u001b[1;32m   1199\u001b[0m \u001b[0;34m\u001b[0m\u001b[0m\n\u001b[1;32m   1200\u001b[0m         \u001b[0;32mfor\u001b[0m \u001b[0mi\u001b[0m \u001b[0;32min\u001b[0m \u001b[0mrange\u001b[0m\u001b[0;34m(\u001b[0m\u001b[0mlen\u001b[0m\u001b[0;34m(\u001b[0m\u001b[0mregexes\u001b[0m\u001b[0;34m)\u001b[0m\u001b[0;34m)\u001b[0m\u001b[0;34m:\u001b[0m\u001b[0;34m\u001b[0m\u001b[0m\n\u001b[0;32m-> 1201\u001b[0;31m             \u001b[0mmatch\u001b[0m \u001b[0;34m=\u001b[0m \u001b[0mregexes\u001b[0m\u001b[0;34m[\u001b[0m\u001b[0mi\u001b[0m\u001b[0;34m]\u001b[0m\u001b[0;34m.\u001b[0m\u001b[0msearch\u001b[0m\u001b[0;34m(\u001b[0m\u001b[0ms\u001b[0m\u001b[0;34m)\u001b[0m\u001b[0;34m\u001b[0m\u001b[0m\n\u001b[0m\u001b[1;32m   1202\u001b[0m             \u001b[0;32mif\u001b[0m \u001b[0mmatch\u001b[0m\u001b[0;34m:\u001b[0m\u001b[0;34m\u001b[0m\u001b[0m\n\u001b[1;32m   1203\u001b[0m                 \u001b[0mmatch_text\u001b[0m \u001b[0;34m=\u001b[0m \u001b[0mmatch\u001b[0m\u001b[0;34m.\u001b[0m\u001b[0mgroup\u001b[0m\u001b[0;34m(\u001b[0m\u001b[0;34m)\u001b[0m\u001b[0;34m\u001b[0m\u001b[0m\n",
      "\u001b[0;31mKeyboardInterrupt\u001b[0m: "
     ]
    }
   ],
   "source": [
    "%%time\n",
    "from tqdm import tqdm\n",
    "num = int(np.ceil(valid_num/thread_num))\n",
    "tmp_adm_seg_dict = {}\n",
    "#list_of_list_sent = []\n",
    "for i in tqdm(range(10116,10116+num)):\n",
    "    text = adm_text_dict[valid_hadm_id[i]]\n",
    "    text = re.sub(r'\\s*\\[.*?\\]\\s*',' ',text)\n",
    "    list_sent = cla_token.parse_sentences_spacy(text)\n",
    "    tmp_adm_seg_dict[valid_hadm_id[i]] = list_sent\n",
    "    #list_of_list_sent.append(list_sent)\n"
   ]
  },
  {
   "cell_type": "code",
   "execution_count": 27,
   "metadata": {},
   "outputs": [
    {
     "data": {
      "text/plain": [
       "12870"
      ]
     },
     "execution_count": 27,
     "metadata": {},
     "output_type": "execute_result"
    }
   ],
   "source": [
    "len(adm_text_dict[valid_hadm_id[i]])"
   ]
  },
  {
   "cell_type": "code",
   "execution_count": 31,
   "metadata": {
    "scrolled": true
   },
   "outputs": [
    {
     "data": {
      "text/plain": [
       "\"Admission Date: Discharge Date: Date of Birth: Sex:   F\\n\\nService: MEDICINE\\n\\nAllergies:\\nAmoxicillin / lisinopril\\n\\nAttending: Chief Complaint:\\nShortness of breath\\n\\nMajor Surgical or Invasive Procedure:\\nCentral venous line placement and removal\\n\\n\\nHistory of Present Illness:\\nPt is a 62 yo F with emphysema and DMII who presents with fevers\\nand shortness of breath. Pt reports runny nose for the past\\nweek, in addition to cough non-productive of sputum. Two days\\nbefore admission, she experienced chills and rigors. She also\\nreport today a fever up to 105.1 at home, some muscle aches in\\nher arms. Denies CP but admits to some SOB and DOE. Took some\\nTylenol efor the fever and took some vicodin for a headache on\\nSaturday (which is currently not present). Experienced some\\nnausea on the way to the ED. Denies neck stiffness or\\nphotophobia. Her symptoms worsened to a point where her\\ndaughters urged her to come for evaluation today. Reports some\\n'black' diarrhea in the ED, non-bloody. No recent antibiotic\\nuse. She denies abdominal pain, new rashes, or dysuria.\\n.\\nIn the emergency department, VS were: 100.1 119 74/27 16 94%. Pt\\nreceived Tylenol 1 gram PO x1, Vancomycin, Levofloxacin, and\\nZofran. Labs significant for WBC of 21.2, Cre of 1.8 (baseline\\nof 1.0), lactate of 3.2->2.9 with 4 L IVFs. R IJ was placed in\\nthe ED. VS on transfer wre 96/52 14 and 96% on 4 L NC. On the\\nfloor, patient had a 10 beat run x2 of polymorphic VT versus\\ntorsades. She remained hemodynamically stable. STAT repeat labs\\nshowed a Mg of 1.0 which was replated with 4 grams of magnesium\\nsulfate IV x1. 1 L NS bolus was given with increase of MAP to\\n60. Given MVO2 was 68%, elevated lactate to 3.2 despite 5 L NS\\nresuscitation, and Cre of 2.1, levophed gtt was initiated.\\n\\n\\nPast Medical History:\\nDiabetes mellitus: managed by oral hypoglycemics\\nHypertension\\nHyperlipidemia\\nBreast CA- Lumpectomy in Emphysema/COPD:\\n- Multiple hospitalizations in the past but none recently; never\\nintubated, not on home O2\\nHypothyroidism\\nAnxiety\\nIrritable Bowel Syndrome\\nPeptic Ulcer Disease\\nAllergic Rhinitis\\nTobacco Abuse\\nGout\\nOsteoarthritis\\nMorbid Obesity\\nBenign Adrenal Adenoma\\nDepression\\n\\n\\nSocial History:\\nShe is currently working as a school bus driver and a\\nsupervisor; she hasn't driven a bus since her hip surgery, but\\nwas recently cleared to return.  She quit smoking as a New\\nYear's resolution. She previously smoked three packages of\\ncigarettes per day for 46 years and has quit two times\\npreviously for up to one year.  She drinks occasional alcohol.\\nNo illegal drugs or IVDU.\\n\\n\\nFamily History:\\nMother and father with CAD; father with emphysema\\n\\nPhysical Exam:\\nVS - Temp 98.5F, BP115/65 , HR103 , R16 , 96O2-sat % RA\\nGENERAL - well-appearing woman in NAD\\nHEENT - NC/AT, PERRL, EOMI, sclerae anicteric, MMM, OP clear.\\nDentures in place.  No oral lesions noted.\\nNECK - supple, no thyromegaly, JVD cannot be appreciated.  RIJ\\nin place.\\nLUNGS - Increased effort with inspiration.  Increased duration\\nof expiratory phase.  Bronchial breath sounds b/l in upper lung\\nfields.  Brief inspiratory crackles auscultated b/l in mid/lower\\nlung fields.  Decreased BS at bases.  Faint expiratory wheezes\\nauscultated b/l more so in lower fields R>L.\\nHEART - Faint heart sounds.  Tachycardic.  No m/r/g  nl S1-S2\\nABDOMEN - hypoactive BS, soft/NT/ND, no masses or HSM, no\\nrebound/guarding\\nEXTREMITIES - 1+ peripheral pulses (DPs).  Trace pitting edema\\nB/L.\\nSKIN - no rashes or lesions\\nLYMPH - no cervical LAD\\nNEURO - awake, A&Ox3, CNs II-XII grossly intact MAE\\n.\\n\\n\\nPertinent Results:\\nCBC\\n                 WBC  RBC  Hgb  Hct  MCV MCH  MCHC RDW   Plt Ct 4.4   3.05 8.4  25.7 85  27.5 32.6 17.5  137 5.1   2.99 8.3  25.2  84  27.6 32.8 17.6 111 10.01 3.14 8.7  26.6  85  27.6 32.7 17.2 111 21.2  4.25 11.6 35.6  84 27.4 32.7 16.8  152\\n.\\nCMP\\n                    Glucose UreaN Creat Na   K  Cl HCO3 AnGap 121       15   1.0  137 3.9 104 28 9 .9  141 4.2 108 25 12\\n\\n.\\n.\\n                    ALT AST AlkPhos TotBili 05:07    41  34   145    0.9 01:29    17  6    134    0.9\\n.\\n.\\nMICROBIOLOGY:\\nGRAM STAIN (Final ): PMNs and <10 epithelial cells/100X field.\\n      2+   (1-5 per 1000X FIELD):   GRAM POSITIVE COCCI IN\\nPAIRS.\\n      1+    (<1 per 1000X FIELD):   GRAM NEGATIVE DIPLOCOCCI.\\n.\\n.\\nCXR- Single AP upright portable view of the chest was obtained. There\\n\\nis moderate right middle lobe consolidation, worrisome for\\npneumonia. The left lung is clear. No pleural effusion or\\npneumothorax is seen. The cardiac silhouette is not enlarged.\\nThere is calcification at the aortic knob. The mediastinum is\\nnot widened.\\n.\\nIMPRESSION: Moderate right base consolidation, most likely in\\nthe right middle lobe, worrisome for pneumonia.\\n.\\nIMAGING:\\nCXR- As compared to the previous radiograph, there is no relevant\\nchange. Large right middle and lower lung pneumonia. No newly\\nappeared parenchymal opacities. No pneumothorax, no reactive\\npleural effusions. No pulmonary edema. Unchanged size of the\\ncardiac silhouette. Unchanged right internal jugular vein\\ncatheter.\\n. 04:35AM BLOOD Lactate-1.0\\n\\nBrief Hospital Course:\\nCommunity acquired pneumonia complicated by septic shock:\\nPresented with shortness of breath, fever, and leukocytosis as\\nwell as fevers to 105.1 Farenheit at home.  Presented with\\nevidence of endo-organ ischemia with lactate of 3.2 and\\ncreatinine of 2.1.  CXR showed probable right middle/lower lobe\\nPNA.  Empirically started on Vancomycin and Levofloxacin.  Had\\nhypotension to the 70's systolic prompting transfer to the ICU.\\nICU course complicated by brief episode of polymorphic\\nventricular tachycardia at which time patient found to have Mg\\nof 1.0.  Treated with magnesium which resolved episode.  Bolused\\nseveral liters of fluid but remained hypotensive, prompting\\nbrief use of levophed drip.  Antibiotic coverage broadedned to\\ninclude aztreonam.  Sputum cultures positive for gram positive\\ncocci in pairs as well as gram negative diplococci.  Antibiotics\\nchanged to ceftraixone, levofloxacin, and vancomycin.  Continued\\nto improve with oxygen requirements titrated down to room air.\\nTransferred to the general medical floors, where her antibiotic\\nregimen was narrowed to ceftraixone and levofloxacin.  She\\ncontinued to improve on this course.  Given her ICU admission\\nfor community acquired pneumonia, she was continued on\\ncefpodoxime and levofloxacin for a total of a seven day course.\\nShould have follow up chest xray in six to eight weeks to assess\\nfor resolution of pulmonary disease.\\n\\nAcute renal failure: Likely pre-renal in the setting of\\nhypotension from sepsis. Creatinine intiially 2.1, but was down\\nto baseline of 1.0 by the morning of . and HCTZ held in\\nthe setting of acute renal failure.  Restarted and HCTZ by\\ntime of discahrge.\\n\\nPancytopenia: Thought to be dilutional in the setting of\\naggressive IVFs. Hct baseline 33-35, platelets 150s. Continued\\nto have pancytoopenia on the general medical floors.  By time of\\ndischarge, WBC 4.4, HCT 25.7, PLT 137.  Should follow up CBC to\\ncheck for resolution of pancytopenia.  If continues, should\\nassess for drug induced cytopenia, or primary bone marrow\\ndisorder with peripheral smear and potential heme/onc follow up.\\n\\nCOPD/Asthma:  Continued with albuterol/ipratropium,\\nfluticasone/salmeterol, inhalers as well as montelukast.\\nContinued to have wheezes and cough while in house.\\n\\nDiabetes Mellitus II: oral hypoglycemics held, pt started on ISS\\nwhile in hospital.  Restarted on oral hypoglycemics at time of\\ndischarge.  Normal glycemic during hosptial stay.\\n\\nHypertension: anti-hypertensives (metoprolol, losartan, HCTZ)\\nheld in setting of sepsis.  Restarted prior to discharge.\\n\\nHyperlipidemia: continued statin.\\n\\nGout: held allopurinol in setting of renal failure.  Restarted\\nby time of discharge.\\n\\nTobacco abuse: nicotine patch.  Counseled on the importance of\\nsmoking cessation.\\n\\nHypothyroidism: continue levothyroxine.\\n\\nPending Labs: None\\nTransitional Issues: None\\n\\nMedications on Admission:\\nALBUTEROL SULFATE 90 mcg HFA Aerosol Inhaler 2 puffs q4H:PRN SOB\\nALLOPURINOL 300 mg PO daily\\nFLUTICASONE 50 mcg 1 - 2 sprays each nostril once a day\\nFLUTICASONE-SALMETEROL 500 mcg-50 mcg 1 PUFF\\nBIDIPRATROPIUM-ALBUTEROL - 0.5 mg-2.5 mg/3 mL Solution for\\nNebulization - use via(s) nebulizer four times a day as needed\\nfor acute asthma\\nLEVOTHYROXINE 50 mcg Tablet - 1 Tablet(s) by mouth once a day\\nbefore breakfast\\nLIDOCAINE 5 % TP daily 12H on 12H off\\nLOSARTAN-HYDROCHLOROTHIAZIDE 50 mg-12.5 mg PO daily\\nMETFORMIN 1000 mg PO BID\\nMETOPROLOL SUCCINATE - 25 mg SR PO daily\\nMONTELUKAST 10 mg Tablet PO daily\\nOMEPRAZOLE 20 mg PO daily\\nSIMVASTATIN 20 mg PO daily\\nTylenol\\nMVI\\nNicotine lozenge\\n\\n\\nDischarge Medications:\\n1. omeprazole 20 mg Capsule, Delayed Release(E.C.) Sig: One (1)\\nCapsule, Delayed Release(E.C.) PO DAILY (Daily).\\n2. levofloxacin 750 mg Tablet Sig: One (1) Tablet PO Q24H (every\\n24 hours) for 3 days.\\nDisp:*3 Tablet(s)* Refills:*0*\\n3. cefpodoxime 100 mg Tablet Sig: Two (2) Tablet PO Q12H (every\\n12 hours) for 3 days.\\nDisp:*12 Tablet(s)* Refills:*0*\\n4. albuterol sulfate 90 mcg/Actuation HFA Aerosol Inhaler Sig:\\nTwo (2)  Inhalation every four (4) hours as needed for shortness\\nof breath or wheezing.\\n5. montelukast 10 mg Tablet Sig: One (1) Tablet PO DAILY\\n(Daily).\\n6. simvastatin 10 mg Tablet Sig: Two (2) Tablet PO DAILY\\n(Daily).\\n7. allopurinol 300 mg Tablet Sig: One (1) Tablet PO once a day.\\n\\n8. fluticasone 50 mcg/Actuation Spray, Suspension Sig: spray\\nNasal once a day: sprays per nostril once a day.\\n9. fluticasone-salmeterol 500-50 mcg/dose Disk with Device Sig:\\nOne (1) puff Inhalation twice a day: Wash mouth out with water\\nafter use.\\n10. ipratropium-albuterol 0.5 mg-3 mg(2.5 mg base)/3 mL Solution\\nfor Nebulization Sig: One (1) nebulization Inhalation qid prn:\\nUse as needed for acute asthma exacerbation.\\n11. levothyroxine 50 mcg Tablet Sig: One (1) Tablet PO once a\\nday.\\n12. losartan-hydrochlorothiazide 50-12.5 mg Tablet Sig: One (1)\\nTablet PO once a day.\\n13. metformin 1,000 mg Tablet Sig: One (1) Tablet PO twice a\\nday: Take after breakfast and supper for diabetes.\\n14. metoprolol succinate 25 mg Tablet Sustained Release 24 hr\\nSig: One (1) Tablet Sustained Release 24 hr PO once a day: Hold\\nfor SBP<100/ HR< 60.\\n15. Acetaminophen Extra Strength 500 mg Tablet Sig: 1-2 Tablets\\nPO once a day as needed for pain: Can take up to four times a\\nday as needed for pain.\\n16. multivitamin     Tablet Sig: One (1) Tablet PO once a day.\\n17. nicotine (polacrilex) 4 mg Lozenge Sig: One (1)  Buccal PRN\\nas needed for tobacco craving.\\n18. docusate sodium 100 mg Capsule Sig: One (1) Capsule PO twice\\na day: STOOL SOFTENER.\\n19. One Touch Ultra Test     Strip Sig: One (1)  Miscellaneous\\nonce a day: Use once a day 2 hours after main meal for diabetes\\nmanagement of blood sugar.\\n\\n\\nDischarge Disposition:\\nHome\\n\\nDischarge Diagnosis:\\nPRIMARY: Community acquired pneumonia complicated by\\npneumosepsis\\n.\\nSECONDARY:\\nDiabetes mellitus: managed by oral hypoglycemics\\nHypertension\\nHyperlipidemia\\nBreast CA- Lumpectomy in Emphysema/COPD:\\nHypothyroidism\\nPeptic Ulcer Disease\\nTobacco Abuse\\n\\n\\nDischarge Condition:\\nMental Status: Clear and coherent.\\nLevel of Consciousness: Alert and interactive.\\nActivity Status: Ambulatory - Independent.\\n\\n\\nDischarge Instructions:\\nIt was an absolute pleasure being involved in your care Ms .\\n You came to the hopsital with fevers and shortness of breath\\nand were found to have a serious pneumonia (lung infection).\\nBecause of the infection you also dropped your blood pressures\\nand required a brief stay in the intensive care unit. You were\\ntreated with antibiotics and improved.  Your medications have\\nCHANGED as follows:\\n.\\n1. We ADDED Cefpodoxime 200mg twice per day- take this for 3\\nmore days\\n2. We ADDED levofloxacin 750mg daily- take this for 3 more days\\n.\\nPlease continue to take your other medications as you have been.\\n.\\nThank you for letting us participate in your care!\\n\\nFollowup Instructions:\\nPlease keep your follow up appointment with your primary care\\ndoctor   :\\n.\\nDepartment:  - ADULT MED\\nWhen: FRIDAY at 9:00 AM\\nWith:  , MD Building: ( , MA) Campus: OFF CAMPUS Best Parking: Free Parking on Site\\n\\n\\n\\n\""
      ]
     },
     "execution_count": 31,
     "metadata": {},
     "output_type": "execute_result"
    }
   ],
   "source": [
    "text"
   ]
  },
  {
   "cell_type": "code",
   "execution_count": 33,
   "metadata": {
    "scrolled": true
   },
   "outputs": [
    {
     "data": {
      "text/plain": [
       "\"Admission Date:  [**2169-1-28**]              Discharge Date:   [**2169-2-2**]\\n\\nDate of Birth:  [**2107-1-5**]             Sex:   F\\n\\nService: MEDICINE\\n\\nAllergies:\\nAmoxicillin / lisinopril\\n\\nAttending:[**First Name3 (LF) 348**]\\nChief Complaint:\\nShortness of breath\\n\\nMajor Surgical or Invasive Procedure:\\nCentral venous line placement and removal\\n\\n\\nHistory of Present Illness:\\nPt is a 62 yo F with emphysema and DMII who presents with fevers\\nand shortness of breath. Pt reports runny nose for the past\\nweek, in addition to cough non-productive of sputum. Two days\\nbefore admission, she experienced chills and rigors. She also\\nreport today a fever up to 105.1 at home, some muscle aches in\\nher arms. Denies CP but admits to some SOB and DOE. Took some\\nTylenol efor the fever and took some vicodin for a headache on\\nSaturday (which is currently not present). Experienced some\\nnausea on the way to the ED. Denies neck stiffness or\\nphotophobia. Her symptoms worsened to a point where her\\ndaughters urged her to come for evaluation today. Reports some\\n'black' diarrhea in the ED, non-bloody. No recent antibiotic\\nuse. She denies abdominal pain, new rashes, or dysuria.\\n.\\nIn the emergency department, VS were: 100.1 119 74/27 16 94%. Pt\\nreceived Tylenol 1 gram PO x1, Vancomycin, Levofloxacin, and\\nZofran. Labs significant for WBC of 21.2, Cre of 1.8 (baseline\\nof 1.0), lactate of 3.2->2.9 with 4 L IVFs. R IJ was placed in\\nthe ED. VS on transfer wre 96/52 14 and 96% on 4 L NC. On the\\nfloor, patient had a 10 beat run x2 of polymorphic VT versus\\ntorsades. She remained hemodynamically stable. STAT repeat labs\\nshowed a Mg of 1.0 which was replated with 4 grams of magnesium\\nsulfate IV x1. 1 L NS bolus was given with increase of MAP to\\n60. Given MVO2 was 68%, elevated lactate to 3.2 despite 5 L NS\\nresuscitation, and Cre of 2.1, levophed gtt was initiated.\\n\\n\\nPast Medical History:\\nDiabetes mellitus: managed by oral hypoglycemics\\nHypertension\\nHyperlipidemia\\nBreast CA- Lumpectomy in [**2160**]\\nEmphysema/COPD:\\n- Multiple hospitalizations in the past but none recently; never\\nintubated, not on home O2\\nHypothyroidism\\nAnxiety\\nIrritable Bowel Syndrome\\nPeptic Ulcer Disease\\nAllergic Rhinitis\\nTobacco Abuse\\nGout\\nOsteoarthritis\\nMorbid Obesity\\nBenign Adrenal Adenoma\\nDepression\\n\\n\\nSocial History:\\nShe is currently working as a school bus driver and a\\nsupervisor; she hasn't driven a bus since her hip surgery, but\\nwas recently cleared to return.  She quit smoking as a New\\nYear's resolution. She previously smoked three packages of\\ncigarettes per day for 46 years and has quit two times\\npreviously for up to one year.  She drinks occasional alcohol.\\nNo illegal drugs or IVDU.\\n\\n\\nFamily History:\\nMother and father with CAD; father with emphysema\\n\\nPhysical Exam:\\nVS - Temp 98.5F, BP115/65 , HR103 , R16 , 96O2-sat % RA\\nGENERAL - well-appearing woman in NAD\\nHEENT - NC/AT, PERRL, EOMI, sclerae anicteric, MMM, OP clear.\\nDentures in place.  No oral lesions noted.\\nNECK - supple, no thyromegaly, JVD cannot be appreciated.  RIJ\\nin place.\\nLUNGS - Increased effort with inspiration.  Increased duration\\nof expiratory phase.  Bronchial breath sounds b/l in upper lung\\nfields.  Brief inspiratory crackles auscultated b/l in mid/lower\\nlung fields.  Decreased BS at bases.  Faint expiratory wheezes\\nauscultated b/l more so in lower [**Known lastname **] fields R>L.\\nHEART - Faint heart sounds.  Tachycardic.  No m/r/g  nl S1-S2\\nABDOMEN - hypoactive BS, soft/NT/ND, no masses or HSM, no\\nrebound/guarding\\nEXTREMITIES - 1+ peripheral pulses (DPs).  Trace pitting edema\\nB/L.\\nSKIN - no rashes or lesions\\nLYMPH - no cervical LAD\\nNEURO - awake, A&Ox3, CNs II-XII grossly intact MAE\\n.\\n\\n\\nPertinent Results:\\nCBC\\n                 WBC  RBC  Hgb  Hct  MCV MCH  MCHC RDW   Plt Ct\\n[**2169-2-2**]       4.4   3.05 8.4  25.7 85  27.5 32.6 17.5  137\\n[**2169-1-31**]       5.1   2.99 8.3  25.2  84  27.6 32.8 17.6 111\\n[**2169-1-30**]       10.01 3.14 8.7  26.6  85  27.6 32.7 17.2 111\\n[**2169-1-28**]       21.2  4.25 11.6 35.6  84 27.4 32.7 16.8  152\\n.\\nCMP\\n                    Glucose UreaN Creat Na   K  Cl HCO3 AnGap\\n[**2169-2-2**]            121       15   1.0  137 3.9 104 28 9\\n[**2169-1-31**].9  141 4.2 108 25 12\\n\\n.\\n.\\n                    ALT AST AlkPhos TotBili\\n[**2169-1-29**] 05:07    41  34   145    0.9\\n[**2169-1-29**] 01:29    17  6    134    0.9\\n.\\n.\\nMICROBIOLOGY:\\nGRAM STAIN (Final [**2169-1-29**]):\\n      [**11-14**] PMNs and <10 epithelial cells/100X field.\\n      2+   (1-5 per 1000X FIELD):   GRAM POSITIVE COCCI IN\\nPAIRS.\\n      1+    (<1 per 1000X FIELD):   GRAM NEGATIVE DIPLOCOCCI.\\n.\\n.\\nCXR- [**2169-1-28**]\\nSingle AP upright portable view of the chest was obtained. There\\n\\nis moderate right middle lobe consolidation, worrisome for\\npneumonia. The left lung is clear. No pleural effusion or\\npneumothorax is seen. The cardiac silhouette is not enlarged.\\nThere is calcification at the aortic knob. The mediastinum is\\nnot widened.\\n.\\nIMPRESSION: Moderate right base consolidation, most likely in\\nthe right middle lobe, worrisome for pneumonia.\\n.\\nIMAGING:\\nCXR- [**2169-1-31**]\\nAs compared to the previous radiograph, there is no relevant\\nchange. Large right middle and lower lung pneumonia. No newly\\nappeared parenchymal opacities. No pneumothorax, no reactive\\npleural effusions. No pulmonary edema. Unchanged size of the\\ncardiac silhouette. Unchanged right internal jugular vein\\ncatheter.\\n.\\n\\n[**2169-1-30**] 04:35AM BLOOD Lactate-1.0\\n\\nBrief Hospital Course:\\nCommunity acquired pneumonia complicated by septic shock:\\nPresented with shortness of breath, fever, and leukocytosis as\\nwell as fevers to 105.1 Farenheit at home.  Presented with\\nevidence of endo-organ ischemia with lactate of 3.2 and\\ncreatinine of 2.1.  CXR showed probable right middle/lower lobe\\nPNA.  Empirically started on Vancomycin and Levofloxacin.  Had\\nhypotension to the 70's systolic prompting transfer to the ICU.\\nICU course complicated by brief episode of polymorphic\\nventricular tachycardia at which time patient found to have Mg\\nof 1.0.  Treated with magnesium which resolved episode.  Bolused\\nseveral liters of fluid but remained hypotensive, prompting\\nbrief use of levophed drip.  Antibiotic coverage broadedned to\\ninclude aztreonam.  Sputum cultures positive for gram positive\\ncocci in pairs as well as gram negative diplococci.  Antibiotics\\nchanged to ceftraixone, levofloxacin, and vancomycin.  Continued\\nto improve with oxygen requirements titrated down to room air.\\nTransferred to the general medical floors, where her antibiotic\\nregimen was narrowed to ceftraixone and levofloxacin.  She\\ncontinued to improve on this course.  Given her ICU admission\\nfor community acquired pneumonia, she was continued on\\ncefpodoxime and levofloxacin for a total of a seven day course.\\nShould have follow up chest xray in six to eight weeks to assess\\nfor resolution of pulmonary disease.\\n\\nAcute renal failure: Likely pre-renal in the setting of\\nhypotension from sepsis. Creatinine intiially 2.1, but was down\\nto baseline of 1.0 by the morning of [**1-30**]. [**Last Name (un) **] and HCTZ held in\\nthe setting of acute renal failure.  Restarted [**Last Name (un) **] and HCTZ by\\ntime of discahrge.\\n\\nPancytopenia: Thought to be dilutional in the setting of\\naggressive IVFs. Hct baseline 33-35, platelets 150s. Continued\\nto have pancytoopenia on the general medical floors.  By time of\\ndischarge, WBC 4.4, HCT 25.7, PLT 137.  Should follow up CBC to\\ncheck for resolution of pancytopenia.  If continues, should\\nassess for drug induced cytopenia, or primary bone marrow\\ndisorder with peripheral smear and potential heme/onc follow up.\\n\\nCOPD/Asthma:  Continued with albuterol/ipratropium,\\nfluticasone/salmeterol, inhalers as well as montelukast.\\nContinued to have wheezes and cough while in house.\\n\\nDiabetes Mellitus II: oral hypoglycemics held, pt started on ISS\\nwhile in hospital.  Restarted on oral hypoglycemics at time of\\ndischarge.  Normal glycemic during hosptial stay.\\n\\nHypertension: anti-hypertensives (metoprolol, losartan, HCTZ)\\nheld in setting of sepsis.  Restarted prior to discharge.\\n\\nHyperlipidemia: continued statin.\\n\\nGout: held allopurinol in setting of renal failure.  Restarted\\nby time of discharge.\\n\\nTobacco abuse: nicotine patch.  Counseled on the importance of\\nsmoking cessation.\\n\\nHypothyroidism: continue levothyroxine.\\n\\nPending Labs: None\\nTransitional Issues: None\\n\\nMedications on Admission:\\nALBUTEROL SULFATE 90 mcg HFA Aerosol Inhaler 2 puffs q4H:PRN SOB\\nALLOPURINOL 300 mg PO daily\\nFLUTICASONE 50 mcg 1 - 2 sprays each nostril once a day\\nFLUTICASONE-SALMETEROL 500 mcg-50 mcg 1 PUFF\\nBIDIPRATROPIUM-ALBUTEROL - 0.5 mg-2.5 mg/3 mL Solution for\\nNebulization - use via(s) nebulizer four times a day as needed\\nfor acute asthma\\nLEVOTHYROXINE 50 mcg Tablet - 1 Tablet(s) by mouth once a day\\nbefore breakfast\\nLIDOCAINE 5 % TP daily 12H on 12H off\\nLOSARTAN-HYDROCHLOROTHIAZIDE 50 mg-12.5 mg PO daily\\nMETFORMIN 1000 mg PO BID\\nMETOPROLOL SUCCINATE - 25 mg SR PO daily\\nMONTELUKAST 10 mg Tablet PO daily\\nOMEPRAZOLE 20 mg PO daily\\nSIMVASTATIN 20 mg PO daily\\nTylenol\\nMVI\\nNicotine lozenge\\n\\n\\nDischarge Medications:\\n1. omeprazole 20 mg Capsule, Delayed Release(E.C.) Sig: One (1)\\nCapsule, Delayed Release(E.C.) PO DAILY (Daily).\\n2. levofloxacin 750 mg Tablet Sig: One (1) Tablet PO Q24H (every\\n24 hours) for 3 days.\\nDisp:*3 Tablet(s)* Refills:*0*\\n3. cefpodoxime 100 mg Tablet Sig: Two (2) Tablet PO Q12H (every\\n12 hours) for 3 days.\\nDisp:*12 Tablet(s)* Refills:*0*\\n4. albuterol sulfate 90 mcg/Actuation HFA Aerosol Inhaler Sig:\\nTwo (2)  Inhalation every four (4) hours as needed for shortness\\nof breath or wheezing.\\n5. montelukast 10 mg Tablet Sig: One (1) Tablet PO DAILY\\n(Daily).\\n6. simvastatin 10 mg Tablet Sig: Two (2) Tablet PO DAILY\\n(Daily).\\n7. allopurinol 300 mg Tablet Sig: One (1) Tablet PO once a day.\\n\\n8. fluticasone 50 mcg/Actuation Spray, Suspension Sig: [**1-22**] spray\\nNasal once a day: [**1-22**] sprays per nostril once a day.\\n9. fluticasone-salmeterol 500-50 mcg/dose Disk with Device Sig:\\nOne (1) puff Inhalation twice a day: Wash mouth out with water\\nafter use.\\n10. ipratropium-albuterol 0.5 mg-3 mg(2.5 mg base)/3 mL Solution\\nfor Nebulization Sig: One (1) nebulization Inhalation qid prn:\\nUse as needed for acute asthma exacerbation.\\n11. levothyroxine 50 mcg Tablet Sig: One (1) Tablet PO once a\\nday.\\n12. losartan-hydrochlorothiazide 50-12.5 mg Tablet Sig: One (1)\\nTablet PO once a day.\\n13. metformin 1,000 mg Tablet Sig: One (1) Tablet PO twice a\\nday: Take after breakfast and supper for diabetes.\\n14. metoprolol succinate 25 mg Tablet Sustained Release 24 hr\\nSig: One (1) Tablet Sustained Release 24 hr PO once a day: Hold\\nfor SBP<100/ HR< 60.\\n15. Acetaminophen Extra Strength 500 mg Tablet Sig: 1-2 Tablets\\nPO once a day as needed for pain: Can take up to four times a\\nday as needed for pain.\\n16. multivitamin     Tablet Sig: One (1) Tablet PO once a day.\\n17. nicotine (polacrilex) 4 mg Lozenge Sig: One (1)  Buccal PRN\\nas needed for tobacco craving.\\n18. docusate sodium 100 mg Capsule Sig: One (1) Capsule PO twice\\na day: STOOL SOFTENER.\\n19. One Touch Ultra Test     Strip Sig: One (1)  Miscellaneous\\nonce a day: Use once a day 2 hours after main meal for diabetes\\nmanagement of blood sugar.\\n\\n\\nDischarge Disposition:\\nHome\\n\\nDischarge Diagnosis:\\nPRIMARY: Community acquired pneumonia complicated by\\npneumosepsis\\n.\\nSECONDARY:\\nDiabetes mellitus: managed by oral hypoglycemics\\nHypertension\\nHyperlipidemia\\nBreast CA- Lumpectomy in [**2160**]\\nEmphysema/COPD:\\nHypothyroidism\\nPeptic Ulcer Disease\\nTobacco Abuse\\n\\n\\nDischarge Condition:\\nMental Status: Clear and coherent.\\nLevel of Consciousness: Alert and interactive.\\nActivity Status: Ambulatory - Independent.\\n\\n\\nDischarge Instructions:\\nIt was an absolute pleasure being involved in your care Ms [**Known lastname **].\\n You came to the hopsital with fevers and shortness of breath\\nand were found to have a serious pneumonia (lung infection).\\nBecause of the infection you also dropped your blood pressures\\nand required a brief stay in the intensive care unit. You were\\ntreated with antibiotics and improved.  Your medications have\\nCHANGED as follows:\\n.\\n1. We ADDED Cefpodoxime 200mg twice per day- take this for 3\\nmore days\\n2. We ADDED levofloxacin 750mg daily- take this for 3 more days\\n.\\nPlease continue to take your other medications as you have been.\\n.\\nThank you for letting us participate in your care!\\n\\nFollowup Instructions:\\nPlease keep your follow up appointment with your primary care\\ndoctor [**First Name8 (NamePattern2) **] [**First Name8 (NamePattern2) **] [**Last Name (NamePattern1) 1683**]:\\n.\\nDepartment: [**Hospital1 18**] [**Location (un) 2352**] - ADULT MED\\nWhen: FRIDAY [**2169-2-17**] at 9:00 AM\\nWith: [**First Name11 (Name Pattern1) **] [**Last Name (NamePattern4) 6740**], MD [**Telephone/Fax (1) 1144**]\\nBuilding: [**Location (un) 2355**] ([**Location (un) **], MA) [**Location (un) 551**]\\nCampus: OFF CAMPUS Best Parking: Free Parking on Site\\n\\n\\n\\n\""
      ]
     },
     "execution_count": 33,
     "metadata": {},
     "output_type": "execute_result"
    }
   ],
   "source": [
    "adm_text_dict[valid_hadm_id[i]]"
   ]
  },
  {
   "cell_type": "code",
   "execution_count": 14,
   "metadata": {
    "scrolled": true
   },
   "outputs": [
    {
     "name": "stdout",
     "output_type": "stream",
     "text": [
      "10116\n",
      "998.0323791503906\n",
      "38778\n",
      "1022.0925068855286\n",
      "16860\n",
      "1023.0536890029907\n",
      "32034\n",
      "1035.328101158142\n",
      "20232\n",
      "1035.500895500183\n",
      "48894\n",
      "1036.4719183444977\n",
      "21918\n",
      "1043.7946379184723\n",
      "37092\n",
      "1044.571340084076\n",
      "45522\n",
      "1044.9047312736511\n",
      "5058\n",
      "1051.4785523414612\n",
      "40464\n",
      "1054.7393729686737\n",
      "26976\n",
      "1054.9119791984558\n",
      "43836\n",
      "1055.6633729934692\n",
      "42150\n",
      "1057.6639807224274\n",
      "30348\n",
      "1060.7483863830566\n",
      "35406\n",
      "1060.8630797863007\n",
      "18546\n",
      "1066.0315034389496\n",
      "6744\n",
      "1066.0633397102356\n",
      "33720\n",
      "1070.2176361083984\n",
      "13488\n",
      "1070.3424143791199\n",
      "0\n",
      "1071.5607867240906\n",
      "28662\n",
      "1075.0414061546326\n",
      "8430\n",
      "1076.7518191337585\n",
      "25290\n",
      "1078.854026556015\n",
      "47208\n",
      "1081.6601407527924\n",
      "1686\n",
      "1091.2015342712402\n",
      "11802\n",
      "1098.0746047496796\n",
      "23604\n",
      "1100.151210308075\n",
      "15174\n",
      "1113.8751890659332\n",
      "3372\n",
      "1123.3857743740082\n"
     ]
    }
   ],
   "source": [
    "thread_num = 30\n",
    "num = int(np.ceil(valid_num/thread_num))\n",
    "p = Pool(thread_num)\n",
    "adm_seg_dict_list = p.map(_cla_seg,range(0,valid_num,num))\n"
   ]
  },
  {
   "cell_type": "code",
   "execution_count": 16,
   "metadata": {},
   "outputs": [
    {
     "data": {
      "text/plain": [
       "[0,\n",
       " 2529,\n",
       " 5058,\n",
       " 7587,\n",
       " 10116,\n",
       " 12645,\n",
       " 15174,\n",
       " 17703,\n",
       " 20232,\n",
       " 22761,\n",
       " 25290,\n",
       " 27819,\n",
       " 30348,\n",
       " 32877,\n",
       " 35406,\n",
       " 37935,\n",
       " 40464,\n",
       " 42993,\n",
       " 45522,\n",
       " 48051]"
      ]
     },
     "execution_count": 16,
     "metadata": {},
     "output_type": "execute_result"
    }
   ],
   "source": [
    "list(range(0,valid_num,num))"
   ]
  },
  {
   "cell_type": "code",
   "execution_count": null,
   "metadata": {},
   "outputs": [],
   "source": [
    "37935,48051,12645,7587,35406,2529,25290,27819,0,15174,20232,5058,42993,\n",
    "0, 2529, 5058, 7587, 10116, 12645, 15174, 17703, 20232, 22761, 25290, 27819, 30348, 32877, 35406, 37935, 40464, 42993, 45522, 48051"
   ]
  },
  {
   "cell_type": "code",
   "execution_count": 19,
   "metadata": {},
   "outputs": [],
   "source": [
    "set_a = set([37935,48051,12645,7587,35406,2529,25290,27819,0,15174,20232,5058,42993])\n",
    "set_b = set([0, 2529, 5058, 7587, 10116, 12645, 15174, 17703, 20232, 22761, 25290, 27819, 30348, 32877, 35406, 37935, 40464, 42993, 45522, 48051])"
   ]
  },
  {
   "cell_type": "code",
   "execution_count": 21,
   "metadata": {},
   "outputs": [
    {
     "data": {
      "text/plain": [
       "{10116, 17703, 22761, 30348, 32877, 40464, 45522}"
      ]
     },
     "execution_count": 21,
     "metadata": {},
     "output_type": "execute_result"
    }
   ],
   "source": [
    "set_b.difference(set_a)"
   ]
  },
  {
   "cell_type": "code",
   "execution_count": 17,
   "metadata": {},
   "outputs": [
    {
     "data": {
      "text/plain": [
       "50580"
      ]
     },
     "execution_count": 17,
     "metadata": {},
     "output_type": "execute_result"
    }
   ],
   "source": [
    "48051 + num"
   ]
  },
  {
   "cell_type": "code",
   "execution_count": 15,
   "metadata": {},
   "outputs": [
    {
     "data": {
      "text/plain": [
       "50580"
      ]
     },
     "execution_count": 15,
     "metadata": {},
     "output_type": "execute_result"
    }
   ],
   "source": [
    "2529 * 20"
   ]
  },
  {
   "cell_type": "code",
   "execution_count": 15,
   "metadata": {},
   "outputs": [
    {
     "name": "stdout",
     "output_type": "stream",
     "text": [
      "50563\n"
     ]
    }
   ],
   "source": [
    "adm_seg_dict = {}\n",
    "for i in range(len(adm_seg_dict_list)):\n",
    "    adm_seg_dict.update(adm_seg_dict_list[i])\n",
    "print(len(adm_seg_dict.keys()))\n",
    "json.dump(adm_seg_dict,open('./adm_seg_dict.json','w'))\n"
   ]
  },
  {
   "cell_type": "markdown",
   "metadata": {},
   "source": [
    "# Run start from here"
   ]
  },
  {
   "cell_type": "code",
   "execution_count": 16,
   "metadata": {},
   "outputs": [],
   "source": [
    "AE_icds = ['99859','9093','99667','99666']"
   ]
  },
  {
   "cell_type": "code",
   "execution_count": 18,
   "metadata": {},
   "outputs": [
    {
     "name": "stdout",
     "output_type": "stream",
     "text": [
      "1203\n",
      "49360\n"
     ]
    }
   ],
   "source": [
    "adm_with_AE = []\n",
    "prev_key = 0\n",
    "for key,value in adm_icd_dict.items():\n",
    "    for icd in AE_icds:\n",
    "        if icd in value:\n",
    "            adm_with_AE.append(key)\n",
    "            break\n",
    "len(adm_with_AE)\n",
    "pickle.dump(adm_with_AE,open('./valid_AE_adm','wb'))\n",
    "\n",
    "AE_adm_seg_dict = {}\n",
    "Neg_adm_seg_dict = {}\n",
    "\n",
    "for key,value in adm_seg_dict.items():\n",
    "    if str(key)[:-2] in adm_with_AE:\n",
    "        AE_adm_seg_dict[key] = value\n",
    "    else:\n",
    "        Neg_adm_seg_dict[key] = value\n",
    "print(len(AE_adm_seg_dict))\n",
    "print(len(Neg_adm_seg_dict))\n",
    "\n",
    "json.dump(AE_adm_seg_dict,open('./result/AE_adm_seg_dict','w'))\n",
    "json.dump(Neg_adm_seg_dict,open('./result/Neg_adm_seg_dict','w'))\n",
    "\n",
    "adm_list = []\n",
    "total_seg_list = []\n",
    "label_list = []\n",
    "ratio = 2\n",
    "count = 0\n",
    "neg_num = len(AE_adm_seg_dict)*ratio\n",
    "for key,value in AE_adm_seg_dict.items():\n",
    "    adm_list.append(key)\n",
    "    label_list.append(1)\n",
    "    total_seg_list.append(value)\n",
    "\n",
    "for key,value in Neg_adm_seg_dict.items():\n",
    "    adm_list.append(key)\n",
    "    label_list.append(0)\n",
    "    total_seg_list.append(value)\n",
    "    count +=1\n",
    "    if count == neg_num:\n",
    "        break\n",
    "        \n"
   ]
  },
  {
   "cell_type": "code",
   "execution_count": 22,
   "metadata": {},
   "outputs": [],
   "source": [
    "X_train, X_test, y_train, y_test,adm_train,adm_test = train_test_split(total_seg_list,label_list,adm_list,stratify=label_list,test_size=0.2)\n",
    "\n",
    "data_dir = './result/ratio2/'\n",
    "with open(data_dir + 'text_train.pkl', 'wb') as f:\n",
    "    pickle.dump(X_train, f)\n",
    "with open(data_dir + 'text_test.pkl', 'wb') as f:\n",
    "    pickle.dump(X_test, f)\n",
    "with open(data_dir + 'label_train.pkl', 'wb') as f:\n",
    "    pickle.dump(y_train, f)\n",
    "with open(data_dir + 'label_test.pkl', 'wb') as f:\n",
    "    pickle.dump(y_test, f)\n",
    "with open(data_dir + 'hadm_train.pkl', 'wb') as f:\n",
    "    pickle.dump(adm_train, f)\n",
    "with open(data_dir + 'hadm_test.pkl', 'wb') as f:\n",
    "    pickle.dump(adm_test, f)\n"
   ]
  },
  {
   "cell_type": "code",
   "execution_count": 20,
   "metadata": {},
   "outputs": [
    {
     "data": {
      "text/plain": [
       "1307"
      ]
     },
     "execution_count": 20,
     "metadata": {},
     "output_type": "execute_result"
    }
   ],
   "source": [
    "len(adm_with_AE)\n"
   ]
  },
  {
   "cell_type": "code",
   "execution_count": null,
   "metadata": {},
   "outputs": [],
   "source": []
  }
 ],
 "metadata": {
  "kernelspec": {
   "display_name": "Python 3",
   "language": "python",
   "name": "python3"
  },
  "language_info": {
   "codemirror_mode": {
    "name": "ipython",
    "version": 3
   },
   "file_extension": ".py",
   "mimetype": "text/x-python",
   "name": "python",
   "nbconvert_exporter": "python",
   "pygments_lexer": "ipython3",
   "version": "3.5.6"
  }
 },
 "nbformat": 4,
 "nbformat_minor": 2
}
