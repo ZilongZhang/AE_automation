{
 "cells": [
  {
   "cell_type": "code",
   "execution_count": 1,
   "metadata": {},
   "outputs": [],
   "source": [
    "import json\n",
    "import pickle\n",
    "import pandas as pd\n"
   ]
  },
  {
   "cell_type": "code",
   "execution_count": 2,
   "metadata": {},
   "outputs": [],
   "source": [
    "src_dir = '/home/zilong.zhang1/AE_automation/preprocessing/result/pu_chart/'\n",
    "text_train = pickle.load(open(src_dir+'text_train_se_merged.pkl','rb'))\n",
    "text_test = pickle.load(open(src_dir+'text_test_se_merged.pkl','rb'))\n",
    "label_test = pickle.load(open(src_dir+'Y_test.pkl','rb'))\n",
    "label_train = pickle.load(open(src_dir+'Y_train.pkl','rb'))   \n",
    "text_train_lemma = pickle.load(open(src_dir+'train_text_lemma.pkl','rb'))\n",
    "text_test_lemma = pickle.load(open(src_dir+'text_test_lemma.pkl','rb'))"
   ]
  },
  {
   "cell_type": "code",
   "execution_count": null,
   "metadata": {},
   "outputs": [],
   "source": [
    "%%time\n",
    "nlp = spacy.load(\"en_core_web_sm\")\n",
    "lemmatized_text = []\n",
    "for doc in nlp.pipe(total_text, batch_size=10,n_process=20, disable=[\"parser\", \"ner\"]):\n",
    "    tmp_doc = [tok.lemma_ for tok in doc]\n",
    "    tmp_doc = ' '.join(tmp_doc)\n",
    "    lemmatized_text.append(tmp_doc)"
   ]
  },
  {
   "cell_type": "code",
   "execution_count": null,
   "metadata": {},
   "outputs": [],
   "source": [
    "text_train_lemma[0]"
   ]
  },
  {
   "cell_type": "code",
   "execution_count": null,
   "metadata": {},
   "outputs": [],
   "source": [
    " 'RECORD_ID', 'text', 'pu_label_no1', 'split_no1','pu_label_have1', 'split_have1', 'lemma_text'"
   ]
  }
 ],
 "metadata": {
  "kernelspec": {
   "display_name": "Python 3",
   "language": "python",
   "name": "python3"
  },
  "language_info": {
   "codemirror_mode": {
    "name": "ipython",
    "version": 3
   },
   "file_extension": ".py",
   "mimetype": "text/x-python",
   "name": "python",
   "nbconvert_exporter": "python",
   "pygments_lexer": "ipython3",
   "version": "3.7.7"
  }
 },
 "nbformat": 4,
 "nbformat_minor": 4
}
