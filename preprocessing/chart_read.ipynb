{
 "cells": [
  {
   "cell_type": "raw",
   "metadata": {},
   "source": [
    "提取出包含PU相关item code，并且value没有提及'Red, Unbroken','Red; unbroken','Intact,Color Chg'的作为正样本，并且关联admission table之后将入院时间，每个PU的观察时间存储到dict(结构：HADM_ID:[[adm,dis],[times]]中)"
   ]
  },
  {
   "cell_type": "code",
   "execution_count": 15,
   "metadata": {},
   "outputs": [],
   "source": [
    "import pandas as pd\n",
    "import numpy as np\n",
    "from prep_tools import columns_count\n",
    "from tqdm import tqdm"
   ]
  },
  {
   "cell_type": "code",
   "execution_count": 23,
   "metadata": {},
   "outputs": [],
   "source": [
    "cols = ['SUBJECT_ID', 'HADM_ID','ITEMID','CHARTTIME','VALUE','WARNING','ERROR','STOPPED'] #'STORETIME'\n",
    "chunksize = 10**6\n",
    "df_generator = pd.read_csv('../data/CHARTEVENTS.csv',chunksize = chunksize,usecols = cols,low_memory=False)\n",
    "df = next(df_generator)\n",
    "pu_df = pd.DataFrame(columns = df.columns)"
   ]
  },
  {
   "cell_type": "code",
   "execution_count": 24,
   "metadata": {},
   "outputs": [
    {
     "data": {
      "text/plain": [
       "Index(['SUBJECT_ID', 'HADM_ID', 'ITEMID', 'CHARTTIME', 'VALUE', 'WARNING',\n",
       "       'ERROR', 'STOPPED'],\n",
       "      dtype='object')"
      ]
     },
     "execution_count": 24,
     "metadata": {},
     "output_type": "execute_result"
    }
   ],
   "source": [
    "df.columns"
   ]
  },
  {
   "cell_type": "code",
   "execution_count": 26,
   "metadata": {},
   "outputs": [
    {
     "data": {
      "text/html": [
       "<div>\n",
       "<style scoped>\n",
       "    .dataframe tbody tr th:only-of-type {\n",
       "        vertical-align: middle;\n",
       "    }\n",
       "\n",
       "    .dataframe tbody tr th {\n",
       "        vertical-align: top;\n",
       "    }\n",
       "\n",
       "    .dataframe thead th {\n",
       "        text-align: right;\n",
       "    }\n",
       "</style>\n",
       "<table border=\"1\" class=\"dataframe\">\n",
       "  <thead>\n",
       "    <tr style=\"text-align: right;\">\n",
       "      <th></th>\n",
       "      <th>SUBJECT_ID</th>\n",
       "      <th>HADM_ID</th>\n",
       "      <th>ITEMID</th>\n",
       "      <th>CHARTTIME</th>\n",
       "      <th>VALUE</th>\n",
       "      <th>WARNING</th>\n",
       "      <th>ERROR</th>\n",
       "      <th>STOPPED</th>\n",
       "    </tr>\n",
       "  </thead>\n",
       "  <tbody>\n",
       "    <tr>\n",
       "      <th>0</th>\n",
       "      <td>36</td>\n",
       "      <td>165660</td>\n",
       "      <td>223834</td>\n",
       "      <td>2134-05-12 12:00:00</td>\n",
       "      <td>15.00</td>\n",
       "      <td>0</td>\n",
       "      <td>0</td>\n",
       "      <td>NaN</td>\n",
       "    </tr>\n",
       "    <tr>\n",
       "      <th>1</th>\n",
       "      <td>36</td>\n",
       "      <td>165660</td>\n",
       "      <td>223835</td>\n",
       "      <td>2134-05-12 12:00:00</td>\n",
       "      <td>100.00</td>\n",
       "      <td>0</td>\n",
       "      <td>0</td>\n",
       "      <td>NaN</td>\n",
       "    </tr>\n",
       "    <tr>\n",
       "      <th>2</th>\n",
       "      <td>36</td>\n",
       "      <td>165660</td>\n",
       "      <td>224328</td>\n",
       "      <td>2134-05-12 12:00:00</td>\n",
       "      <td>0.37</td>\n",
       "      <td>0</td>\n",
       "      <td>0</td>\n",
       "      <td>NaN</td>\n",
       "    </tr>\n",
       "    <tr>\n",
       "      <th>3</th>\n",
       "      <td>36</td>\n",
       "      <td>165660</td>\n",
       "      <td>224329</td>\n",
       "      <td>2134-05-12 12:00:00</td>\n",
       "      <td>6.00</td>\n",
       "      <td>0</td>\n",
       "      <td>0</td>\n",
       "      <td>NaN</td>\n",
       "    </tr>\n",
       "    <tr>\n",
       "      <th>4</th>\n",
       "      <td>36</td>\n",
       "      <td>165660</td>\n",
       "      <td>224330</td>\n",
       "      <td>2134-05-12 12:00:00</td>\n",
       "      <td>2.50</td>\n",
       "      <td>0</td>\n",
       "      <td>0</td>\n",
       "      <td>NaN</td>\n",
       "    </tr>\n",
       "    <tr>\n",
       "      <th>...</th>\n",
       "      <td>...</td>\n",
       "      <td>...</td>\n",
       "      <td>...</td>\n",
       "      <td>...</td>\n",
       "      <td>...</td>\n",
       "      <td>...</td>\n",
       "      <td>...</td>\n",
       "      <td>...</td>\n",
       "    </tr>\n",
       "    <tr>\n",
       "      <th>999995</th>\n",
       "      <td>10694</td>\n",
       "      <td>138159</td>\n",
       "      <td>224697</td>\n",
       "      <td>2153-08-17 10:19:00</td>\n",
       "      <td>16.00</td>\n",
       "      <td>0</td>\n",
       "      <td>0</td>\n",
       "      <td>NaN</td>\n",
       "    </tr>\n",
       "    <tr>\n",
       "      <th>999996</th>\n",
       "      <td>10694</td>\n",
       "      <td>138159</td>\n",
       "      <td>224738</td>\n",
       "      <td>2153-08-17 10:19:00</td>\n",
       "      <td>0.70</td>\n",
       "      <td>0</td>\n",
       "      <td>0</td>\n",
       "      <td>NaN</td>\n",
       "    </tr>\n",
       "    <tr>\n",
       "      <th>999997</th>\n",
       "      <td>10694</td>\n",
       "      <td>138159</td>\n",
       "      <td>224828</td>\n",
       "      <td>2153-08-17 10:19:00</td>\n",
       "      <td>-1.00</td>\n",
       "      <td>0</td>\n",
       "      <td>0</td>\n",
       "      <td>NaN</td>\n",
       "    </tr>\n",
       "    <tr>\n",
       "      <th>999998</th>\n",
       "      <td>10694</td>\n",
       "      <td>138159</td>\n",
       "      <td>225698</td>\n",
       "      <td>2153-08-17 10:19:00</td>\n",
       "      <td>22.00</td>\n",
       "      <td>0</td>\n",
       "      <td>0</td>\n",
       "      <td>NaN</td>\n",
       "    </tr>\n",
       "    <tr>\n",
       "      <th>999999</th>\n",
       "      <td>10694</td>\n",
       "      <td>138159</td>\n",
       "      <td>226871</td>\n",
       "      <td>2153-08-17 10:19:00</td>\n",
       "      <td>2.40</td>\n",
       "      <td>0</td>\n",
       "      <td>0</td>\n",
       "      <td>NaN</td>\n",
       "    </tr>\n",
       "  </tbody>\n",
       "</table>\n",
       "<p>1000000 rows × 8 columns</p>\n",
       "</div>"
      ],
      "text/plain": [
       "        SUBJECT_ID  HADM_ID  ITEMID            CHARTTIME   VALUE  WARNING  \\\n",
       "0               36   165660  223834  2134-05-12 12:00:00   15.00        0   \n",
       "1               36   165660  223835  2134-05-12 12:00:00  100.00        0   \n",
       "2               36   165660  224328  2134-05-12 12:00:00    0.37        0   \n",
       "3               36   165660  224329  2134-05-12 12:00:00    6.00        0   \n",
       "4               36   165660  224330  2134-05-12 12:00:00    2.50        0   \n",
       "...            ...      ...     ...                  ...     ...      ...   \n",
       "999995       10694   138159  224697  2153-08-17 10:19:00   16.00        0   \n",
       "999996       10694   138159  224738  2153-08-17 10:19:00    0.70        0   \n",
       "999997       10694   138159  224828  2153-08-17 10:19:00   -1.00        0   \n",
       "999998       10694   138159  225698  2153-08-17 10:19:00   22.00        0   \n",
       "999999       10694   138159  226871  2153-08-17 10:19:00    2.40        0   \n",
       "\n",
       "        ERROR  STOPPED  \n",
       "0           0      NaN  \n",
       "1           0      NaN  \n",
       "2           0      NaN  \n",
       "3           0      NaN  \n",
       "4           0      NaN  \n",
       "...       ...      ...  \n",
       "999995      0      NaN  \n",
       "999996      0      NaN  \n",
       "999997      0      NaN  \n",
       "999998      0      NaN  \n",
       "999999      0      NaN  \n",
       "\n",
       "[1000000 rows x 8 columns]"
      ]
     },
     "execution_count": 26,
     "metadata": {},
     "output_type": "execute_result"
    }
   ],
   "source": [
    "df"
   ]
  },
  {
   "cell_type": "raw",
   "metadata": {},
   "source": [
    "item_label_dict = {227618: 'Pressure Ulcer Stage #9',\n",
    " 227619: 'Pressure Ulcer Stage #10',\n",
    " 224965: 'Pressure Ulcer Stage #2',\n",
    " 224966: 'Pressure Ulcer Stage #3',\n",
    " 224967: 'Pressure Ulcer Stage #4',\n",
    " 224968: 'Pressure Ulcer Stage #5',\n",
    " 224969: 'Pressure Ulcer Stage #6',\n",
    " 224970: 'Pressure Ulcer Stage #7',\n",
    " 224971: 'Pressure Ulcer Stage #8',\n",
    " 552: 'Pressure Sore #2 [Stage]',\n",
    " 553: 'Pressure Sore #3 [Stage]'}"
   ]
  },
  {
   "cell_type": "code",
   "execution_count": 20,
   "metadata": {},
   "outputs": [],
   "source": [
    "item_label_dict_complete = {227618: 'Pressure Ulcer Stage #9',\n",
    " 227619: 'Pressure Ulcer Stage #10',\n",
    " 224965: 'Pressure Ulcer Stage #2',\n",
    " 224966: 'Pressure Ulcer Stage #3',\n",
    " 224967: 'Pressure Ulcer Stage #4',\n",
    " 224968: 'Pressure Ulcer Stage #5',\n",
    " 224969: 'Pressure Ulcer Stage #6',\n",
    " 224970: 'Pressure Ulcer Stage #7',\n",
    " 224971: 'Pressure Ulcer Stage #8',\n",
    " 224631: 'Pressure Ulcer Stage #1',\n",
    " 551: 'Pressure Sore #1 [Stage]',\n",
    " 552: 'Pressure Sore #2 [Stage]',\n",
    " 553: 'Pressure Sore #3 [Stage]'}"
   ]
  },
  {
   "cell_type": "code",
   "execution_count": 27,
   "metadata": {},
   "outputs": [
    {
     "name": "stdout",
     "output_type": "stream",
     "text": [
      "13\n"
     ]
    }
   ],
   "source": [
    "pu_list = set(item_label_dict_complete.keys())\n",
    "print(len(pu_list))"
   ]
  },
  {
   "cell_type": "code",
   "execution_count": 33,
   "metadata": {},
   "outputs": [
    {
     "name": "stderr",
     "output_type": "stream",
     "text": [
      "331it [06:06,  1.11s/it]\n"
     ]
    }
   ],
   "source": [
    "import time\n",
    "df_generator = pd.read_csv('../data/CHARTEVENTS.csv',chunksize = chunksize,usecols = cols,low_memory=False)\n",
    "count = 0\n",
    "#t1 = time.time() #时间主要在读数据上，没有帮助\n",
    "for df in tqdm(df_generator):\n",
    "    tmp_pu_df = df.loc[df['ITEMID'].isin(pu_list)]\n",
    "    pu_df = pd.concat([pu_df,tmp_pu_df])\n",
    "    count += len(tmp_pu_df)\n",
    "    #if count > 10:\n",
    "        #break"
   ]
  },
  {
   "cell_type": "code",
   "execution_count": 35,
   "metadata": {},
   "outputs": [
    {
     "data": {
      "text/plain": [
       "(220756, 8)"
      ]
     },
     "execution_count": 35,
     "metadata": {},
     "output_type": "execute_result"
    }
   ],
   "source": [
    "pu_df.shape"
   ]
  },
  {
   "cell_type": "code",
   "execution_count": 36,
   "metadata": {},
   "outputs": [],
   "source": [
    "pu_df.to_csv('pu_df.csv')\n",
    "#pu_df = pd.read_csv('pu_df.csv')"
   ]
  },
  {
   "cell_type": "code",
   "execution_count": 37,
   "metadata": {},
   "outputs": [
    {
     "data": {
      "text/html": [
       "<div>\n",
       "<style scoped>\n",
       "    .dataframe tbody tr th:only-of-type {\n",
       "        vertical-align: middle;\n",
       "    }\n",
       "\n",
       "    .dataframe tbody tr th {\n",
       "        vertical-align: top;\n",
       "    }\n",
       "\n",
       "    .dataframe thead th {\n",
       "        text-align: right;\n",
       "    }\n",
       "</style>\n",
       "<table border=\"1\" class=\"dataframe\">\n",
       "  <thead>\n",
       "    <tr style=\"text-align: right;\">\n",
       "      <th></th>\n",
       "      <th>SUBJECT_ID</th>\n",
       "      <th>HADM_ID</th>\n",
       "      <th>ITEMID</th>\n",
       "      <th>CHARTTIME</th>\n",
       "      <th>VALUE</th>\n",
       "      <th>WARNING</th>\n",
       "      <th>ERROR</th>\n",
       "      <th>STOPPED</th>\n",
       "    </tr>\n",
       "  </thead>\n",
       "  <tbody>\n",
       "    <tr>\n",
       "      <th>192689796</th>\n",
       "      <td>117</td>\n",
       "      <td>164853</td>\n",
       "      <td>551</td>\n",
       "      <td>2133-11-30 12:00:00</td>\n",
       "      <td>Through Dermis</td>\n",
       "      <td>NaN</td>\n",
       "      <td>NaN</td>\n",
       "      <td>NotStopd</td>\n",
       "    </tr>\n",
       "    <tr>\n",
       "      <th>192695631</th>\n",
       "      <td>145</td>\n",
       "      <td>198161</td>\n",
       "      <td>551</td>\n",
       "      <td>2144-04-23 10:00:00</td>\n",
       "      <td>Red, Unbroken</td>\n",
       "      <td>NaN</td>\n",
       "      <td>NaN</td>\n",
       "      <td>NotStopd</td>\n",
       "    </tr>\n",
       "    <tr>\n",
       "      <th>192701417</th>\n",
       "      <td>117</td>\n",
       "      <td>164853</td>\n",
       "      <td>551</td>\n",
       "      <td>2133-11-30 04:00:00</td>\n",
       "      <td>Through Dermis</td>\n",
       "      <td>NaN</td>\n",
       "      <td>NaN</td>\n",
       "      <td>NotStopd</td>\n",
       "    </tr>\n",
       "    <tr>\n",
       "      <th>192710827</th>\n",
       "      <td>145</td>\n",
       "      <td>198161</td>\n",
       "      <td>551</td>\n",
       "      <td>2144-04-25 11:00:00</td>\n",
       "      <td>Through Dermis</td>\n",
       "      <td>NaN</td>\n",
       "      <td>NaN</td>\n",
       "      <td>NotStopd</td>\n",
       "    </tr>\n",
       "    <tr>\n",
       "      <th>192713385</th>\n",
       "      <td>145</td>\n",
       "      <td>198161</td>\n",
       "      <td>551</td>\n",
       "      <td>2144-04-25 23:00:00</td>\n",
       "      <td>Through Dermis</td>\n",
       "      <td>NaN</td>\n",
       "      <td>NaN</td>\n",
       "      <td>NotStopd</td>\n",
       "    </tr>\n",
       "  </tbody>\n",
       "</table>\n",
       "</div>"
      ],
      "text/plain": [
       "          SUBJECT_ID HADM_ID ITEMID            CHARTTIME           VALUE  \\\n",
       "192689796        117  164853    551  2133-11-30 12:00:00  Through Dermis   \n",
       "192695631        145  198161    551  2144-04-23 10:00:00   Red, Unbroken   \n",
       "192701417        117  164853    551  2133-11-30 04:00:00  Through Dermis   \n",
       "192710827        145  198161    551  2144-04-25 11:00:00  Through Dermis   \n",
       "192713385        145  198161    551  2144-04-25 23:00:00  Through Dermis   \n",
       "\n",
       "          WARNING ERROR   STOPPED  \n",
       "192689796     NaN   NaN  NotStopd  \n",
       "192695631     NaN   NaN  NotStopd  \n",
       "192701417     NaN   NaN  NotStopd  \n",
       "192710827     NaN   NaN  NotStopd  \n",
       "192713385     NaN   NaN  NotStopd  "
      ]
     },
     "execution_count": 37,
     "metadata": {},
     "output_type": "execute_result"
    }
   ],
   "source": [
    "pu_df.head()"
   ]
  },
  {
   "cell_type": "code",
   "execution_count": 38,
   "metadata": {},
   "outputs": [],
   "source": [
    "def columns_count(df,key):\n",
    "    print(df[key].isna().sum() / len(df))\n",
    "    if len(df[key].unique())<5:\n",
    "        df[key].value_counts(normalize=True).plot(kind='bar',figsize=(6, 8));\n",
    "    else:\n",
    "        df[key].value_counts(normalize=True).plot(kind='barh',figsize=(10, 20));"
   ]
  },
  {
   "cell_type": "code",
   "execution_count": 39,
   "metadata": {
    "scrolled": true
   },
   "outputs": [
    {
     "name": "stdout",
     "output_type": "stream",
     "text": [
      "0.0\n"
     ]
    },
    {
     "data": {
      "image/png": "[encoded data removed]",
      "text/plain": [
       "<Figure size 720x1440 with 1 Axes>"
      ]
     },
     "metadata": {
      "needs_background": "light"
     },
     "output_type": "display_data"
    }
   ],
   "source": [
    "columns_count(pu_df,'ITEMID') #224631, 224965, 224966"
   ]
  },
  {
   "cell_type": "code",
   "execution_count": 47,
   "metadata": {},
   "outputs": [],
   "source": [
    "#pu_df = pu_df[pu_df['ITEMID']!=551]"
   ]
  },
  {
   "cell_type": "code",
   "execution_count": 40,
   "metadata": {},
   "outputs": [
    {
     "data": {
      "text/plain": [
       "6894"
      ]
     },
     "execution_count": 40,
     "metadata": {},
     "output_type": "execute_result"
    }
   ],
   "source": [
    "len(pu_df['HADM_ID'].unique())"
   ]
  },
  {
   "cell_type": "code",
   "execution_count": 41,
   "metadata": {},
   "outputs": [],
   "source": [
    "pu_df = pu_df.dropna(subset = ['VALUE'])"
   ]
  },
  {
   "cell_type": "code",
   "execution_count": 42,
   "metadata": {},
   "outputs": [],
   "source": [
    "severe_pu = pu_df[-pu_df['VALUE'].isin(['Red, Unbroken','Red; unbroken','Intact,Color Chg'])]"
   ]
  },
  {
   "cell_type": "code",
   "execution_count": 43,
   "metadata": {},
   "outputs": [
    {
     "data": {
      "text/plain": [
       "(163805, 8)"
      ]
     },
     "execution_count": 43,
     "metadata": {},
     "output_type": "execute_result"
    }
   ],
   "source": [
    "severe_pu.shape"
   ]
  },
  {
   "cell_type": "code",
   "execution_count": 44,
   "metadata": {},
   "outputs": [
    {
     "data": {
      "text/plain": [
       "5304"
      ]
     },
     "execution_count": 44,
     "metadata": {},
     "output_type": "execute_result"
    }
   ],
   "source": [
    "len(severe_pu['HADM_ID'].unique())"
   ]
  },
  {
   "cell_type": "raw",
   "metadata": {},
   "source": [
    "from collections import defaultdict\n",
    "chart_pu_ids = severe_pu['HADM_ID'].unique()\n",
    "timeline_dict = defaultdict(lambda:[[],[]])\n",
    "for adm_id in chart_pu_ids:\n",
    "    tmp_df = severe_pu[severe_pu['HADM_ID'] == adm_id]\n",
    "    event_id = list(tmp_df['ITEMID'])\n",
    "    event_name = [item_label_dict_complete[x] for x in event_id]\n",
    "    raw_date_list = tmp_df['CHARTTIME']\n",
    "    date_list = [pd.to_datetime(x) for x in raw_date_list]\n",
    "    timeline_dict[adm_id][0] = event_name\n",
    "    timeline_dict[adm_id][1] = date_list"
   ]
  },
  {
   "cell_type": "code",
   "execution_count": 90,
   "metadata": {},
   "outputs": [
    {
     "name": "stderr",
     "output_type": "stream",
     "text": [
      "100%|██████████| 5304/5304 [01:05<00:00, 81.54it/s]\n"
     ]
    }
   ],
   "source": [
    "timeline_df = pd.DataFrame(columns = ['ADM_ID','ADM_TIME','DIS_TIME','PU_TIME','PU_name'])\n",
    "chart_pu_ids = severe_pu['HADM_ID'].unique()\n",
    "adm_df = pd.read_csv('../data/ADMISSIONS.csv')\n",
    "\n",
    "for adm_id in tqdm(chart_pu_ids):\n",
    "    tmp_df = severe_pu[severe_pu['HADM_ID'] == adm_id]\n",
    "    adm_row = adm_df[adm_df.HADM_ID == adm_id].iloc[0]\n",
    "    event_id = list(tmp_df['ITEMID'])\n",
    "    event_name = [item_label_dict_complete[x] for x in event_id]\n",
    "    raw_date_list = list(tmp_df['CHARTTIME'])\n",
    "    raw_date_list,event_name = zip(*sorted(zip(raw_date_list,event_name)))\n",
    "    tmp_len = len(timeline_df)\n",
    "    timeline_df.loc[tmp_len] = [adm_id,adm_row['ADMITTIME'],adm_row['DISCHTIME'],raw_date_list,event_name]\n",
    "timeline_df = timeline_df.set_index('ADM_ID')"
   ]
  },
  {
   "cell_type": "code",
   "execution_count": 88,
   "metadata": {},
   "outputs": [],
   "source": [
    "raw_date_list.sort()"
   ]
  },
  {
   "cell_type": "code",
   "execution_count": 89,
   "metadata": {},
   "outputs": [
    {
     "data": {
      "text/plain": [
       "['2148-12-06 08:18:00', '2148-12-06 08:19:00', '2148-12-06 12:00:00']"
      ]
     },
     "execution_count": 89,
     "metadata": {},
     "output_type": "execute_result"
    }
   ],
   "source": [
    "raw_date_list"
   ]
  },
  {
   "cell_type": "raw",
   "metadata": {},
   "source": [
    "adm_df = pd.read_csv('../data/ADMISSIONS.csv')\n",
    "pu_adm_df = adm_df[adm_df['HADM_ID'].isin(chart_pu_ids)]"
   ]
  },
  {
   "cell_type": "raw",
   "metadata": {},
   "source": [
    "adm_df = pd.read_csv('../data/ADMISSIONS.csv')\n",
    "for i in range(len(pu_adm_df)):\n",
    "    row = pu_adm_df.iloc[i]\n",
    "    tmp_id = row['HADM_ID']\n",
    "    timeline_dict[tmp_id][0].insert(0,'admission_0')\n",
    "    timeline_dict[tmp_id][0].append('discharge_11')\n",
    "    timeline_dict[tmp_id][1].insert(0,pd.to_datetime(row['ADMITTIME']))\n",
    "    timeline_dict[tmp_id][1].append(pd.to_datetime(row['DISCHTIME']))"
   ]
  },
  {
   "cell_type": "raw",
   "metadata": {},
   "source": [
    "import json\n",
    "json.dump(timeline_dict,open('timeline_dict_time.json','w'), indent=4, sort_keys=True, default=str)"
   ]
  },
  {
   "cell_type": "raw",
   "metadata": {},
   "source": [
    "event_name"
   ]
  },
  {
   "cell_type": "raw",
   "metadata": {},
   "source": [
    "date_list"
   ]
  },
  {
   "cell_type": "code",
   "execution_count": 91,
   "metadata": {},
   "outputs": [
    {
     "data": {
      "text/plain": [
       "('2133-11-25 12:00:00',\n",
       " '2133-11-25 12:00:00',\n",
       " '2133-11-29 05:30:00',\n",
       " '2133-11-29 05:30:00',\n",
       " '2133-11-30 00:00:00',\n",
       " '2133-11-30 00:00:00',\n",
       " '2133-11-30 04:00:00',\n",
       " '2133-11-30 04:00:00',\n",
       " '2133-11-30 12:00:00',\n",
       " '2133-11-30 12:00:00')"
      ]
     },
     "execution_count": 91,
     "metadata": {},
     "output_type": "execute_result"
    }
   ],
   "source": [
    "timeline_df.PU_TIME[0]"
   ]
  },
  {
   "cell_type": "code",
   "execution_count": 52,
   "metadata": {},
   "outputs": [],
   "source": [
    "severe_pu.to_csv('severe_pu.csv')"
   ]
  },
  {
   "cell_type": "code",
   "execution_count": 72,
   "metadata": {},
   "outputs": [
    {
     "data": {
      "text/plain": [
       "0       [Pressure Sore #1 [Stage], Pressure Sore #1 [S...\n",
       "1       [Pressure Sore #1 [Stage], Pressure Sore #1 [S...\n",
       "2       [Pressure Sore #1 [Stage], Pressure Sore #1 [S...\n",
       "3       [Pressure Sore #1 [Stage], Pressure Sore #1 [S...\n",
       "4       [Pressure Sore #1 [Stage], Pressure Sore #1 [S...\n",
       "                              ...                        \n",
       "5299                            [Pressure Ulcer Stage #1]\n",
       "5300    [Pressure Ulcer Stage #2, Pressure Ulcer Stage...\n",
       "5301    [Pressure Ulcer Stage #3, Pressure Ulcer Stage...\n",
       "5302                            [Pressure Ulcer Stage #1]\n",
       "5303    [Pressure Ulcer Stage #1, Pressure Ulcer Stage...\n",
       "Name: PU_name, Length: 5304, dtype: object"
      ]
     },
     "execution_count": 72,
     "metadata": {},
     "output_type": "execute_result"
    }
   ],
   "source": [
    "timeline_df.PU_name"
   ]
  },
  {
   "cell_type": "code",
   "execution_count": 100,
   "metadata": {},
   "outputs": [
    {
     "data": {
      "text/html": [
       "<div>\n",
       "<style scoped>\n",
       "    .dataframe tbody tr th:only-of-type {\n",
       "        vertical-align: middle;\n",
       "    }\n",
       "\n",
       "    .dataframe tbody tr th {\n",
       "        vertical-align: top;\n",
       "    }\n",
       "\n",
       "    .dataframe thead th {\n",
       "        text-align: right;\n",
       "    }\n",
       "</style>\n",
       "<table border=\"1\" class=\"dataframe\">\n",
       "  <thead>\n",
       "    <tr style=\"text-align: right;\">\n",
       "      <th></th>\n",
       "      <th>ADM_TIME</th>\n",
       "      <th>DIS_TIME</th>\n",
       "      <th>PU_TIME</th>\n",
       "      <th>PU_name</th>\n",
       "    </tr>\n",
       "    <tr>\n",
       "      <th>ADM_ID</th>\n",
       "      <th></th>\n",
       "      <th></th>\n",
       "      <th></th>\n",
       "      <th></th>\n",
       "    </tr>\n",
       "  </thead>\n",
       "  <tbody>\n",
       "    <tr>\n",
       "      <th>164853</th>\n",
       "      <td>2133-11-13 21:34:00</td>\n",
       "      <td>2133-12-01 17:00:00</td>\n",
       "      <td>(2133-11-25 12:00:00, 2133-11-25 12:00:00, 213...</td>\n",
       "      <td>(Pressure Sore #1 [Stage], Pressure Sore #1 [S...</td>\n",
       "    </tr>\n",
       "    <tr>\n",
       "      <th>198161</th>\n",
       "      <td>2144-03-29 01:44:00</td>\n",
       "      <td>2144-07-14 16:15:00</td>\n",
       "      <td>(2144-04-23 15:00:00, 2144-04-23 15:00:00, 214...</td>\n",
       "      <td>(Pressure Sore #1 [Stage], Pressure Sore #1 [S...</td>\n",
       "    </tr>\n",
       "    <tr>\n",
       "      <th>140037</th>\n",
       "      <td>2176-09-02 14:22:00</td>\n",
       "      <td>2176-09-25 13:15:00</td>\n",
       "      <td>(2176-09-11 13:00:00, 2176-09-11 14:45:00, 217...</td>\n",
       "      <td>(Pressure Sore #1 [Stage], Pressure Sore #1 [S...</td>\n",
       "    </tr>\n",
       "    <tr>\n",
       "      <th>199280</th>\n",
       "      <td>2120-12-31 07:15:00</td>\n",
       "      <td>2121-01-27 12:40:00</td>\n",
       "      <td>(2121-01-20 08:00:00, 2121-01-20 12:00:00, 212...</td>\n",
       "      <td>(Pressure Sore #1 [Stage], Pressure Sore #1 [S...</td>\n",
       "    </tr>\n",
       "    <tr>\n",
       "      <th>107880</th>\n",
       "      <td>2106-06-17 19:51:00</td>\n",
       "      <td>2106-06-24 17:50:00</td>\n",
       "      <td>(2106-06-20 01:00:00, 2106-06-21 09:00:00, 210...</td>\n",
       "      <td>(Pressure Sore #1 [Stage], Pressure Sore #1 [S...</td>\n",
       "    </tr>\n",
       "  </tbody>\n",
       "</table>\n",
       "</div>"
      ],
      "text/plain": [
       "                   ADM_TIME             DIS_TIME  \\\n",
       "ADM_ID                                             \n",
       "164853  2133-11-13 21:34:00  2133-12-01 17:00:00   \n",
       "198161  2144-03-29 01:44:00  2144-07-14 16:15:00   \n",
       "140037  2176-09-02 14:22:00  2176-09-25 13:15:00   \n",
       "199280  2120-12-31 07:15:00  2121-01-27 12:40:00   \n",
       "107880  2106-06-17 19:51:00  2106-06-24 17:50:00   \n",
       "\n",
       "                                                  PU_TIME  \\\n",
       "ADM_ID                                                      \n",
       "164853  (2133-11-25 12:00:00, 2133-11-25 12:00:00, 213...   \n",
       "198161  (2144-04-23 15:00:00, 2144-04-23 15:00:00, 214...   \n",
       "140037  (2176-09-11 13:00:00, 2176-09-11 14:45:00, 217...   \n",
       "199280  (2121-01-20 08:00:00, 2121-01-20 12:00:00, 212...   \n",
       "107880  (2106-06-20 01:00:00, 2106-06-21 09:00:00, 210...   \n",
       "\n",
       "                                                  PU_name  \n",
       "ADM_ID                                                     \n",
       "164853  (Pressure Sore #1 [Stage], Pressure Sore #1 [S...  \n",
       "198161  (Pressure Sore #1 [Stage], Pressure Sore #1 [S...  \n",
       "140037  (Pressure Sore #1 [Stage], Pressure Sore #1 [S...  \n",
       "199280  (Pressure Sore #1 [Stage], Pressure Sore #1 [S...  \n",
       "107880  (Pressure Sore #1 [Stage], Pressure Sore #1 [S...  "
      ]
     },
     "execution_count": 100,
     "metadata": {},
     "output_type": "execute_result"
    }
   ],
   "source": [
    "timeline_df.head()"
   ]
  },
  {
   "cell_type": "code",
   "execution_count": 106,
   "metadata": {},
   "outputs": [],
   "source": [
    "timeline_df.to_csv('./result/pu_chart/timeline_df.csv')"
   ]
  },
  {
   "cell_type": "code",
   "execution_count": 105,
   "metadata": {},
   "outputs": [
    {
     "data": {
      "text/html": [
       "<div>\n",
       "<style scoped>\n",
       "    .dataframe tbody tr th:only-of-type {\n",
       "        vertical-align: middle;\n",
       "    }\n",
       "\n",
       "    .dataframe tbody tr th {\n",
       "        vertical-align: top;\n",
       "    }\n",
       "\n",
       "    .dataframe thead th {\n",
       "        text-align: right;\n",
       "    }\n",
       "</style>\n",
       "<table border=\"1\" class=\"dataframe\">\n",
       "  <thead>\n",
       "    <tr style=\"text-align: right;\">\n",
       "      <th></th>\n",
       "      <th>ADM_ID</th>\n",
       "      <th>ADM_TIME</th>\n",
       "      <th>DIS_TIME</th>\n",
       "      <th>PU_TIME</th>\n",
       "      <th>PU_name</th>\n",
       "    </tr>\n",
       "  </thead>\n",
       "  <tbody>\n",
       "    <tr>\n",
       "      <th>0</th>\n",
       "      <td>164853</td>\n",
       "      <td>2133-11-13 21:34:00</td>\n",
       "      <td>2133-12-01 17:00:00</td>\n",
       "      <td>('2133-11-25 12:00:00', '2133-11-25 12:00:00',...</td>\n",
       "      <td>('Pressure Sore #1 [Stage]', 'Pressure Sore #1...</td>\n",
       "    </tr>\n",
       "    <tr>\n",
       "      <th>1</th>\n",
       "      <td>198161</td>\n",
       "      <td>2144-03-29 01:44:00</td>\n",
       "      <td>2144-07-14 16:15:00</td>\n",
       "      <td>('2144-04-23 15:00:00', '2144-04-23 15:00:00',...</td>\n",
       "      <td>('Pressure Sore #1 [Stage]', 'Pressure Sore #1...</td>\n",
       "    </tr>\n",
       "    <tr>\n",
       "      <th>2</th>\n",
       "      <td>140037</td>\n",
       "      <td>2176-09-02 14:22:00</td>\n",
       "      <td>2176-09-25 13:15:00</td>\n",
       "      <td>('2176-09-11 13:00:00', '2176-09-11 14:45:00',...</td>\n",
       "      <td>('Pressure Sore #1 [Stage]', 'Pressure Sore #1...</td>\n",
       "    </tr>\n",
       "    <tr>\n",
       "      <th>3</th>\n",
       "      <td>199280</td>\n",
       "      <td>2120-12-31 07:15:00</td>\n",
       "      <td>2121-01-27 12:40:00</td>\n",
       "      <td>('2121-01-20 08:00:00', '2121-01-20 12:00:00',...</td>\n",
       "      <td>('Pressure Sore #1 [Stage]', 'Pressure Sore #1...</td>\n",
       "    </tr>\n",
       "    <tr>\n",
       "      <th>4</th>\n",
       "      <td>107880</td>\n",
       "      <td>2106-06-17 19:51:00</td>\n",
       "      <td>2106-06-24 17:50:00</td>\n",
       "      <td>('2106-06-20 01:00:00', '2106-06-21 09:00:00',...</td>\n",
       "      <td>('Pressure Sore #1 [Stage]', 'Pressure Sore #1...</td>\n",
       "    </tr>\n",
       "  </tbody>\n",
       "</table>\n",
       "</div>"
      ],
      "text/plain": [
       "   ADM_ID             ADM_TIME             DIS_TIME  \\\n",
       "0  164853  2133-11-13 21:34:00  2133-12-01 17:00:00   \n",
       "1  198161  2144-03-29 01:44:00  2144-07-14 16:15:00   \n",
       "2  140037  2176-09-02 14:22:00  2176-09-25 13:15:00   \n",
       "3  199280  2120-12-31 07:15:00  2121-01-27 12:40:00   \n",
       "4  107880  2106-06-17 19:51:00  2106-06-24 17:50:00   \n",
       "\n",
       "                                             PU_TIME  \\\n",
       "0  ('2133-11-25 12:00:00', '2133-11-25 12:00:00',...   \n",
       "1  ('2144-04-23 15:00:00', '2144-04-23 15:00:00',...   \n",
       "2  ('2176-09-11 13:00:00', '2176-09-11 14:45:00',...   \n",
       "3  ('2121-01-20 08:00:00', '2121-01-20 12:00:00',...   \n",
       "4  ('2106-06-20 01:00:00', '2106-06-21 09:00:00',...   \n",
       "\n",
       "                                             PU_name  \n",
       "0  ('Pressure Sore #1 [Stage]', 'Pressure Sore #1...  \n",
       "1  ('Pressure Sore #1 [Stage]', 'Pressure Sore #1...  \n",
       "2  ('Pressure Sore #1 [Stage]', 'Pressure Sore #1...  \n",
       "3  ('Pressure Sore #1 [Stage]', 'Pressure Sore #1...  \n",
       "4  ('Pressure Sore #1 [Stage]', 'Pressure Sore #1...  "
      ]
     },
     "execution_count": 105,
     "metadata": {},
     "output_type": "execute_result"
    }
   ],
   "source": [
    "aaa = pd.read_csv('timeline_df.csv')\n",
    "aaa.head()"
   ]
  },
  {
   "cell_type": "code",
   "execution_count": 77,
   "metadata": {},
   "outputs": [],
   "source": [
    "import re\n",
    "tmp_id = chart_pu_ids[100]\n",
    "values = [int(re.search('\\d',x).group()) for x in timeline_df.loc[tmp_id].PU_name]#timeline_dict[tmp_id][0]]"
   ]
  },
  {
   "cell_type": "code",
   "execution_count": 78,
   "metadata": {},
   "outputs": [
    {
     "data": {
      "text/plain": [
       "[1,\n",
       " 1,\n",
       " 1,\n",
       " 1,\n",
       " 1,\n",
       " 1,\n",
       " 1,\n",
       " 1,\n",
       " 1,\n",
       " 1,\n",
       " 1,\n",
       " 1,\n",
       " 1,\n",
       " 1,\n",
       " 1,\n",
       " 1,\n",
       " 1,\n",
       " 1,\n",
       " 1,\n",
       " 1,\n",
       " 1,\n",
       " 1,\n",
       " 1,\n",
       " 1,\n",
       " 1,\n",
       " 1,\n",
       " 1,\n",
       " 1,\n",
       " 1,\n",
       " 1,\n",
       " 1,\n",
       " 1,\n",
       " 1,\n",
       " 1,\n",
       " 1,\n",
       " 1,\n",
       " 1,\n",
       " 1,\n",
       " 1,\n",
       " 1,\n",
       " 1,\n",
       " 1,\n",
       " 1,\n",
       " 1,\n",
       " 1,\n",
       " 1,\n",
       " 1,\n",
       " 1,\n",
       " 1,\n",
       " 1,\n",
       " 1,\n",
       " 1,\n",
       " 1,\n",
       " 1,\n",
       " 1,\n",
       " 1,\n",
       " 1,\n",
       " 1,\n",
       " 1,\n",
       " 1,\n",
       " 1,\n",
       " 1,\n",
       " 1,\n",
       " 1,\n",
       " 1,\n",
       " 1,\n",
       " 1,\n",
       " 1,\n",
       " 1,\n",
       " 1,\n",
       " 1,\n",
       " 1,\n",
       " 1,\n",
       " 1,\n",
       " 1,\n",
       " 1,\n",
       " 1,\n",
       " 1,\n",
       " 1,\n",
       " 1,\n",
       " 1,\n",
       " 1,\n",
       " 1,\n",
       " 1,\n",
       " 1,\n",
       " 1,\n",
       " 1,\n",
       " 1,\n",
       " 1,\n",
       " 1,\n",
       " 1,\n",
       " 1,\n",
       " 1,\n",
       " 1,\n",
       " 1,\n",
       " 1,\n",
       " 1,\n",
       " 1,\n",
       " 1,\n",
       " 1,\n",
       " 1,\n",
       " 1,\n",
       " 1,\n",
       " 1,\n",
       " 1,\n",
       " 1,\n",
       " 1,\n",
       " 1,\n",
       " 1,\n",
       " 1,\n",
       " 1,\n",
       " 1,\n",
       " 1,\n",
       " 1,\n",
       " 1,\n",
       " 1,\n",
       " 1,\n",
       " 1,\n",
       " 1,\n",
       " 1,\n",
       " 1,\n",
       " 1,\n",
       " 1,\n",
       " 1,\n",
       " 1,\n",
       " 1,\n",
       " 1,\n",
       " 1,\n",
       " 1,\n",
       " 1,\n",
       " 1,\n",
       " 1,\n",
       " 1,\n",
       " 1]"
      ]
     },
     "execution_count": 78,
     "metadata": {},
     "output_type": "execute_result"
    }
   ],
   "source": [
    "values"
   ]
  },
  {
   "cell_type": "code",
   "execution_count": 99,
   "metadata": {},
   "outputs": [
    {
     "data": {
      "image/png": "[encoded data removed]",
      "text/plain": [
       "<Figure size 432x72 with 1 Axes>"
      ]
     },
     "metadata": {
      "needs_background": "light"
     },
     "output_type": "display_data"
    }
   ],
   "source": [
    "import matplotlib.pyplot as plt\n",
    "tmp_id = chart_pu_ids[100]\n",
    "values = [int(re.search('\\d',x).group()) for x in timeline_df.loc[tmp_id].PU_name]\n",
    "values.append(0)\n",
    "values.insert(0,5)\n",
    "#X = timeline_dict[tmp_id][1]\n",
    "X = list(timeline_df.loc[tmp_id]['PU_TIME'])\n",
    "X.append(timeline_df.loc[tmp_id]['DIS_TIME'])\n",
    "X.insert(0,timeline_df.loc[tmp_id]['ADM_TIME'])\n",
    "X= pd.to_datetime(X)\n",
    "fig, ax = plt.subplots(figsize=(6,1))\n",
    "ax.scatter(X, [1]*len(X), c=values,\n",
    "           marker='|', s=100)\n",
    "\n",
    "fig.autofmt_xdate()\n",
    "\n",
    "# everything after this is turning off stuff that's plotted by default\n",
    "\n",
    "ax.yaxis.set_visible(False)\n",
    "ax.spines['right'].set_visible(False)\n",
    "ax.spines['left'].set_visible(False)\n",
    "ax.spines['top'].set_visible(False)\n",
    "ax.xaxis.set_ticks_position('bottom')\n",
    "\n",
    "ax.get_yaxis().set_ticklabels([])\n",
    "day = pd.to_timedelta(\"1\")\n",
    "plt.xlim(X[0] - day, X[-1] + day)\n",
    "plt.show()"
   ]
  },
  {
   "cell_type": "code",
   "execution_count": 96,
   "metadata": {},
   "outputs": [
    {
     "data": {
      "text/plain": [
       "('2196-03-13 01:00:00',\n",
       " '2196-03-13 04:00:00',\n",
       " '2196-03-13 08:00:00',\n",
       " '2196-03-13 12:00:00',\n",
       " '2196-03-13 15:00:00',\n",
       " '2196-03-14 10:00:00',\n",
       " '2196-03-14 20:00:00',\n",
       " '2196-03-15 00:00:00',\n",
       " '2196-03-15 04:00:00',\n",
       " '2196-03-15 13:00:00',\n",
       " '2196-03-15 17:30:00',\n",
       " '2196-03-16 00:00:00',\n",
       " '2196-03-16 12:00:00',\n",
       " '2196-03-16 16:00:00',\n",
       " '2196-03-16 20:00:00',\n",
       " '2196-03-18 08:00:00',\n",
       " '2196-03-18 12:00:00',\n",
       " '2196-03-18 16:00:00',\n",
       " '2196-03-18 20:00:00',\n",
       " '2196-03-19 00:00:00',\n",
       " '2196-03-19 04:00:00',\n",
       " '2196-03-19 11:00:00',\n",
       " '2196-03-19 15:00:00',\n",
       " '2196-03-19 18:00:00',\n",
       " '2196-03-19 20:00:00',\n",
       " '2196-03-20 00:00:00',\n",
       " '2196-03-21 06:00:00',\n",
       " '2196-03-21 08:30:00',\n",
       " '2196-03-21 13:00:00',\n",
       " '2196-03-21 16:00:00',\n",
       " '2196-03-21 20:00:00',\n",
       " '2196-03-22 01:00:00',\n",
       " '2196-03-22 05:00:00',\n",
       " '2196-03-23 00:00:00',\n",
       " '2196-03-24 10:00:00',\n",
       " '2196-03-24 20:00:00',\n",
       " '2196-03-25 01:00:00',\n",
       " '2196-03-25 08:00:00',\n",
       " '2196-03-25 14:00:00',\n",
       " '2196-03-25 17:00:00',\n",
       " '2196-03-25 20:00:00',\n",
       " '2196-03-26 00:00:00',\n",
       " '2196-03-26 04:00:00',\n",
       " '2196-03-26 08:00:00',\n",
       " '2196-03-26 12:00:00',\n",
       " '2196-03-26 16:00:00',\n",
       " '2196-03-27 00:00:00',\n",
       " '2196-03-27 04:00:00',\n",
       " '2196-03-27 08:00:00',\n",
       " '2196-03-27 12:00:00',\n",
       " '2196-03-27 20:00:00',\n",
       " '2196-03-28 00:00:00',\n",
       " '2196-03-28 04:00:00',\n",
       " '2196-03-28 08:00:00',\n",
       " '2196-03-28 12:00:00',\n",
       " '2196-03-28 20:00:00',\n",
       " '2196-03-29 00:00:00',\n",
       " '2196-03-29 04:00:00',\n",
       " '2196-03-29 08:00:00',\n",
       " '2196-03-29 16:00:00',\n",
       " '2196-03-29 20:00:00',\n",
       " '2196-03-30 16:00:00',\n",
       " '2196-03-30 21:00:00',\n",
       " '2196-03-31 13:00:00',\n",
       " '2196-03-31 16:00:00',\n",
       " '2196-03-31 20:00:00',\n",
       " '2196-04-01 00:00:00',\n",
       " '2196-04-01 04:00:00',\n",
       " '2196-04-01 08:00:00',\n",
       " '2196-04-01 16:00:00',\n",
       " '2196-04-01 20:00:00',\n",
       " '2196-04-02 08:00:00',\n",
       " '2196-04-02 16:00:00',\n",
       " '2196-04-03 00:30:00',\n",
       " '2196-04-03 05:00:00',\n",
       " '2196-04-03 21:00:00',\n",
       " '2196-04-04 03:00:00',\n",
       " '2196-04-04 17:00:00',\n",
       " '2196-04-05 00:00:00',\n",
       " '2196-04-05 08:00:00',\n",
       " '2196-04-05 12:00:00',\n",
       " '2196-04-05 18:00:00',\n",
       " '2196-04-05 21:00:00',\n",
       " '2196-04-06 00:00:00',\n",
       " '2196-04-06 08:00:00',\n",
       " '2196-04-06 17:00:00',\n",
       " '2196-04-07 04:00:00',\n",
       " '2196-04-07 12:00:00',\n",
       " '2196-04-08 00:00:00',\n",
       " '2196-04-08 04:00:00',\n",
       " '2196-04-08 12:00:00',\n",
       " '2196-04-08 16:00:00',\n",
       " '2196-04-08 20:00:00',\n",
       " '2196-04-09 00:00:00',\n",
       " '2196-04-09 04:00:00',\n",
       " '2196-04-09 08:00:00',\n",
       " '2196-04-09 12:00:00',\n",
       " '2196-04-09 17:00:00',\n",
       " '2196-04-09 20:00:00',\n",
       " '2196-04-10 00:00:00',\n",
       " '2196-04-10 04:00:00',\n",
       " '2196-04-10 08:00:00',\n",
       " '2196-04-10 12:00:00',\n",
       " '2196-04-10 15:00:00',\n",
       " '2196-04-10 19:00:00',\n",
       " '2196-04-10 20:00:00',\n",
       " '2196-04-11 08:00:00',\n",
       " '2196-04-11 12:00:00',\n",
       " '2196-04-11 16:00:00',\n",
       " '2196-04-11 20:00:00',\n",
       " '2196-04-12 00:00:00',\n",
       " '2196-04-12 04:00:00',\n",
       " '2196-04-12 12:00:00',\n",
       " '2196-04-16 20:00:00',\n",
       " '2196-04-17 00:00:00',\n",
       " '2196-04-17 04:00:00',\n",
       " '2196-04-17 13:00:00',\n",
       " '2196-04-17 21:00:00',\n",
       " '2196-04-18 00:00:00',\n",
       " '2196-04-18 04:00:00',\n",
       " '2196-04-18 08:00:00',\n",
       " '2196-04-18 16:00:00',\n",
       " '2196-04-18 22:00:00',\n",
       " '2196-04-19 04:00:00',\n",
       " '2196-04-19 08:00:00',\n",
       " '2196-04-19 18:00:00',\n",
       " '2196-04-19 21:00:00',\n",
       " '2196-04-20 00:00:00',\n",
       " '2196-04-20 09:00:00',\n",
       " '2196-04-20 16:00:00',\n",
       " '2196-04-20 20:00:00',\n",
       " '2196-04-21 00:00:00',\n",
       " '2196-04-21 04:00:00',\n",
       " '2196-04-21 09:00:00')"
      ]
     },
     "execution_count": 96,
     "metadata": {},
     "output_type": "execute_result"
    }
   ],
   "source": [
    "X"
   ]
  },
  {
   "cell_type": "code",
   "execution_count": 59,
   "metadata": {},
   "outputs": [
    {
     "data": {
      "text/plain": [
       "Index(['ROW_ID', 'SUBJECT_ID', 'HADM_ID', 'ADMITTIME', 'DISCHTIME',\n",
       "       'DEATHTIME', 'ADMISSION_TYPE', 'ADMISSION_LOCATION',\n",
       "       'DISCHARGE_LOCATION', 'INSURANCE', 'LANGUAGE', 'RELIGION',\n",
       "       'MARITAL_STATUS', 'ETHNICITY', 'EDREGTIME', 'EDOUTTIME', 'DIAGNOSIS',\n",
       "       'HOSPITAL_EXPIRE_FLAG', 'HAS_CHARTEVENTS_DATA'],\n",
       "      dtype='object')"
      ]
     },
     "execution_count": 59,
     "metadata": {},
     "output_type": "execute_result"
    }
   ],
   "source": [
    "adm_df = pd.read_csv('../data/ADMISSIONS.csv')\n",
    "adm_df.columns"
   ]
  },
  {
   "cell_type": "code",
   "execution_count": 60,
   "metadata": {
    "scrolled": true
   },
   "outputs": [],
   "source": []
  },
  {
   "cell_type": "code",
   "execution_count": 63,
   "metadata": {},
   "outputs": [
    {
     "name": "stdout",
     "output_type": "stream",
     "text": [
      "[1, 2, 100, 3, 4, 5]\n"
     ]
    }
   ],
   "source": [
    "aaa = [1,2,3,4,5]\n",
    "aaa.insert(2,100)\n",
    "print(aaa)"
   ]
  },
  {
   "cell_type": "code",
   "execution_count": 65,
   "metadata": {},
   "outputs": [],
   "source": [
    "for i in range(len(pu_adm_df)):\n",
    "    row = pu_adm_df.iloc[i]\n",
    "    tmp_id = row['HADM_ID']\n",
    "    timeline_dict[tmp_id][0].insert(0,'admission_0')\n",
    "    timeline_dict[tmp_id][0].append('discharge_1')\n",
    "    timeline_dict[tmp_id][1].insert(0,pd.to_datetime(row['HADM_ID']).date())\n",
    "    timeline_dict[tmp_id][1].append(pd.to_datetime(row['DISCHTIME']).date())"
   ]
  },
  {
   "cell_type": "code",
   "execution_count": 61,
   "metadata": {},
   "outputs": [
    {
     "data": {
      "text/plain": [
       "3196"
      ]
     },
     "execution_count": 61,
     "metadata": {},
     "output_type": "execute_result"
    }
   ],
   "source": [
    "len(pu_adm_df)"
   ]
  },
  {
   "cell_type": "code",
   "execution_count": 20,
   "metadata": {},
   "outputs": [],
   "source": [
    "item_df = pd.read_csv('../data/D_ITEMS.csv')"
   ]
  },
  {
   "cell_type": "code",
   "execution_count": 25,
   "metadata": {},
   "outputs": [
    {
     "data": {
      "text/plain": [
       "Index(['ROW_ID', 'SUBJECT_ID', 'HADM_ID', 'ICUSTAY_ID', 'ITEMID', 'CHARTTIME',\n",
       "       'STORETIME', 'CGID', 'VALUE', 'VALUENUM', 'VALUEUOM', 'WARNING',\n",
       "       'ERROR', 'RESULTSTATUS', 'STOPPED'],\n",
       "      dtype='object')"
      ]
     },
     "execution_count": 25,
     "metadata": {},
     "output_type": "execute_result"
    }
   ],
   "source": [
    "df.columns"
   ]
  },
  {
   "cell_type": "code",
   "execution_count": 28,
   "metadata": {},
   "outputs": [
    {
     "name": "stdout",
     "output_type": "stream",
     "text": [
      "0.00015\n"
     ]
    }
   ],
   "source": [
    "count = 0\n",
    "for i in range(len(df)):\n",
    "    row = df.iloc[i]\n",
    "    time_diff = abs(pd.to_datetime(row['CHARTTIME']).date() - pd.to_datetime(row['STORETIME']).date())\n",
    "    if time_diff > pd.Timedelta('1 days'):\n",
    "        count +=1\n",
    "print(count / len(df))"
   ]
  },
  {
   "cell_type": "code",
   "execution_count": 29,
   "metadata": {},
   "outputs": [
    {
     "data": {
      "text/plain": [
       "Index(['ROW_ID', 'ITEMID', 'LABEL', 'ABBREVIATION', 'DBSOURCE', 'LINKSTO',\n",
       "       'CATEGORY', 'UNITNAME', 'PARAM_TYPE', 'CONCEPTID'],\n",
       "      dtype='object')"
      ]
     },
     "execution_count": 29,
     "metadata": {},
     "output_type": "execute_result"
    }
   ],
   "source": [
    "item_df.columns"
   ]
  },
  {
   "cell_type": "code",
   "execution_count": 23,
   "metadata": {},
   "outputs": [
    {
     "name": "stdout",
     "output_type": "stream",
     "text": [
      "(12487, 10)\n",
      "(12483, 10)\n"
     ]
    }
   ],
   "source": [
    "print(item_df.shape)\n",
    "item_df = item_df.dropna(subset = ['LABEL'])\n",
    "print(item_df.shape)"
   ]
  },
  {
   "cell_type": "code",
   "execution_count": 24,
   "metadata": {},
   "outputs": [],
   "source": [
    "pu_item = item_df.loc[item_df['LABEL'].str.lower().str.contains('pressure ulcer stage')]"
   ]
  },
  {
   "cell_type": "code",
   "execution_count": 25,
   "metadata": {},
   "outputs": [
    {
     "data": {
      "text/html": [
       "<div>\n",
       "<style scoped>\n",
       "    .dataframe tbody tr th:only-of-type {\n",
       "        vertical-align: middle;\n",
       "    }\n",
       "\n",
       "    .dataframe tbody tr th {\n",
       "        vertical-align: top;\n",
       "    }\n",
       "\n",
       "    .dataframe thead th {\n",
       "        text-align: right;\n",
       "    }\n",
       "</style>\n",
       "<table border=\"1\" class=\"dataframe\">\n",
       "  <thead>\n",
       "    <tr style=\"text-align: right;\">\n",
       "      <th></th>\n",
       "      <th>ROW_ID</th>\n",
       "      <th>ITEMID</th>\n",
       "      <th>LABEL</th>\n",
       "      <th>ABBREVIATION</th>\n",
       "      <th>DBSOURCE</th>\n",
       "      <th>LINKSTO</th>\n",
       "      <th>CATEGORY</th>\n",
       "      <th>UNITNAME</th>\n",
       "      <th>PARAM_TYPE</th>\n",
       "      <th>CONCEPTID</th>\n",
       "    </tr>\n",
       "  </thead>\n",
       "  <tbody>\n",
       "    <tr>\n",
       "      <th>10819</th>\n",
       "      <td>14963</td>\n",
       "      <td>227618</td>\n",
       "      <td>Pressure Ulcer Stage #9</td>\n",
       "      <td>Pressure Ulcer Stage #9</td>\n",
       "      <td>metavision</td>\n",
       "      <td>chartevents</td>\n",
       "      <td>Skin - Impairment</td>\n",
       "      <td>NaN</td>\n",
       "      <td>Text</td>\n",
       "      <td>NaN</td>\n",
       "    </tr>\n",
       "    <tr>\n",
       "      <th>10820</th>\n",
       "      <td>14964</td>\n",
       "      <td>227619</td>\n",
       "      <td>Pressure Ulcer Stage #10</td>\n",
       "      <td>Pressure Ulcer Stage #10</td>\n",
       "      <td>metavision</td>\n",
       "      <td>chartevents</td>\n",
       "      <td>Skin - Impairment</td>\n",
       "      <td>NaN</td>\n",
       "      <td>Text</td>\n",
       "      <td>NaN</td>\n",
       "    </tr>\n",
       "    <tr>\n",
       "      <th>10989</th>\n",
       "      <td>13482</td>\n",
       "      <td>224965</td>\n",
       "      <td>Pressure Ulcer Stage #2</td>\n",
       "      <td>Pressure Ulcer Stage #2</td>\n",
       "      <td>metavision</td>\n",
       "      <td>chartevents</td>\n",
       "      <td>Skin - Impairment</td>\n",
       "      <td>NaN</td>\n",
       "      <td>Text</td>\n",
       "      <td>NaN</td>\n",
       "    </tr>\n",
       "    <tr>\n",
       "      <th>10990</th>\n",
       "      <td>13483</td>\n",
       "      <td>224966</td>\n",
       "      <td>Pressure Ulcer Stage #3</td>\n",
       "      <td>Pressure Ulcer Stage #3</td>\n",
       "      <td>metavision</td>\n",
       "      <td>chartevents</td>\n",
       "      <td>Skin - Impairment</td>\n",
       "      <td>NaN</td>\n",
       "      <td>Text</td>\n",
       "      <td>NaN</td>\n",
       "    </tr>\n",
       "    <tr>\n",
       "      <th>10991</th>\n",
       "      <td>13484</td>\n",
       "      <td>224967</td>\n",
       "      <td>Pressure Ulcer Stage #4</td>\n",
       "      <td>Pressure Ulcer Stage #4</td>\n",
       "      <td>metavision</td>\n",
       "      <td>chartevents</td>\n",
       "      <td>Skin - Impairment</td>\n",
       "      <td>NaN</td>\n",
       "      <td>Text</td>\n",
       "      <td>NaN</td>\n",
       "    </tr>\n",
       "    <tr>\n",
       "      <th>10992</th>\n",
       "      <td>13485</td>\n",
       "      <td>224968</td>\n",
       "      <td>Pressure Ulcer Stage #5</td>\n",
       "      <td>Pressure Ulcer Stage #5</td>\n",
       "      <td>metavision</td>\n",
       "      <td>chartevents</td>\n",
       "      <td>Skin - Impairment</td>\n",
       "      <td>NaN</td>\n",
       "      <td>Text</td>\n",
       "      <td>NaN</td>\n",
       "    </tr>\n",
       "    <tr>\n",
       "      <th>10993</th>\n",
       "      <td>13486</td>\n",
       "      <td>224969</td>\n",
       "      <td>Pressure Ulcer Stage #6</td>\n",
       "      <td>Pressure Ulcer Stage #6</td>\n",
       "      <td>metavision</td>\n",
       "      <td>chartevents</td>\n",
       "      <td>Skin - Impairment</td>\n",
       "      <td>NaN</td>\n",
       "      <td>Text</td>\n",
       "      <td>NaN</td>\n",
       "    </tr>\n",
       "    <tr>\n",
       "      <th>10994</th>\n",
       "      <td>13487</td>\n",
       "      <td>224970</td>\n",
       "      <td>Pressure Ulcer Stage #7</td>\n",
       "      <td>Pressure Ulcer Stage #7</td>\n",
       "      <td>metavision</td>\n",
       "      <td>chartevents</td>\n",
       "      <td>Skin - Impairment</td>\n",
       "      <td>NaN</td>\n",
       "      <td>Text</td>\n",
       "      <td>NaN</td>\n",
       "    </tr>\n",
       "    <tr>\n",
       "      <th>10995</th>\n",
       "      <td>13488</td>\n",
       "      <td>224971</td>\n",
       "      <td>Pressure Ulcer Stage #8</td>\n",
       "      <td>Pressure Ulcer Stage #8</td>\n",
       "      <td>metavision</td>\n",
       "      <td>chartevents</td>\n",
       "      <td>Skin - Impairment</td>\n",
       "      <td>NaN</td>\n",
       "      <td>Text</td>\n",
       "      <td>NaN</td>\n",
       "    </tr>\n",
       "    <tr>\n",
       "      <th>11316</th>\n",
       "      <td>13417</td>\n",
       "      <td>224631</td>\n",
       "      <td>Pressure Ulcer Stage #1</td>\n",
       "      <td>Pressure Ulcer Stage #1</td>\n",
       "      <td>metavision</td>\n",
       "      <td>chartevents</td>\n",
       "      <td>Skin - Impairment</td>\n",
       "      <td>NaN</td>\n",
       "      <td>Text</td>\n",
       "      <td>NaN</td>\n",
       "    </tr>\n",
       "  </tbody>\n",
       "</table>\n",
       "</div>"
      ],
      "text/plain": [
       "       ROW_ID  ITEMID                     LABEL              ABBREVIATION  \\\n",
       "10819   14963  227618   Pressure Ulcer Stage #9   Pressure Ulcer Stage #9   \n",
       "10820   14964  227619  Pressure Ulcer Stage #10  Pressure Ulcer Stage #10   \n",
       "10989   13482  224965   Pressure Ulcer Stage #2   Pressure Ulcer Stage #2   \n",
       "10990   13483  224966   Pressure Ulcer Stage #3   Pressure Ulcer Stage #3   \n",
       "10991   13484  224967   Pressure Ulcer Stage #4   Pressure Ulcer Stage #4   \n",
       "10992   13485  224968   Pressure Ulcer Stage #5   Pressure Ulcer Stage #5   \n",
       "10993   13486  224969   Pressure Ulcer Stage #6   Pressure Ulcer Stage #6   \n",
       "10994   13487  224970   Pressure Ulcer Stage #7   Pressure Ulcer Stage #7   \n",
       "10995   13488  224971   Pressure Ulcer Stage #8   Pressure Ulcer Stage #8   \n",
       "11316   13417  224631   Pressure Ulcer Stage #1   Pressure Ulcer Stage #1   \n",
       "\n",
       "         DBSOURCE      LINKSTO           CATEGORY UNITNAME PARAM_TYPE  \\\n",
       "10819  metavision  chartevents  Skin - Impairment      NaN       Text   \n",
       "10820  metavision  chartevents  Skin - Impairment      NaN       Text   \n",
       "10989  metavision  chartevents  Skin - Impairment      NaN       Text   \n",
       "10990  metavision  chartevents  Skin - Impairment      NaN       Text   \n",
       "10991  metavision  chartevents  Skin - Impairment      NaN       Text   \n",
       "10992  metavision  chartevents  Skin - Impairment      NaN       Text   \n",
       "10993  metavision  chartevents  Skin - Impairment      NaN       Text   \n",
       "10994  metavision  chartevents  Skin - Impairment      NaN       Text   \n",
       "10995  metavision  chartevents  Skin - Impairment      NaN       Text   \n",
       "11316  metavision  chartevents  Skin - Impairment      NaN       Text   \n",
       "\n",
       "       CONCEPTID  \n",
       "10819        NaN  \n",
       "10820        NaN  \n",
       "10989        NaN  \n",
       "10990        NaN  \n",
       "10991        NaN  \n",
       "10992        NaN  \n",
       "10993        NaN  \n",
       "10994        NaN  \n",
       "10995        NaN  \n",
       "11316        NaN  "
      ]
     },
     "execution_count": 25,
     "metadata": {},
     "output_type": "execute_result"
    }
   ],
   "source": [
    "pu_item"
   ]
  },
  {
   "cell_type": "code",
   "execution_count": 26,
   "metadata": {},
   "outputs": [],
   "source": [
    "metavision_list = list(pu_item['ITEMID'])"
   ]
  },
  {
   "cell_type": "code",
   "execution_count": 27,
   "metadata": {},
   "outputs": [],
   "source": [
    "metavision_list = [x for x in metavision_list if x != 224631]"
   ]
  },
  {
   "cell_type": "code",
   "execution_count": 38,
   "metadata": {},
   "outputs": [
    {
     "ename": "AttributeError",
     "evalue": "'str' object has no attribute 'str'",
     "output_type": "error",
     "traceback": [
      "\u001b[0;31m---------------------------------------------------------------------------\u001b[0m",
      "\u001b[0;31mAttributeError\u001b[0m                            Traceback (most recent call last)",
      "\u001b[0;32m<ipython-input-38-b821ef50a194>\u001b[0m in \u001b[0;36m<module>\u001b[0;34m\u001b[0m\n\u001b[1;32m      3\u001b[0m     \u001b[0mrow\u001b[0m \u001b[0;34m=\u001b[0m \u001b[0mpu_item\u001b[0m\u001b[0;34m.\u001b[0m\u001b[0miloc\u001b[0m\u001b[0;34m[\u001b[0m\u001b[0mi\u001b[0m\u001b[0;34m]\u001b[0m\u001b[0;34m\u001b[0m\u001b[0;34m\u001b[0m\u001b[0m\n\u001b[1;32m      4\u001b[0m     \u001b[0;32mif\u001b[0m \u001b[0mrow\u001b[0m\u001b[0;34m[\u001b[0m\u001b[0;34m'ITEMID'\u001b[0m\u001b[0;34m]\u001b[0m \u001b[0;32min\u001b[0m \u001b[0mmetavision_list\u001b[0m\u001b[0;34m:\u001b[0m\u001b[0;34m\u001b[0m\u001b[0;34m\u001b[0m\u001b[0m\n\u001b[0;32m----> 5\u001b[0;31m         \u001b[0mitem_label_dict\u001b[0m\u001b[0;34m[\u001b[0m\u001b[0mrow\u001b[0m\u001b[0;34m[\u001b[0m\u001b[0;34m'ITEMID'\u001b[0m\u001b[0;34m]\u001b[0m\u001b[0;34m]\u001b[0m \u001b[0;34m=\u001b[0m \u001b[0mrow\u001b[0m\u001b[0;34m[\u001b[0m\u001b[0;34m'LABEL'\u001b[0m\u001b[0;34m]\u001b[0m\u001b[0;34m.\u001b[0m\u001b[0mstr\u001b[0m\u001b[0;34m(\u001b[0m\u001b[0;34m)\u001b[0m\u001b[0;34m\u001b[0m\u001b[0;34m\u001b[0m\u001b[0m\n\u001b[0m",
      "\u001b[0;31mAttributeError\u001b[0m: 'str' object has no attribute 'str'"
     ]
    }
   ],
   "source": [
    "item_label_dict = {}\n",
    "for i in range(len(pu_item)):\n",
    "    row = pu_item.iloc[i]\n",
    "    if row['ITEMID'] in metavision_list:\n",
    "        item_label_dict[row['ITEMID']] = row['LABEL'].str()"
   ]
  },
  {
   "cell_type": "code",
   "execution_count": 31,
   "metadata": {},
   "outputs": [
    {
     "data": {
      "text/plain": [
       "{227618: 'Pressure Ulcer Stage #9',\n",
       " 227619: 'Pressure Ulcer Stage #10',\n",
       " 224965: 'Pressure Ulcer Stage #2',\n",
       " 224966: 'Pressure Ulcer Stage #3',\n",
       " 224967: 'Pressure Ulcer Stage #4',\n",
       " 224968: 'Pressure Ulcer Stage #5',\n",
       " 224969: 'Pressure Ulcer Stage #6',\n",
       " 224970: 'Pressure Ulcer Stage #7',\n",
       " 224971: 'Pressure Ulcer Stage #8'}"
      ]
     },
     "execution_count": 31,
     "metadata": {},
     "output_type": "execute_result"
    }
   ],
   "source": [
    "item_label_dict"
   ]
  },
  {
   "cell_type": "code",
   "execution_count": 32,
   "metadata": {},
   "outputs": [],
   "source": [
    "item_label_dict[552] = 'Pressure Sore #2 [Stage]'\n",
    "item_label_dict[553] = 'Pressure Sore #3 [Stage]'"
   ]
  },
  {
   "cell_type": "code",
   "execution_count": 33,
   "metadata": {},
   "outputs": [
    {
     "data": {
      "text/plain": [
       "{227618: 'Pressure Ulcer Stage #9',\n",
       " 227619: 'Pressure Ulcer Stage #10',\n",
       " 224965: 'Pressure Ulcer Stage #2',\n",
       " 224966: 'Pressure Ulcer Stage #3',\n",
       " 224967: 'Pressure Ulcer Stage #4',\n",
       " 224968: 'Pressure Ulcer Stage #5',\n",
       " 224969: 'Pressure Ulcer Stage #6',\n",
       " 224970: 'Pressure Ulcer Stage #7',\n",
       " 224971: 'Pressure Ulcer Stage #8',\n",
       " 552: 'Pressure Sore #2 [Stage]',\n",
       " 553: 'Pressure Sore #3 [Stage]'}"
      ]
     },
     "execution_count": 33,
     "metadata": {},
     "output_type": "execute_result"
    }
   ],
   "source": [
    "item_label_dict"
   ]
  },
  {
   "cell_type": "code",
   "execution_count": 39,
   "metadata": {},
   "outputs": [],
   "source": [
    "import json\n",
    "json.dump(item_label_dict,open('item_label_dict.json','w'))"
   ]
  },
  {
   "cell_type": "code",
   "execution_count": 45,
   "metadata": {},
   "outputs": [],
   "source": [
    "care_list = [551,552,553]"
   ]
  },
  {
   "cell_type": "code",
   "execution_count": 46,
   "metadata": {},
   "outputs": [],
   "source": [
    "metavision_list.extend(care_list)\n",
    "pu_item_list = metavision_list"
   ]
  },
  {
   "cell_type": "code",
   "execution_count": 47,
   "metadata": {},
   "outputs": [
    {
     "data": {
      "text/plain": [
       "[227618,\n",
       " 227619,\n",
       " 224965,\n",
       " 224966,\n",
       " 224967,\n",
       " 224968,\n",
       " 224969,\n",
       " 224970,\n",
       " 224971,\n",
       " 551,\n",
       " 552,\n",
       " 553]"
      ]
     },
     "execution_count": 47,
     "metadata": {},
     "output_type": "execute_result"
    }
   ],
   "source": [
    "pu_item_list"
   ]
  },
  {
   "cell_type": "code",
   "execution_count": 11,
   "metadata": {
    "scrolled": true
   },
   "outputs": [
    {
     "data": {
      "text/plain": [
       "Free Form Intake            2420\n",
       "Access Lines - Invasive      312\n",
       "ORGANISM                     312\n",
       "Skin - Impairment            271\n",
       "Labs                         148\n",
       "                            ... \n",
       "NG Feeding                     1\n",
       "Research Enrollment Note       1\n",
       "Meds                           1\n",
       "Quick Admit                    1\n",
       "VBG'S                          1\n",
       "Name: CATEGORY, Length: 94, dtype: int64"
      ]
     },
     "execution_count": 11,
     "metadata": {},
     "output_type": "execute_result"
    }
   ],
   "source": [
    "item_df['CATEGORY'].value_counts()"
   ]
  },
  {
   "cell_type": "code",
   "execution_count": 12,
   "metadata": {},
   "outputs": [
    {
     "data": {
      "text/plain": [
       "6438"
      ]
     },
     "execution_count": 12,
     "metadata": {},
     "output_type": "execute_result"
    }
   ],
   "source": [
    "item_df['CATEGORY'].isna().sum()"
   ]
  },
  {
   "cell_type": "code",
   "execution_count": 13,
   "metadata": {},
   "outputs": [
    {
     "data": {
      "text/plain": [
       "0.1938015536157604"
      ]
     },
     "execution_count": 13,
     "metadata": {},
     "output_type": "execute_result"
    }
   ],
   "source": [
    "2420 / 12487"
   ]
  },
  {
   "cell_type": "code",
   "execution_count": null,
   "metadata": {},
   "outputs": [],
   "source": [
    "from collections import defaultdict\n",
    "chart_pu_ids = pu_df['HADM_ID'].unique()\n",
    "timeline_dict = defaultdict(lambda:[[],[]])\n",
    "for adm_id in chart_pu_ids:\n",
    "    tmp_df = pu_df[pu_df['HADM_ID'] == adm_id]\n",
    "    event_id = list(tmp_df['ITEMID'])\n",
    "    event_name = [item_label_dict[x] for x in event_id]\n",
    "    raw_date_list = tmp_df['CHARTTIME']\n",
    "    date_list = [pd.to_datetime(x).date() for x in raw_date_list]\n",
    "    timeline_dict[adm_id][0] = event_name\n",
    "    timeline_dict[adm_id][1] = date_list"
   ]
  },
  {
   "cell_type": "code",
   "execution_count": null,
   "metadata": {},
   "outputs": [],
   "source": [
    "adm_df = pd.read_csv('../data/ADMISSIONS.csv')\n",
    "for i in range(len(pu_adm_df)):\n",
    "    row = pu_adm_df.iloc[i]\n",
    "    tmp_id = row['HADM_ID']\n",
    "    timeline_dict[tmp_id][0].insert(0,'admission_0')\n",
    "    timeline_dict[tmp_id][0].append('discharge_1')\n",
    "    timeline_dict[tmp_id][1].insert(0,pd.to_datetime(row['ADMITTIME']).date())\n",
    "    timeline_dict[tmp_id][1].append(pd.to_datetime(row['DISCHTIME']).date())"
   ]
  }
 ],
 "metadata": {
  "kernelspec": {
   "display_name": "Python 3",
   "language": "python",
   "name": "python3"
  },
  "language_info": {
   "codemirror_mode": {
    "name": "ipython",
    "version": 3
   },
   "file_extension": ".py",
   "mimetype": "text/x-python",
   "name": "python",
   "nbconvert_exporter": "python",
   "pygments_lexer": "ipython3",
   "version": "3.7.7"
  }
 },
 "nbformat": 4,
 "nbformat_minor": 4
}
