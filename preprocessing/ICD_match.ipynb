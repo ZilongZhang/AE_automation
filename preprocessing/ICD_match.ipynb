{
 "cells": [
  {
   "cell_type": "code",
   "execution_count": 9,
   "metadata": {},
   "outputs": [],
   "source": [
    "import pickle\n",
    "import json"
   ]
  },
  {
   "cell_type": "code",
   "execution_count": 23,
   "metadata": {},
   "outputs": [],
   "source": [
    "seg_text = json.load(open('./result/AE_adm_seg_dict','r'))\n",
    "adm_icd_dict = json.load(open('./result/adm_icdlist_dict.json','r'))"
   ]
  },
  {
   "cell_type": "code",
   "execution_count": 33,
   "metadata": {},
   "outputs": [],
   "source": [
    "AE_icds = ['0030','0031','00843','00845','00849','0085','03819','03810','0383','03840','0389','1121','1122','1125','04111','04119','04110','0413','04149','0416','0417','04186','0796','3203','4820','4821','48240','48282','48283','4829','481','46611','5131','53084','5110','51909','56721','5990','99762']\n",
    "AE_icds_set =set(AE_icds)"
   ]
  },
  {
   "cell_type": "code",
   "execution_count": 51,
   "metadata": {},
   "outputs": [],
   "source": [
    "sent0 = 'He has had an abnormal barium swallow,was found to have adenocarcinoma at the gastroesophageal junction, which is biopsy-proven positive.'\n",
    "sent1 = 'Sepsis in the setting of C. difficile colitis and pseudomonal and Enterobacter bacteremia.'\n",
    "sent2 = 'He was intubated for airway protection and transferred to for MRI and further evaluation of his mental status.'\n",
    "sent3 = 'Seen at OSH today where she was noted to have a large cellulitis.'\n",
    "sent4 = 'The patient is a 47-year-old male who dates the beginning of his symptoms to around , at which time he drank some \"bad booze\" and ate some macadamia nuts.'\n",
    "sent5 = 'Central venous access was obtained and aggressive sugar control was administered with an insulin drip.'\n",
    "sent6 = 'He has used to use Imodium 2 pills per day for the past one month or so.'\n",
    "sent7 = 'He denies easy bruising or bleeding and specifically denies dark tarry stools, gum bleeding, hematuria.'\n",
    "sent8 = 'His last bowel movement was yesterday and he is passing gas.'\n",
    "\n",
    "sent9 = 'Sterile vaginal examination was significant for cervical motion tenderness as well as uterine tenderness but no adnexal masses were appreciated although this was limited by the patient discomfort.'\n"
   ]
  },
  {
   "cell_type": "code",
   "execution_count": 61,
   "metadata": {},
   "outputs": [
    {
     "name": "stdout",
     "output_type": "stream",
     "text": [
      "{'0389'}\n",
      "CPU times: user 99.3 ms, sys: 0 ns, total: 99.3 ms\n",
      "Wall time: 98.6 ms\n"
     ]
    }
   ],
   "source": [
    "%%time\n",
    "for k,v in seg_text.items():\n",
    "    if sent9 in v:\n",
    "        print(AE_icds_set.intersection(set(adm_icd_dict[k[:-2]])))\n"
   ]
  },
  {
   "cell_type": "code",
   "execution_count": 40,
   "metadata": {},
   "outputs": [
    {
     "data": {
      "text/plain": [
       "False"
      ]
     },
     "execution_count": 40,
     "metadata": {},
     "output_type": "execute_result"
    }
   ],
   "source": [
    "sent in v"
   ]
  },
  {
   "cell_type": "code",
   "execution_count": 27,
   "metadata": {},
   "outputs": [
    {
     "data": {
      "text/plain": [
       "['V444',\n",
       " '5121',\n",
       " '2763',\n",
       " 'V1582',\n",
       " '5122',\n",
       " '42731',\n",
       " 'V153',\n",
       " '5110',\n",
       " '9971',\n",
       " 'E8788',\n",
       " '1510',\n",
       " '496']"
      ]
     },
     "execution_count": 27,
     "metadata": {},
     "output_type": "execute_result"
    }
   ],
   "source": [
    "adm_icd_dict['156733']"
   ]
  },
  {
   "cell_type": "code",
   "execution_count": null,
   "metadata": {},
   "outputs": [],
   "source": []
  }
 ],
 "metadata": {
  "kernelspec": {
   "display_name": "Python 3",
   "language": "python",
   "name": "python3"
  },
  "language_info": {
   "codemirror_mode": {
    "name": "ipython",
    "version": 3
   },
   "file_extension": ".py",
   "mimetype": "text/x-python",
   "name": "python",
   "nbconvert_exporter": "python",
   "pygments_lexer": "ipython3",
   "version": "3.5.6"
  }
 },
 "nbformat": 4,
 "nbformat_minor": 4
}
