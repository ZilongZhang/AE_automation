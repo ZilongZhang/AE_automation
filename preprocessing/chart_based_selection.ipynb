{
 "cells": [
  {
   "cell_type": "code",
   "execution_count": 4,
   "metadata": {},
   "outputs": [],
   "source": [
    "import pandas as pd\n",
    "import numpy as np\n",
    "import json\n",
    "import datetime\n",
    "from prep_tools import columns_count\n",
    "from collections import defaultdict\n",
    "from tqdm import tqdm\n",
    "import random\n",
    "import sys\n",
    "sys.path.insert(1,'../tools')\n",
    "import utils\n",
    "import imp"
   ]
  },
  {
   "cell_type": "markdown",
   "metadata": {},
   "source": [
    "## Positive"
   ]
  },
  {
   "cell_type": "code",
   "execution_count": 2,
   "metadata": {},
   "outputs": [],
   "source": [
    "timeline_dict = json.load(open('./result/pu_chart/timeline_dict_time.json','r'))"
   ]
  },
  {
   "cell_type": "code",
   "execution_count": 3,
   "metadata": {},
   "outputs": [
    {
     "data": {
      "text/plain": [
       "1177"
      ]
     },
     "execution_count": 3,
     "metadata": {},
     "output_type": "execute_result"
    }
   ],
   "source": [
    "diff_list = []\n",
    "exclude_key = []\n",
    "for k,v in timeline_dict.items():\n",
    "    adm_date = pd.to_datetime(v[1][0])\n",
    "    pu_date = pd.to_datetime(v[1][1])\n",
    "    diff = pu_date - adm_date\n",
    "    diff_list.append(diff)\n",
    "    if diff < datetime.timedelta(hours=24):\n",
    "        exclude_key.append(k)\n",
    "len(exclude_key)"
   ]
  },
  {
   "cell_type": "code",
   "execution_count": 4,
   "metadata": {},
   "outputs": [],
   "source": [
    "#在这一步把dict里面的日期都给变成datetime了，免得以后转换费时间\n",
    "exclude_key = set(exclude_key)\n",
    "AE_timeline_dict = defaultdict(lambda:[[],[]])\n",
    "for k,v in timeline_dict.items():\n",
    "    if k not in exclude_key:\n",
    "        tmp_v = []\n",
    "        for str_date in v[1]:\n",
    "            tmp_v.append(pd.to_datetime(str_date))\n",
    "        AE_timeline_dict[k][0] = v[0]\n",
    "        AE_timeline_dict[k][1] = tmp_v"
   ]
  },
  {
   "cell_type": "code",
   "execution_count": 5,
   "metadata": {
    "scrolled": true
   },
   "outputs": [
    {
     "data": {
      "text/plain": [
       "[['admission_0',\n",
       "  'Pressure Ulcer Stage #2',\n",
       "  'Pressure Ulcer Stage #2',\n",
       "  'Pressure Ulcer Stage #2',\n",
       "  'discharge_11'],\n",
       " [Timestamp('2182-02-05 03:30:00'),\n",
       "  Timestamp('2182-02-07 15:12:00'),\n",
       "  Timestamp('2182-02-07 13:25:00'),\n",
       "  Timestamp('2182-02-07 04:00:00'),\n",
       "  Timestamp('2182-02-10 14:50:00')]]"
      ]
     },
     "execution_count": 5,
     "metadata": {},
     "output_type": "execute_result"
    }
   ],
   "source": [
    "AE_timeline_dict[k]"
   ]
  },
  {
   "cell_type": "code",
   "execution_count": 6,
   "metadata": {},
   "outputs": [],
   "source": [
    "#取PU 发病三天前。如果三天前还没住院就从住院开始\n",
    "period_dict = {}\n",
    "for k,v in AE_timeline_dict.items():\n",
    "    start_date = pd.to_datetime(v[1][1]) - datetime.timedelta(hours = 72)\n",
    "    if start_date < pd.to_datetime(v[1][0]):\n",
    "        start_date = pd.to_datetime(v[1][0])\n",
    "    period_dict[k] = start_date              "
   ]
  },
  {
   "cell_type": "code",
   "execution_count": 8,
   "metadata": {},
   "outputs": [
    {
     "data": {
      "text/plain": [
       "4127"
      ]
     },
     "execution_count": 8,
     "metadata": {},
     "output_type": "execute_result"
    }
   ],
   "source": [
    "len(AE_timeline_dict)"
   ]
  },
  {
   "cell_type": "code",
   "execution_count": 9,
   "metadata": {},
   "outputs": [
    {
     "data": {
      "text/plain": [
       "4127"
      ]
     },
     "execution_count": 9,
     "metadata": {},
     "output_type": "execute_result"
    }
   ],
   "source": [
    "len(period_dict)"
   ]
  },
  {
   "cell_type": "code",
   "execution_count": 10,
   "metadata": {},
   "outputs": [
    {
     "name": "stderr",
     "output_type": "stream",
     "text": [
      "/home/zilong.zhang1/miniconda3/envs/py37/lib/python3.7/site-packages/IPython/core/interactiveshell.py:3146: DtypeWarning: Columns (4,5) have mixed types.Specify dtype option on import or set low_memory=False.\n",
      "  interactivity=interactivity, compiler=compiler, result=result)\n"
     ]
    }
   ],
   "source": [
    "#根据hadm_id 找到noteevent中所有和case有关的note\n",
    "note_df = pd.read_csv('../data/NOTEEVENTS.csv',dtype = {'HADM_ID':str})"
   ]
  },
  {
   "cell_type": "code",
   "execution_count": 11,
   "metadata": {},
   "outputs": [],
   "source": [
    "pu_note = note_df[note_df['HADM_ID'].isin(AE_timeline_dict.keys())]"
   ]
  },
  {
   "cell_type": "code",
   "execution_count": 12,
   "metadata": {},
   "outputs": [
    {
     "data": {
      "text/plain": [
       "(326189, 11)"
      ]
     },
     "execution_count": 12,
     "metadata": {},
     "output_type": "execute_result"
    }
   ],
   "source": [
    "pu_note.shape"
   ]
  },
  {
   "cell_type": "code",
   "execution_count": 13,
   "metadata": {},
   "outputs": [
    {
     "data": {
      "text/plain": [
       "(2083180, 11)"
      ]
     },
     "execution_count": 13,
     "metadata": {},
     "output_type": "execute_result"
    }
   ],
   "source": [
    "note_df.shape"
   ]
  },
  {
   "cell_type": "code",
   "execution_count": 14,
   "metadata": {},
   "outputs": [],
   "source": [
    "#选取里面CATEGORY 是nursing的\n",
    "pu_nursing = pu_note[pu_note['CATEGORY'].isin(['Nursing','Nursing/other'])]"
   ]
  },
  {
   "cell_type": "code",
   "execution_count": 15,
   "metadata": {},
   "outputs": [
    {
     "data": {
      "text/plain": [
       "(155048, 11)"
      ]
     },
     "execution_count": 15,
     "metadata": {},
     "output_type": "execute_result"
    }
   ],
   "source": [
    "pu_nursing.shape"
   ]
  },
  {
   "cell_type": "code",
   "execution_count": 16,
   "metadata": {},
   "outputs": [
    {
     "data": {
      "text/plain": [
       "1.0    116\n",
       "Name: ISERROR, dtype: int64"
      ]
     },
     "execution_count": 16,
     "metadata": {},
     "output_type": "execute_result"
    }
   ],
   "source": [
    "pu_nursing['ISERROR'].value_counts()"
   ]
  },
  {
   "cell_type": "code",
   "execution_count": 17,
   "metadata": {},
   "outputs": [],
   "source": [
    "#去掉ISERROR为1的，去掉关键项有na的\n",
    "noer_pu_nursing = pu_nursing[-(pu_nursing['ISERROR']==1)]\n",
    "noer_pu_nursing = noer_pu_nursing.dropna(subset = ['HADM_ID','SUBJECT_ID','TEXT'])"
   ]
  },
  {
   "cell_type": "code",
   "execution_count": 18,
   "metadata": {},
   "outputs": [
    {
     "data": {
      "text/plain": [
       "(154932, 11)"
      ]
     },
     "execution_count": 18,
     "metadata": {},
     "output_type": "execute_result"
    }
   ],
   "source": [
    "noer_pu_nursing.shape"
   ]
  },
  {
   "cell_type": "code",
   "execution_count": 19,
   "metadata": {},
   "outputs": [
    {
     "data": {
      "text/plain": [
       "116"
      ]
     },
     "execution_count": 19,
     "metadata": {},
     "output_type": "execute_result"
    }
   ],
   "source": [
    "155048 - 154932"
   ]
  },
  {
   "cell_type": "code",
   "execution_count": 20,
   "metadata": {},
   "outputs": [
    {
     "data": {
      "text/plain": [
       "2537"
      ]
     },
     "execution_count": 20,
     "metadata": {},
     "output_type": "execute_result"
    }
   ],
   "source": [
    "len(noer_pu_nursing['HADM_ID'].unique())"
   ]
  },
  {
   "cell_type": "code",
   "execution_count": 21,
   "metadata": {},
   "outputs": [],
   "source": [
    "nona_pu_nursing = noer_pu_nursing"
   ]
  },
  {
   "cell_type": "code",
   "execution_count": 22,
   "metadata": {},
   "outputs": [
    {
     "name": "stderr",
     "output_type": "stream",
     "text": [
      "154932it [00:25, 6092.84it/s]\n"
     ]
    }
   ],
   "source": [
    "pu_period_nursing = pd.DataFrame(columns = pu_nursing.columns)\n",
    "row_list = []\n",
    "for index,row in tqdm(nona_pu_nursing.iterrows()):\n",
    "    key = row['HADM_ID']\n",
    "    tmp_date = pd.to_datetime(row['CHARTTIME'])\n",
    "    if tmp_date>= period_dict[key] and tmp_date < AE_timeline_dict[key][1][1]:\n",
    "        #pu_period_nursing = pd.concat([pu_period_nursing,row])\n",
    "        row_list.append(row)\n",
    "pu_period_nursing = pd.concat(row_list,ignore_index=True,axis=1).T"
   ]
  },
  {
   "cell_type": "code",
   "execution_count": 23,
   "metadata": {},
   "outputs": [
    {
     "data": {
      "text/plain": [
       "27011"
      ]
     },
     "execution_count": 23,
     "metadata": {},
     "output_type": "execute_result"
    }
   ],
   "source": [
    "len(row_list)"
   ]
  },
  {
   "cell_type": "code",
   "execution_count": null,
   "metadata": {},
   "outputs": [],
   "source": []
  },
  {
   "cell_type": "code",
   "execution_count": 24,
   "metadata": {},
   "outputs": [
    {
     "data": {
      "text/plain": [
       "(27011, 11)"
      ]
     },
     "execution_count": 24,
     "metadata": {},
     "output_type": "execute_result"
    }
   ],
   "source": [
    "pu_period_nursing.shape"
   ]
  },
  {
   "cell_type": "code",
   "execution_count": 25,
   "metadata": {},
   "outputs": [
    {
     "data": {
      "text/html": [
       "<div>\n",
       "<style scoped>\n",
       "    .dataframe tbody tr th:only-of-type {\n",
       "        vertical-align: middle;\n",
       "    }\n",
       "\n",
       "    .dataframe tbody tr th {\n",
       "        vertical-align: top;\n",
       "    }\n",
       "\n",
       "    .dataframe thead th {\n",
       "        text-align: right;\n",
       "    }\n",
       "</style>\n",
       "<table border=\"1\" class=\"dataframe\">\n",
       "  <thead>\n",
       "    <tr style=\"text-align: right;\">\n",
       "      <th></th>\n",
       "      <th>ROW_ID</th>\n",
       "      <th>SUBJECT_ID</th>\n",
       "      <th>HADM_ID</th>\n",
       "      <th>CHARTDATE</th>\n",
       "      <th>CHARTTIME</th>\n",
       "      <th>STORETIME</th>\n",
       "      <th>CATEGORY</th>\n",
       "      <th>DESCRIPTION</th>\n",
       "      <th>CGID</th>\n",
       "      <th>ISERROR</th>\n",
       "      <th>TEXT</th>\n",
       "    </tr>\n",
       "  </thead>\n",
       "  <tbody>\n",
       "    <tr>\n",
       "      <th>0</th>\n",
       "      <td>316480</td>\n",
       "      <td>31916</td>\n",
       "      <td>146431</td>\n",
       "      <td>2112-02-23</td>\n",
       "      <td>2112-02-23 03:51:00</td>\n",
       "      <td>2112-02-23 04:03:01</td>\n",
       "      <td>Nursing</td>\n",
       "      <td>Nursing Progress Note</td>\n",
       "      <td>14419</td>\n",
       "      <td>NaN</td>\n",
       "      <td>Respiratory failure, acute (not ARDS/[**Doctor...</td>\n",
       "    </tr>\n",
       "    <tr>\n",
       "      <th>1</th>\n",
       "      <td>316013</td>\n",
       "      <td>30015</td>\n",
       "      <td>150549</td>\n",
       "      <td>2154-03-20</td>\n",
       "      <td>2154-03-20 04:07:00</td>\n",
       "      <td>2154-03-20 04:18:24</td>\n",
       "      <td>Nursing</td>\n",
       "      <td>Nursing Progress Note</td>\n",
       "      <td>14419</td>\n",
       "      <td>NaN</td>\n",
       "      <td>Respiratory failure, acute (not ARDS/[**Doctor...</td>\n",
       "    </tr>\n",
       "    <tr>\n",
       "      <th>2</th>\n",
       "      <td>316390</td>\n",
       "      <td>31916</td>\n",
       "      <td>146431</td>\n",
       "      <td>2112-02-22</td>\n",
       "      <td>2112-02-22 06:25:00</td>\n",
       "      <td>2112-02-22 06:25:18</td>\n",
       "      <td>Nursing</td>\n",
       "      <td>Nursing Progress Note</td>\n",
       "      <td>14695</td>\n",
       "      <td>NaN</td>\n",
       "      <td>Chief Complaint:  Nausea and vomiting\\n   HPI:...</td>\n",
       "    </tr>\n",
       "    <tr>\n",
       "      <th>3</th>\n",
       "      <td>316476</td>\n",
       "      <td>31916</td>\n",
       "      <td>146431</td>\n",
       "      <td>2112-02-23</td>\n",
       "      <td>2112-02-23 03:51:00</td>\n",
       "      <td>2112-02-23 03:51:34</td>\n",
       "      <td>Nursing</td>\n",
       "      <td>Nursing Progress Note</td>\n",
       "      <td>14419</td>\n",
       "      <td>NaN</td>\n",
       "      <td>Respiratory failure, acute (not ARDS/[**Doctor...</td>\n",
       "    </tr>\n",
       "    <tr>\n",
       "      <th>4</th>\n",
       "      <td>316479</td>\n",
       "      <td>31916</td>\n",
       "      <td>146431</td>\n",
       "      <td>2112-02-23</td>\n",
       "      <td>2112-02-23 03:51:00</td>\n",
       "      <td>2112-02-23 03:58:53</td>\n",
       "      <td>Nursing</td>\n",
       "      <td>Nursing Progress Note</td>\n",
       "      <td>14419</td>\n",
       "      <td>NaN</td>\n",
       "      <td>Respiratory failure, acute (not ARDS/[**Doctor...</td>\n",
       "    </tr>\n",
       "  </tbody>\n",
       "</table>\n",
       "</div>"
      ],
      "text/plain": [
       "   ROW_ID SUBJECT_ID HADM_ID   CHARTDATE            CHARTTIME  \\\n",
       "0  316480      31916  146431  2112-02-23  2112-02-23 03:51:00   \n",
       "1  316013      30015  150549  2154-03-20  2154-03-20 04:07:00   \n",
       "2  316390      31916  146431  2112-02-22  2112-02-22 06:25:00   \n",
       "3  316476      31916  146431  2112-02-23  2112-02-23 03:51:00   \n",
       "4  316479      31916  146431  2112-02-23  2112-02-23 03:51:00   \n",
       "\n",
       "             STORETIME CATEGORY            DESCRIPTION   CGID ISERROR  \\\n",
       "0  2112-02-23 04:03:01  Nursing  Nursing Progress Note  14419     NaN   \n",
       "1  2154-03-20 04:18:24  Nursing  Nursing Progress Note  14419     NaN   \n",
       "2  2112-02-22 06:25:18  Nursing  Nursing Progress Note  14695     NaN   \n",
       "3  2112-02-23 03:51:34  Nursing  Nursing Progress Note  14419     NaN   \n",
       "4  2112-02-23 03:58:53  Nursing  Nursing Progress Note  14419     NaN   \n",
       "\n",
       "                                                TEXT  \n",
       "0  Respiratory failure, acute (not ARDS/[**Doctor...  \n",
       "1  Respiratory failure, acute (not ARDS/[**Doctor...  \n",
       "2  Chief Complaint:  Nausea and vomiting\\n   HPI:...  \n",
       "3  Respiratory failure, acute (not ARDS/[**Doctor...  \n",
       "4  Respiratory failure, acute (not ARDS/[**Doctor...  "
      ]
     },
     "execution_count": 25,
     "metadata": {},
     "output_type": "execute_result"
    }
   ],
   "source": [
    "pu_period_nursing.head()"
   ]
  },
  {
   "cell_type": "code",
   "execution_count": 28,
   "metadata": {},
   "outputs": [
    {
     "name": "stderr",
     "output_type": "stream",
     "text": [
      "100%|██████████| 2438/2438 [00:04<00:00, 540.92it/s]\n"
     ]
    }
   ],
   "source": [
    "row_list = []\n",
    "for hid in tqdm(pu_period_nursing.HADM_ID.unique()):\n",
    "    tmp_df = pu_period_nursing[pu_period_nursing.HADM_ID == hid]\n",
    "    tmp_text = ' '.join(list(tmp_df.TEXT))\n",
    "    row_list.append([hid,tmp_text])\n",
    "pu_period_allnursing=pd.DataFrame(row_list,columns=['HADM_ID','text'])"
   ]
  },
  {
   "cell_type": "code",
   "execution_count": 29,
   "metadata": {},
   "outputs": [
    {
     "data": {
      "text/html": [
       "<div>\n",
       "<style scoped>\n",
       "    .dataframe tbody tr th:only-of-type {\n",
       "        vertical-align: middle;\n",
       "    }\n",
       "\n",
       "    .dataframe tbody tr th {\n",
       "        vertical-align: top;\n",
       "    }\n",
       "\n",
       "    .dataframe thead th {\n",
       "        text-align: right;\n",
       "    }\n",
       "</style>\n",
       "<table border=\"1\" class=\"dataframe\">\n",
       "  <thead>\n",
       "    <tr style=\"text-align: right;\">\n",
       "      <th></th>\n",
       "      <th>HADM_ID</th>\n",
       "      <th>text</th>\n",
       "    </tr>\n",
       "  </thead>\n",
       "  <tbody>\n",
       "    <tr>\n",
       "      <th>0</th>\n",
       "      <td>146431</td>\n",
       "      <td>Respiratory failure, acute (not ARDS/[**Doctor...</td>\n",
       "    </tr>\n",
       "    <tr>\n",
       "      <th>1</th>\n",
       "      <td>150549</td>\n",
       "      <td>Respiratory failure, acute (not ARDS/[**Doctor...</td>\n",
       "    </tr>\n",
       "    <tr>\n",
       "      <th>2</th>\n",
       "      <td>154590</td>\n",
       "      <td>NPN: Narrative Note: Preliminary Admit note:\\n...</td>\n",
       "    </tr>\n",
       "    <tr>\n",
       "      <th>3</th>\n",
       "      <td>116532</td>\n",
       "      <td>Pt is a 86 y/o woman with history of severe AS...</td>\n",
       "    </tr>\n",
       "    <tr>\n",
       "      <th>4</th>\n",
       "      <td>177843</td>\n",
       "      <td>53 y/o male with esophageal cancer and h/o PE'...</td>\n",
       "    </tr>\n",
       "  </tbody>\n",
       "</table>\n",
       "</div>"
      ],
      "text/plain": [
       "  HADM_ID                                               text\n",
       "0  146431  Respiratory failure, acute (not ARDS/[**Doctor...\n",
       "1  150549  Respiratory failure, acute (not ARDS/[**Doctor...\n",
       "2  154590  NPN: Narrative Note: Preliminary Admit note:\\n...\n",
       "3  116532  Pt is a 86 y/o woman with history of severe AS...\n",
       "4  177843  53 y/o male with esophageal cancer and h/o PE'..."
      ]
     },
     "execution_count": 29,
     "metadata": {},
     "output_type": "execute_result"
    }
   ],
   "source": [
    "pu_period_allnursing.head()"
   ]
  },
  {
   "cell_type": "code",
   "execution_count": 43,
   "metadata": {},
   "outputs": [
    {
     "name": "stderr",
     "output_type": "stream",
     "text": [
      "100%|██████████| 121/121 [00:00<00:00, 169.92it/s]\n",
      "100%|██████████| 121/121 [00:00<00:00, 154.51it/s]\n",
      "100%|██████████| 121/121 [00:00<00:00, 310.88it/s]\n",
      "100%|██████████| 121/121 [00:00<00:00, 153.93it/s]\n",
      "100%|██████████| 121/121 [00:00<00:00, 334.56it/s]\n",
      "100%|██████████| 121/121 [00:00<00:00, 151.67it/s]\n",
      "100%|██████████| 121/121 [00:00<00:00, 312.04it/s]\n",
      "100%|██████████| 121/121 [00:00<00:00, 148.40it/s]\n",
      "100%|██████████| 121/121 [00:00<00:00, 323.84it/s]\n",
      "100%|██████████| 121/121 [00:00<00:00, 152.17it/s]\n",
      "100%|██████████| 121/121 [00:00<00:00, 336.02it/s]\n",
      "100%|██████████| 121/121 [00:00<00:00, 160.38it/s]\n",
      "100%|██████████| 121/121 [00:00<00:00, 327.46it/s]\n",
      "100%|██████████| 18/18 [00:00<00:00, 305.49it/s]]\n",
      "100%|██████████| 121/121 [00:00<00:00, 139.16it/s]\n",
      "100%|██████████| 121/121 [00:00<00:00, 155.75it/s]\n",
      "100%|██████████| 121/121 [00:00<00:00, 313.55it/s]\n",
      "100%|██████████| 121/121 [00:00<00:00, 337.07it/s]\n",
      "100%|██████████| 121/121 [00:00<00:00, 317.81it/s]\n",
      "100%|██████████| 121/121 [00:00<00:00, 335.68it/s]\n",
      "100%|██████████| 121/121 [00:00<00:00, 345.91it/s]\n"
     ]
    }
   ],
   "source": [
    "imp.reload(utils)\n",
    "clean_abb_text = utils.clean_Abb(20,list(pu_period_allnursing.text))"
   ]
  },
  {
   "cell_type": "code",
   "execution_count": 47,
   "metadata": {},
   "outputs": [],
   "source": [
    "pu_period_allnursing['clean_text'] = clean_abb_text"
   ]
  },
  {
   "cell_type": "code",
   "execution_count": 48,
   "metadata": {},
   "outputs": [],
   "source": [
    "import spacy"
   ]
  },
  {
   "cell_type": "code",
   "execution_count": 49,
   "metadata": {},
   "outputs": [
    {
     "name": "stdout",
     "output_type": "stream",
     "text": [
      "CPU times: user 1min 39s, sys: 3.17 s, total: 1min 42s\n",
      "Wall time: 1min 43s\n"
     ]
    }
   ],
   "source": [
    "%%time\n",
    "nlp = spacy.load(\"en_core_web_sm\")\n",
    "lemmatized_text = []\n",
    "for doc in nlp.pipe(clean_abb_text, batch_size=10,n_process=20, disable=[\"parser\", \"ner\"]):\n",
    "    tmp_doc = [tok.lemma_ for tok in doc]\n",
    "    tmp_doc = ' '.join(tmp_doc)\n",
    "    lemmatized_text.append(tmp_doc)"
   ]
  },
  {
   "cell_type": "code",
   "execution_count": 53,
   "metadata": {},
   "outputs": [],
   "source": [
    "pu_period_allnursing['lemma_text'] = lemmatized_text"
   ]
  },
  {
   "cell_type": "code",
   "execution_count": 54,
   "metadata": {},
   "outputs": [
    {
     "data": {
      "text/plain": [
       "HADM_ID                                                  146431\n",
       "text          Respiratory failure, acute (not ARDS/[**Doctor...\n",
       "clean_text    Respiratory failure, acute (not ARDS/ ) Assess...\n",
       "lemma_text    respiratory failure , acute ( not ards/ ) asse...\n",
       "Name: 0, dtype: object"
      ]
     },
     "execution_count": 54,
     "metadata": {},
     "output_type": "execute_result"
    }
   ],
   "source": [
    "pu_period_allnursing.iloc[0]"
   ]
  },
  {
   "cell_type": "code",
   "execution_count": 96,
   "metadata": {},
   "outputs": [],
   "source": [
    "pu_period_allnursing['pu_label'] = 1"
   ]
  },
  {
   "cell_type": "code",
   "execution_count": 98,
   "metadata": {},
   "outputs": [
    {
     "data": {
      "text/plain": [
       "HADM_ID                                                  150549\n",
       "text          Respiratory failure, acute (not ARDS/[**Doctor...\n",
       "clean_text    Respiratory failure, acute (not ARDS/ ) Assess...\n",
       "lemma_text    respiratory failure , acute ( not ards/ ) asse...\n",
       "pu_label                                                      1\n",
       "Name: 1, dtype: object"
      ]
     },
     "execution_count": 98,
     "metadata": {},
     "output_type": "execute_result"
    }
   ],
   "source": [
    "pu_period_allnursing.iloc[1]"
   ]
  },
  {
   "cell_type": "code",
   "execution_count": 26,
   "metadata": {},
   "outputs": [],
   "source": [
    "#pu_period_nursing.to_csv('pu_period_nursing.csv')\n",
    "#pu_period_nursing = pd.read_csv('./result/pu_chart/pu_period_nursing.csv')"
   ]
  },
  {
   "cell_type": "markdown",
   "metadata": {},
   "source": [
    "## 放弃dict或者list作为存储方式"
   ]
  },
  {
   "cell_type": "code",
   "execution_count": 65,
   "metadata": {},
   "outputs": [
    {
     "name": "stderr",
     "output_type": "stream",
     "text": [
      "27011it [00:01, 15450.43it/s]\n"
     ]
    }
   ],
   "source": [
    "pu_adm_nurse_note = defaultdict(lambda:[])\n",
    "for index,row in tqdm(pu_period_nursing.iterrows()):\n",
    "    key = row['HADM_ID']\n",
    "    pu_adm_nurse_note[key].append(row['TEXT'])\n",
    "    "
   ]
  },
  {
   "cell_type": "code",
   "execution_count": 66,
   "metadata": {},
   "outputs": [
    {
     "data": {
      "text/plain": [
       "2438"
      ]
     },
     "execution_count": 66,
     "metadata": {},
     "output_type": "execute_result"
    }
   ],
   "source": [
    "len(pu_adm_nurse_note)"
   ]
  },
  {
   "cell_type": "code",
   "execution_count": 67,
   "metadata": {},
   "outputs": [],
   "source": [
    "import json\n",
    "json.dump(pu_adm_nurse_note,open('pu_adm_nurse_note.json','w'))"
   ]
  },
  {
   "cell_type": "code",
   "execution_count": 68,
   "metadata": {},
   "outputs": [],
   "source": [
    "pu_adm_allnurse_note = {}\n",
    "for k,v in pu_adm_nurse_note.items():\n",
    "    pu_adm_allnurse_note[k] = ' '.join(v)"
   ]
  },
  {
   "cell_type": "code",
   "execution_count": 69,
   "metadata": {},
   "outputs": [],
   "source": [
    "pos_text = list(pu_adm_allnurse_note.values())\n",
    "pos_label = [1] * len(pos_text)"
   ]
  },
  {
   "cell_type": "code",
   "execution_count": 70,
   "metadata": {},
   "outputs": [],
   "source": [
    "len_list = []\n",
    "for k,v in pu_adm_nurse_note.items():\n",
    "    len_list.append(len(v))"
   ]
  },
  {
   "cell_type": "code",
   "execution_count": 71,
   "metadata": {},
   "outputs": [],
   "source": [
    "delta_list = []\n",
    "for k,v in period_dict.items():\n",
    "    if k in set(pu_adm_allnurse_note.keys()):\n",
    "        delta_time = AE_timeline_dict[k][1][1] - v\n",
    "        delta_list.append(delta_time)\n",
    "    \n",
    "delta_bin = [datetime.timedelta(days = 1),datetime.timedelta(days = 2),datetime.timedelta(days = 3),datetime.timedelta(days = 4)]\n",
    "delta_bin_number = [0,0,0]\n",
    "for tmp_delta in delta_list:\n",
    "    if tmp_delta >= delta_bin[0] and tmp_delta< delta_bin[1]:\n",
    "        delta_bin_number[0]+= 1\n",
    "    elif tmp_delta >= delta_bin[1] and tmp_delta< delta_bin[2]:\n",
    "        delta_bin_number[1]+= 1\n",
    "    elif tmp_delta >= delta_bin[2] and tmp_delta< delta_bin[3]:\n",
    "        delta_bin_number[2]+= 1"
   ]
  },
  {
   "cell_type": "code",
   "execution_count": 72,
   "metadata": {},
   "outputs": [
    {
     "data": {
      "text/plain": [
       "[380, 234, 1824]"
      ]
     },
     "execution_count": 72,
     "metadata": {},
     "output_type": "execute_result"
    }
   ],
   "source": []
  },
  {
   "cell_type": "code",
   "execution_count": 61,
   "metadata": {},
   "outputs": [
    {
     "data": {
      "text/plain": [
       "2438"
      ]
     },
     "execution_count": 61,
     "metadata": {},
     "output_type": "execute_result"
    }
   ],
   "source": [
    "np.sum(delta_bin_number)"
   ]
  },
  {
   "cell_type": "code",
   "execution_count": 33,
   "metadata": {},
   "outputs": [
    {
     "data": {
      "text/plain": [
       "11.079163248564397"
      ]
     },
     "execution_count": 33,
     "metadata": {},
     "output_type": "execute_result"
    }
   ],
   "source": [
    "np.mean(len_list)"
   ]
  },
  {
   "cell_type": "code",
   "execution_count": 34,
   "metadata": {},
   "outputs": [
    {
     "data": {
      "text/plain": [
       "6.301611233635398"
      ]
     },
     "execution_count": 34,
     "metadata": {},
     "output_type": "execute_result"
    }
   ],
   "source": [
    "np.std(len_list)"
   ]
  },
  {
   "cell_type": "code",
   "execution_count": 35,
   "metadata": {},
   "outputs": [
    {
     "data": {
      "text/plain": [
       "4.0"
      ]
     },
     "execution_count": 35,
     "metadata": {},
     "output_type": "execute_result"
    }
   ],
   "source": [
    "np.quantile(len_list,0.10)"
   ]
  },
  {
   "cell_type": "code",
   "execution_count": 36,
   "metadata": {},
   "outputs": [
    {
     "data": {
      "text/plain": [
       "19.0"
      ]
     },
     "execution_count": 36,
     "metadata": {},
     "output_type": "execute_result"
    }
   ],
   "source": [
    "np.quantile(len_list,0.90)"
   ]
  },
  {
   "cell_type": "markdown",
   "metadata": {},
   "source": [
    "## Negative"
   ]
  },
  {
   "cell_type": "code",
   "execution_count": 55,
   "metadata": {},
   "outputs": [],
   "source": [
    "import pickle\n",
    "pu_sub_ids = pickle.load(open('./result/pu_chart/pu_subject_ids.pkl','rb')) \n",
    "pu_sub_ids = set(pu_sub_ids)"
   ]
  },
  {
   "cell_type": "code",
   "execution_count": 56,
   "metadata": {},
   "outputs": [],
   "source": [
    "nopu_note = note_df[-note_df['SUBJECT_ID'].isin(pu_sub_ids)]"
   ]
  },
  {
   "cell_type": "code",
   "execution_count": 57,
   "metadata": {},
   "outputs": [],
   "source": [
    "nopu_nurse = nopu_note[nopu_note['CATEGORY'].isin(['Nursing','Nursing/other'])]"
   ]
  },
  {
   "cell_type": "code",
   "execution_count": 58,
   "metadata": {},
   "outputs": [
    {
     "name": "stdout",
     "output_type": "stream",
     "text": [
      "(799003, 11)\n"
     ]
    }
   ],
   "source": [
    "print(nopu_nurse.shape)"
   ]
  },
  {
   "cell_type": "code",
   "execution_count": 59,
   "metadata": {},
   "outputs": [
    {
     "name": "stdout",
     "output_type": "stream",
     "text": [
      "(798808, 11)\n"
     ]
    }
   ],
   "source": [
    "nopu_noerror_nurse = nopu_nurse[-(nopu_nurse['ISERROR'] == 1)]\n",
    "print(nopu_noerror_nurse.shape)"
   ]
  },
  {
   "cell_type": "code",
   "execution_count": 60,
   "metadata": {},
   "outputs": [
    {
     "data": {
      "text/plain": [
       "195"
      ]
     },
     "execution_count": 60,
     "metadata": {},
     "output_type": "execute_result"
    }
   ],
   "source": [
    "799003 - 798808"
   ]
  },
  {
   "cell_type": "code",
   "execution_count": 61,
   "metadata": {},
   "outputs": [
    {
     "name": "stdout",
     "output_type": "stream",
     "text": [
      "(798808, 11)\n",
      "(796243, 11)\n"
     ]
    }
   ],
   "source": [
    "print(nopu_noerror_nurse.shape)\n",
    "nopu_noerror_nurse = nopu_noerror_nurse.dropna(subset = ['HADM_ID','SUBJECT_ID','TEXT']) \n",
    "print(nopu_noerror_nurse.shape)"
   ]
  },
  {
   "cell_type": "code",
   "execution_count": 62,
   "metadata": {},
   "outputs": [
    {
     "name": "stdout",
     "output_type": "stream",
     "text": [
      "(58976, 19)\n",
      "(51113, 19)\n"
     ]
    }
   ],
   "source": [
    "adm_df = pd.read_csv('../data/ADMISSIONS.csv',dtype = {'HADM_ID':str})\n",
    "print(adm_df.shape)\n",
    "adm_df = adm_df.dropna(subset = ['ADMITTIME','DISCHTIME'])\n",
    "adm_df = adm_df[-(adm_df['ADMISSION_TYPE'] == 'NEWBORN')]\n",
    "print(adm_df.shape)"
   ]
  },
  {
   "cell_type": "code",
   "execution_count": 63,
   "metadata": {},
   "outputs": [],
   "source": [
    "todrop_index = []\n",
    "for index,row in adm_df.iterrows():\n",
    "    if pd.to_datetime(row['DISCHTIME']) - pd.to_datetime(row['ADMITTIME'])< datetime.timedelta(hours = 24):\n",
    "        #print(row)\n",
    "        todrop_index.append(index)\n",
    "adm_df = adm_df.drop(todrop_index)   "
   ]
  },
  {
   "cell_type": "code",
   "execution_count": 73,
   "metadata": {},
   "outputs": [],
   "source": [
    "delta_bin_number = [380, 234, 1824]\n",
    "neg_delta_bin_number = np.array(delta_bin_number)*3"
   ]
  },
  {
   "cell_type": "code",
   "execution_count": 74,
   "metadata": {},
   "outputs": [
    {
     "data": {
      "text/plain": [
       "36918"
      ]
     },
     "execution_count": 74,
     "metadata": {},
     "output_type": "execute_result"
    }
   ],
   "source": [
    "len(nopu_noerror_nurse['HADM_ID'].unique())"
   ]
  },
  {
   "cell_type": "code",
   "execution_count": 84,
   "metadata": {},
   "outputs": [],
   "source": [
    "all_neg_adm_set = nopu_noerror_nurse['HADM_ID'].unique()"
   ]
  },
  {
   "cell_type": "code",
   "execution_count": 85,
   "metadata": {},
   "outputs": [],
   "source": [
    "import datetime as dt\n",
    "tmp_bin_number = [0,0,0]\n",
    "all_neg_adm_set = set(nopu_noerror_nurse['HADM_ID'].unique())\n",
    "neg_period_dict = defaultdict(lambda:[])\n",
    "for index, row in adm_df.iterrows():\n",
    "    tmp_id = row['HADM_ID']\n",
    "    if tmp_id in all_neg_adm_set:\n",
    "        tmp_adm = pd.to_datetime(row['ADMITTIME'])\n",
    "        tmp_dis = pd.to_datetime(row['DISCHTIME'])\n",
    "        tmp_delta = tmp_dis - tmp_adm\n",
    "        tmp_hours = int(tmp_delta.total_seconds() / 3600)\n",
    "        if tmp_bin_number[0] < neg_delta_bin_number[0]:\n",
    "            dummy_pu_delta = random.randint(24,min(tmp_hours,48))\n",
    "            dummy_pu = tmp_adm + dt.timedelta(hours = dummy_pu_delta)\n",
    "            dummy_start = tmp_adm\n",
    "            neg_period_dict[tmp_id].append(dummy_start)\n",
    "            neg_period_dict[tmp_id].append(dummy_pu)\n",
    "            tmp_bin_number[0]+=1\n",
    "            continue\n",
    "        if tmp_bin_number[1] < neg_delta_bin_number[1] and tmp_hours > 48:\n",
    "            dummy_pu_delta = random.randint(24,min(tmp_hours,72))\n",
    "            dummy_pu = tmp_adm + dt.timedelta(hours = dummy_pu_delta)\n",
    "            dummy_start = tmp_adm\n",
    "            neg_period_dict[tmp_id].append(dummy_start)\n",
    "            neg_period_dict[tmp_id].append(dummy_pu)\n",
    "            tmp_bin_number[1]+=1\n",
    "            continue\n",
    "        if tmp_bin_number[2] < neg_delta_bin_number[2] and tmp_hours > 72:\n",
    "            dummy_pu_delta = random.randint(72,tmp_hours)\n",
    "            dummy_pu = tmp_adm + dt.timedelta(hours = dummy_pu_delta)\n",
    "            dummy_start = dummy_pu - dt.timedelta(hours = 72)\n",
    "            neg_period_dict[tmp_id].append(dummy_start)\n",
    "            neg_period_dict[tmp_id].append(dummy_pu)\n",
    "            tmp_bin_number[2]+=1\n",
    "            continue"
   ]
  },
  {
   "cell_type": "code",
   "execution_count": 86,
   "metadata": {},
   "outputs": [
    {
     "name": "stderr",
     "output_type": "stream",
     "text": [
      "796243it [00:59, 13364.01it/s]\n"
     ]
    }
   ],
   "source": [
    "row_list = []\n",
    "for index,row in tqdm(nopu_noerror_nurse.iterrows()):\n",
    "    key = row['HADM_ID']\n",
    "    if key in neg_period_dict:\n",
    "        tmp_date = pd.to_datetime(row['CHARTTIME'])\n",
    "        if tmp_date>= neg_period_dict[key][0] and tmp_date < neg_period_dict[key][1]:\n",
    "            #pu_period_nursing = pd.concat([pu_period_nursing,row])\n",
    "            row_list.append(row)\n",
    "nopu_period_nursing = pd.concat(row_list,ignore_index=True,axis=1).T"
   ]
  },
  {
   "cell_type": "code",
   "execution_count": 87,
   "metadata": {},
   "outputs": [
    {
     "data": {
      "text/plain": [
       "5156"
      ]
     },
     "execution_count": 87,
     "metadata": {},
     "output_type": "execute_result"
    }
   ],
   "source": [
    "len(nopu_period_nursing['HADM_ID'].unique())"
   ]
  },
  {
   "cell_type": "code",
   "execution_count": 88,
   "metadata": {},
   "outputs": [
    {
     "data": {
      "text/plain": [
       "(26853, 11)"
      ]
     },
     "execution_count": 88,
     "metadata": {},
     "output_type": "execute_result"
    }
   ],
   "source": [
    "nopu_period_nursing.shape"
   ]
  },
  {
   "cell_type": "code",
   "execution_count": 90,
   "metadata": {},
   "outputs": [
    {
     "name": "stderr",
     "output_type": "stream",
     "text": [
      "100%|██████████| 5156/5156 [00:09<00:00, 544.02it/s]\n",
      "100%|██████████| 257/257 [00:00<00:00, 898.71it/s]\n",
      "100%|██████████| 257/257 [00:00<00:00, 847.74it/s]\n",
      "100%|██████████| 257/257 [00:00<00:00, 822.64it/s]\n",
      "100%|██████████| 257/257 [00:00<00:00, 640.73it/s]\n",
      "100%|██████████| 257/257 [00:00<00:00, 759.09it/s]\n",
      "  0%|          | 0/257 [00:00<?, ?it/s]505.75it/s]\n",
      "100%|██████████| 257/257 [00:00<00:00, 713.97it/s]\n",
      "100%|██████████| 257/257 [00:00<00:00, 335.83it/s]\n",
      "100%|██████████| 257/257 [00:00<00:00, 621.03it/s]\n",
      "100%|██████████| 257/257 [00:00<00:00, 529.70it/s]\n",
      "100%|██████████| 257/257 [00:00<00:00, 568.54it/s]\n",
      "100%|██████████| 16/16 [00:00<00:00, 306.79it/s]s]\n",
      "100%|██████████| 257/257 [00:00<00:00, 588.71it/s]\n",
      "100%|██████████| 257/257 [00:00<00:00, 626.07it/s]\n",
      "100%|██████████| 257/257 [00:00<00:00, 603.61it/s]\n",
      "100%|██████████| 257/257 [00:00<00:00, 638.60it/s]\n",
      "100%|██████████| 257/257 [00:00<00:00, 632.84it/s]\n",
      "100%|██████████| 257/257 [00:00<00:00, 593.57it/s]\n",
      "100%|██████████| 257/257 [00:00<00:00, 642.63it/s]\n",
      "100%|██████████| 257/257 [00:00<00:00, 676.59it/s]\n",
      "100%|██████████| 257/257 [00:00<00:00, 605.29it/s]\n"
     ]
    }
   ],
   "source": [
    "row_list = []\n",
    "for hid in tqdm(nopu_period_nursing.HADM_ID.unique()):\n",
    "    tmp_df = nopu_period_nursing[nopu_period_nursing.HADM_ID == hid]\n",
    "    tmp_text = ' '.join(list(tmp_df.TEXT))\n",
    "    row_list.append([hid,tmp_text])\n",
    "nopu_period_allnursing=pd.DataFrame(row_list,columns=['HADM_ID','text'])\n",
    "imp.reload(utils)\n",
    "clean_abb_text = utils.clean_Abb(20,list(nopu_period_allnursing.text))\n",
    "nopu_period_allnursing['clean_text'] = clean_abb_text\n",
    "nlp = spacy.load(\"en_core_web_sm\")\n",
    "lemmatized_text = []\n",
    "for doc in nlp.pipe(clean_abb_text, batch_size=10,n_process=20, disable=[\"parser\", \"ner\"]):\n",
    "    tmp_doc = [tok.lemma_ for tok in doc]\n",
    "    tmp_doc = ' '.join(tmp_doc)\n",
    "    lemmatized_text.append(tmp_doc)\n",
    "nopu_period_allnursing['lemma_text'] = lemmatized_text"
   ]
  },
  {
   "cell_type": "code",
   "execution_count": 99,
   "metadata": {},
   "outputs": [],
   "source": [
    "nopu_period_allnursing['pu_label'] = 0"
   ]
  },
  {
   "cell_type": "code",
   "execution_count": 100,
   "metadata": {},
   "outputs": [],
   "source": [
    "all_period_allnursing = pd.concat([pu_period_allnursing,nopu_period_allnursing])"
   ]
  },
  {
   "cell_type": "code",
   "execution_count": 101,
   "metadata": {},
   "outputs": [
    {
     "data": {
      "text/plain": [
       "(7594, 5)"
      ]
     },
     "execution_count": 101,
     "metadata": {},
     "output_type": "execute_result"
    }
   ],
   "source": [
    "all_period_allnursing.shape"
   ]
  },
  {
   "cell_type": "code",
   "execution_count": 27,
   "metadata": {},
   "outputs": [],
   "source": [
    "#both_period_allnursing即为all_period_allnursing，避免all_period带来的歧义。both指的是既有pos又有neg的both\n",
    "both_period_allnursing.to_csv('./result/pu_chart/pu_chart_nursing_3day.csv')\n",
    "both_period_allnursing = pd.read_csv('./result/pu_chart/pu_chart_nursing_3day.csv')"
   ]
  },
  {
   "cell_type": "code",
   "execution_count": 28,
   "metadata": {},
   "outputs": [
    {
     "name": "stdout",
     "output_type": "stream",
     "text": [
      "<class 'pandas.core.frame.DataFrame'>\n",
      "RangeIndex: 7594 entries, 0 to 7593\n",
      "Data columns (total 8 columns):\n",
      " #   Column        Non-Null Count  Dtype \n",
      "---  ------        --------------  ----- \n",
      " 0   Unnamed: 0    7594 non-null   int64 \n",
      " 1   Unnamed: 0.1  7594 non-null   int64 \n",
      " 2   HADM_ID       7594 non-null   int64 \n",
      " 3   text          7594 non-null   object\n",
      " 4   clean_text    7594 non-null   object\n",
      " 5   lemma_text    7594 non-null   object\n",
      " 6   pu_label      7594 non-null   int64 \n",
      " 7   split         7594 non-null   object\n",
      "dtypes: int64(4), object(4)\n",
      "memory usage: 474.8+ KB\n"
     ]
    }
   ],
   "source": [
    "both_period_allnursing.info()"
   ]
  },
  {
   "cell_type": "code",
   "execution_count": 9,
   "metadata": {},
   "outputs": [],
   "source": [
    "ids_list = list(both_period_allnursing.HADM_ID)\n",
    "label_list = list(both_period_allnursing.pu_label)"
   ]
  },
  {
   "cell_type": "code",
   "execution_count": 12,
   "metadata": {},
   "outputs": [
    {
     "data": {
      "text/html": [
       "<div>\n",
       "<style scoped>\n",
       "    .dataframe tbody tr th:only-of-type {\n",
       "        vertical-align: middle;\n",
       "    }\n",
       "\n",
       "    .dataframe tbody tr th {\n",
       "        vertical-align: top;\n",
       "    }\n",
       "\n",
       "    .dataframe thead th {\n",
       "        text-align: right;\n",
       "    }\n",
       "</style>\n",
       "<table border=\"1\" class=\"dataframe\">\n",
       "  <thead>\n",
       "    <tr style=\"text-align: right;\">\n",
       "      <th></th>\n",
       "      <th>Unnamed: 0</th>\n",
       "      <th>HADM_ID</th>\n",
       "      <th>text</th>\n",
       "      <th>clean_text</th>\n",
       "      <th>lemma_text</th>\n",
       "      <th>pu_label</th>\n",
       "    </tr>\n",
       "  </thead>\n",
       "  <tbody>\n",
       "    <tr>\n",
       "      <th>0</th>\n",
       "      <td>0</td>\n",
       "      <td>146431</td>\n",
       "      <td>Respiratory failure, acute (not ARDS/[**Doctor...</td>\n",
       "      <td>Respiratory failure, acute (not ARDS/ ) Assess...</td>\n",
       "      <td>respiratory failure , acute ( not ards/ ) asse...</td>\n",
       "      <td>1</td>\n",
       "    </tr>\n",
       "    <tr>\n",
       "      <th>1</th>\n",
       "      <td>1</td>\n",
       "      <td>150549</td>\n",
       "      <td>Respiratory failure, acute (not ARDS/[**Doctor...</td>\n",
       "      <td>Respiratory failure, acute (not ARDS/ ) Assess...</td>\n",
       "      <td>respiratory failure , acute ( not ards/ ) asse...</td>\n",
       "      <td>1</td>\n",
       "    </tr>\n",
       "    <tr>\n",
       "      <th>2</th>\n",
       "      <td>2</td>\n",
       "      <td>154590</td>\n",
       "      <td>NPN: Narrative Note: Preliminary Admit note:\\n...</td>\n",
       "      <td>NPN: Narrative Note: Preliminary Admit note: 6...</td>\n",
       "      <td>NPN : Narrative note : Preliminary Admit note ...</td>\n",
       "      <td>1</td>\n",
       "    </tr>\n",
       "    <tr>\n",
       "      <th>3</th>\n",
       "      <td>3</td>\n",
       "      <td>116532</td>\n",
       "      <td>Pt is a 86 y/o woman with history of severe AS...</td>\n",
       "      <td>Pt is a 86 y/o woman with history of severe AS...</td>\n",
       "      <td>Pt be a 86 y / o woman with history of severe ...</td>\n",
       "      <td>1</td>\n",
       "    </tr>\n",
       "    <tr>\n",
       "      <th>4</th>\n",
       "      <td>4</td>\n",
       "      <td>177843</td>\n",
       "      <td>53 y/o male with esophageal cancer and h/o PE'...</td>\n",
       "      <td>53 y/o male with esophageal cancer and h/o PE'...</td>\n",
       "      <td>53 y / o male with esophageal cancer and h / o...</td>\n",
       "      <td>1</td>\n",
       "    </tr>\n",
       "  </tbody>\n",
       "</table>\n",
       "</div>"
      ],
      "text/plain": [
       "   Unnamed: 0  HADM_ID                                               text  \\\n",
       "0           0   146431  Respiratory failure, acute (not ARDS/[**Doctor...   \n",
       "1           1   150549  Respiratory failure, acute (not ARDS/[**Doctor...   \n",
       "2           2   154590  NPN: Narrative Note: Preliminary Admit note:\\n...   \n",
       "3           3   116532  Pt is a 86 y/o woman with history of severe AS...   \n",
       "4           4   177843  53 y/o male with esophageal cancer and h/o PE'...   \n",
       "\n",
       "                                          clean_text  \\\n",
       "0  Respiratory failure, acute (not ARDS/ ) Assess...   \n",
       "1  Respiratory failure, acute (not ARDS/ ) Assess...   \n",
       "2  NPN: Narrative Note: Preliminary Admit note: 6...   \n",
       "3  Pt is a 86 y/o woman with history of severe AS...   \n",
       "4  53 y/o male with esophageal cancer and h/o PE'...   \n",
       "\n",
       "                                          lemma_text  pu_label  \n",
       "0  respiratory failure , acute ( not ards/ ) asse...         1  \n",
       "1  respiratory failure , acute ( not ards/ ) asse...         1  \n",
       "2  NPN : Narrative note : Preliminary Admit note ...         1  \n",
       "3  Pt be a 86 y / o woman with history of severe ...         1  \n",
       "4  53 y / o male with esophageal cancer and h / o...         1  "
      ]
     },
     "execution_count": 12,
     "metadata": {},
     "output_type": "execute_result"
    }
   ],
   "source": [
    "both_period_allnursing.head()"
   ]
  },
  {
   "cell_type": "code",
   "execution_count": 10,
   "metadata": {},
   "outputs": [
    {
     "data": {
      "text/plain": [
       "[1, 1, 1, 1, 1]"
      ]
     },
     "execution_count": 10,
     "metadata": {},
     "output_type": "execute_result"
    }
   ],
   "source": [
    "label_list[:5]"
   ]
  },
  {
   "cell_type": "code",
   "execution_count": 11,
   "metadata": {},
   "outputs": [
    {
     "data": {
      "text/plain": [
       "[146431, 150549, 154590, 116532, 177843]"
      ]
     },
     "execution_count": 11,
     "metadata": {},
     "output_type": "execute_result"
    }
   ],
   "source": [
    "ids_list[:5]"
   ]
  },
  {
   "cell_type": "code",
   "execution_count": 22,
   "metadata": {},
   "outputs": [],
   "source": [
    "from sklearn.model_selection import train_test_split\n",
    "train_indices,test_indices,train_label,test_label = train_test_split(ids_list,label_list,test_size = 0.2,stratify =label_list,random_state = 221)"
   ]
  },
  {
   "cell_type": "code",
   "execution_count": 23,
   "metadata": {},
   "outputs": [],
   "source": [
    "train_indices = set(train_indices) \n",
    "test_indices = set(test_indices) "
   ]
  },
  {
   "cell_type": "code",
   "execution_count": 24,
   "metadata": {},
   "outputs": [
    {
     "data": {
      "text/plain": [
       "['train',\n",
       " 'train',\n",
       " 'test',\n",
       " 'test',\n",
       " 'train',\n",
       " 'train',\n",
       " 'test',\n",
       " 'train',\n",
       " 'train',\n",
       " 'train',\n",
       " 'test',\n",
       " 'train',\n",
       " 'train',\n",
       " 'test',\n",
       " 'train',\n",
       " 'train',\n",
       " 'train',\n",
       " 'train',\n",
       " 'test',\n",
       " 'train']"
      ]
     },
     "execution_count": 24,
     "metadata": {},
     "output_type": "execute_result"
    }
   ],
   "source": [
    "split_list = []\n",
    "for k in both_period_allnursing.HADM_ID:\n",
    "    if k in train_indices:\n",
    "        split_list.append('train')\n",
    "    else:\n",
    "        split_list.append('test')\n",
    "split_list[:20]"
   ]
  },
  {
   "cell_type": "code",
   "execution_count": 25,
   "metadata": {},
   "outputs": [],
   "source": [
    "both_period_allnursing['split'] = split_list"
   ]
  },
  {
   "cell_type": "code",
   "execution_count": 26,
   "metadata": {},
   "outputs": [
    {
     "data": {
      "text/html": [
       "<div>\n",
       "<style scoped>\n",
       "    .dataframe tbody tr th:only-of-type {\n",
       "        vertical-align: middle;\n",
       "    }\n",
       "\n",
       "    .dataframe tbody tr th {\n",
       "        vertical-align: top;\n",
       "    }\n",
       "\n",
       "    .dataframe thead th {\n",
       "        text-align: right;\n",
       "    }\n",
       "</style>\n",
       "<table border=\"1\" class=\"dataframe\">\n",
       "  <thead>\n",
       "    <tr style=\"text-align: right;\">\n",
       "      <th></th>\n",
       "      <th>Unnamed: 0</th>\n",
       "      <th>HADM_ID</th>\n",
       "      <th>text</th>\n",
       "      <th>clean_text</th>\n",
       "      <th>lemma_text</th>\n",
       "      <th>pu_label</th>\n",
       "      <th>split</th>\n",
       "    </tr>\n",
       "  </thead>\n",
       "  <tbody>\n",
       "    <tr>\n",
       "      <th>0</th>\n",
       "      <td>0</td>\n",
       "      <td>146431</td>\n",
       "      <td>Respiratory failure, acute (not ARDS/[**Doctor...</td>\n",
       "      <td>Respiratory failure, acute (not ARDS/ ) Assess...</td>\n",
       "      <td>respiratory failure , acute ( not ards/ ) asse...</td>\n",
       "      <td>1</td>\n",
       "      <td>train</td>\n",
       "    </tr>\n",
       "    <tr>\n",
       "      <th>1</th>\n",
       "      <td>1</td>\n",
       "      <td>150549</td>\n",
       "      <td>Respiratory failure, acute (not ARDS/[**Doctor...</td>\n",
       "      <td>Respiratory failure, acute (not ARDS/ ) Assess...</td>\n",
       "      <td>respiratory failure , acute ( not ards/ ) asse...</td>\n",
       "      <td>1</td>\n",
       "      <td>train</td>\n",
       "    </tr>\n",
       "    <tr>\n",
       "      <th>2</th>\n",
       "      <td>2</td>\n",
       "      <td>154590</td>\n",
       "      <td>NPN: Narrative Note: Preliminary Admit note:\\n...</td>\n",
       "      <td>NPN: Narrative Note: Preliminary Admit note: 6...</td>\n",
       "      <td>NPN : Narrative note : Preliminary Admit note ...</td>\n",
       "      <td>1</td>\n",
       "      <td>test</td>\n",
       "    </tr>\n",
       "    <tr>\n",
       "      <th>3</th>\n",
       "      <td>3</td>\n",
       "      <td>116532</td>\n",
       "      <td>Pt is a 86 y/o woman with history of severe AS...</td>\n",
       "      <td>Pt is a 86 y/o woman with history of severe AS...</td>\n",
       "      <td>Pt be a 86 y / o woman with history of severe ...</td>\n",
       "      <td>1</td>\n",
       "      <td>test</td>\n",
       "    </tr>\n",
       "    <tr>\n",
       "      <th>4</th>\n",
       "      <td>4</td>\n",
       "      <td>177843</td>\n",
       "      <td>53 y/o male with esophageal cancer and h/o PE'...</td>\n",
       "      <td>53 y/o male with esophageal cancer and h/o PE'...</td>\n",
       "      <td>53 y / o male with esophageal cancer and h / o...</td>\n",
       "      <td>1</td>\n",
       "      <td>train</td>\n",
       "    </tr>\n",
       "  </tbody>\n",
       "</table>\n",
       "</div>"
      ],
      "text/plain": [
       "   Unnamed: 0  HADM_ID                                               text  \\\n",
       "0           0   146431  Respiratory failure, acute (not ARDS/[**Doctor...   \n",
       "1           1   150549  Respiratory failure, acute (not ARDS/[**Doctor...   \n",
       "2           2   154590  NPN: Narrative Note: Preliminary Admit note:\\n...   \n",
       "3           3   116532  Pt is a 86 y/o woman with history of severe AS...   \n",
       "4           4   177843  53 y/o male with esophageal cancer and h/o PE'...   \n",
       "\n",
       "                                          clean_text  \\\n",
       "0  Respiratory failure, acute (not ARDS/ ) Assess...   \n",
       "1  Respiratory failure, acute (not ARDS/ ) Assess...   \n",
       "2  NPN: Narrative Note: Preliminary Admit note: 6...   \n",
       "3  Pt is a 86 y/o woman with history of severe AS...   \n",
       "4  53 y/o male with esophageal cancer and h/o PE'...   \n",
       "\n",
       "                                          lemma_text  pu_label  split  \n",
       "0  respiratory failure , acute ( not ards/ ) asse...         1  train  \n",
       "1  respiratory failure , acute ( not ards/ ) asse...         1  train  \n",
       "2  NPN : Narrative note : Preliminary Admit note ...         1   test  \n",
       "3  Pt be a 86 y / o woman with history of severe ...         1   test  \n",
       "4  53 y / o male with esophageal cancer and h / o...         1  train  "
      ]
     },
     "execution_count": 26,
     "metadata": {},
     "output_type": "execute_result"
    }
   ],
   "source": [
    "both_period_allnursing.head()"
   ]
  },
  {
   "cell_type": "markdown",
   "metadata": {},
   "source": [
    "## 放弃dict或者list作为存储方式"
   ]
  },
  {
   "cell_type": "code",
   "execution_count": 83,
   "metadata": {},
   "outputs": [
    {
     "ename": "NameError",
     "evalue": "name 'nopu_period_nursing' is not defined",
     "output_type": "error",
     "traceback": [
      "\u001b[0;31m---------------------------------------------------------------------------\u001b[0m",
      "\u001b[0;31mNameError\u001b[0m                                 Traceback (most recent call last)",
      "\u001b[0;32m<ipython-input-83-e222c0831645>\u001b[0m in \u001b[0;36m<module>\u001b[0;34m\u001b[0m\n\u001b[1;32m      1\u001b[0m \u001b[0mneg_adm_nurse_note\u001b[0m \u001b[0;34m=\u001b[0m \u001b[0mdefaultdict\u001b[0m\u001b[0;34m(\u001b[0m\u001b[0;32mlambda\u001b[0m\u001b[0;34m:\u001b[0m\u001b[0;34m[\u001b[0m\u001b[0;34m]\u001b[0m\u001b[0;34m)\u001b[0m\u001b[0;34m\u001b[0m\u001b[0;34m\u001b[0m\u001b[0m\n\u001b[0;32m----> 2\u001b[0;31m \u001b[0;32mfor\u001b[0m \u001b[0mindex\u001b[0m\u001b[0;34m,\u001b[0m\u001b[0mrow\u001b[0m \u001b[0;32min\u001b[0m \u001b[0mtqdm\u001b[0m\u001b[0;34m(\u001b[0m\u001b[0mnopu_period_nursing\u001b[0m\u001b[0;34m.\u001b[0m\u001b[0miterrows\u001b[0m\u001b[0;34m(\u001b[0m\u001b[0;34m)\u001b[0m\u001b[0;34m)\u001b[0m\u001b[0;34m:\u001b[0m\u001b[0;34m\u001b[0m\u001b[0;34m\u001b[0m\u001b[0m\n\u001b[0m\u001b[1;32m      3\u001b[0m     \u001b[0mkey\u001b[0m \u001b[0;34m=\u001b[0m \u001b[0mrow\u001b[0m\u001b[0;34m[\u001b[0m\u001b[0;34m'HADM_ID'\u001b[0m\u001b[0;34m]\u001b[0m\u001b[0;34m\u001b[0m\u001b[0;34m\u001b[0m\u001b[0m\n\u001b[1;32m      4\u001b[0m     \u001b[0mneg_adm_nurse_note\u001b[0m\u001b[0;34m[\u001b[0m\u001b[0mkey\u001b[0m\u001b[0;34m]\u001b[0m\u001b[0;34m.\u001b[0m\u001b[0mappend\u001b[0m\u001b[0;34m(\u001b[0m\u001b[0mrow\u001b[0m\u001b[0;34m[\u001b[0m\u001b[0;34m'TEXT'\u001b[0m\u001b[0;34m]\u001b[0m\u001b[0;34m)\u001b[0m\u001b[0;34m\u001b[0m\u001b[0;34m\u001b[0m\u001b[0m\n",
      "\u001b[0;31mNameError\u001b[0m: name 'nopu_period_nursing' is not defined"
     ]
    }
   ],
   "source": [
    "neg_adm_nurse_note = defaultdict(lambda:[])\n",
    "for index,row in tqdm(nopu_period_nursing.iterrows()):\n",
    "    key = row['HADM_ID']\n",
    "    neg_adm_nurse_note[key].append(row['TEXT'])"
   ]
  },
  {
   "cell_type": "code",
   "execution_count": 158,
   "metadata": {},
   "outputs": [
    {
     "name": "stdout",
     "output_type": "stream",
     "text": [
      "5.1439263097294186\n",
      "2.0\n",
      "7.0\n"
     ]
    }
   ],
   "source": [
    "len_list = []\n",
    "for k,v in neg_adm_nurse_note.items():\n",
    "    len_list.append(len(v))\n",
    "print(np.mean(len_list))\n",
    "print(np.quantile(len_list,0.25))\n",
    "print(np.quantile(len_list,0.75))"
   ]
  },
  {
   "cell_type": "code",
   "execution_count": 163,
   "metadata": {},
   "outputs": [],
   "source": [
    "json.dump(neg_adm_nurse_note,open('neg_adm_nurse_note_periodmatch.json','w'))"
   ]
  },
  {
   "cell_type": "code",
   "execution_count": 139,
   "metadata": {},
   "outputs": [
    {
     "data": {
      "text/plain": [
       "[950, 585, 4560]"
      ]
     },
     "execution_count": 139,
     "metadata": {},
     "output_type": "execute_result"
    }
   ],
   "source": [
    "tmp_bin_number"
   ]
  },
  {
   "cell_type": "code",
   "execution_count": 142,
   "metadata": {},
   "outputs": [
    {
     "data": {
      "text/plain": [
       "[Timestamp('2122-01-05 01:55:00'), Timestamp('2122-01-08 01:55:00')]"
      ]
     },
     "execution_count": 142,
     "metadata": {},
     "output_type": "execute_result"
    }
   ],
   "source": [
    "random.choice(list(neg_period_dict.values()))"
   ]
  },
  {
   "cell_type": "code",
   "execution_count": 129,
   "metadata": {},
   "outputs": [
    {
     "data": {
      "text/plain": [
       "38"
      ]
     },
     "execution_count": 129,
     "metadata": {},
     "output_type": "execute_result"
    }
   ],
   "source": [
    "int(aaa.total_seconds() / 3600)"
   ]
  },
  {
   "cell_type": "code",
   "execution_count": 131,
   "metadata": {},
   "outputs": [
    {
     "data": {
      "text/plain": [
       "27"
      ]
     },
     "execution_count": 131,
     "metadata": {},
     "output_type": "execute_result"
    }
   ],
   "source": [
    "random.randint(1,38)"
   ]
  },
  {
   "cell_type": "code",
   "execution_count": 124,
   "metadata": {},
   "outputs": [
    {
     "data": {
      "text/plain": [
       "52500"
      ]
     },
     "execution_count": 124,
     "metadata": {},
     "output_type": "execute_result"
    }
   ],
   "source": [
    "aaa.seconds"
   ]
  },
  {
   "cell_type": "code",
   "execution_count": null,
   "metadata": {},
   "outputs": [],
   "source": [
    "for index,row in adm_df.iterrows():\n",
    "    "
   ]
  },
  {
   "cell_type": "code",
   "execution_count": 81,
   "metadata": {},
   "outputs": [
    {
     "data": {
      "text/plain": [
       "False"
      ]
     },
     "execution_count": 81,
     "metadata": {},
     "output_type": "execute_result"
    }
   ],
   "source": [
    "pd.to_datetime(row['DISCHTIME']) - pd.to_datetime(row['ADMITTIME'])<datetime.timedelta(hours = 24)"
   ]
  },
  {
   "cell_type": "code",
   "execution_count": 75,
   "metadata": {},
   "outputs": [
    {
     "data": {
      "text/plain": [
       "2065"
      ]
     },
     "execution_count": 75,
     "metadata": {},
     "output_type": "execute_result"
    }
   ],
   "source": [
    "len(todrop_index)"
   ]
  },
  {
   "cell_type": "code",
   "execution_count": null,
   "metadata": {},
   "outputs": [],
   "source": [
    "adm_df = adm_df.drop(todrop_index)"
   ]
  },
  {
   "cell_type": "code",
   "execution_count": 47,
   "metadata": {},
   "outputs": [
    {
     "name": "stderr",
     "output_type": "stream",
     "text": [
      "51113it [00:03, 15146.62it/s]\n"
     ]
    }
   ],
   "source": [
    "neg_adm_set = set(neg_adm_list)\n",
    "neg_date_dict = defaultdict(lambda:[])\n",
    "for index,row in tqdm(adm_df.iterrows()):\n",
    "    key = row['HADM_ID']\n",
    "    if key in neg_adm_set:\n",
    "        neg_date_dict[key].append(row['ADMITTIME'])\n",
    "        neg_date_dict[key].append(row['DISCHTIME'])"
   ]
  },
  {
   "cell_type": "code",
   "execution_count": 48,
   "metadata": {},
   "outputs": [
    {
     "data": {
      "text/plain": [
       "['2144-02-01 01:58:00', '2144-02-03 18:01:00']"
      ]
     },
     "execution_count": 48,
     "metadata": {},
     "output_type": "execute_result"
    }
   ],
   "source": [
    "neg_date_dict[neg_adm_list[0]]"
   ]
  },
  {
   "cell_type": "code",
   "execution_count": 105,
   "metadata": {},
   "outputs": [],
   "source": [
    "mu, sigma = 11, 6 # mean and standard deviation\n",
    "doc_nums = np.round(np.random.normal(11,6,2*2438))\n",
    "np.clip(doc_nums,4,19)\n",
    "count = 0\n",
    "neg_dict = {}\n",
    "for neg_adm in neg_adm_list:\n",
    "    if len(neg_adm_nurse_note[neg_adm]) > doc_nums[count]:\n",
    "        neg_dict[neg_adm] = random.choices(neg_adm_nurse_note[neg_adm],k = int(doc_nums[count]))\n",
    "    else:\n",
    "        neg_dict[neg_adm] = neg_adm_nurse_note[neg_adm]                              "
   ]
  },
  {
   "cell_type": "code",
   "execution_count": 106,
   "metadata": {},
   "outputs": [
    {
     "data": {
      "text/plain": [
       "4876"
      ]
     },
     "execution_count": 106,
     "metadata": {},
     "output_type": "execute_result"
    }
   ],
   "source": [
    "len(neg_dict)"
   ]
  },
  {
   "cell_type": "code",
   "execution_count": 107,
   "metadata": {},
   "outputs": [],
   "source": [
    "json.dump(neg_dict,open('neg_adm_nurse_note.json','w'))"
   ]
  },
  {
   "cell_type": "code",
   "execution_count": 108,
   "metadata": {},
   "outputs": [
    {
     "name": "stdout",
     "output_type": "stream",
     "text": [
      "4876\n"
     ]
    }
   ],
   "source": [
    "neg_dict = json.load(open('neg_adm_nurse_note.json','r'))\n",
    "print(len(neg_dict))"
   ]
  },
  {
   "cell_type": "code",
   "execution_count": 113,
   "metadata": {},
   "outputs": [],
   "source": [
    "neg_adm_allnurse_note = {}\n",
    "for k,v in neg_dict.items():\n",
    "    neg_adm_allnurse_note[k] = ' '.join(v)"
   ]
  },
  {
   "cell_type": "code",
   "execution_count": 114,
   "metadata": {},
   "outputs": [
    {
     "data": {
      "text/plain": [
       "4876"
      ]
     },
     "execution_count": 114,
     "metadata": {},
     "output_type": "execute_result"
    }
   ],
   "source": [
    "len(neg_adm_allnurse_note)"
   ]
  },
  {
   "cell_type": "code",
   "execution_count": 115,
   "metadata": {},
   "outputs": [],
   "source": [
    "neg_text = list(neg_adm_allnurse_note.values())\n",
    "neg_label = [0] * len(neg_text)"
   ]
  },
  {
   "cell_type": "code",
   "execution_count": 36,
   "metadata": {
    "scrolled": true
   },
   "outputs": [
    {
     "data": {
      "text/html": [
       "<div>\n",
       "<style scoped>\n",
       "    .dataframe tbody tr th:only-of-type {\n",
       "        vertical-align: middle;\n",
       "    }\n",
       "\n",
       "    .dataframe tbody tr th {\n",
       "        vertical-align: top;\n",
       "    }\n",
       "\n",
       "    .dataframe thead th {\n",
       "        text-align: right;\n",
       "    }\n",
       "</style>\n",
       "<table border=\"1\" class=\"dataframe\">\n",
       "  <thead>\n",
       "    <tr style=\"text-align: right;\">\n",
       "      <th></th>\n",
       "      <th>ROW_ID</th>\n",
       "      <th>SUBJECT_ID</th>\n",
       "      <th>HADM_ID</th>\n",
       "      <th>CHARTDATE</th>\n",
       "      <th>CHARTTIME</th>\n",
       "      <th>STORETIME</th>\n",
       "      <th>CATEGORY</th>\n",
       "      <th>DESCRIPTION</th>\n",
       "      <th>CGID</th>\n",
       "      <th>ISERROR</th>\n",
       "      <th>TEXT</th>\n",
       "    </tr>\n",
       "  </thead>\n",
       "  <tbody>\n",
       "    <tr>\n",
       "      <th>308705</th>\n",
       "      <td>316320</td>\n",
       "      <td>28742</td>\n",
       "      <td>185325.0</td>\n",
       "      <td>2144-02-02</td>\n",
       "      <td>2144-02-02 07:27:00</td>\n",
       "      <td>2144-02-02 07:27:11</td>\n",
       "      <td>Nursing</td>\n",
       "      <td>Nursing Transfer Note</td>\n",
       "      <td>15065.0</td>\n",
       "      <td>NaN</td>\n",
       "      <td>73 y/o female with breast cancer metastatic to...</td>\n",
       "    </tr>\n",
       "    <tr>\n",
       "      <th>308711</th>\n",
       "      <td>316402</td>\n",
       "      <td>29076</td>\n",
       "      <td>193948.0</td>\n",
       "      <td>2151-02-08</td>\n",
       "      <td>2151-02-08 03:07:00</td>\n",
       "      <td>2151-02-08 07:19:55</td>\n",
       "      <td>Nursing</td>\n",
       "      <td>Nursing Progress Note</td>\n",
       "      <td>20063.0</td>\n",
       "      <td>NaN</td>\n",
       "      <td>Respiratory failure, acute (not ARDS/[**Doctor...</td>\n",
       "    </tr>\n",
       "    <tr>\n",
       "      <th>308715</th>\n",
       "      <td>317749</td>\n",
       "      <td>29959</td>\n",
       "      <td>167558.0</td>\n",
       "      <td>2117-02-02</td>\n",
       "      <td>2117-02-02 03:10:00</td>\n",
       "      <td>2117-02-02 03:10:38</td>\n",
       "      <td>Nursing</td>\n",
       "      <td>Nursing Progress Note</td>\n",
       "      <td>15526.0</td>\n",
       "      <td>NaN</td>\n",
       "      <td>Thromboembolism, other\\n   Assessment:\\n   Act...</td>\n",
       "    </tr>\n",
       "    <tr>\n",
       "      <th>308716</th>\n",
       "      <td>317750</td>\n",
       "      <td>27866</td>\n",
       "      <td>109679.0</td>\n",
       "      <td>2143-04-09</td>\n",
       "      <td>2143-04-09 03:22:00</td>\n",
       "      <td>2143-04-09 03:22:26</td>\n",
       "      <td>Nursing</td>\n",
       "      <td>Nursing Progress Note</td>\n",
       "      <td>21297.0</td>\n",
       "      <td>NaN</td>\n",
       "      <td>Ms. [**Known lastname 1170**] is an 83 yo F w/...</td>\n",
       "    </tr>\n",
       "    <tr>\n",
       "      <th>308717</th>\n",
       "      <td>317751</td>\n",
       "      <td>27866</td>\n",
       "      <td>109679.0</td>\n",
       "      <td>2143-04-09</td>\n",
       "      <td>2143-04-09 03:22:00</td>\n",
       "      <td>2143-04-09 03:27:59</td>\n",
       "      <td>Nursing</td>\n",
       "      <td>Nursing Progress Note</td>\n",
       "      <td>21297.0</td>\n",
       "      <td>NaN</td>\n",
       "      <td>Ms. [**Known lastname 1170**] is an 83 yo F w/...</td>\n",
       "    </tr>\n",
       "  </tbody>\n",
       "</table>\n",
       "</div>"
      ],
      "text/plain": [
       "        ROW_ID  SUBJECT_ID   HADM_ID   CHARTDATE            CHARTTIME  \\\n",
       "308705  316320       28742  185325.0  2144-02-02  2144-02-02 07:27:00   \n",
       "308711  316402       29076  193948.0  2151-02-08  2151-02-08 03:07:00   \n",
       "308715  317749       29959  167558.0  2117-02-02  2117-02-02 03:10:00   \n",
       "308716  317750       27866  109679.0  2143-04-09  2143-04-09 03:22:00   \n",
       "308717  317751       27866  109679.0  2143-04-09  2143-04-09 03:22:00   \n",
       "\n",
       "                  STORETIME CATEGORY            DESCRIPTION     CGID  ISERROR  \\\n",
       "308705  2144-02-02 07:27:11  Nursing  Nursing Transfer Note  15065.0      NaN   \n",
       "308711  2151-02-08 07:19:55  Nursing  Nursing Progress Note  20063.0      NaN   \n",
       "308715  2117-02-02 03:10:38  Nursing  Nursing Progress Note  15526.0      NaN   \n",
       "308716  2143-04-09 03:22:26  Nursing  Nursing Progress Note  21297.0      NaN   \n",
       "308717  2143-04-09 03:27:59  Nursing  Nursing Progress Note  21297.0      NaN   \n",
       "\n",
       "                                                     TEXT  \n",
       "308705  73 y/o female with breast cancer metastatic to...  \n",
       "308711  Respiratory failure, acute (not ARDS/[**Doctor...  \n",
       "308715  Thromboembolism, other\\n   Assessment:\\n   Act...  \n",
       "308716  Ms. [**Known lastname 1170**] is an 83 yo F w/...  \n",
       "308717  Ms. [**Known lastname 1170**] is an 83 yo F w/...  "
      ]
     },
     "execution_count": 36,
     "metadata": {},
     "output_type": "execute_result"
    }
   ],
   "source": [
    "nopu_noerror_nurse.head()"
   ]
  },
  {
   "cell_type": "markdown",
   "metadata": {},
   "source": [
    "# 一点ML的实验"
   ]
  },
  {
   "cell_type": "code",
   "execution_count": 175,
   "metadata": {},
   "outputs": [
    {
     "name": "stdout",
     "output_type": "stream",
     "text": [
      "2438\n",
      "5211\n"
     ]
    }
   ],
   "source": [
    "pu_adm_nurse_note = json.load(open('pu_adm_nurse_note.json','r'))\n",
    "neg_dict = json.load(open('neg_adm_nurse_note_periodmatch.json','r'))\n",
    "print(len(pu_adm_nurse_note))\n",
    "print(len(neg_dict))\n",
    "\n",
    "pu_adm_allnurse_note = {}\n",
    "for k,v in pu_adm_nurse_note.items():\n",
    "    pu_adm_allnurse_note[k] = ' '.join(v)\n",
    "    \n",
    "neg_adm_allnurse_note = {}\n",
    "for k,v in neg_dict.items():\n",
    "    neg_adm_allnurse_note[k] = ' '.join(v)\n",
    "    \n",
    "pos_text = list(pu_adm_allnurse_note.values())\n",
    "pos_label = [1] * len(pos_text)\n",
    "neg_text = list(neg_adm_allnurse_note.values())\n",
    "neg_label = [0] * len(neg_text)"
   ]
  },
  {
   "cell_type": "code",
   "execution_count": 176,
   "metadata": {},
   "outputs": [],
   "source": [
    "pos_text.extend(neg_text) \n",
    "pos_label.extend(neg_label) \n",
    "total_text = pos_text\n",
    "total_label = pos_label"
   ]
  },
  {
   "cell_type": "code",
   "execution_count": 177,
   "metadata": {},
   "outputs": [],
   "source": [
    "from sklearn.feature_extraction.text import CountVectorizer\n",
    "from sklearn.naive_bayes import ComplementNB\n",
    "from sklearn.model_selection import train_test_split\n",
    "from sklearn.metrics import classification_report, confusion_matrix,roc_auc_score\n",
    "from sklearn.linear_model import LogisticRegression"
   ]
  },
  {
   "cell_type": "code",
   "execution_count": 178,
   "metadata": {},
   "outputs": [],
   "source": [
    "text_train,text_test,Y_train,Y_test = train_test_split(total_text,total_label,test_size = 0.2,stratify = total_label,random_state=221)"
   ]
  },
  {
   "cell_type": "code",
   "execution_count": 179,
   "metadata": {},
   "outputs": [
    {
     "data": {
      "text/plain": [
       "str"
      ]
     },
     "execution_count": 179,
     "metadata": {},
     "output_type": "execute_result"
    }
   ],
   "source": [
    "type(text_train[0])"
   ]
  },
  {
   "cell_type": "code",
   "execution_count": 180,
   "metadata": {},
   "outputs": [
    {
     "data": {
      "text/plain": [
       "list"
      ]
     },
     "execution_count": 180,
     "metadata": {},
     "output_type": "execute_result"
    }
   ],
   "source": [
    "type(text_train)"
   ]
  },
  {
   "cell_type": "code",
   "execution_count": 181,
   "metadata": {},
   "outputs": [
    {
     "name": "stdout",
     "output_type": "stream",
     "text": [
      "(6119, 15431)\n"
     ]
    }
   ],
   "source": [
    "Count_vectorizer = CountVectorizer(min_df =5,stop_words='english',max_df = 0.8)\n",
    "Count_vectorizer = Count_vectorizer.fit(text_train)\n",
    "X_train = Count_vectorizer.transform(text_train)\n",
    "X_test = Count_vectorizer.transform(text_test)\n",
    "print(np.shape(X_train))"
   ]
  },
  {
   "cell_type": "code",
   "execution_count": 182,
   "metadata": {},
   "outputs": [
    {
     "data": {
      "text/plain": [
       "6119.200000000001"
      ]
     },
     "execution_count": 182,
     "metadata": {},
     "output_type": "execute_result"
    }
   ],
   "source": [
    "len(total_text) * 0.8"
   ]
  },
  {
   "cell_type": "code",
   "execution_count": 203,
   "metadata": {},
   "outputs": [
    {
     "name": "stdout",
     "output_type": "stream",
     "text": [
      "                   precision    recall  f1-score   support\n",
      "\n",
      "No_pressure_ulcer       0.82      0.97      0.89      1042\n",
      "   pressure_ulcer       0.88      0.54      0.67       488\n",
      "\n",
      "         accuracy                           0.83      1530\n",
      "        macro avg       0.85      0.75      0.78      1530\n",
      "     weighted avg       0.84      0.83      0.82      1530\n",
      "\n",
      "[[1006   36]\n",
      " [ 224  264]]\n",
      "0.7532173311097826\n"
     ]
    }
   ],
   "source": [
    "clf = ComplementNB()\n",
    "clf.fit(X_train,Y_train)\n",
    "y_pred = clf.predict(X_test)\n",
    "y_pred_proba = clf.predict_proba(X_test)\n",
    "y_pred = np.argmax(y_pred_proba,axis=-1)\n",
    "print(classification_report(Y_test, y_pred, target_names=['No_pressure_ulcer','pressure_ulcer']))\n",
    "print(confusion_matrix(Y_test,y_pred))\n",
    "print(roc_auc_score(Y_test, y_pred))"
   ]
  },
  {
   "cell_type": "code",
   "execution_count": 190,
   "metadata": {},
   "outputs": [
    {
     "data": {
      "text/plain": [
       "array([ 4.99443117,  5.36158799,  5.3938428 , ..., 14.65240174,\n",
       "       14.65240174, 14.65240174])"
      ]
     },
     "execution_count": 190,
     "metadata": {},
     "output_type": "execute_result"
    }
   ],
   "source": [
    "coef = clf.coef_[0]\n",
    "np.sort(coef)"
   ]
  },
  {
   "cell_type": "code",
   "execution_count": 194,
   "metadata": {},
   "outputs": [
    {
     "data": {
      "text/plain": [
       "array([13600, 11473,  7094, 13955,  1892, 11705,  9642,  2945, 13902,\n",
       "       13916,  4998,  7974,  7975,  7979, 10869,  6169,  6163, 14938,\n",
       "        2497,  2499,  4836, 14826,  2508,  2510, 14298, 10357,  1492,\n",
       "       14949, 14799,  2287, 14338,  7581, 10488,  2352,  4907, 10697,\n",
       "       10734, 12287,  7790, 10587,  7700,  4048,  6270,  7838,  4025,\n",
       "        7845, 14198, 10781,  7872,  2311,   659, 14923,   665,  5240,\n",
       "        2576,  1463,  8537,   142,  2795,   806, 11098,   525,  4916,\n",
       "        7267, 12934,  9794,  6643,  8641,  4402,  4744,  7256,  8672,\n",
       "         246, 11942,  8761, 11091,  7456,  9938, 14399,  6522,  1461,\n",
       "       12069,  1457,  2667,  1447,  1720,  3751,  7407, 12730,  7397,\n",
       "       10999, 13891, 12773,  3699,  1392,  2704, 12016, 11052,  2748,\n",
       "        2081])"
      ]
     },
     "execution_count": 194,
     "metadata": {},
     "output_type": "execute_result"
    }
   ],
   "source": [
    "np.argsort(coef)[-100:]"
   ]
  },
  {
   "cell_type": "code",
   "execution_count": 197,
   "metadata": {},
   "outputs": [],
   "source": [
    "count_vocab = Count_vectorizer.get_feature_names()"
   ]
  },
  {
   "cell_type": "code",
   "execution_count": 201,
   "metadata": {},
   "outputs": [
    {
     "data": {
      "text/plain": [
       "'regurgitation'"
      ]
     },
     "execution_count": 201,
     "metadata": {},
     "output_type": "execute_result"
    }
   ],
   "source": [
    "count_vocab[12016]"
   ]
  },
  {
   "cell_type": "code",
   "execution_count": 193,
   "metadata": {},
   "outputs": [
    {
     "data": {
      "text/plain": [
       "14.65240174195995"
      ]
     },
     "execution_count": 193,
     "metadata": {},
     "output_type": "execute_result"
    }
   ],
   "source": [
    "coef[np.argsort(coef)[-1]]"
   ]
  },
  {
   "cell_type": "code",
   "execution_count": 184,
   "metadata": {},
   "outputs": [],
   "source": [
    "from sklearn import svm\n",
    "\n",
    "SVC_clf = svm.SVC(class_weight = 'balanced',kernel = 'linear',probability=1)\n",
    "SVC_clf.fit(X_train,Y_train)\n",
    "y_pred = SVC_clf.predict(X_test)\n",
    "\n",
    "y_pred_proba = SVC_clf.predict_proba(X_test)\n",
    "y_pred = np.argmax(y_pred_proba,axis=-1)"
   ]
  },
  {
   "cell_type": "code",
   "execution_count": 185,
   "metadata": {},
   "outputs": [
    {
     "name": "stdout",
     "output_type": "stream",
     "text": [
      "                   precision    recall  f1-score   support\n",
      "\n",
      "No_pressure_ulcer       0.85      0.96      0.90      1042\n",
      "   pressure_ulcer       0.88      0.63      0.74       488\n",
      "\n",
      "         accuracy                           0.85      1530\n",
      "        macro avg       0.86      0.80      0.82      1530\n",
      "     weighted avg       0.86      0.85      0.85      1530\n",
      "\n",
      "[[1000   42]\n",
      " [ 180  308]]\n",
      "0.7954202196280797\n"
     ]
    }
   ],
   "source": [
    "print(classification_report(Y_test, y_pred, target_names=['No_pressure_ulcer','pressure_ulcer']))\n",
    "print(confusion_matrix(Y_test,y_pred))\n",
    "print(roc_auc_score(Y_test, y_pred))"
   ]
  },
  {
   "cell_type": "code",
   "execution_count": 202,
   "metadata": {},
   "outputs": [
    {
     "name": "stdout",
     "output_type": "stream",
     "text": [
      "                   precision    recall  f1-score   support\n",
      "\n",
      "No_pressure_ulcer       0.90      0.93      0.91      1042\n",
      "   pressure_ulcer       0.84      0.78      0.81       488\n",
      "\n",
      "         accuracy                           0.88      1530\n",
      "        macro avg       0.87      0.86      0.86      1530\n",
      "     weighted avg       0.88      0.88      0.88      1530\n",
      "\n",
      "[[967  75]\n",
      " [105 383]]\n",
      "0.8564295491016645\n"
     ]
    }
   ],
   "source": [
    "lr_clf = LogisticRegression(class_weight='balanced',max_iter=1000)\n",
    "lr_clf.fit(X_train,Y_train)\n",
    "y_pred = lr_clf.predict(X_test)\n",
    "y_pred_proba = lr_clf.predict_proba(X_test)\n",
    "y_pred = np.argmax(y_pred_proba,axis=-1)\n",
    "print(classification_report(Y_test, y_pred, target_names=['No_pressure_ulcer','pressure_ulcer']))\n",
    "print(confusion_matrix(Y_test,y_pred))\n",
    "print(roc_auc_score(Y_test, y_pred))"
   ]
  },
  {
   "cell_type": "code",
   "execution_count": 209,
   "metadata": {
    "scrolled": true
   },
   "outputs": [
    {
     "name": "stdout",
     "output_type": "stream",
     "text": [
      "arrival\n",
      "80cc\n",
      "motor\n",
      "cop\n",
      "wide\n",
      "weak\n",
      "po2\n",
      "cvvhd\n",
      "hrs\n",
      "tap\n",
      "digoxin\n",
      "intervention\n",
      "uncomfortable\n",
      "weakly\n",
      "assessment\n",
      "anuric\n",
      "loose\n",
      "paged\n",
      "qtt\n",
      "provide\n",
      "mrsa\n",
      "eyes\n",
      "phenylephrine\n",
      "45cc\n",
      "colored\n",
      "healing\n",
      "treatment\n",
      "specifics\n",
      "black\n",
      "allevyn\n",
      "mcg\n",
      "packing\n",
      "bath\n",
      "movements\n",
      "rhonchi\n",
      "purulent\n",
      "ulcers\n",
      "platelets\n",
      "sacral\n",
      "rehab\n",
      "neuropathy\n",
      "sore\n",
      "cc7\n",
      "cvicu\n",
      "ulcer\n",
      "stage\n",
      "decub\n",
      "heel\n",
      "duoderm\n",
      "coccyx\n"
     ]
    }
   ],
   "source": [
    "coef = lr_clf.coef_[0]\n",
    "kws = np.argsort(coef)[-50:]\n",
    "for www in kws:\n",
    "    print(count_vocab[www])"
   ]
  },
  {
   "cell_type": "code",
   "execution_count": 211,
   "metadata": {},
   "outputs": [
    {
     "name": "stdout",
     "output_type": "stream",
     "text": [
      "Respiratory failure, acute (not ARDS/[**Doctor Last Name **])\n",
      "   Assessment:\n",
      "   Remains intubated and vented. Continued on AC mode. Urine output 25-40\n",
      "   cc/hr.\n",
      "   Action:\n",
      "   No change on  vent settings overnight.  Urine output not improved well\n",
      "   Inspite of fluid boluses .\n",
      "   Response:\n",
      "   Vital signs remained stable. f/ u with am  blood gas.\n",
      "   Plan:\n",
      "   Continue vnet/ sedation  in view of her present surgical status.\n",
      "   Small bowel obstruction (Intestinal obstruction, SBO, including\n",
      "   intussusception, adhesions)\n",
      "   Assessment:\n",
      "   NGT asp  minimal, tube patent.  No N / V. no BM.\n",
      "   Action:\n",
      "   NGT flushed , connected to low suction. Seen by surgeons.\n",
      "   Response:\n",
      "   Less than 100cc drained.\n",
      "   Plan:\n",
      "   Per surgeon pt family is willing for  surgery now, so may  go for\n",
      "   surgery today.\n",
      " Chief Complaint:  Nausea and vomiting\n",
      "   HPI:\n",
      "   Ms. [**Known lastname 823**] is a 60 yo F w/PMHx sx for metastatic RCC (liver, brain,\n",
      "   lungs) on Avastin, on 3L home oxygen who presents to the ED with two\n",
      "   days of nausea and vomiting of brownish, feculent material, with no\n",
      "   BMs. She had also noted increasing abdominal distension, but without\n",
      "   significant pain. Per patient's daughter, she has been otherwise doing\n",
      "   well. She denies BRBPR, melena, dysuria, hematuria, chest pain, SOB,\n",
      "   fevers, chills. She has been tolerating the Avastin without any\n",
      "   significant side effects and last received a dose on Wednesday.\n",
      "   .\n",
      "   In the ED, her vitals were T97.3 P 99 BP 147/110 O2sat 92% on 3L.\n",
      "   She underwent a CT abdomen that showed SBO with transition point in\n",
      "   distal jejunum/proximal ileum. NGT placed -- 2800cc feculant material\n",
      "   drained. She was treated with levofloxacin 750mg IV and cultures were\n",
      "   sent. She was seen by the surgical service but they declined surgical\n",
      "   intervention. She was subsequently noted to have lower pO2 on repeat\n",
      "   ABG and was intubated for hypoxemia.\n",
      "   .\n",
      "   She is admitted to the MICU for medical management of her SBO.\n",
      "   Respiratory failure, acute (not ARDS/[**Doctor Last Name **])\n",
      "   Assessment:\n",
      "   Pt on home o2 since [**10-18**], met ca to lung. Intubated in ew. Lung snds\n",
      "   clear. Last gas pre intubation\n",
      "   Action:\n",
      "   Will remain on vent . discussed with daughter that surgery feels she is\n",
      "   not a candidate for [**Doctor First Name 458**] and seriousness of  situation\n",
      "   Response:\n",
      "   Family states they want to do every thing to keep her going\n",
      "   Plan:\n",
      "   Eval settings with blood gas. Poss switch sedation to fent and midaz\n",
      "   Small bowel obstruction (Intestinal obstruction, SBO, including\n",
      "   intussusception, adhesions)\n",
      "   Assessment:\n",
      "   Ng up to LWS with 50 cc  brown green fecal matter drained since aicu\n",
      "   admit at 0400,  absent bs, soft distended abd. With umbilical hernia\n",
      "   present. Fever to 100.1 oral.  Lactate had decreased from2.7 to 1.7\n",
      "   Action:\n",
      "   Blood cult x2, urine cult  sent in ew. Levoquin given in ew\n",
      "   Response:\n",
      "   Temp poss d/t SBO, no bowel snds present\n",
      "   Plan:\n",
      "   Cont ng to LWS, monitor fever and eval abd s/s infection  or\n",
      "   perforation\n",
      "   Pain management d/t chronic hip pain and fx rt humerous from [**1-19**]\n",
      "   Assess: pt takes 80 mg oxyconton tid and faster acting oxyconton [**5-21**]\n",
      "   mg [**1-13**] x day for approx 2 years\n",
      "   Action: iv pain med ordered\n",
      "   Response: pt seems comfortable on sedation, no grimacing\n",
      "   Plan: eval for pain with turning, give prn pain med. Reassure family\n",
      "   about pain control\n",
      " Respiratory failure, acute (not ARDS/[**Doctor Last Name **])\n",
      "   Assessment:\n",
      "   Action:\n",
      "   Response:\n",
      "   Plan:\n",
      "   Small bowel obstruction (Intestinal obstruction, SBO, including\n",
      "   intussusception, adhesions)\n",
      "   Assessment:\n",
      "   Action:\n",
      "   Response:\n",
      "   Plan:\n",
      " Respiratory failure, acute (not ARDS/[**Doctor Last Name **])\n",
      "   Assessment:\n",
      "   Remains intubated and vented. Continued on AC mode.\n",
      "   Action:\n",
      "   No change on  vent settings overnight.\n",
      "   Response:\n",
      "   Vital signs remained stable. f/ u with am  blood gas.\n",
      "   Plan:\n",
      "   Continue vnet/ sedation  in view of her present surgical status.\n",
      "   Small bowel obstruction (Intestinal obstruction, SBO, including\n",
      "   intussusception, adhesions)\n",
      "   Assessment:\n",
      "   NGT asp  minimal, tube patent.  No N / V. no BM.\n",
      "   Action:\n",
      "   NGT flushed , connected to low suction. Seen by surgeons.\n",
      "   Response:\n",
      "   Less than 100cc drained.\n",
      "   Plan:\n",
      "   Per surgeon pt family is willing for  surgery now, so may  go for\n",
      "   surgery today.\n",
      " Respiratory failure, acute (not ARDS/[**Doctor Last Name **])\n",
      "   Assessment:\n",
      "   Adequate oxygenation and ventilation per sats and stable abg earlier\n",
      "   this am.  High rsbi this am.\n",
      "   Action:\n",
      "   Resp. therapist attempted psv but pt with minimal spontaneous resp.\n",
      "   maintained on ac with no vent changes made.\n",
      "   Response:\n",
      "   Stable 02 sats on ac. Afebrile.\n",
      "   Plan:\n",
      "   Continue ac at current vent settings. Monitor temp, iv abx, monitor\n",
      "   micro data.\n",
      "   Small bowel obstruction (Intestinal obstruction, SBO, including\n",
      "   intussusception, adhesions)\n",
      "   Assessment:\n",
      "   Continues with ngt output now with some bright red blood. Bowel sounds\n",
      "   remain absent with abd distended.\n",
      "   Action:\n",
      "   Ngt remains at low wall suction. Flushed with 30cc x2, patent. Pm hct\n",
      "   pending. Received aggressive hydration, 4 liters ns.\n",
      "   Response:\n",
      "   no sig. change in abd exam. Minimal urine output in response to 4lns.\n",
      "   Plan:\n",
      "   Continue ngt to low wall suction. Npo. Iv hydration. No surgery per\n",
      "   family who met with oncologist this am for famiy meeting-see below.\n",
      "   Team to reevaluate if need further fluid boluses.\n",
      "   Cancer (Malignant Neoplasm), Renal (Kidney)\n",
      "   Assessment:\n",
      "   Poor prognosis per oncologist who spoke with pt\n",
      "s husband and dtr. this\n",
      "   am.\n",
      "   Action:\n",
      "   Family decided to make pt DNR/DNI based on conversation with pt\n",
      "   oncologist. Per family, the plan is to continue care but not add any\n",
      "   additional aggressive measures. Iv access was addressed with team for\n",
      "   picc as pt still with only 2 peripheral ivs. Family not wishing for\n",
      "   picc line to be placed earlier today but now stating they would be\n",
      "   receptive to it if needed. Social service provided parking sticker\n",
      "   coupon to family as requested-given to family.\n",
      "   Response:\n",
      "   Pt now DNR/DNI with no further measures other than current treatment\n",
      "   and possible picc placement in near future.\n",
      "   Plan:\n",
      "   Team to readdress picc placement with family as 2 pivs will only last\n",
      "   for so long. Continue current plan of care. Provide emotional support\n",
      "   to family. Keep pt comfortable with fentanyl prn in addition to\n",
      "   propofol for sedation. Now pt requires 100mcg fentanyl bolus prn.\n",
      "   Fentanyl patch was also placed today at 12pm on chest.\n",
      " Respiratory failure, acute (not ARDS/[**Doctor Last Name **])\n",
      "   Assessment:\n",
      "   Adequate oxygenation and ventilation per sats and stable abg earlier\n",
      "   this am.  High rsbi this am.\n",
      "   Action:\n",
      "   Resp. therapist attempted psv but pt with minimal spontaneous resp.\n",
      "   maintained on ac with no vent changes made.\n",
      "   Response:\n",
      "   Stable 02 sats on ac. Afebrile.\n",
      "   Plan:\n",
      "   Continue ac at current vent settings. Monitor temp, iv abx, monitor\n",
      "   micro data.\n",
      "   Small bowel obstruction (Intestinal obstruction, SBO, including\n",
      "   intussusception, adhesions)\n",
      "   Assessment:\n",
      "   Continues with ngt output now with some bright red blood. Bowel sounds\n",
      "   remain absent with abd distended.\n",
      "   Action:\n",
      "   Ngt remains at low wall suction. Flushed with 30cc x2, patent. Pm hct\n",
      "   pending. Received aggressive hydration, 4 liters ns.\n",
      "   Response:\n",
      "   no sig. change in abd exam. Minimal urine output in response to 4lns.\n",
      "   Plan:\n",
      "   Continue ngt to low wall suction. Npo. Iv hydration. No surgery per\n",
      "   family who met with oncologist this am for famiy meeting-see below.\n",
      "   Team to reevaluate if need further fluid boluses.\n",
      "   Cancer (Malignant Neoplasm), Renal (Kidney)\n",
      "   Assessment:\n",
      "   Poor prognosis per oncologist who spoke with pt\n",
      "s husband and dtr. this\n",
      "   am.\n",
      "   Action:\n",
      "   Response:\n",
      "   Plan:\n",
      " Respiratory failure, acute (not ARDS/[**Doctor Last Name **])\n",
      "   Assessment:\n",
      "   Adequate oxygenation and ventilation per sats and stable abg earlier\n",
      "   this am.  High rsbi this am.\n",
      "   Action:\n",
      "   Resp. therapist attempted psv but pt with minimal spontaneous resp.\n",
      "   maintained on ac with no vent changes made.\n",
      "   Response:\n",
      "   Stable 02 sats on ac. Afebrile.\n",
      "   Plan:\n",
      "   Continue ac at current vent settings. Monitor temp, iv abx, monitor\n",
      "   micro data.\n",
      "   Small bowel obstruction (Intestinal obstruction, SBO, including\n",
      "   intussusception, adhesions)\n",
      "   Assessment:\n",
      "   Continues with ngt output now with some bright red blood. Bowel sounds\n",
      "   remain absent with abd distended.\n",
      "   Action:\n",
      "   Ngt remains at low wall suction. Flushed with 30cc x2, patent. Pm hct\n",
      "   pending. Received aggressive hydration, 4 liters ns.\n",
      "   Response:\n",
      "   no sig. change in abd exam. Minimal urine output in response to 4lns.\n",
      "   Plan:\n",
      "   Continue ngt to low wall suction. Npo. Iv hydration. No surgery per\n",
      "   family who met with oncologist this am for famiy meeting-see below.\n",
      "   Team to reevaluate if need further fluid boluses.\n",
      "   Cancer (Malignant Neoplasm), Renal (Kidney)\n",
      "   Assessment:\n",
      "   Poor prognosis per oncologist who spoke with pt\n",
      "s husband and dtr. this\n",
      "   am.\n",
      "   Action:\n",
      "   Family decided to make pt DNR/DNI based on conversation with pt\n",
      "   oncologist. Per family, the plan is to continue care but not add any\n",
      "   additional aggressive measures. Iv access was addressed with team for\n",
      "   picc as pt still with only 2 peripheral ivs.\n",
      "   Response:\n",
      "   Plan:\n",
      " Respiratory failure, acute (not ARDS/[**Doctor Last Name **])\n",
      "   Assessment:\n",
      "   Likely r/t asp. Pneumonia treated with intubation and mechanical\n",
      "   ventilation. Tolerating well reflected by stable abgs and 02 sats. T\n",
      "   max 99.4. minimal sputum, bld tinged, increased inr (pt was on coumadin\n",
      "   pta for hx of pulm. Embolism).\n",
      "   Action:\n",
      "   Fi02 weaned to 40%. Pan cultured.  Continues on levoflox, flagyl, vanco\n",
      "   added. Vitamin k given sc x1 for elevated inr.\n",
      "   Response:\n",
      "   Tolerating drop in fi02 reflected by stable abg and sats. Remains\n",
      "   afebrile.\n",
      "   Plan:\n",
      "   Monitor temp, micro data, iv abx, monitor coags, monitor sats, abgs,\n",
      "   suction prn.\n",
      "   Small bowel obstruction (Intestinal obstruction, SBO, including\n",
      "   intussusception, adhesions)\n",
      "   Assessment:\n",
      "   Abd exam essentially unchanged. Continues with drainage of ngt, no\n",
      "   bowel sounds, distended soft abd.\n",
      "   Action:\n",
      "   Continue ngt to low wall suction. Npo. Ivf, levo/flagyl for coverage.\n",
      "   Surgery following.\n",
      "   Response:\n",
      "   Abd exam remains unchanged.\n",
      "   Plan:\n",
      "   Continue ngt to lws, npo, ivf, abx, surgery to continue to follow.  Pt\n",
      "   not a surgical candidate at this time.\n",
      "   Cancer (Malignant Neoplasm), Renal (Kidney)\n",
      "   Assessment:\n",
      "   Per team, mets to lungs, adrenal glands, and brain with poor prognosis.\n",
      "   Pt admitted with poor response to avastin with n/v of brownish fecal\n",
      "   material.\n",
      "   Action:\n",
      "   Onc. Team to continue to follow. Avastin on hold. Continue ngt to lws.\n",
      "   Spoke with family re: plan of care. Family would like to speak with\n",
      "   social work to obtain stickers for parking. Emotional support also\n",
      "   offered. [**Doctor Last Name 39**] from social work notified and will get in touch with\n",
      "   family when they return for their visit this eve.\n",
      "   Response:\n",
      "   Awaiting onc. Recs. Unchanged assessment.\n",
      "   Plan:\n",
      "   Follow up with onc. Recs. Continue treatment for sbo. Social work to\n",
      "   follow family for support.\n",
      "   Nausea / vomiting\n",
      "   Assessment:\n",
      "   Poor urine output continues. Remains slightly tacycardic. Could be\n",
      "   partly r/t dehydration. Pt also grimacing relieved with iv fentanyl\n",
      "   50mcg at 2 different intervals with good effect.\n",
      "   Action:\n",
      "   u.o. remained low despite pt receiving 3.5 liters ns. Grimacing\n",
      "   resolved with 50mcg fentanyl and hr improved down to 90s. urine lytes\n",
      "   revealed very low sodium, high osmolality and specific gravity\n",
      "   reflecting dehydration. Pt receiving further ivf boluses now of lr.\n",
      "   Response:\n",
      "   u.o. still remains low and concentrated.\n",
      "   Plan:\n",
      "   Continue aggressive fluid hydration. Team aware pt with 2 pivs and will\n",
      "   need central access to continue aggressive fluid resuscitation.\n",
      " Respiratory failure, acute (not ARDS/[**Doctor Last Name **])\n",
      "   Assessment:\n",
      "   Likely r/t asp. Pneumonia treated with intubation and mechanical\n",
      "   ventilation. Tolerating well reflected by stable abgs and 02 sats. T\n",
      "   max 99.4. minimal sputum, bld tinged, increased inr (pt was on coumadin\n",
      "   pta for hx of pulm. Embolism).\n",
      "   Action:\n",
      "   Fi02 weaned to 40%. Pan cultured.  Continues on levoflox, flagyl, vanco\n",
      "   added. Vitamin k given sc x1 for elevated inr.\n",
      "   Response:\n",
      "   Tolerating drop in fi02 reflected by stable abg and sats. Remains\n",
      "   afebrile.\n",
      "   Plan:\n",
      "   Monitor temp, micro data, iv abx, monitor coags, monitor sats, abgs,\n",
      "   suction prn.\n",
      "   Small bowel obstruction (Intestinal obstruction, SBO, including\n",
      "   intussusception, adhesions)\n",
      "   Assessment:\n",
      "   Abd exam essentially unchanged. Continues with drainage of ngt, no\n",
      "   bowel sounds, distended soft abd.\n",
      "   Action:\n",
      "   Continue ngt to low wall suction. Npo. Ivf, levo/flagyl for coverage.\n",
      "   Surgery following.\n",
      "   Response:\n",
      "   Abd exam remains unchanged.\n",
      "   Plan:\n",
      "   Continue ngt to lws, npo, ivf, abx, surgery to continue to follow.  Pt\n",
      "   not a surgical candidate at this time.\n",
      "   Cancer (Malignant Neoplasm), Renal (Kidney)\n",
      "   Assessment:\n",
      "   Per team, mets to lungs, adrenal glands, and brain with poor prognosis.\n",
      "   Pt admitted with poor response to avastin with n/v of brownish fecal\n",
      "   material.\n",
      "   Action:\n",
      "   Onc. Team to continue to follow. Avastin on hold. Continue ngt to lws.\n",
      "   Spoke with family re: plan of care. Family would like to speak with\n",
      "   social work to obtain stickers for parking. Emotional support also\n",
      "   offered. [**Doctor Last Name 39**] from social work notified and will get in touch with\n",
      "   family when they return for their visit this eve.\n",
      "   Response:\n",
      "   Awaiting onc. Recs. Unchanged assessment.\n",
      "   Plan:\n",
      "   Follow up with onc. Recs. Continue treatment for sbo. Social work to\n",
      "   follow family for support.\n",
      "   Nausea / vomiting\n",
      "   Assessment:\n",
      "   Poor urine output continues. Remains slightly tachycardic. Could be\n",
      "   partly r/t dehydration. Pt also grimacing relieved with iv fentanyl\n",
      "   50mcg at 2 different intervals with good effect.\n",
      "   Action:\n",
      "   u.o. remained low despite pt receiving 3.5 liters ns. Grimacing\n",
      "   resolved with 50mcg fentanyl and hr improved down to 90s. urine lytes\n",
      "   revealed very low sodium, high osmolality and specific gravity\n",
      "   reflecting dehydration. Pt receiving further ivf boluses now of\n",
      "   lactated ringers.\n",
      "   Response:\n",
      "   u.o. still remains low and concentrated.\n",
      "   Plan:\n",
      "   Continue aggressive fluid hydration. Team aware pt with 2 pivs and will\n",
      "   need central access to continue aggressive fluid resuscitation.\n",
      " Respiratory failure, acute (not ARDS/[**Doctor Last Name **])\n",
      "   Assessment:\n",
      "   Breath sounds clear with occasional crackles that clear with\n",
      "   suctioning, continues on mechanical vent, failed RISBI >200, currently\n",
      "   on CPAP [**5-26**]\n",
      "   Action:\n",
      "   Attempted SBT as noted above, decreased vent settings from AC to CPAP,\n",
      "   d/t most recent ABG 7.42/40/127\n",
      "   Response:\n",
      "   Maintaining Sats 94-99, breath sounds clear with suctioning\n",
      "   Plan:\n",
      "   Continue to wean vent settings as tolerated, continue to monitor breath\n",
      "   sounds and suction ETT as needed, ABG to be sent at 1800, f/u results\n",
      "   Small bowel obstruction (Intestinal obstruction, SBO, including\n",
      "   intussusception, adhesions)\n",
      "   Assessment:\n",
      "   Abd softly distended, no grimace with palpation, no BM this shift,\n",
      "   absent BSx4q, NPO\n",
      "   Action:\n",
      "   NGT to LCWS for a total of ~2000cc this shift, bilious secretions,\n",
      "   placement of NGT confirmed by auscultation and CXray\n",
      "   Response:\n",
      "   pt will continue to have SBO as no surgical intervention is planned\n",
      "   Plan:\n",
      "   No surgical intervention planned as noted above, continue NPO status,\n",
      "   continue to monitor output from NGT\n",
      "   Pain control (acute pain, chronic pain)\n",
      "   Assessment:\n",
      "   Pt grimacing with repositioning and at rest at times, currently sedated\n",
      "   on propofol gtt\n",
      "   Action:\n",
      "   Covering pain with IVP fent 100 mcg x2\n",
      "   Response:\n",
      "   Pt appears to be in no/less pain per grimace scale with fent\n",
      "   administration\n",
      "   Plan:\n",
      "   [**Last Name **] Problem - [**Name (NI) **] Description In Comments\n",
      "   Assessment:\n",
      "   Problem concerning access, pt with 2 PIV both in for >2 days, IV nurse\n",
      "   evaluated pt yesterday for bedside PICC placement, recommended that pt\n",
      "   go to IR for placement, family having difficulty consenting to\n",
      "   procedure, concerned with invasive nature and not wanting to cause pt\n",
      "   pain, HO spoke with family, consent obtained\n",
      "   Action:\n",
      "   To IR for PICC placement today, one PIV d/c\n",
      "   Response:\n",
      "   Obtained single lumen PICC, current access is one PIV and PICC\n",
      "   Plan:\n",
      "   Address need for further access if PIV needs to be d/c\n",
      " Respiratory failure, acute (not ARDS/[**Doctor Last Name **])\n",
      "   Assessment:\n",
      "   Remains intubated and vented. Continued on AC mode. Urine output 25-40\n",
      "   cc/hr.\n",
      "   Action:\n",
      "   No change on  vent settings overnight.  Urine output not improved well\n",
      "   Inspite of fluid boluses .\n",
      "   Response:\n",
      "   Vital signs remained stable. f/ u with am  blood gas.\n",
      "   Plan:\n",
      "   Continue vnet/ sedation  in view of her present surgical status.\n",
      "   Small bowel obstruction (Intestinal obstruction, SBO, including\n",
      "   intussusception, adhesions)\n",
      "   Assessment:\n",
      "   NGT asp  minimal, tube patent.  No N / V. no BM.\n",
      "   Action:\n",
      "   NGT flushed , connected to low suction. Seen by surgeons.\n",
      "   Response:\n",
      "   Less than 100cc drained.\n",
      "   Plan:\n",
      "   Per surgeon pt family is willing for  surgery now, so may  go for\n",
      "   surgery today.\n",
      " Respiratory failure, acute (not ARDS/[**Doctor Last Name **])\n",
      "   Assessment:\n",
      "   Pt is on mechanical ventilation.LS clear with diminished base.\n",
      "   Action:\n",
      "   No vent changes overnight.Cont on a/c 40%/500/12/5.Suctined prn for\n",
      "   small amount of secretions.Conts on levofloxacin for possible PNA.\n",
      "   Response:\n",
      "   Saturating >95%.\n",
      "   Plan:\n",
      "   Wean vent as tolerated.RSBI in the am.Cont on IV ABX.\n",
      "   Small bowel obstruction (Intestinal obstruction, SBO, including\n",
      "   intussusception, adhesions)\n",
      "   Assessment:\n",
      "   Pt has got [**Last Name (un) 499**] distension with absent BS.Pt has got low u/o ?from\n",
      "   bladder obstruction from the [**Last Name (un) 499**] pressure.No BM.\n",
      "   Action:\n",
      "   NGT on LCS draining.Had [**Last Name (un) 499**] xray to see any change in pressure from\n",
      "   the previous one\n",
      "s.Bladder pressure was 11 which is normal.Pt is\n",
      "   scheduled for renal usg today.bladder w/o done .Family spoke to\n",
      "   oncologist regarding surgery.They decided against it.\n",
      "   Response:\n",
      "   u/o output cont to be low.Ngt draining bilious secretions.\n",
      "   Plan:\n",
      "   Renal usg today.Monitor u/o.\n",
      "   Vancomycin was omitted as levels were high.For rpeat vanc levels in the\n",
      "   am.Family spoke to MD [**First Name (Titles) 863**] [**Last Name (Titles) 864**].They expressed that as long as the\n",
      "   pt  doesn\n",
      "t suffer or have pain during the proceedure they are happy\n",
      "   with it.Pt currently has got only two PIV\n",
      " Respiratory failure, acute (not ARDS/[**Doctor Last Name **])\n",
      "   Assessment:\n",
      "   Pt is on mechanical ventilation.LS clear with diminished base.\n",
      "   Action:\n",
      "   No vent changes overnight.Cont on a/c 40%/500/12/5.Suctined prn for\n",
      "   small amount of secretions.Cont on levofloxacin for possible PNA.\n",
      "   Response:\n",
      "   Saturating >95%.\n",
      "   Plan:\n",
      "   Small bowel obstruction (Intestinal obstruction, SBO, including\n",
      "   intussusception, adhesions)\n",
      "   Assessment:\n",
      "   Action:\n",
      "   Response:\n",
      "   Plan:\n",
      "   Cancer (Malignant Neoplasm), Renal (Kidney)\n",
      "   Assessment:\n",
      "   Action:\n",
      "   Response:\n",
      "   Plan:\n",
      "\n"
     ]
    }
   ],
   "source": [
    "print(pos_text[0])"
   ]
  },
  {
   "cell_type": "code",
   "execution_count": 206,
   "metadata": {},
   "outputs": [
    {
     "data": {
      "text/plain": [
       "array([0.32527859, 0.327768  , 0.32853581, 0.32860619, 0.32864149,\n",
       "       0.32909185, 0.329693  , 0.33100702, 0.33301927, 0.33326778,\n",
       "       0.33514736, 0.33722366, 0.33918527, 0.3412492 , 0.3433861 ,\n",
       "       0.34344362, 0.34349066, 0.34375526, 0.34768779, 0.34828689,\n",
       "       0.34959485, 0.3513882 , 0.35188511, 0.35267385, 0.35407817,\n",
       "       0.35431252, 0.35520595, 0.35590191, 0.35612902, 0.35649288,\n",
       "       0.3573212 , 0.35787236, 0.35803026, 0.35841355, 0.36093048,\n",
       "       0.36147403, 0.36511315, 0.36649697, 0.36842716, 0.36873606,\n",
       "       0.36875712, 0.37015932, 0.37175124, 0.37244649, 0.3728417 ,\n",
       "       0.37316889, 0.37342997, 0.37446139, 0.37838048, 0.37949943,\n",
       "       0.38234668, 0.38411882, 0.38425927, 0.38702524, 0.38756797,\n",
       "       0.38923358, 0.38951434, 0.39009184, 0.39031649, 0.39891897,\n",
       "       0.40833424, 0.41018964, 0.4114598 , 0.41318644, 0.4149115 ,\n",
       "       0.41516767, 0.41616215, 0.41689737, 0.41804461, 0.42052856,\n",
       "       0.42113861, 0.42149137, 0.42240642, 0.43148792, 0.43800668,\n",
       "       0.44430668, 0.44470058, 0.4488245 , 0.45140703, 0.46367476,\n",
       "       0.49037637, 0.50211055, 0.50626804, 0.52990132, 0.53472916,\n",
       "       0.56774163, 0.57725871, 0.58449163, 0.59676963, 0.62199044,\n",
       "       0.62380076, 0.62402972, 0.63923256, 0.68479089, 0.7131971 ,\n",
       "       0.93807294, 0.93870115, 1.06143309, 1.07919583, 1.709463  ])"
      ]
     },
     "execution_count": 206,
     "metadata": {},
     "output_type": "execute_result"
    }
   ],
   "source": [
    "kws"
   ]
  },
  {
   "cell_type": "code",
   "execution_count": null,
   "metadata": {},
   "outputs": [],
   "source": [
    "count_vocab"
   ]
  },
  {
   "cell_type": "code",
   "execution_count": 67,
   "metadata": {},
   "outputs": [
    {
     "name": "stdout",
     "output_type": "stream",
     "text": [
      "0.0\n"
     ]
    },
    {
     "data": {
      "image/png": "[encoded data removed]",
      "text/plain": [
       "<Figure size 720x1440 with 1 Axes>"
      ]
     },
     "metadata": {
      "needs_background": "light"
     },
     "output_type": "display_data"
    }
   ],
   "source": [
    "columns_count(pu_nursing,'DESCRIPTION')"
   ]
  },
  {
   "cell_type": "code",
   "execution_count": 37,
   "metadata": {
    "scrolled": true
   },
   "outputs": [
    {
     "name": "stdout",
     "output_type": "stream",
     "text": [
      "0.0\n"
     ]
    },
    {
     "data": {
      "image/png": "[encoded data removed]",
      "text/plain": [
       "<Figure size 720x1440 with 1 Axes>"
      ]
     },
     "metadata": {
      "needs_background": "light"
     },
     "output_type": "display_data"
    }
   ],
   "source": [
    "columns_count(pu_note,'CATEGORY')"
   ]
  },
  {
   "cell_type": "code",
   "execution_count": null,
   "metadata": {},
   "outputs": [],
   "source": []
  }
 ],
 "metadata": {
  "kernelspec": {
   "display_name": "Python 3",
   "language": "python",
   "name": "python3"
  },
  "language_info": {
   "codemirror_mode": {
    "name": "ipython",
    "version": 3
   },
   "file_extension": ".py",
   "mimetype": "text/x-python",
   "name": "python",
   "nbconvert_exporter": "python",
   "pygments_lexer": "ipython3",
   "version": "3.7.7"
  }
 },
 "nbformat": 4,
 "nbformat_minor": 4
}
